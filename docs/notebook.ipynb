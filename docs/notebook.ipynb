{
 "cells": [
  {
   "cell_type": "markdown",
   "id": "4e7f2eaa",
   "metadata": {},
   "source": [
    "# De World Happiness Score in zes grafieken"
   ]
  },
  {
   "cell_type": "markdown",
   "id": "a82c862c",
   "metadata": {},
   "source": [
    "Link naar Github repository: https://github.com/HamidA7777/IV"
   ]
  },
  {
   "cell_type": "markdown",
   "id": "963ef852",
   "metadata": {},
   "source": [
    "### Introductie\n",
    "\n",
    "De World Happiness Score wordt elk jaar voor vele landen gemeten, deze wordt dan in een zogeheten World Happiness Report gepubliceerd. De World Happiness Score wordt aan de hand van verschillende criteria gemeten, zoals bijvoorbeeld gezondheid en welvaart, hiermee kan er een beeld geschetst worden over de wereld op het gebied van hoe blij mensen zijn met hoe het eraan toe is in het desbetreffende land. Zo hebben wij vijf World Happiness Reports verzameld over de periode van 2015 tot en met 2019, hiermee hebben we analyses gedaan waarbij we gekeken hebben van welke variabelen de World Happiness Score over het algemeen van afhangt. Hierbij is het natuurlijk ook belangrijk dat je vanuit verschillende perspectieven analyses maakt, aangezien het niet altijd zwart-wit is. Hierom hebben wij vanuit twee perspectieven analyses gemaakt. In het eerste perspectief hebben we onderzocht hoe de absolute waarde van één of meer specifieke variabelen de Happiness Score (bij verschillende landen) beïnvloedt, hierbij hebben we dus gekeken of er een bepaald verband is wanneer de variabele in waarde toeneemt, of dan de Happiness Score ook toeneemt. In het tweede perspectief hebben we de relatieve toename/afname van een variabele over de jaren heen onderzocht, en gekeken hoe de Happiness Score ieder jaar beïnvloedt werd door de variabele en of er een bepaald verband is. \n"
   ]
  },
  {
   "cell_type": "markdown",
   "id": "6e7c29dd",
   "metadata": {},
   "source": [
    "### Dataset en preprocessing\n",
    "\n",
    "Wij hebben vijf datasets gebruikt, ieder dataset bevat informatie over de World Happiness binnen de periode 2015-2019. Al deze datasets kunnen gedownload worden op de volgende site: https://www.kaggle.com/datasets/unsdsn/world-happiness. Elke dataset bevat min of meer dezelfde variabelen: **Country**, **Region**, **Happiness Rank**, **Happiness Score**, **Standard Error**, **Economy (GDP per Capita)**, **Family**, **Health (Life Expectancy)**, **Freedom**, **Trust (Government Corruption)**, **Generosity** en **Dystopia Residual**. Deze vijf datasets wilden we samenvoegen in één dataset, die ook opgeschoond is, dat vereiste nogal wat preprocessing. Dit komt omdat de dataset van 2017 qua betekenis dezelfde variabelen had als de dataset van 2015, alleen de benaming was iets anders, ook had het een aantal extra variabelen die niet relevant waren voor onze analyses en ook niet in de dataset van 2015 voorkwamen, dit gold ook voor de dataset van 2016. We hadden de dataset van 2015 als referentie gebruikt, omdat dit de meest schone dataset was qua relevantie en benaming van de variabelen. De datasets van 2018 en 2019 vereisten ook wat preprocessing, omdat de variabelen hier ook een net andere benaming hadden, ook ontbrak hier de \"Dystopia Residual\" variabele. Nu wisten we welke variabelen we willen behouden, welke we niet wilden en hoe we de datasets moesten opschonen. Als eerst hebben we de variabelen die we niet wilden gebruiken uit de dataset gehaald, voor de dataset van 2015 waren dit de variabelen \"Region\" en \"Standard Error\", van 2016 de variabelen \"Region\",\"Lower Confidence Interval\" en \"Upper Confidence Interval\" en van 2017 de variabelen \"Whisker.high\" en \"Whisker.low\". Voor de datasets van 2018 en 2019 hebben we geen variabelen weggehaald. Hierna hebben we de benaming van de variabelen aangepast, zodat het overeenkwam met de benaming zoals weergegeven in de dataset van 2015, zo hebben we bijvoorbeeld de variabele \"Happiness.Rank\" uit de dataset van 2017 veranderd naar \"Happiness Rank\". Ditzelfde hebben we gedaan voor de datasets van 2018 en 2019. We hadden hierna opgemerkt dat de volgorde van de variabelen in de datasets van 2015, 2016 en 2017 overeenkwamen, maar in die van 2018 en 2019 niet, dus we hadden de volgorde van de kolommen in de datasets van 2018 en 2019 aangepast zodat het overeenkwam met de overige datasets. Dit was nodig zodat de volgende stap makkelijker verloopt, het samenvoegen van de datasets. Nu we de datasets hebben samengevoegd, zagen we dat er in de kolom \"Dystopia Residual\" missing values voorkwamen, dit kwam omdat de datasets van 2018 en 2019 geen informatie hadden over deze kolom. We hebben dit probleem opgelost door de gemiddelde van de voorgaande jaren te nemen per land, en vervolgens de missing values van het desbetreffende land te vervangen met de gemiddelde over de jaren heen waar er wel informatie over was. Ten slotte hebben we nog een \"Year\" kolom toegevoegd aan onze samengevoegde dataset, deze variabele was nodig om bepaalde visualisaties te kunnen maken. Nu was onze dataset klaar en hebben we 11 variabelen die we kunnen gebruiken om visualisaties te maken: **Country**, **Happiness Rank**, **Happiness Score**, **Economy (GDP per Capita)**, **Family**, **Health (Life Expectancy)**, **Freedom**, **Trust (Government Corruption)**, **Generosity**, **Dystopia Residual** en **Year**.\n"
   ]
  },
  {
   "cell_type": "markdown",
   "id": "b3a96b75",
   "metadata": {},
   "source": [
    "### Invloed van de economie op de Happiness Score\n",
    "\n",
    "De economie kan een groot invloed hebben op de Happiness Score van landen. In de onderstaande grafiek kunnen we per land zien hoe de evolutie van de economie is, en hoe dit de Happiness Score van het land beïnvloedt. Er valt een interessant patroon op te merken, over het algemeen lijken de punten op de grafiek een opwaartse trend te hebben naarmate de economie van een land verbetert. Met de zwarte trendlijn wordt de algemene trend ook zichtbaar, en wordt het vermoeden dat de Happiness Score toeneemt naarmate de economie verbetert, bevestigd. Dit wijst er dus op dat als de economie van een land verbetert, dat de Happiness Score van het land ook verbetert. "
   ]
  },
  {
   "cell_type": "code",
   "execution_count": 12,
   "id": "64960c37",
   "metadata": {
    "tags": [
     "hide-input"
    ]
   },
   "outputs": [
    {
     "name": "stdout",
     "output_type": "stream",
     "text": [
      "Defaulting to user installation because normal site-packages is not writeable\n",
      "Requirement already satisfied: statsmodels in ./.local/lib/python3.10/site-packages (0.14.0)\n",
      "Requirement already satisfied: patsy>=0.5.2 in ./.local/lib/python3.10/site-packages (from statsmodels) (0.5.3)\n",
      "Requirement already satisfied: packaging>=21.3 in /usr/lib/python3/dist-packages (from statsmodels) (21.3)\n",
      "Requirement already satisfied: numpy>=1.18 in /usr/lib/python3/dist-packages (from statsmodels) (1.21.5)\n",
      "Requirement already satisfied: pandas>=1.0 in ./.local/lib/python3.10/site-packages (from statsmodels) (1.5.2)\n",
      "Requirement already satisfied: scipy!=1.9.2,>=1.4 in /usr/lib/python3/dist-packages (from statsmodels) (1.8.0)\n",
      "Requirement already satisfied: python-dateutil>=2.8.1 in /usr/lib/python3/dist-packages (from pandas>=1.0->statsmodels) (2.8.1)\n",
      "Requirement already satisfied: pytz>=2020.1 in /usr/lib/python3/dist-packages (from pandas>=1.0->statsmodels) (2022.1)\n",
      "Requirement already satisfied: six in /usr/lib/python3/dist-packages (from patsy>=0.5.2->statsmodels) (1.16.0)\n"
     ]
    },
    {
     "data": {
      "application/vnd.plotly.v1+json": {
       "config": {
        "plotlyServerURL": "https://plot.ly"
       },
       "data": [
        {
         "hovertemplate": "Country=Afghanistan<br>Economy (GDP per Capita)=%{x}<br>Happiness Score=%{y}<extra></extra>",
         "legendgroup": "Afghanistan",
         "marker": {
          "color": "#636efa",
          "symbol": "circle"
         },
         "mode": "markers",
         "name": "Afghanistan",
         "orientation": "v",
         "showlegend": true,
         "type": "scatter",
         "x": [
          0.31982,
          0.38227,
          0.401477217674255,
          0.332,
          0.35
         ],
         "xaxis": "x",
         "y": [
          3.575,
          3.36,
          3.79399991035461,
          3.632,
          3.203
         ],
         "yaxis": "y"
        },
        {
         "hovertemplate": "Country=Albania<br>Economy (GDP per Capita)=%{x}<br>Happiness Score=%{y}<extra></extra>",
         "legendgroup": "Albania",
         "marker": {
          "color": "#EF553B",
          "symbol": "circle"
         },
         "mode": "markers",
         "name": "Albania",
         "orientation": "v",
         "showlegend": true,
         "type": "scatter",
         "x": [
          0.87867,
          0.9553,
          0.996192753314972,
          0.916,
          0.947
         ],
         "xaxis": "x",
         "y": [
          4.959,
          4.655,
          4.64400005340576,
          4.586,
          4.719
         ],
         "yaxis": "y"
        },
        {
         "hovertemplate": "Country=Algeria<br>Economy (GDP per Capita)=%{x}<br>Happiness Score=%{y}<extra></extra>",
         "legendgroup": "Algeria",
         "marker": {
          "color": "#00cc96",
          "symbol": "circle"
         },
         "mode": "markers",
         "name": "Algeria",
         "orientation": "v",
         "showlegend": true,
         "type": "scatter",
         "x": [
          0.93929,
          1.05266,
          1.09186446666718,
          0.979,
          1.002
         ],
         "xaxis": "x",
         "y": [
          5.605,
          6.355,
          5.87200021743774,
          5.295,
          5.211
         ],
         "yaxis": "y"
        },
        {
         "hovertemplate": "Country=Angola<br>Economy (GDP per Capita)=%{x}<br>Happiness Score=%{y}<extra></extra>",
         "legendgroup": "Angola",
         "marker": {
          "color": "#ab63fa",
          "symbol": "circle"
         },
         "mode": "markers",
         "name": "Angola",
         "orientation": "v",
         "showlegend": true,
         "type": "scatter",
         "x": [
          0.75778,
          0.84731,
          0.858428180217743,
          0.73
         ],
         "xaxis": "x",
         "y": [
          4.033,
          3.866,
          3.79500007629395,
          3.795
         ],
         "yaxis": "y"
        },
        {
         "hovertemplate": "Country=Argentina<br>Economy (GDP per Capita)=%{x}<br>Happiness Score=%{y}<extra></extra>",
         "legendgroup": "Argentina",
         "marker": {
          "color": "#FFA15A",
          "symbol": "circle"
         },
         "mode": "markers",
         "name": "Argentina",
         "orientation": "v",
         "showlegend": true,
         "type": "scatter",
         "x": [
          1.05351,
          1.15137,
          1.18529546260834,
          1.073,
          1.092
         ],
         "xaxis": "x",
         "y": [
          6.574,
          6.65,
          6.59899997711182,
          6.388,
          6.086
         ],
         "yaxis": "y"
        },
        {
         "hovertemplate": "Country=Armenia<br>Economy (GDP per Capita)=%{x}<br>Happiness Score=%{y}<extra></extra>",
         "legendgroup": "Armenia",
         "marker": {
          "color": "#19d3f3",
          "symbol": "circle"
         },
         "mode": "markers",
         "name": "Armenia",
         "orientation": "v",
         "showlegend": true,
         "type": "scatter",
         "x": [
          0.76821,
          0.86086,
          0.900596737861633,
          0.816,
          0.85
         ],
         "xaxis": "x",
         "y": [
          4.35,
          4.36,
          4.37599992752075,
          4.321,
          4.559
         ],
         "yaxis": "y"
        },
        {
         "hovertemplate": "Country=Australia<br>Economy (GDP per Capita)=%{x}<br>Happiness Score=%{y}<extra></extra>",
         "legendgroup": "Australia",
         "marker": {
          "color": "#FF6692",
          "symbol": "circle"
         },
         "mode": "markers",
         "name": "Australia",
         "orientation": "v",
         "showlegend": true,
         "type": "scatter",
         "x": [
          1.33358,
          1.44443,
          1.484414935112,
          1.34,
          1.372
         ],
         "xaxis": "x",
         "y": [
          7.284,
          7.313,
          7.28399991989136,
          7.272,
          7.228
         ],
         "yaxis": "y"
        },
        {
         "hovertemplate": "Country=Austria<br>Economy (GDP per Capita)=%{x}<br>Happiness Score=%{y}<extra></extra>",
         "legendgroup": "Austria",
         "marker": {
          "color": "#B6E880",
          "symbol": "circle"
         },
         "mode": "markers",
         "name": "Austria",
         "orientation": "v",
         "showlegend": true,
         "type": "scatter",
         "x": [
          1.33723,
          1.45038,
          1.48709726333618,
          1.341,
          1.376
         ],
         "xaxis": "x",
         "y": [
          7.2,
          7.119,
          7.00600004196167,
          7.139,
          7.246
         ],
         "yaxis": "y"
        },
        {
         "hovertemplate": "Country=Azerbaijan<br>Economy (GDP per Capita)=%{x}<br>Happiness Score=%{y}<extra></extra>",
         "legendgroup": "Azerbaijan",
         "marker": {
          "color": "#FF97FF",
          "symbol": "circle"
         },
         "mode": "markers",
         "name": "Azerbaijan",
         "orientation": "v",
         "showlegend": true,
         "type": "scatter",
         "x": [
          1.02389,
          1.12373,
          1.15360176563263,
          1.024,
          1.043
         ],
         "xaxis": "x",
         "y": [
          5.212,
          5.291,
          5.23400020599365,
          5.201,
          5.208
         ],
         "yaxis": "y"
        },
        {
         "hovertemplate": "Country=Bahrain<br>Economy (GDP per Capita)=%{x}<br>Happiness Score=%{y}<extra></extra>",
         "legendgroup": "Bahrain",
         "marker": {
          "color": "#FECB52",
          "symbol": "circle"
         },
         "mode": "markers",
         "name": "Bahrain",
         "orientation": "v",
         "showlegend": true,
         "type": "scatter",
         "x": [
          1.32376,
          1.44024,
          1.48841226100922,
          1.338,
          1.362
         ],
         "xaxis": "x",
         "y": [
          5.96,
          6.218,
          6.08699989318848,
          6.105,
          6.199
         ],
         "yaxis": "y"
        },
        {
         "hovertemplate": "Country=Bangladesh<br>Economy (GDP per Capita)=%{x}<br>Happiness Score=%{y}<extra></extra>",
         "legendgroup": "Bangladesh",
         "marker": {
          "color": "#636efa",
          "symbol": "circle"
         },
         "mode": "markers",
         "name": "Bangladesh",
         "orientation": "v",
         "showlegend": true,
         "type": "scatter",
         "x": [
          0.39753,
          0.54177,
          0.586682975292206,
          0.532,
          0.562
         ],
         "xaxis": "x",
         "y": [
          4.694,
          4.643,
          4.60799980163574,
          4.5,
          4.456
         ],
         "yaxis": "y"
        },
        {
         "hovertemplate": "Country=Belarus<br>Economy (GDP per Capita)=%{x}<br>Happiness Score=%{y}<extra></extra>",
         "legendgroup": "Belarus",
         "marker": {
          "color": "#EF553B",
          "symbol": "circle"
         },
         "mode": "markers",
         "name": "Belarus",
         "orientation": "v",
         "showlegend": true,
         "type": "scatter",
         "x": [
          1.03192,
          1.13062,
          1.15655755996704,
          1.039,
          1.067
         ],
         "xaxis": "x",
         "y": [
          5.813,
          5.802,
          5.56899976730347,
          5.483,
          5.323
         ],
         "yaxis": "y"
        },
        {
         "hovertemplate": "Country=Belgium<br>Economy (GDP per Capita)=%{x}<br>Happiness Score=%{y}<extra></extra>",
         "legendgroup": "Belgium",
         "marker": {
          "color": "#00cc96",
          "symbol": "circle"
         },
         "mode": "markers",
         "name": "Belgium",
         "orientation": "v",
         "showlegend": true,
         "type": "scatter",
         "x": [
          1.30782,
          1.42539,
          1.46378076076508,
          1.324,
          1.356
         ],
         "xaxis": "x",
         "y": [
          6.937,
          6.929,
          6.89099979400635,
          6.927,
          6.923
         ],
         "yaxis": "y"
        },
        {
         "hovertemplate": "Country=Belize<br>Economy (GDP per Capita)=%{x}<br>Happiness Score=%{y}<extra></extra>",
         "legendgroup": "Belize",
         "marker": {
          "color": "#ab63fa",
          "symbol": "circle"
         },
         "mode": "markers",
         "name": "Belize",
         "orientation": "v",
         "showlegend": true,
         "type": "scatter",
         "x": [
          0.87616,
          0.907975316047668,
          0.807
         ],
         "xaxis": "x",
         "y": [
          5.956,
          5.95599985122681,
          5.956
         ],
         "yaxis": "y"
        },
        {
         "hovertemplate": "Country=Benin<br>Economy (GDP per Capita)=%{x}<br>Happiness Score=%{y}<extra></extra>",
         "legendgroup": "Benin",
         "marker": {
          "color": "#FFA15A",
          "symbol": "circle"
         },
         "mode": "markers",
         "name": "Benin",
         "orientation": "v",
         "showlegend": true,
         "type": "scatter",
         "x": [
          0.28665,
          0.39499,
          0.431085407733917,
          0.378,
          0.393
         ],
         "xaxis": "x",
         "y": [
          3.34,
          3.484,
          3.65700006484985,
          4.141,
          4.883
         ],
         "yaxis": "y"
        },
        {
         "hovertemplate": "Country=Bhutan<br>Economy (GDP per Capita)=%{x}<br>Happiness Score=%{y}<extra></extra>",
         "legendgroup": "Bhutan",
         "marker": {
          "color": "#19d3f3",
          "symbol": "circle"
         },
         "mode": "markers",
         "name": "Bhutan",
         "orientation": "v",
         "showlegend": true,
         "type": "scatter",
         "x": [
          0.77042,
          0.8527,
          0.885416388511658,
          0.796,
          0.813
         ],
         "xaxis": "x",
         "y": [
          5.253,
          5.196,
          5.01100015640259,
          5.082,
          5.082
         ],
         "yaxis": "y"
        },
        {
         "hovertemplate": "Country=Bolivia<br>Economy (GDP per Capita)=%{x}<br>Happiness Score=%{y}<extra></extra>",
         "legendgroup": "Bolivia",
         "marker": {
          "color": "#FF6692",
          "symbol": "circle"
         },
         "mode": "markers",
         "name": "Bolivia",
         "orientation": "v",
         "showlegend": true,
         "type": "scatter",
         "x": [
          0.68133,
          0.79422,
          0.833756566047668,
          0.751,
          0.776
         ],
         "xaxis": "x",
         "y": [
          5.89,
          5.822,
          5.82299995422363,
          5.752,
          5.779
         ],
         "yaxis": "y"
        },
        {
         "hovertemplate": "Country=Bosnia and Herzegovina<br>Economy (GDP per Capita)=%{x}<br>Happiness Score=%{y}<extra></extra>",
         "legendgroup": "Bosnia and Herzegovina",
         "marker": {
          "color": "#B6E880",
          "symbol": "circle"
         },
         "mode": "markers",
         "name": "Bosnia and Herzegovina",
         "orientation": "v",
         "showlegend": true,
         "type": "scatter",
         "x": [
          0.83223,
          0.93383,
          0.982409417629242,
          0.915,
          0.945
         ],
         "xaxis": "x",
         "y": [
          4.949,
          5.163,
          5.18200016021729,
          5.129,
          5.386
         ],
         "yaxis": "y"
        },
        {
         "hovertemplate": "Country=Botswana<br>Economy (GDP per Capita)=%{x}<br>Happiness Score=%{y}<extra></extra>",
         "legendgroup": "Botswana",
         "marker": {
          "color": "#FF97FF",
          "symbol": "circle"
         },
         "mode": "markers",
         "name": "Botswana",
         "orientation": "v",
         "showlegend": true,
         "type": "scatter",
         "x": [
          0.99355,
          1.09426,
          1.12209415435791,
          1.017,
          1.041
         ],
         "xaxis": "x",
         "y": [
          4.332,
          3.974,
          3.76600003242493,
          3.59,
          3.488
         ],
         "yaxis": "y"
        },
        {
         "hovertemplate": "Country=Brazil<br>Economy (GDP per Capita)=%{x}<br>Happiness Score=%{y}<extra></extra>",
         "legendgroup": "Brazil",
         "marker": {
          "color": "#FECB52",
          "symbol": "circle"
         },
         "mode": "markers",
         "name": "Brazil",
         "orientation": "v",
         "showlegend": true,
         "type": "scatter",
         "x": [
          0.98124,
          1.08754,
          1.10735321044922,
          0.986,
          1.004
         ],
         "xaxis": "x",
         "y": [
          6.983,
          6.952,
          6.63500022888184,
          6.419,
          6.3
         ],
         "yaxis": "y"
        },
        {
         "hovertemplate": "Country=Bulgaria<br>Economy (GDP per Capita)=%{x}<br>Happiness Score=%{y}<extra></extra>",
         "legendgroup": "Bulgaria",
         "marker": {
          "color": "#636efa",
          "symbol": "circle"
         },
         "mode": "markers",
         "name": "Bulgaria",
         "orientation": "v",
         "showlegend": true,
         "type": "scatter",
         "x": [
          1.01216,
          1.11306,
          1.1614590883255,
          1.054,
          1.092
         ],
         "xaxis": "x",
         "y": [
          4.218,
          4.217,
          4.71400022506714,
          4.933,
          5.011
         ],
         "yaxis": "y"
        },
        {
         "hovertemplate": "Country=Burkina Faso<br>Economy (GDP per Capita)=%{x}<br>Happiness Score=%{y}<extra></extra>",
         "legendgroup": "Burkina Faso",
         "marker": {
          "color": "#EF553B",
          "symbol": "circle"
         },
         "mode": "markers",
         "name": "Burkina Faso",
         "orientation": "v",
         "showlegend": true,
         "type": "scatter",
         "x": [
          0.25812,
          0.31995,
          0.3502277135849,
          0.314,
          0.331
         ],
         "xaxis": "x",
         "y": [
          3.587,
          3.739,
          4.03200006484985,
          4.424,
          4.587
         ],
         "yaxis": "y"
        },
        {
         "hovertemplate": "Country=Burundi<br>Economy (GDP per Capita)=%{x}<br>Happiness Score=%{y}<extra></extra>",
         "legendgroup": "Burundi",
         "marker": {
          "color": "#00cc96",
          "symbol": "circle"
         },
         "mode": "markers",
         "name": "Burundi",
         "orientation": "v",
         "showlegend": true,
         "type": "scatter",
         "x": [
          0.0153,
          0.06831,
          0.091622568666935,
          0.091,
          0.046
         ],
         "xaxis": "x",
         "y": [
          2.905,
          2.905,
          2.90499997138977,
          2.905,
          3.775
         ],
         "yaxis": "y"
        },
        {
         "hovertemplate": "Country=Cambodia<br>Economy (GDP per Capita)=%{x}<br>Happiness Score=%{y}<extra></extra>",
         "legendgroup": "Cambodia",
         "marker": {
          "color": "#ab63fa",
          "symbol": "circle"
         },
         "mode": "markers",
         "name": "Cambodia",
         "orientation": "v",
         "showlegend": true,
         "type": "scatter",
         "x": [
          0.46038,
          0.55604,
          0.601765096187592,
          0.549,
          0.574
         ],
         "xaxis": "x",
         "y": [
          3.819,
          3.907,
          4.16800022125244,
          4.433,
          4.7
         ],
         "yaxis": "y"
        },
        {
         "hovertemplate": "Country=Cameroon<br>Economy (GDP per Capita)=%{x}<br>Happiness Score=%{y}<extra></extra>",
         "legendgroup": "Cameroon",
         "marker": {
          "color": "#FFA15A",
          "symbol": "circle"
         },
         "mode": "markers",
         "name": "Cameroon",
         "orientation": "v",
         "showlegend": true,
         "type": "scatter",
         "x": [
          0.4225,
          0.52497,
          0.564305365085602,
          0.535,
          0.549
         ],
         "xaxis": "x",
         "y": [
          4.252,
          4.513,
          4.69500017166138,
          4.975,
          5.044
         ],
         "yaxis": "y"
        },
        {
         "hovertemplate": "Country=Canada<br>Economy (GDP per Capita)=%{x}<br>Happiness Score=%{y}<extra></extra>",
         "legendgroup": "Canada",
         "marker": {
          "color": "#19d3f3",
          "symbol": "circle"
         },
         "mode": "markers",
         "name": "Canada",
         "orientation": "v",
         "showlegend": true,
         "type": "scatter",
         "x": [
          1.32629,
          1.44015,
          1.47920441627502,
          1.33,
          1.365
         ],
         "xaxis": "x",
         "y": [
          7.427,
          7.404,
          7.31599998474121,
          7.328,
          7.278
         ],
         "yaxis": "y"
        },
        {
         "hovertemplate": "Country=Central African Republic<br>Economy (GDP per Capita)=%{x}<br>Happiness Score=%{y}<extra></extra>",
         "legendgroup": "Central African Republic",
         "marker": {
          "color": "#FF6692",
          "symbol": "circle"
         },
         "mode": "markers",
         "name": "Central African Republic",
         "orientation": "v",
         "showlegend": true,
         "type": "scatter",
         "x": [
          0.0785,
          0,
          0.024,
          0.026
         ],
         "xaxis": "x",
         "y": [
          3.678,
          2.69300007820129,
          3.083,
          3.083
         ],
         "yaxis": "y"
        },
        {
         "hovertemplate": "Country=Chad<br>Economy (GDP per Capita)=%{x}<br>Happiness Score=%{y}<extra></extra>",
         "legendgroup": "Chad",
         "marker": {
          "color": "#B6E880",
          "symbol": "circle"
         },
         "mode": "markers",
         "name": "Chad",
         "orientation": "v",
         "showlegend": true,
         "type": "scatter",
         "x": [
          0.34193,
          0.42214,
          0.438012987375259,
          0.358,
          0.35
         ],
         "xaxis": "x",
         "y": [
          3.667,
          3.763,
          3.93600010871887,
          4.301,
          4.35
         ],
         "yaxis": "y"
        },
        {
         "hovertemplate": "Country=Chile<br>Economy (GDP per Capita)=%{x}<br>Happiness Score=%{y}<extra></extra>",
         "legendgroup": "Chile",
         "marker": {
          "color": "#FF97FF",
          "symbol": "circle"
         },
         "mode": "markers",
         "name": "Chile",
         "orientation": "v",
         "showlegend": true,
         "type": "scatter",
         "x": [
          1.10715,
          1.2167,
          1.25278460979462,
          1.131,
          1.159
         ],
         "xaxis": "x",
         "y": [
          6.67,
          6.705,
          6.65199995040894,
          6.476,
          6.444
         ],
         "yaxis": "y"
        },
        {
         "hovertemplate": "Country=China<br>Economy (GDP per Capita)=%{x}<br>Happiness Score=%{y}<extra></extra>",
         "legendgroup": "China",
         "marker": {
          "color": "#FECB52",
          "symbol": "circle"
         },
         "mode": "markers",
         "name": "China",
         "orientation": "v",
         "showlegend": true,
         "type": "scatter",
         "x": [
          0.89012,
          1.0278,
          1.08116579055786,
          0.989,
          1.029
         ],
         "xaxis": "x",
         "y": [
          5.14,
          5.245,
          5.27299976348877,
          5.246,
          5.191
         ],
         "yaxis": "y"
        },
        {
         "hovertemplate": "Country=Colombia<br>Economy (GDP per Capita)=%{x}<br>Happiness Score=%{y}<extra></extra>",
         "legendgroup": "Colombia",
         "marker": {
          "color": "#636efa",
          "symbol": "circle"
         },
         "mode": "markers",
         "name": "Colombia",
         "orientation": "v",
         "showlegend": true,
         "type": "scatter",
         "x": [
          0.91861,
          1.03032,
          1.07062232494354,
          0.96,
          0.985
         ],
         "xaxis": "x",
         "y": [
          6.477,
          6.481,
          6.35699987411499,
          6.26,
          6.125
         ],
         "yaxis": "y"
        },
        {
         "hovertemplate": "Country=Comoros<br>Economy (GDP per Capita)=%{x}<br>Happiness Score=%{y}<extra></extra>",
         "legendgroup": "Comoros",
         "marker": {
          "color": "#EF553B",
          "symbol": "circle"
         },
         "mode": "markers",
         "name": "Comoros",
         "orientation": "v",
         "showlegend": true,
         "type": "scatter",
         "x": [
          0.23906,
          0.27509,
          0.274
         ],
         "xaxis": "x",
         "y": [
          3.956,
          3.956,
          3.973
         ],
         "yaxis": "y"
        },
        {
         "hovertemplate": "Country=Congo (Brazzaville)<br>Economy (GDP per Capita)=%{x}<br>Happiness Score=%{y}<extra></extra>",
         "legendgroup": "Congo (Brazzaville)",
         "marker": {
          "color": "#00cc96",
          "symbol": "circle"
         },
         "mode": "markers",
         "name": "Congo (Brazzaville)",
         "orientation": "v",
         "showlegend": true,
         "type": "scatter",
         "x": [
          0.67866,
          0.77109,
          0.808964252471924,
          0.682,
          0.673
         ],
         "xaxis": "x",
         "y": [
          3.989,
          4.236,
          4.29099988937378,
          4.559,
          4.812
         ],
         "yaxis": "y"
        },
        {
         "hovertemplate": "Country=Congo (Kinshasa)<br>Economy (GDP per Capita)=%{x}<br>Happiness Score=%{y}<extra></extra>",
         "legendgroup": "Congo (Kinshasa)",
         "marker": {
          "color": "#ab63fa",
          "symbol": "circle"
         },
         "mode": "markers",
         "name": "Congo (Kinshasa)",
         "orientation": "v",
         "showlegend": true,
         "type": "scatter",
         "x": [
          0,
          0.05661,
          0.0921023488044739,
          0.069,
          0.094
         ],
         "xaxis": "x",
         "y": [
          4.517,
          4.272,
          4.28000020980835,
          4.245,
          4.418
         ],
         "yaxis": "y"
        },
        {
         "hovertemplate": "Country=Costa Rica<br>Economy (GDP per Capita)=%{x}<br>Happiness Score=%{y}<extra></extra>",
         "legendgroup": "Costa Rica",
         "marker": {
          "color": "#FFA15A",
          "symbol": "circle"
         },
         "mode": "markers",
         "name": "Costa Rica",
         "orientation": "v",
         "showlegend": true,
         "type": "scatter",
         "x": [
          0.95578,
          1.06879,
          1.10970628261566,
          1.01,
          1.034
         ],
         "xaxis": "x",
         "y": [
          7.226,
          7.087,
          7.0789999961853,
          7.072,
          7.167
         ],
         "yaxis": "y"
        },
        {
         "hovertemplate": "Country=Croatia<br>Economy (GDP per Capita)=%{x}<br>Happiness Score=%{y}<extra></extra>",
         "legendgroup": "Croatia",
         "marker": {
          "color": "#19d3f3",
          "symbol": "circle"
         },
         "mode": "markers",
         "name": "Croatia",
         "orientation": "v",
         "showlegend": true,
         "type": "scatter",
         "x": [
          1.08254,
          1.18649,
          1.22255623340607,
          1.115,
          1.155
         ],
         "xaxis": "x",
         "y": [
          5.759,
          5.488,
          5.29300022125244,
          5.321,
          5.432
         ],
         "yaxis": "y"
        },
        {
         "hovertemplate": "Country=Cyprus<br>Economy (GDP per Capita)=%{x}<br>Happiness Score=%{y}<extra></extra>",
         "legendgroup": "Cyprus",
         "marker": {
          "color": "#FF6692",
          "symbol": "circle"
         },
         "mode": "markers",
         "name": "Cyprus",
         "orientation": "v",
         "showlegend": true,
         "type": "scatter",
         "x": [
          1.20813,
          1.31857,
          1.35593807697296,
          1.229,
          1.263
         ],
         "xaxis": "x",
         "y": [
          5.689,
          5.546,
          5.62099981307983,
          5.762,
          6.046
         ],
         "yaxis": "y"
        },
        {
         "hovertemplate": "Country=Czech Republic<br>Economy (GDP per Capita)=%{x}<br>Happiness Score=%{y}<extra></extra>",
         "legendgroup": "Czech Republic",
         "marker": {
          "color": "#B6E880",
          "symbol": "circle"
         },
         "mode": "markers",
         "name": "Czech Republic",
         "orientation": "v",
         "showlegend": true,
         "type": "scatter",
         "x": [
          1.17898,
          1.30915,
          1.35268235206604,
          1.233,
          1.269
         ],
         "xaxis": "x",
         "y": [
          6.505,
          6.596,
          6.60900020599365,
          6.711,
          6.852
         ],
         "yaxis": "y"
        },
        {
         "hovertemplate": "Country=Denmark<br>Economy (GDP per Capita)=%{x}<br>Happiness Score=%{y}<extra></extra>",
         "legendgroup": "Denmark",
         "marker": {
          "color": "#FF97FF",
          "symbol": "circle"
         },
         "mode": "markers",
         "name": "Denmark",
         "orientation": "v",
         "showlegend": true,
         "type": "scatter",
         "x": [
          1.32548,
          1.44178,
          1.48238301277161,
          1.351,
          1.383
         ],
         "xaxis": "x",
         "y": [
          7.527,
          7.526,
          7.52199983596802,
          7.555,
          7.6
         ],
         "yaxis": "y"
        },
        {
         "hovertemplate": "Country=Djibouti<br>Economy (GDP per Capita)=%{x}<br>Happiness Score=%{y}<extra></extra>",
         "legendgroup": "Djibouti",
         "marker": {
          "color": "#FECB52",
          "symbol": "circle"
         },
         "mode": "markers",
         "name": "Djibouti",
         "orientation": "v",
         "showlegend": true,
         "type": "scatter",
         "x": [
          0.44025
         ],
         "xaxis": "x",
         "y": [
          4.369
         ],
         "yaxis": "y"
        },
        {
         "hovertemplate": "Country=Dominican Republic<br>Economy (GDP per Capita)=%{x}<br>Happiness Score=%{y}<extra></extra>",
         "legendgroup": "Dominican Republic",
         "marker": {
          "color": "#636efa",
          "symbol": "circle"
         },
         "mode": "markers",
         "name": "Dominican Republic",
         "orientation": "v",
         "showlegend": true,
         "type": "scatter",
         "x": [
          0.89537,
          1.02787,
          1.07937383651733,
          0.982,
          1.015
         ],
         "xaxis": "x",
         "y": [
          4.885,
          5.155,
          5.23000001907349,
          5.302,
          5.425
         ],
         "yaxis": "y"
        },
        {
         "hovertemplate": "Country=Ecuador<br>Economy (GDP per Capita)=%{x}<br>Happiness Score=%{y}<extra></extra>",
         "legendgroup": "Ecuador",
         "marker": {
          "color": "#EF553B",
          "symbol": "circle"
         },
         "mode": "markers",
         "name": "Ecuador",
         "orientation": "v",
         "showlegend": true,
         "type": "scatter",
         "x": [
          0.86402,
          0.97306,
          1.00082039833069,
          0.889,
          0.912
         ],
         "xaxis": "x",
         "y": [
          5.975,
          5.976,
          6.00799989700317,
          5.973,
          6.028
         ],
         "yaxis": "y"
        },
        {
         "hovertemplate": "Country=Egypt<br>Economy (GDP per Capita)=%{x}<br>Happiness Score=%{y}<extra></extra>",
         "legendgroup": "Egypt",
         "marker": {
          "color": "#00cc96",
          "symbol": "circle"
         },
         "mode": "markers",
         "name": "Egypt",
         "orientation": "v",
         "showlegend": true,
         "type": "scatter",
         "x": [
          0.8818,
          0.95395,
          0.989701807498932,
          0.885,
          0.913
         ],
         "xaxis": "x",
         "y": [
          4.194,
          4.362,
          4.7350001335144,
          4.419,
          4.166
         ],
         "yaxis": "y"
        },
        {
         "hovertemplate": "Country=El Salvador<br>Economy (GDP per Capita)=%{x}<br>Happiness Score=%{y}<extra></extra>",
         "legendgroup": "El Salvador",
         "marker": {
          "color": "#ab63fa",
          "symbol": "circle"
         },
         "mode": "markers",
         "name": "El Salvador",
         "orientation": "v",
         "showlegend": true,
         "type": "scatter",
         "x": [
          0.76454,
          0.8737,
          0.909784495830536,
          0.806,
          0.794
         ],
         "xaxis": "x",
         "y": [
          6.13,
          6.068,
          6.00299978256226,
          6.167,
          6.253
         ],
         "yaxis": "y"
        },
        {
         "hovertemplate": "Country=Estonia<br>Economy (GDP per Capita)=%{x}<br>Happiness Score=%{y}<extra></extra>",
         "legendgroup": "Estonia",
         "marker": {
          "color": "#FFA15A",
          "symbol": "circle"
         },
         "mode": "markers",
         "name": "Estonia",
         "orientation": "v",
         "showlegend": true,
         "type": "scatter",
         "x": [
          1.15174,
          1.27964,
          1.32087934017181,
          1.2,
          1.237
         ],
         "xaxis": "x",
         "y": [
          5.429,
          5.517,
          5.61100006103516,
          5.739,
          5.893
         ],
         "yaxis": "y"
        },
        {
         "hovertemplate": "Country=Ethiopia<br>Economy (GDP per Capita)=%{x}<br>Happiness Score=%{y}<extra></extra>",
         "legendgroup": "Ethiopia",
         "marker": {
          "color": "#19d3f3",
          "symbol": "circle"
         },
         "mode": "markers",
         "name": "Ethiopia",
         "orientation": "v",
         "showlegend": true,
         "type": "scatter",
         "x": [
          0.19073,
          0.29283,
          0.339233845472336,
          0.308,
          0.336
         ],
         "xaxis": "x",
         "y": [
          4.512,
          4.508,
          4.46000003814697,
          4.35,
          4.286
         ],
         "yaxis": "y"
        },
        {
         "hovertemplate": "Country=Finland<br>Economy (GDP per Capita)=%{x}<br>Happiness Score=%{y}<extra></extra>",
         "legendgroup": "Finland",
         "marker": {
          "color": "#FF6692",
          "symbol": "circle"
         },
         "mode": "markers",
         "name": "Finland",
         "orientation": "v",
         "showlegend": true,
         "type": "scatter",
         "x": [
          1.29025,
          1.40598,
          1.44357192516327,
          1.305,
          1.34
         ],
         "xaxis": "x",
         "y": [
          7.406,
          7.413,
          7.4689998626709,
          7.632,
          7.769
         ],
         "yaxis": "y"
        },
        {
         "hovertemplate": "Country=France<br>Economy (GDP per Capita)=%{x}<br>Happiness Score=%{y}<extra></extra>",
         "legendgroup": "France",
         "marker": {
          "color": "#B6E880",
          "symbol": "circle"
         },
         "mode": "markers",
         "name": "France",
         "orientation": "v",
         "showlegend": true,
         "type": "scatter",
         "x": [
          1.27778,
          1.39488,
          1.43092346191406,
          1.293,
          1.324
         ],
         "xaxis": "x",
         "y": [
          6.575,
          6.478,
          6.44199991226196,
          6.489,
          6.592
         ],
         "yaxis": "y"
        },
        {
         "hovertemplate": "Country=Gabon<br>Economy (GDP per Capita)=%{x}<br>Happiness Score=%{y}<extra></extra>",
         "legendgroup": "Gabon",
         "marker": {
          "color": "#FF97FF",
          "symbol": "circle"
         },
         "mode": "markers",
         "name": "Gabon",
         "orientation": "v",
         "showlegend": true,
         "type": "scatter",
         "x": [
          1.06024,
          1.15851,
          1.1982102394104,
          1.036,
          1.057
         ],
         "xaxis": "x",
         "y": [
          3.896,
          4.121,
          4.46500015258789,
          4.758,
          4.799
         ],
         "yaxis": "y"
        },
        {
         "hovertemplate": "Country=Gambia<br>Economy (GDP per Capita)=%{x}<br>Happiness Score=%{y}<extra></extra>",
         "legendgroup": "Gambia",
         "marker": {
          "color": "#FECB52",
          "symbol": "circle"
         },
         "mode": "markers",
         "name": "Gambia",
         "orientation": "v",
         "showlegend": true,
         "type": "scatter",
         "x": [
          0.308
         ],
         "xaxis": "x",
         "y": [
          4.516
         ],
         "yaxis": "y"
        },
        {
         "hovertemplate": "Country=Georgia<br>Economy (GDP per Capita)=%{x}<br>Happiness Score=%{y}<extra></extra>",
         "legendgroup": "Georgia",
         "marker": {
          "color": "#636efa",
          "symbol": "circle"
         },
         "mode": "markers",
         "name": "Georgia",
         "orientation": "v",
         "showlegend": true,
         "type": "scatter",
         "x": [
          0.7419,
          0.83792,
          0.950612664222717,
          0.853,
          0.886
         ],
         "xaxis": "x",
         "y": [
          4.297,
          4.252,
          4.28599977493286,
          4.34,
          4.519
         ],
         "yaxis": "y"
        },
        {
         "hovertemplate": "Country=Germany<br>Economy (GDP per Capita)=%{x}<br>Happiness Score=%{y}<extra></extra>",
         "legendgroup": "Germany",
         "marker": {
          "color": "#EF553B",
          "symbol": "circle"
         },
         "mode": "markers",
         "name": "Germany",
         "orientation": "v",
         "showlegend": true,
         "type": "scatter",
         "x": [
          1.32792,
          1.44787,
          1.48792338371277,
          1.34,
          1.373
         ],
         "xaxis": "x",
         "y": [
          6.75,
          6.994,
          6.95100021362305,
          6.965,
          6.985
         ],
         "yaxis": "y"
        },
        {
         "hovertemplate": "Country=Ghana<br>Economy (GDP per Capita)=%{x}<br>Happiness Score=%{y}<extra></extra>",
         "legendgroup": "Ghana",
         "marker": {
          "color": "#00cc96",
          "symbol": "circle"
         },
         "mode": "markers",
         "name": "Ghana",
         "orientation": "v",
         "showlegend": true,
         "type": "scatter",
         "x": [
          0.54558,
          0.63107,
          0.667224824428558,
          0.592,
          0.611
         ],
         "xaxis": "x",
         "y": [
          4.633,
          4.276,
          4.11999988555908,
          4.657,
          4.996
         ],
         "yaxis": "y"
        },
        {
         "hovertemplate": "Country=Greece<br>Economy (GDP per Capita)=%{x}<br>Happiness Score=%{y}<extra></extra>",
         "legendgroup": "Greece",
         "marker": {
          "color": "#ab63fa",
          "symbol": "circle"
         },
         "mode": "markers",
         "name": "Greece",
         "orientation": "v",
         "showlegend": true,
         "type": "scatter",
         "x": [
          1.15406,
          1.24886,
          1.28948748111725,
          1.154,
          1.181
         ],
         "xaxis": "x",
         "y": [
          4.857,
          5.033,
          5.22700023651123,
          5.358,
          5.287
         ],
         "yaxis": "y"
        },
        {
         "hovertemplate": "Country=Guatemala<br>Economy (GDP per Capita)=%{x}<br>Happiness Score=%{y}<extra></extra>",
         "legendgroup": "Guatemala",
         "marker": {
          "color": "#FFA15A",
          "symbol": "circle"
         },
         "mode": "markers",
         "name": "Guatemala",
         "orientation": "v",
         "showlegend": true,
         "type": "scatter",
         "x": [
          0.74553,
          0.83454,
          0.872001945972443,
          0.781,
          0.8
         ],
         "xaxis": "x",
         "y": [
          6.123,
          6.324,
          6.4539999961853,
          6.382,
          6.436
         ],
         "yaxis": "y"
        },
        {
         "hovertemplate": "Country=Guinea<br>Economy (GDP per Capita)=%{x}<br>Happiness Score=%{y}<extra></extra>",
         "legendgroup": "Guinea",
         "marker": {
          "color": "#19d3f3",
          "symbol": "circle"
         },
         "mode": "markers",
         "name": "Guinea",
         "orientation": "v",
         "showlegend": true,
         "type": "scatter",
         "x": [
          0.17417,
          0.22415,
          0.244549930095673,
          0.344,
          0.38
         ],
         "xaxis": "x",
         "y": [
          3.656,
          3.607,
          3.50699996948242,
          3.964,
          4.534
         ],
         "yaxis": "y"
        },
        {
         "hovertemplate": "Country=Haiti<br>Economy (GDP per Capita)=%{x}<br>Happiness Score=%{y}<extra></extra>",
         "legendgroup": "Haiti",
         "marker": {
          "color": "#FF6692",
          "symbol": "circle"
         },
         "mode": "markers",
         "name": "Haiti",
         "orientation": "v",
         "showlegend": true,
         "type": "scatter",
         "x": [
          0.26673,
          0.34097,
          0.368610262870789,
          0.315,
          0.323
         ],
         "xaxis": "x",
         "y": [
          4.518,
          4.028,
          3.6029999256134,
          3.582,
          3.597
         ],
         "yaxis": "y"
        },
        {
         "hovertemplate": "Country=Honduras<br>Economy (GDP per Capita)=%{x}<br>Happiness Score=%{y}<extra></extra>",
         "legendgroup": "Honduras",
         "marker": {
          "color": "#B6E880",
          "symbol": "circle"
         },
         "mode": "markers",
         "name": "Honduras",
         "orientation": "v",
         "showlegend": true,
         "type": "scatter",
         "x": [
          0.59532,
          0.69429,
          0.730573117733002,
          0.62,
          0.642
         ],
         "xaxis": "x",
         "y": [
          4.788,
          4.871,
          5.18100023269653,
          5.504,
          5.86
         ],
         "yaxis": "y"
        },
        {
         "hovertemplate": "Country=Hong Kong<br>Economy (GDP per Capita)=%{x}<br>Happiness Score=%{y}<extra></extra>",
         "legendgroup": "Hong Kong",
         "marker": {
          "color": "#FF97FF",
          "symbol": "circle"
         },
         "mode": "markers",
         "name": "Hong Kong",
         "orientation": "v",
         "showlegend": true,
         "type": "scatter",
         "x": [
          1.38604,
          1.5107,
          1.405,
          1.438
         ],
         "xaxis": "x",
         "y": [
          5.474,
          5.458,
          5.43,
          5.43
         ],
         "yaxis": "y"
        },
        {
         "hovertemplate": "Country=Hong Kong S.A.R., China<br>Economy (GDP per Capita)=%{x}<br>Happiness Score=%{y}<extra></extra>",
         "legendgroup": "Hong Kong S.A.R., China",
         "marker": {
          "color": "#FECB52",
          "symbol": "circle"
         },
         "mode": "markers",
         "name": "Hong Kong S.A.R., China",
         "orientation": "v",
         "showlegend": true,
         "type": "scatter",
         "x": [
          1.55167484283447
         ],
         "xaxis": "x",
         "y": [
          5.47200012207031
         ],
         "yaxis": "y"
        },
        {
         "hovertemplate": "Country=Hungary<br>Economy (GDP per Capita)=%{x}<br>Happiness Score=%{y}<extra></extra>",
         "legendgroup": "Hungary",
         "marker": {
          "color": "#636efa",
          "symbol": "circle"
         },
         "mode": "markers",
         "name": "Hungary",
         "orientation": "v",
         "showlegend": true,
         "type": "scatter",
         "x": [
          1.12094,
          1.24142,
          1.2860119342804,
          1.171,
          1.201
         ],
         "xaxis": "x",
         "y": [
          4.8,
          5.145,
          5.32399988174438,
          5.62,
          5.758
         ],
         "yaxis": "y"
        },
        {
         "hovertemplate": "Country=Iceland<br>Economy (GDP per Capita)=%{x}<br>Happiness Score=%{y}<extra></extra>",
         "legendgroup": "Iceland",
         "marker": {
          "color": "#EF553B",
          "symbol": "circle"
         },
         "mode": "markers",
         "name": "Iceland",
         "orientation": "v",
         "showlegend": true,
         "type": "scatter",
         "x": [
          1.30232,
          1.42666,
          1.480633020401,
          1.343,
          1.38
         ],
         "xaxis": "x",
         "y": [
          7.561,
          7.501,
          7.50400018692017,
          7.495,
          7.494
         ],
         "yaxis": "y"
        },
        {
         "hovertemplate": "Country=India<br>Economy (GDP per Capita)=%{x}<br>Happiness Score=%{y}<extra></extra>",
         "legendgroup": "India",
         "marker": {
          "color": "#00cc96",
          "symbol": "circle"
         },
         "mode": "markers",
         "name": "India",
         "orientation": "v",
         "showlegend": true,
         "type": "scatter",
         "x": [
          0.64499,
          0.74036,
          0.792221248149872,
          0.721,
          0.755
         ],
         "xaxis": "x",
         "y": [
          4.565,
          4.404,
          4.31500005722046,
          4.19,
          4.015
         ],
         "yaxis": "y"
        },
        {
         "hovertemplate": "Country=Indonesia<br>Economy (GDP per Capita)=%{x}<br>Happiness Score=%{y}<extra></extra>",
         "legendgroup": "Indonesia",
         "marker": {
          "color": "#ab63fa",
          "symbol": "circle"
         },
         "mode": "markers",
         "name": "Indonesia",
         "orientation": "v",
         "showlegend": true,
         "type": "scatter",
         "x": [
          0.82827,
          0.95104,
          0.995538592338562,
          0.899,
          0.931
         ],
         "xaxis": "x",
         "y": [
          5.399,
          5.314,
          5.26200008392334,
          5.093,
          5.192
         ],
         "yaxis": "y"
        },
        {
         "hovertemplate": "Country=Iran<br>Economy (GDP per Capita)=%{x}<br>Happiness Score=%{y}<extra></extra>",
         "legendgroup": "Iran",
         "marker": {
          "color": "#FFA15A",
          "symbol": "circle"
         },
         "mode": "markers",
         "name": "Iran",
         "orientation": "v",
         "showlegend": true,
         "type": "scatter",
         "x": [
          1.0088,
          1.11758,
          1.15687310695648,
          1.059,
          1.1
         ],
         "xaxis": "x",
         "y": [
          4.686,
          4.813,
          4.69199991226196,
          4.707,
          4.548
         ],
         "yaxis": "y"
        },
        {
         "hovertemplate": "Country=Iraq<br>Economy (GDP per Capita)=%{x}<br>Happiness Score=%{y}<extra></extra>",
         "legendgroup": "Iraq",
         "marker": {
          "color": "#19d3f3",
          "symbol": "circle"
         },
         "mode": "markers",
         "name": "Iraq",
         "orientation": "v",
         "showlegend": true,
         "type": "scatter",
         "x": [
          0.98549,
          1.07474,
          1.10271048545837,
          1.01,
          1.043
         ],
         "xaxis": "x",
         "y": [
          4.677,
          4.575,
          4.49700021743774,
          4.456,
          4.437
         ],
         "yaxis": "y"
        },
        {
         "hovertemplate": "Country=Ireland<br>Economy (GDP per Capita)=%{x}<br>Happiness Score=%{y}<extra></extra>",
         "legendgroup": "Ireland",
         "marker": {
          "color": "#FF6692",
          "symbol": "circle"
         },
         "mode": "markers",
         "name": "Ireland",
         "orientation": "v",
         "showlegend": true,
         "type": "scatter",
         "x": [
          1.33596,
          1.48341,
          1.53570663928986,
          1.448,
          1.499
         ],
         "xaxis": "x",
         "y": [
          6.94,
          6.907,
          6.97700023651123,
          6.977,
          7.021
         ],
         "yaxis": "y"
        },
        {
         "hovertemplate": "Country=Israel<br>Economy (GDP per Capita)=%{x}<br>Happiness Score=%{y}<extra></extra>",
         "legendgroup": "Israel",
         "marker": {
          "color": "#B6E880",
          "symbol": "circle"
         },
         "mode": "markers",
         "name": "Israel",
         "orientation": "v",
         "showlegend": true,
         "type": "scatter",
         "x": [
          1.22857,
          1.33766,
          1.37538242340088,
          1.301,
          1.276
         ],
         "xaxis": "x",
         "y": [
          7.278,
          7.267,
          7.21299982070923,
          6.814,
          7.139
         ],
         "yaxis": "y"
        },
        {
         "hovertemplate": "Country=Italy<br>Economy (GDP per Capita)=%{x}<br>Happiness Score=%{y}<extra></extra>",
         "legendgroup": "Italy",
         "marker": {
          "color": "#FF97FF",
          "symbol": "circle"
         },
         "mode": "markers",
         "name": "Italy",
         "orientation": "v",
         "showlegend": true,
         "type": "scatter",
         "x": [
          1.25114,
          1.35495,
          1.39506661891937,
          1.264,
          1.294
         ],
         "xaxis": "x",
         "y": [
          5.948,
          5.977,
          5.96400022506714,
          6,
          6.223
         ],
         "yaxis": "y"
        },
        {
         "hovertemplate": "Country=Ivory Coast<br>Economy (GDP per Capita)=%{x}<br>Happiness Score=%{y}<extra></extra>",
         "legendgroup": "Ivory Coast",
         "marker": {
          "color": "#FECB52",
          "symbol": "circle"
         },
         "mode": "markers",
         "name": "Ivory Coast",
         "orientation": "v",
         "showlegend": true,
         "type": "scatter",
         "x": [
          0.46534,
          0.55507,
          0.603048920631409,
          0.541,
          0.569
         ],
         "xaxis": "x",
         "y": [
          3.655,
          3.916,
          4.17999982833862,
          4.671,
          4.944
         ],
         "yaxis": "y"
        },
        {
         "hovertemplate": "Country=Jamaica<br>Economy (GDP per Capita)=%{x}<br>Happiness Score=%{y}<extra></extra>",
         "legendgroup": "Jamaica",
         "marker": {
          "color": "#636efa",
          "symbol": "circle"
         },
         "mode": "markers",
         "name": "Jamaica",
         "orientation": "v",
         "showlegend": true,
         "type": "scatter",
         "x": [
          0.81038,
          0.89333,
          0.925579309463501,
          0.819,
          0.831
         ],
         "xaxis": "x",
         "y": [
          5.709,
          5.51,
          5.31099987030029,
          5.89,
          5.89
         ],
         "yaxis": "y"
        },
        {
         "hovertemplate": "Country=Japan<br>Economy (GDP per Capita)=%{x}<br>Happiness Score=%{y}<extra></extra>",
         "legendgroup": "Japan",
         "marker": {
          "color": "#EF553B",
          "symbol": "circle"
         },
         "mode": "markers",
         "name": "Japan",
         "orientation": "v",
         "showlegend": true,
         "type": "scatter",
         "x": [
          1.27074,
          1.38007,
          1.41691517829895,
          1.294,
          1.327
         ],
         "xaxis": "x",
         "y": [
          5.987,
          5.921,
          5.92000007629395,
          5.915,
          5.886
         ],
         "yaxis": "y"
        },
        {
         "hovertemplate": "Country=Jordan<br>Economy (GDP per Capita)=%{x}<br>Happiness Score=%{y}<extra></extra>",
         "legendgroup": "Jordan",
         "marker": {
          "color": "#00cc96",
          "symbol": "circle"
         },
         "mode": "markers",
         "name": "Jordan",
         "orientation": "v",
         "showlegend": true,
         "type": "scatter",
         "x": [
          0.90198,
          0.99673,
          0.991012394428253,
          0.822,
          0.837
         ],
         "xaxis": "x",
         "y": [
          5.192,
          5.303,
          5.33599996566772,
          5.161,
          4.906
         ],
         "yaxis": "y"
        },
        {
         "hovertemplate": "Country=Kazakhstan<br>Economy (GDP per Capita)=%{x}<br>Happiness Score=%{y}<extra></extra>",
         "legendgroup": "Kazakhstan",
         "marker": {
          "color": "#ab63fa",
          "symbol": "circle"
         },
         "mode": "markers",
         "name": "Kazakhstan",
         "orientation": "v",
         "showlegend": true,
         "type": "scatter",
         "x": [
          1.12254,
          1.22943,
          1.28455626964569,
          1.143,
          1.173
         ],
         "xaxis": "x",
         "y": [
          5.855,
          5.919,
          5.81899976730347,
          5.79,
          5.809
         ],
         "yaxis": "y"
        },
        {
         "hovertemplate": "Country=Kenya<br>Economy (GDP per Capita)=%{x}<br>Happiness Score=%{y}<extra></extra>",
         "legendgroup": "Kenya",
         "marker": {
          "color": "#FFA15A",
          "symbol": "circle"
         },
         "mode": "markers",
         "name": "Kenya",
         "orientation": "v",
         "showlegend": true,
         "type": "scatter",
         "x": [
          0.36471,
          0.52267,
          0.560479462146759,
          0.493,
          0.512
         ],
         "xaxis": "x",
         "y": [
          4.419,
          4.356,
          4.55299997329712,
          4.41,
          4.509
         ],
         "yaxis": "y"
        },
        {
         "hovertemplate": "Country=Kosovo<br>Economy (GDP per Capita)=%{x}<br>Happiness Score=%{y}<extra></extra>",
         "legendgroup": "Kosovo",
         "marker": {
          "color": "#19d3f3",
          "symbol": "circle"
         },
         "mode": "markers",
         "name": "Kosovo",
         "orientation": "v",
         "showlegend": true,
         "type": "scatter",
         "x": [
          0.80148,
          0.90145,
          0.951484382152557,
          0.855,
          0.882
         ],
         "xaxis": "x",
         "y": [
          5.589,
          5.401,
          5.27899980545044,
          5.662,
          6.1
         ],
         "yaxis": "y"
        },
        {
         "hovertemplate": "Country=Kuwait<br>Economy (GDP per Capita)=%{x}<br>Happiness Score=%{y}<extra></extra>",
         "legendgroup": "Kuwait",
         "marker": {
          "color": "#FF6692",
          "symbol": "circle"
         },
         "mode": "markers",
         "name": "Kuwait",
         "orientation": "v",
         "showlegend": true,
         "type": "scatter",
         "x": [
          1.55422,
          1.61714,
          1.63295245170593,
          1.474,
          1.5
         ],
         "xaxis": "x",
         "y": [
          6.295,
          6.239,
          6.10500001907349,
          6.083,
          6.021
         ],
         "yaxis": "y"
        },
        {
         "hovertemplate": "Country=Kyrgyzstan<br>Economy (GDP per Capita)=%{x}<br>Happiness Score=%{y}<extra></extra>",
         "legendgroup": "Kyrgyzstan",
         "marker": {
          "color": "#B6E880",
          "symbol": "circle"
         },
         "mode": "markers",
         "name": "Kyrgyzstan",
         "orientation": "v",
         "showlegend": true,
         "type": "scatter",
         "x": [
          0.47428,
          0.56044,
          0.596220076084137,
          0.53,
          0.551
         ],
         "xaxis": "x",
         "y": [
          5.286,
          5.185,
          5.00400018692017,
          5.131,
          5.261
         ],
         "yaxis": "y"
        },
        {
         "hovertemplate": "Country=Laos<br>Economy (GDP per Capita)=%{x}<br>Happiness Score=%{y}<extra></extra>",
         "legendgroup": "Laos",
         "marker": {
          "color": "#FF97FF",
          "symbol": "circle"
         },
         "mode": "markers",
         "name": "Laos",
         "orientation": "v",
         "showlegend": true,
         "type": "scatter",
         "x": [
          0.59066,
          0.68042,
          0.72,
          0.764
         ],
         "xaxis": "x",
         "y": [
          4.876,
          4.876,
          4.623,
          4.796
         ],
         "yaxis": "y"
        },
        {
         "hovertemplate": "Country=Latvia<br>Economy (GDP per Capita)=%{x}<br>Happiness Score=%{y}<extra></extra>",
         "legendgroup": "Latvia",
         "marker": {
          "color": "#FECB52",
          "symbol": "circle"
         },
         "mode": "markers",
         "name": "Latvia",
         "orientation": "v",
         "showlegend": true,
         "type": "scatter",
         "x": [
          1.11312,
          1.21788,
          1.26074862480164,
          1.148,
          1.187
         ],
         "xaxis": "x",
         "y": [
          5.098,
          5.56,
          5.84999990463257,
          5.933,
          5.94
         ],
         "yaxis": "y"
        },
        {
         "hovertemplate": "Country=Lebanon<br>Economy (GDP per Capita)=%{x}<br>Happiness Score=%{y}<extra></extra>",
         "legendgroup": "Lebanon",
         "marker": {
          "color": "#636efa",
          "symbol": "circle"
         },
         "mode": "markers",
         "name": "Lebanon",
         "orientation": "v",
         "showlegend": true,
         "type": "scatter",
         "x": [
          1.02564,
          1.12268,
          1.07498753070831,
          0.965,
          0.987
         ],
         "xaxis": "x",
         "y": [
          4.839,
          5.129,
          5.22499990463257,
          5.358,
          5.197
         ],
         "yaxis": "y"
        },
        {
         "hovertemplate": "Country=Lesotho<br>Economy (GDP per Capita)=%{x}<br>Happiness Score=%{y}<extra></extra>",
         "legendgroup": "Lesotho",
         "marker": {
          "color": "#EF553B",
          "symbol": "circle"
         },
         "mode": "markers",
         "name": "Lesotho",
         "orientation": "v",
         "showlegend": true,
         "type": "scatter",
         "x": [
          0.37545,
          0.521021246910095,
          0.472,
          0.489
         ],
         "xaxis": "x",
         "y": [
          4.898,
          3.80800008773804,
          3.808,
          3.802
         ],
         "yaxis": "y"
        },
        {
         "hovertemplate": "Country=Liberia<br>Economy (GDP per Capita)=%{x}<br>Happiness Score=%{y}<extra></extra>",
         "legendgroup": "Liberia",
         "marker": {
          "color": "#00cc96",
          "symbol": "circle"
         },
         "mode": "markers",
         "name": "Liberia",
         "orientation": "v",
         "showlegend": true,
         "type": "scatter",
         "x": [
          0.0712,
          0.10706,
          0.119041793048382,
          0.076,
          0.073
         ],
         "xaxis": "x",
         "y": [
          4.571,
          3.622,
          3.53299999237061,
          3.495,
          3.975
         ],
         "yaxis": "y"
        },
        {
         "hovertemplate": "Country=Libya<br>Economy (GDP per Capita)=%{x}<br>Happiness Score=%{y}<extra></extra>",
         "legendgroup": "Libya",
         "marker": {
          "color": "#ab63fa",
          "symbol": "circle"
         },
         "mode": "markers",
         "name": "Libya",
         "orientation": "v",
         "showlegend": true,
         "type": "scatter",
         "x": [
          1.13145,
          1.06688,
          1.10180306434631,
          0.985,
          1.044
         ],
         "xaxis": "x",
         "y": [
          5.754,
          5.615,
          5.52500009536743,
          5.566,
          5.525
         ],
         "yaxis": "y"
        },
        {
         "hovertemplate": "Country=Lithuania<br>Economy (GDP per Capita)=%{x}<br>Happiness Score=%{y}<extra></extra>",
         "legendgroup": "Lithuania",
         "marker": {
          "color": "#FFA15A",
          "symbol": "circle"
         },
         "mode": "markers",
         "name": "Lithuania",
         "orientation": "v",
         "showlegend": true,
         "type": "scatter",
         "x": [
          1.14723,
          1.2692,
          1.31458234786987,
          1.197,
          1.238
         ],
         "xaxis": "x",
         "y": [
          5.833,
          5.813,
          5.90199995040894,
          5.952,
          6.149
         ],
         "yaxis": "y"
        },
        {
         "hovertemplate": "Country=Luxembourg<br>Economy (GDP per Capita)=%{x}<br>Happiness Score=%{y}<extra></extra>",
         "legendgroup": "Luxembourg",
         "marker": {
          "color": "#19d3f3",
          "symbol": "circle"
         },
         "mode": "markers",
         "name": "Luxembourg",
         "orientation": "v",
         "showlegend": true,
         "type": "scatter",
         "x": [
          1.56391,
          1.69752,
          1.74194359779358,
          1.576,
          1.609
         ],
         "xaxis": "x",
         "y": [
          6.946,
          6.871,
          6.86299991607666,
          6.91,
          7.09
         ],
         "yaxis": "y"
        },
        {
         "hovertemplate": "Country=Macedonia<br>Economy (GDP per Capita)=%{x}<br>Happiness Score=%{y}<extra></extra>",
         "legendgroup": "Macedonia",
         "marker": {
          "color": "#FF6692",
          "symbol": "circle"
         },
         "mode": "markers",
         "name": "Macedonia",
         "orientation": "v",
         "showlegend": true,
         "type": "scatter",
         "x": [
          0.91851,
          1.0193,
          1.06457793712616,
          0.959
         ],
         "xaxis": "x",
         "y": [
          5.007,
          5.121,
          5.17500019073486,
          5.185
         ],
         "yaxis": "y"
        },
        {
         "hovertemplate": "Country=Madagascar<br>Economy (GDP per Capita)=%{x}<br>Happiness Score=%{y}<extra></extra>",
         "legendgroup": "Madagascar",
         "marker": {
          "color": "#B6E880",
          "symbol": "circle"
         },
         "mode": "markers",
         "name": "Madagascar",
         "orientation": "v",
         "showlegend": true,
         "type": "scatter",
         "x": [
          0.20824,
          0.27954,
          0.305808693170547,
          0.262,
          0.274
         ],
         "xaxis": "x",
         "y": [
          3.681,
          3.695,
          3.64400005340576,
          3.774,
          3.933
         ],
         "yaxis": "y"
        },
        {
         "hovertemplate": "Country=Malawi<br>Economy (GDP per Capita)=%{x}<br>Happiness Score=%{y}<extra></extra>",
         "legendgroup": "Malawi",
         "marker": {
          "color": "#FF97FF",
          "symbol": "circle"
         },
         "mode": "markers",
         "name": "Malawi",
         "orientation": "v",
         "showlegend": true,
         "type": "scatter",
         "x": [
          0.01604,
          0.08709,
          0.233442038297653,
          0.186,
          0.191
         ],
         "xaxis": "x",
         "y": [
          4.292,
          4.156,
          3.97000002861023,
          3.587,
          3.41
         ],
         "yaxis": "y"
        },
        {
         "hovertemplate": "Country=Malaysia<br>Economy (GDP per Capita)=%{x}<br>Happiness Score=%{y}<extra></extra>",
         "legendgroup": "Malaysia",
         "marker": {
          "color": "#FECB52",
          "symbol": "circle"
         },
         "mode": "markers",
         "name": "Malaysia",
         "orientation": "v",
         "showlegend": true,
         "type": "scatter",
         "x": [
          1.12486,
          1.25142,
          1.29121541976929,
          1.161,
          1.221
         ],
         "xaxis": "x",
         "y": [
          5.77,
          6.005,
          6.08400011062622,
          6.322,
          5.339
         ],
         "yaxis": "y"
        },
        {
         "hovertemplate": "Country=Mali<br>Economy (GDP per Capita)=%{x}<br>Happiness Score=%{y}<extra></extra>",
         "legendgroup": "Mali",
         "marker": {
          "color": "#636efa",
          "symbol": "circle"
         },
         "mode": "markers",
         "name": "Mali",
         "orientation": "v",
         "showlegend": true,
         "type": "scatter",
         "x": [
          0.26074,
          0.31292,
          0.476180493831635,
          0.37,
          0.385
         ],
         "xaxis": "x",
         "y": [
          3.995,
          4.073,
          4.19000005722046,
          4.447,
          4.39
         ],
         "yaxis": "y"
        },
        {
         "hovertemplate": "Country=Malta<br>Economy (GDP per Capita)=%{x}<br>Happiness Score=%{y}<extra></extra>",
         "legendgroup": "Malta",
         "marker": {
          "color": "#EF553B",
          "symbol": "circle"
         },
         "mode": "markers",
         "name": "Malta",
         "orientation": "v",
         "showlegend": true,
         "type": "scatter",
         "x": [
          1.2074,
          1.30782,
          1.34327983856201,
          1.27,
          1.3
         ],
         "xaxis": "x",
         "y": [
          6.302,
          6.488,
          6.52699995040894,
          6.627,
          6.726
         ],
         "yaxis": "y"
        },
        {
         "hovertemplate": "Country=Mauritania<br>Economy (GDP per Capita)=%{x}<br>Happiness Score=%{y}<extra></extra>",
         "legendgroup": "Mauritania",
         "marker": {
          "color": "#00cc96",
          "symbol": "circle"
         },
         "mode": "markers",
         "name": "Mauritania",
         "orientation": "v",
         "showlegend": true,
         "type": "scatter",
         "x": [
          0.45407,
          0.61391,
          0.648457288742065,
          0.557,
          0.57
         ],
         "xaxis": "x",
         "y": [
          4.436,
          4.201,
          4.29199981689453,
          4.356,
          4.49
         ],
         "yaxis": "y"
        },
        {
         "hovertemplate": "Country=Mauritius<br>Economy (GDP per Capita)=%{x}<br>Happiness Score=%{y}<extra></extra>",
         "legendgroup": "Mauritius",
         "marker": {
          "color": "#ab63fa",
          "symbol": "circle"
         },
         "mode": "markers",
         "name": "Mauritius",
         "orientation": "v",
         "showlegend": true,
         "type": "scatter",
         "x": [
          1.00761,
          1.14372,
          1.18939554691315,
          1.09,
          1.12
         ],
         "xaxis": "x",
         "y": [
          5.477,
          5.648,
          5.62900018692017,
          5.891,
          5.888
         ],
         "yaxis": "y"
        },
        {
         "hovertemplate": "Country=Mexico<br>Economy (GDP per Capita)=%{x}<br>Happiness Score=%{y}<extra></extra>",
         "legendgroup": "Mexico",
         "marker": {
          "color": "#FFA15A",
          "symbol": "circle"
         },
         "mode": "markers",
         "name": "Mexico",
         "orientation": "v",
         "showlegend": true,
         "type": "scatter",
         "x": [
          1.02054,
          1.11508,
          1.15318381786346,
          1.038,
          1.07
         ],
         "xaxis": "x",
         "y": [
          7.187,
          6.778,
          6.57800006866455,
          6.488,
          6.595
         ],
         "yaxis": "y"
        },
        {
         "hovertemplate": "Country=Moldova<br>Economy (GDP per Capita)=%{x}<br>Happiness Score=%{y}<extra></extra>",
         "legendgroup": "Moldova",
         "marker": {
          "color": "#19d3f3",
          "symbol": "circle"
         },
         "mode": "markers",
         "name": "Moldova",
         "orientation": "v",
         "showlegend": true,
         "type": "scatter",
         "x": [
          0.59448,
          0.69177,
          0.728870630264282,
          0.657,
          0.685
         ],
         "xaxis": "x",
         "y": [
          5.889,
          5.897,
          5.83799982070923,
          5.64,
          5.529
         ],
         "yaxis": "y"
        },
        {
         "hovertemplate": "Country=Mongolia<br>Economy (GDP per Capita)=%{x}<br>Happiness Score=%{y}<extra></extra>",
         "legendgroup": "Mongolia",
         "marker": {
          "color": "#FF6692",
          "symbol": "circle"
         },
         "mode": "markers",
         "name": "Mongolia",
         "orientation": "v",
         "showlegend": true,
         "type": "scatter",
         "x": [
          0.82819,
          0.98853,
          1.02723586559296,
          0.914,
          0.948
         ],
         "xaxis": "x",
         "y": [
          4.874,
          4.907,
          4.95499992370605,
          5.125,
          5.285
         ],
         "yaxis": "y"
        },
        {
         "hovertemplate": "Country=Montenegro<br>Economy (GDP per Capita)=%{x}<br>Happiness Score=%{y}<extra></extra>",
         "legendgroup": "Montenegro",
         "marker": {
          "color": "#B6E880",
          "symbol": "circle"
         },
         "mode": "markers",
         "name": "Montenegro",
         "orientation": "v",
         "showlegend": true,
         "type": "scatter",
         "x": [
          0.97438,
          1.07838,
          1.12112903594971,
          1.017,
          1.051
         ],
         "xaxis": "x",
         "y": [
          5.192,
          5.161,
          5.23699998855591,
          5.347,
          5.523
         ],
         "yaxis": "y"
        },
        {
         "hovertemplate": "Country=Morocco<br>Economy (GDP per Capita)=%{x}<br>Happiness Score=%{y}<extra></extra>",
         "legendgroup": "Morocco",
         "marker": {
          "color": "#FF97FF",
          "symbol": "circle"
         },
         "mode": "markers",
         "name": "Morocco",
         "orientation": "v",
         "showlegend": true,
         "type": "scatter",
         "x": [
          0.73479,
          0.84058,
          0.878114581108093,
          0.779,
          0.801
         ],
         "xaxis": "x",
         "y": [
          5.013,
          5.151,
          5.2350001335144,
          5.254,
          5.208
         ],
         "yaxis": "y"
        },
        {
         "hovertemplate": "Country=Mozambique<br>Economy (GDP per Capita)=%{x}<br>Happiness Score=%{y}<extra></extra>",
         "legendgroup": "Mozambique",
         "marker": {
          "color": "#FECB52",
          "symbol": "circle"
         },
         "mode": "markers",
         "name": "Mozambique",
         "orientation": "v",
         "showlegend": true,
         "type": "scatter",
         "x": [
          0.08308,
          0.234305649995804,
          0.198,
          0.204
         ],
         "xaxis": "x",
         "y": [
          4.971,
          4.55000019073486,
          4.417,
          4.466
         ],
         "yaxis": "y"
        },
        {
         "hovertemplate": "Country=Myanmar<br>Economy (GDP per Capita)=%{x}<br>Happiness Score=%{y}<extra></extra>",
         "legendgroup": "Myanmar",
         "marker": {
          "color": "#636efa",
          "symbol": "circle"
         },
         "mode": "markers",
         "name": "Myanmar",
         "orientation": "v",
         "showlegend": true,
         "type": "scatter",
         "x": [
          0.27108,
          0.34112,
          0.367110550403595,
          0.682,
          0.71
         ],
         "xaxis": "x",
         "y": [
          4.307,
          4.395,
          4.54500007629395,
          4.308,
          4.36
         ],
         "yaxis": "y"
        },
        {
         "hovertemplate": "Country=Namibia<br>Economy (GDP per Capita)=%{x}<br>Happiness Score=%{y}<extra></extra>",
         "legendgroup": "Namibia",
         "marker": {
          "color": "#EF553B",
          "symbol": "circle"
         },
         "mode": "markers",
         "name": "Namibia",
         "orientation": "v",
         "showlegend": true,
         "type": "scatter",
         "x": [
          0.93287,
          0.964434325695038,
          0.874,
          0.879
         ],
         "xaxis": "x",
         "y": [
          4.574,
          4.57399988174438,
          4.441,
          4.639
         ],
         "yaxis": "y"
        },
        {
         "hovertemplate": "Country=Nepal<br>Economy (GDP per Capita)=%{x}<br>Happiness Score=%{y}<extra></extra>",
         "legendgroup": "Nepal",
         "marker": {
          "color": "#00cc96",
          "symbol": "circle"
         },
         "mode": "markers",
         "name": "Nepal",
         "orientation": "v",
         "showlegend": true,
         "type": "scatter",
         "x": [
          0.35997,
          0.44626,
          0.479820191860199,
          0.425,
          0.446
         ],
         "xaxis": "x",
         "y": [
          4.514,
          4.793,
          4.96199989318848,
          4.88,
          4.913
         ],
         "yaxis": "y"
        },
        {
         "hovertemplate": "Country=Netherlands<br>Economy (GDP per Capita)=%{x}<br>Happiness Score=%{y}<extra></extra>",
         "legendgroup": "Netherlands",
         "marker": {
          "color": "#ab63fa",
          "symbol": "circle"
         },
         "mode": "markers",
         "name": "Netherlands",
         "orientation": "v",
         "showlegend": true,
         "type": "scatter",
         "x": [
          1.32944,
          1.46468,
          1.50394463539124,
          1.361,
          1.396
         ],
         "xaxis": "x",
         "y": [
          7.378,
          7.339,
          7.3769998550415,
          7.441,
          7.488
         ],
         "yaxis": "y"
        },
        {
         "hovertemplate": "Country=New Zealand<br>Economy (GDP per Capita)=%{x}<br>Happiness Score=%{y}<extra></extra>",
         "legendgroup": "New Zealand",
         "marker": {
          "color": "#FFA15A",
          "symbol": "circle"
         },
         "mode": "markers",
         "name": "New Zealand",
         "orientation": "v",
         "showlegend": true,
         "type": "scatter",
         "x": [
          1.25018,
          1.36066,
          1.40570604801178,
          1.268,
          1.303
         ],
         "xaxis": "x",
         "y": [
          7.286,
          7.334,
          7.31400012969971,
          7.324,
          7.307
         ],
         "yaxis": "y"
        },
        {
         "hovertemplate": "Country=Nicaragua<br>Economy (GDP per Capita)=%{x}<br>Happiness Score=%{y}<extra></extra>",
         "legendgroup": "Nicaragua",
         "marker": {
          "color": "#19d3f3",
          "symbol": "circle"
         },
         "mode": "markers",
         "name": "Nicaragua",
         "orientation": "v",
         "showlegend": true,
         "type": "scatter",
         "x": [
          0.59325,
          0.69384,
          0.737299203872681,
          0.668,
          0.694
         ],
         "xaxis": "x",
         "y": [
          5.828,
          5.992,
          6.07100009918213,
          6.141,
          6.105
         ],
         "yaxis": "y"
        },
        {
         "hovertemplate": "Country=Niger<br>Economy (GDP per Capita)=%{x}<br>Happiness Score=%{y}<extra></extra>",
         "legendgroup": "Niger",
         "marker": {
          "color": "#FF6692",
          "symbol": "circle"
         },
         "mode": "markers",
         "name": "Niger",
         "orientation": "v",
         "showlegend": true,
         "type": "scatter",
         "x": [
          0.0694,
          0.1327,
          0.161925330758095,
          0.131,
          0.138
         ],
         "xaxis": "x",
         "y": [
          3.845,
          3.856,
          4.02799987792969,
          4.166,
          4.628
         ],
         "yaxis": "y"
        },
        {
         "hovertemplate": "Country=Nigeria<br>Economy (GDP per Capita)=%{x}<br>Happiness Score=%{y}<extra></extra>",
         "legendgroup": "Nigeria",
         "marker": {
          "color": "#B6E880",
          "symbol": "circle"
         },
         "mode": "markers",
         "name": "Nigeria",
         "orientation": "v",
         "showlegend": true,
         "type": "scatter",
         "x": [
          0.65435,
          0.75216,
          0.783756256103516,
          0.689,
          0.696
         ],
         "xaxis": "x",
         "y": [
          5.268,
          4.875,
          5.07399988174438,
          5.155,
          5.265
         ],
         "yaxis": "y"
        },
        {
         "hovertemplate": "Country=North Cyprus<br>Economy (GDP per Capita)=%{x}<br>Happiness Score=%{y}<extra></extra>",
         "legendgroup": "North Cyprus",
         "marker": {
          "color": "#FF97FF",
          "symbol": "circle"
         },
         "mode": "markers",
         "name": "North Cyprus",
         "orientation": "v",
         "showlegend": true,
         "type": "scatter",
         "x": [
          1.20806,
          1.31141,
          1.3469113111496
         ],
         "xaxis": "x",
         "y": [
          5.695,
          5.771,
          5.80999994277954
         ],
         "yaxis": "y"
        },
        {
         "hovertemplate": "Country=North Macedonia<br>Economy (GDP per Capita)=%{x}<br>Happiness Score=%{y}<extra></extra>",
         "legendgroup": "North Macedonia",
         "marker": {
          "color": "#FECB52",
          "symbol": "circle"
         },
         "mode": "markers",
         "name": "North Macedonia",
         "orientation": "v",
         "showlegend": true,
         "type": "scatter",
         "x": [
          0.983
         ],
         "xaxis": "x",
         "y": [
          5.274
         ],
         "yaxis": "y"
        },
        {
         "hovertemplate": "Country=Northern Cyprus<br>Economy (GDP per Capita)=%{x}<br>Happiness Score=%{y}<extra></extra>",
         "legendgroup": "Northern Cyprus",
         "marker": {
          "color": "#636efa",
          "symbol": "circle"
         },
         "mode": "markers",
         "name": "Northern Cyprus",
         "orientation": "v",
         "showlegend": true,
         "type": "scatter",
         "x": [
          1.229,
          1.263
         ],
         "xaxis": "x",
         "y": [
          5.835,
          5.718
         ],
         "yaxis": "y"
        },
        {
         "hovertemplate": "Country=Norway<br>Economy (GDP per Capita)=%{x}<br>Happiness Score=%{y}<extra></extra>",
         "legendgroup": "Norway",
         "marker": {
          "color": "#EF553B",
          "symbol": "circle"
         },
         "mode": "markers",
         "name": "Norway",
         "orientation": "v",
         "showlegend": true,
         "type": "scatter",
         "x": [
          1.459,
          1.57744,
          1.61646318435669,
          1.456,
          1.488
         ],
         "xaxis": "x",
         "y": [
          7.522,
          7.498,
          7.53700017929077,
          7.594,
          7.554
         ],
         "yaxis": "y"
        },
        {
         "hovertemplate": "Country=Oman<br>Economy (GDP per Capita)=%{x}<br>Happiness Score=%{y}<extra></extra>",
         "legendgroup": "Oman",
         "marker": {
          "color": "#00cc96",
          "symbol": "circle"
         },
         "mode": "markers",
         "name": "Oman",
         "orientation": "v",
         "showlegend": true,
         "type": "scatter",
         "x": [
          1.36011
         ],
         "xaxis": "x",
         "y": [
          6.853
         ],
         "yaxis": "y"
        },
        {
         "hovertemplate": "Country=Pakistan<br>Economy (GDP per Capita)=%{x}<br>Happiness Score=%{y}<extra></extra>",
         "legendgroup": "Pakistan",
         "marker": {
          "color": "#ab63fa",
          "symbol": "circle"
         },
         "mode": "markers",
         "name": "Pakistan",
         "orientation": "v",
         "showlegend": true,
         "type": "scatter",
         "x": [
          0.59543,
          0.68816,
          0.72688353061676,
          0.652,
          0.677
         ],
         "xaxis": "x",
         "y": [
          5.194,
          5.132,
          5.26900005340576,
          5.472,
          5.653
         ],
         "yaxis": "y"
        },
        {
         "hovertemplate": "Country=Palestinian Territories<br>Economy (GDP per Capita)=%{x}<br>Happiness Score=%{y}<extra></extra>",
         "legendgroup": "Palestinian Territories",
         "marker": {
          "color": "#FFA15A",
          "symbol": "circle"
         },
         "mode": "markers",
         "name": "Palestinian Territories",
         "orientation": "v",
         "showlegend": true,
         "type": "scatter",
         "x": [
          0.59867,
          0.67024,
          0.716249227523804,
          0.642,
          0.657
         ],
         "xaxis": "x",
         "y": [
          4.715,
          4.754,
          4.77500009536743,
          4.743,
          4.696
         ],
         "yaxis": "y"
        },
        {
         "hovertemplate": "Country=Panama<br>Economy (GDP per Capita)=%{x}<br>Happiness Score=%{y}<extra></extra>",
         "legendgroup": "Panama",
         "marker": {
          "color": "#19d3f3",
          "symbol": "circle"
         },
         "mode": "markers",
         "name": "Panama",
         "orientation": "v",
         "showlegend": true,
         "type": "scatter",
         "x": [
          1.06353,
          1.18306,
          1.23374843597412,
          1.112,
          1.149
         ],
         "xaxis": "x",
         "y": [
          6.786,
          6.701,
          6.4520001411438,
          6.43,
          6.321
         ],
         "yaxis": "y"
        },
        {
         "hovertemplate": "Country=Paraguay<br>Economy (GDP per Capita)=%{x}<br>Happiness Score=%{y}<extra></extra>",
         "legendgroup": "Paraguay",
         "marker": {
          "color": "#FF6692",
          "symbol": "circle"
         },
         "mode": "markers",
         "name": "Paraguay",
         "orientation": "v",
         "showlegend": true,
         "type": "scatter",
         "x": [
          0.75985,
          0.89373,
          0.932537317276001,
          0.835,
          0.855
         ],
         "xaxis": "x",
         "y": [
          5.878,
          5.538,
          5.49300003051758,
          5.681,
          5.743
         ],
         "yaxis": "y"
        },
        {
         "hovertemplate": "Country=Peru<br>Economy (GDP per Capita)=%{x}<br>Happiness Score=%{y}<extra></extra>",
         "legendgroup": "Peru",
         "marker": {
          "color": "#B6E880",
          "symbol": "circle"
         },
         "mode": "markers",
         "name": "Peru",
         "orientation": "v",
         "showlegend": true,
         "type": "scatter",
         "x": [
          0.90019,
          0.99602,
          1.03522527217865,
          0.934,
          0.96
         ],
         "xaxis": "x",
         "y": [
          5.824,
          5.743,
          5.71500015258789,
          5.663,
          5.697
         ],
         "yaxis": "y"
        },
        {
         "hovertemplate": "Country=Philippines<br>Economy (GDP per Capita)=%{x}<br>Happiness Score=%{y}<extra></extra>",
         "legendgroup": "Philippines",
         "marker": {
          "color": "#FF97FF",
          "symbol": "circle"
         },
         "mode": "markers",
         "name": "Philippines",
         "orientation": "v",
         "showlegend": true,
         "type": "scatter",
         "x": [
          0.70532,
          0.81217,
          0.85769921541214,
          0.775,
          0.807
         ],
         "xaxis": "x",
         "y": [
          5.073,
          5.279,
          5.42999982833862,
          5.524,
          5.631
         ],
         "yaxis": "y"
        },
        {
         "hovertemplate": "Country=Poland<br>Economy (GDP per Capita)=%{x}<br>Happiness Score=%{y}<extra></extra>",
         "legendgroup": "Poland",
         "marker": {
          "color": "#FECB52",
          "symbol": "circle"
         },
         "mode": "markers",
         "name": "Poland",
         "orientation": "v",
         "showlegend": true,
         "type": "scatter",
         "x": [
          1.12555,
          1.24585,
          1.29178786277771,
          1.176,
          1.206
         ],
         "xaxis": "x",
         "y": [
          5.791,
          5.835,
          5.97300004959106,
          6.123,
          6.182
         ],
         "yaxis": "y"
        },
        {
         "hovertemplate": "Country=Portugal<br>Economy (GDP per Capita)=%{x}<br>Happiness Score=%{y}<extra></extra>",
         "legendgroup": "Portugal",
         "marker": {
          "color": "#636efa",
          "symbol": "circle"
         },
         "mode": "markers",
         "name": "Portugal",
         "orientation": "v",
         "showlegend": true,
         "type": "scatter",
         "x": [
          1.15991,
          1.27607,
          1.3151752948761,
          1.188,
          1.221
         ],
         "xaxis": "x",
         "y": [
          5.102,
          5.123,
          5.19500017166138,
          5.41,
          5.693
         ],
         "yaxis": "y"
        },
        {
         "hovertemplate": "Country=Puerto Rico<br>Economy (GDP per Capita)=%{x}<br>Happiness Score=%{y}<extra></extra>",
         "legendgroup": "Puerto Rico",
         "marker": {
          "color": "#EF553B",
          "symbol": "circle"
         },
         "mode": "markers",
         "name": "Puerto Rico",
         "orientation": "v",
         "showlegend": true,
         "type": "scatter",
         "x": [
          1.35943
         ],
         "xaxis": "x",
         "y": [
          7.039
         ],
         "yaxis": "y"
        },
        {
         "hovertemplate": "Country=Qatar<br>Economy (GDP per Capita)=%{x}<br>Happiness Score=%{y}<extra></extra>",
         "legendgroup": "Qatar",
         "marker": {
          "color": "#00cc96",
          "symbol": "circle"
         },
         "mode": "markers",
         "name": "Qatar",
         "orientation": "v",
         "showlegend": true,
         "type": "scatter",
         "x": [
          1.69042,
          1.82427,
          1.87076568603516,
          1.649,
          1.684
         ],
         "xaxis": "x",
         "y": [
          6.611,
          6.375,
          6.375,
          6.374,
          6.374
         ],
         "yaxis": "y"
        },
        {
         "hovertemplate": "Country=Romania<br>Economy (GDP per Capita)=%{x}<br>Happiness Score=%{y}<extra></extra>",
         "legendgroup": "Romania",
         "marker": {
          "color": "#ab63fa",
          "symbol": "circle"
         },
         "mode": "markers",
         "name": "Romania",
         "orientation": "v",
         "showlegend": true,
         "type": "scatter",
         "x": [
          1.04345,
          1.1697,
          1.21768391132355,
          1.116,
          1.162
         ],
         "xaxis": "x",
         "y": [
          5.124,
          5.528,
          5.82499980926514,
          5.945,
          6.07
         ],
         "yaxis": "y"
        },
        {
         "hovertemplate": "Country=Russia<br>Economy (GDP per Capita)=%{x}<br>Happiness Score=%{y}<extra></extra>",
         "legendgroup": "Russia",
         "marker": {
          "color": "#FFA15A",
          "symbol": "circle"
         },
         "mode": "markers",
         "name": "Russia",
         "orientation": "v",
         "showlegend": true,
         "type": "scatter",
         "x": [
          1.13764,
          1.23228,
          1.28177809715271,
          1.151,
          1.183
         ],
         "xaxis": "x",
         "y": [
          5.716,
          5.856,
          5.96299982070923,
          5.81,
          5.648
         ],
         "yaxis": "y"
        },
        {
         "hovertemplate": "Country=Rwanda<br>Economy (GDP per Capita)=%{x}<br>Happiness Score=%{y}<extra></extra>",
         "legendgroup": "Rwanda",
         "marker": {
          "color": "#19d3f3",
          "symbol": "circle"
         },
         "mode": "markers",
         "name": "Rwanda",
         "orientation": "v",
         "showlegend": true,
         "type": "scatter",
         "x": [
          0.22208,
          0.32846,
          0.368745893239975,
          0.332,
          0.359
         ],
         "xaxis": "x",
         "y": [
          3.465,
          3.515,
          3.47099995613098,
          3.408,
          3.334
         ],
         "yaxis": "y"
        },
        {
         "hovertemplate": "Country=Saudi Arabia<br>Economy (GDP per Capita)=%{x}<br>Happiness Score=%{y}<extra></extra>",
         "legendgroup": "Saudi Arabia",
         "marker": {
          "color": "#FF6692",
          "symbol": "circle"
         },
         "mode": "markers",
         "name": "Saudi Arabia",
         "orientation": "v",
         "showlegend": true,
         "type": "scatter",
         "x": [
          1.39541,
          1.48953,
          1.53062355518341,
          1.379,
          1.403
         ],
         "xaxis": "x",
         "y": [
          6.411,
          6.379,
          6.3439998626709,
          6.371,
          6.375
         ],
         "yaxis": "y"
        },
        {
         "hovertemplate": "Country=Senegal<br>Economy (GDP per Capita)=%{x}<br>Happiness Score=%{y}<extra></extra>",
         "legendgroup": "Senegal",
         "marker": {
          "color": "#B6E880",
          "symbol": "circle"
         },
         "mode": "markers",
         "name": "Senegal",
         "orientation": "v",
         "showlegend": true,
         "type": "scatter",
         "x": [
          0.36498,
          0.44314,
          0.479309022426605,
          0.429,
          0.45
         ],
         "xaxis": "x",
         "y": [
          3.904,
          4.219,
          4.53499984741211,
          4.631,
          4.681
         ],
         "yaxis": "y"
        },
        {
         "hovertemplate": "Country=Serbia<br>Economy (GDP per Capita)=%{x}<br>Happiness Score=%{y}<extra></extra>",
         "legendgroup": "Serbia",
         "marker": {
          "color": "#FF97FF",
          "symbol": "circle"
         },
         "mode": "markers",
         "name": "Serbia",
         "orientation": "v",
         "showlegend": true,
         "type": "scatter",
         "x": [
          0.92053,
          1.03437,
          1.06931757926941,
          0.975,
          1.004
         ],
         "xaxis": "x",
         "y": [
          5.123,
          5.177,
          5.39499998092651,
          5.398,
          5.603
         ],
         "yaxis": "y"
        },
        {
         "hovertemplate": "Country=Sierra Leone<br>Economy (GDP per Capita)=%{x}<br>Happiness Score=%{y}<extra></extra>",
         "legendgroup": "Sierra Leone",
         "marker": {
          "color": "#FECB52",
          "symbol": "circle"
         },
         "mode": "markers",
         "name": "Sierra Leone",
         "orientation": "v",
         "showlegend": true,
         "type": "scatter",
         "x": [
          0.33024,
          0.36485,
          0.36842092871666,
          0.256,
          0.268
         ],
         "xaxis": "x",
         "y": [
          4.507,
          4.635,
          4.70900011062622,
          4.571,
          4.374
         ],
         "yaxis": "y"
        },
        {
         "hovertemplate": "Country=Singapore<br>Economy (GDP per Capita)=%{x}<br>Happiness Score=%{y}<extra></extra>",
         "legendgroup": "Singapore",
         "marker": {
          "color": "#636efa",
          "symbol": "circle"
         },
         "mode": "markers",
         "name": "Singapore",
         "orientation": "v",
         "showlegend": true,
         "type": "scatter",
         "x": [
          1.52186,
          1.64555,
          1.69227766990662,
          1.529,
          1.572
         ],
         "xaxis": "x",
         "y": [
          6.798,
          6.739,
          6.57200002670288,
          6.343,
          6.262
         ],
         "yaxis": "y"
        },
        {
         "hovertemplate": "Country=Slovakia<br>Economy (GDP per Capita)=%{x}<br>Happiness Score=%{y}<extra></extra>",
         "legendgroup": "Slovakia",
         "marker": {
          "color": "#EF553B",
          "symbol": "circle"
         },
         "mode": "markers",
         "name": "Slovakia",
         "orientation": "v",
         "showlegend": true,
         "type": "scatter",
         "x": [
          1.16891,
          1.27973,
          1.32539355754852,
          1.21,
          1.246
         ],
         "xaxis": "x",
         "y": [
          5.995,
          6.078,
          6.09800004959106,
          6.173,
          6.198
         ],
         "yaxis": "y"
        },
        {
         "hovertemplate": "Country=Slovenia<br>Economy (GDP per Capita)=%{x}<br>Happiness Score=%{y}<extra></extra>",
         "legendgroup": "Slovenia",
         "marker": {
          "color": "#00cc96",
          "symbol": "circle"
         },
         "mode": "markers",
         "name": "Slovenia",
         "orientation": "v",
         "showlegend": true,
         "type": "scatter",
         "x": [
          1.18498,
          1.29947,
          1.3412059545517,
          1.219,
          1.258
         ],
         "xaxis": "x",
         "y": [
          5.848,
          5.768,
          5.75799989700317,
          5.948,
          6.118
         ],
         "yaxis": "y"
        },
        {
         "hovertemplate": "Country=Somalia<br>Economy (GDP per Capita)=%{x}<br>Happiness Score=%{y}<extra></extra>",
         "legendgroup": "Somalia",
         "marker": {
          "color": "#ab63fa",
          "symbol": "circle"
         },
         "mode": "markers",
         "name": "Somalia",
         "orientation": "v",
         "showlegend": true,
         "type": "scatter",
         "x": [
          0,
          0.0226431842893362,
          0,
          0
         ],
         "xaxis": "x",
         "y": [
          5.44,
          5.15100002288818,
          4.982,
          4.668
         ],
         "yaxis": "y"
        },
        {
         "hovertemplate": "Country=Somaliland Region<br>Economy (GDP per Capita)=%{x}<br>Happiness Score=%{y}<extra></extra>",
         "legendgroup": "Somaliland Region",
         "marker": {
          "color": "#FFA15A",
          "symbol": "circle"
         },
         "mode": "markers",
         "name": "Somaliland Region",
         "orientation": "v",
         "showlegend": true,
         "type": "scatter",
         "x": [
          0.25558
         ],
         "xaxis": "x",
         "y": [
          5.057
         ],
         "yaxis": "y"
        },
        {
         "hovertemplate": "Country=Somaliland region<br>Economy (GDP per Capita)=%{x}<br>Happiness Score=%{y}<extra></extra>",
         "legendgroup": "Somaliland region",
         "marker": {
          "color": "#19d3f3",
          "symbol": "circle"
         },
         "mode": "markers",
         "name": "Somaliland region",
         "orientation": "v",
         "showlegend": true,
         "type": "scatter",
         "x": [
          0.18847
         ],
         "xaxis": "x",
         "y": [
          5.057
         ],
         "yaxis": "y"
        },
        {
         "hovertemplate": "Country=South Africa<br>Economy (GDP per Capita)=%{x}<br>Happiness Score=%{y}<extra></extra>",
         "legendgroup": "South Africa",
         "marker": {
          "color": "#FF6692",
          "symbol": "circle"
         },
         "mode": "markers",
         "name": "South Africa",
         "orientation": "v",
         "showlegend": true,
         "type": "scatter",
         "x": [
          0.92049,
          1.02416,
          1.05469870567322,
          0.94,
          0.96
         ],
         "xaxis": "x",
         "y": [
          4.642,
          4.459,
          4.8289999961853,
          4.724,
          4.722
         ],
         "yaxis": "y"
        },
        {
         "hovertemplate": "Country=South Korea<br>Economy (GDP per Capita)=%{x}<br>Happiness Score=%{y}<extra></extra>",
         "legendgroup": "South Korea",
         "marker": {
          "color": "#B6E880",
          "symbol": "circle"
         },
         "mode": "markers",
         "name": "South Korea",
         "orientation": "v",
         "showlegend": true,
         "type": "scatter",
         "x": [
          1.24461,
          1.35948,
          1.40167844295502,
          1.266,
          1.301
         ],
         "xaxis": "x",
         "y": [
          5.984,
          5.835,
          5.83799982070923,
          5.875,
          5.895
         ],
         "yaxis": "y"
        },
        {
         "hovertemplate": "Country=South Sudan<br>Economy (GDP per Capita)=%{x}<br>Happiness Score=%{y}<extra></extra>",
         "legendgroup": "South Sudan",
         "marker": {
          "color": "#FF97FF",
          "symbol": "circle"
         },
         "mode": "markers",
         "name": "South Sudan",
         "orientation": "v",
         "showlegend": true,
         "type": "scatter",
         "x": [
          0.39394,
          0.39724862575531,
          0.337,
          0.306
         ],
         "xaxis": "x",
         "y": [
          3.832,
          3.59100008010864,
          3.254,
          2.853
         ],
         "yaxis": "y"
        },
        {
         "hovertemplate": "Country=Spain<br>Economy (GDP per Capita)=%{x}<br>Happiness Score=%{y}<extra></extra>",
         "legendgroup": "Spain",
         "marker": {
          "color": "#FECB52",
          "symbol": "circle"
         },
         "mode": "markers",
         "name": "Spain",
         "orientation": "v",
         "showlegend": true,
         "type": "scatter",
         "x": [
          1.23011,
          1.34253,
          1.38439786434174,
          1.251,
          1.286
         ],
         "xaxis": "x",
         "y": [
          6.329,
          6.361,
          6.40299987792969,
          6.31,
          6.354
         ],
         "yaxis": "y"
        },
        {
         "hovertemplate": "Country=Sri Lanka<br>Economy (GDP per Capita)=%{x}<br>Happiness Score=%{y}<extra></extra>",
         "legendgroup": "Sri Lanka",
         "marker": {
          "color": "#636efa",
          "symbol": "circle"
         },
         "mode": "markers",
         "name": "Sri Lanka",
         "orientation": "v",
         "showlegend": true,
         "type": "scatter",
         "x": [
          0.83524,
          0.97318,
          1.00985014438629,
          0.918,
          0.949
         ],
         "xaxis": "x",
         "y": [
          4.271,
          4.415,
          4.44000005722046,
          4.471,
          4.366
         ],
         "yaxis": "y"
        },
        {
         "hovertemplate": "Country=Sudan<br>Economy (GDP per Capita)=%{x}<br>Happiness Score=%{y}<extra></extra>",
         "legendgroup": "Sudan",
         "marker": {
          "color": "#EF553B",
          "symbol": "circle"
         },
         "mode": "markers",
         "name": "Sudan",
         "orientation": "v",
         "showlegend": true,
         "type": "scatter",
         "x": [
          0.52107,
          0.63069,
          0.65951669216156,
          0.605
         ],
         "xaxis": "x",
         "y": [
          4.55,
          4.139,
          4.13899993896484,
          4.139
         ],
         "yaxis": "y"
        },
        {
         "hovertemplate": "Country=Suriname<br>Economy (GDP per Capita)=%{x}<br>Happiness Score=%{y}<extra></extra>",
         "legendgroup": "Suriname",
         "marker": {
          "color": "#00cc96",
          "symbol": "circle"
         },
         "mode": "markers",
         "name": "Suriname",
         "orientation": "v",
         "showlegend": true,
         "type": "scatter",
         "x": [
          0.99534,
          1.09686
         ],
         "xaxis": "x",
         "y": [
          6.269,
          6.269
         ],
         "yaxis": "y"
        },
        {
         "hovertemplate": "Country=Swaziland<br>Economy (GDP per Capita)=%{x}<br>Happiness Score=%{y}<extra></extra>",
         "legendgroup": "Swaziland",
         "marker": {
          "color": "#ab63fa",
          "symbol": "circle"
         },
         "mode": "markers",
         "name": "Swaziland",
         "orientation": "v",
         "showlegend": true,
         "type": "scatter",
         "x": [
          0.71206,
          0.811
         ],
         "xaxis": "x",
         "y": [
          4.867,
          4.212
         ],
         "yaxis": "y"
        },
        {
         "hovertemplate": "Country=Sweden<br>Economy (GDP per Capita)=%{x}<br>Happiness Score=%{y}<extra></extra>",
         "legendgroup": "Sweden",
         "marker": {
          "color": "#FFA15A",
          "symbol": "circle"
         },
         "mode": "markers",
         "name": "Sweden",
         "orientation": "v",
         "showlegend": true,
         "type": "scatter",
         "x": [
          1.33171,
          1.45181,
          1.49438726902008,
          1.355,
          1.387
         ],
         "xaxis": "x",
         "y": [
          7.364,
          7.291,
          7.28399991989136,
          7.314,
          7.343
         ],
         "yaxis": "y"
        },
        {
         "hovertemplate": "Country=Switzerland<br>Economy (GDP per Capita)=%{x}<br>Happiness Score=%{y}<extra></extra>",
         "legendgroup": "Switzerland",
         "marker": {
          "color": "#19d3f3",
          "symbol": "circle"
         },
         "mode": "markers",
         "name": "Switzerland",
         "orientation": "v",
         "showlegend": true,
         "type": "scatter",
         "x": [
          1.39651,
          1.52733,
          1.56497955322266,
          1.42,
          1.452
         ],
         "xaxis": "x",
         "y": [
          7.587,
          7.509,
          7.49399995803833,
          7.487,
          7.48
         ],
         "yaxis": "y"
        },
        {
         "hovertemplate": "Country=Syria<br>Economy (GDP per Capita)=%{x}<br>Happiness Score=%{y}<extra></extra>",
         "legendgroup": "Syria",
         "marker": {
          "color": "#FF6692",
          "symbol": "circle"
         },
         "mode": "markers",
         "name": "Syria",
         "orientation": "v",
         "showlegend": true,
         "type": "scatter",
         "x": [
          0.6632,
          0.74719,
          0.777153134346008,
          0.689,
          0.619
         ],
         "xaxis": "x",
         "y": [
          3.006,
          3.069,
          3.46199989318848,
          3.462,
          3.462
         ],
         "yaxis": "y"
        },
        {
         "hovertemplate": "Country=Taiwan<br>Economy (GDP per Capita)=%{x}<br>Happiness Score=%{y}<extra></extra>",
         "legendgroup": "Taiwan",
         "marker": {
          "color": "#B6E880",
          "symbol": "circle"
         },
         "mode": "markers",
         "name": "Taiwan",
         "orientation": "v",
         "showlegend": true,
         "type": "scatter",
         "x": [
          1.29098,
          1.39729,
          1.365,
          1.368
         ],
         "xaxis": "x",
         "y": [
          6.298,
          6.379,
          6.441,
          6.446
         ],
         "yaxis": "y"
        },
        {
         "hovertemplate": "Country=Taiwan Province of China<br>Economy (GDP per Capita)=%{x}<br>Happiness Score=%{y}<extra></extra>",
         "legendgroup": "Taiwan Province of China",
         "marker": {
          "color": "#FF97FF",
          "symbol": "circle"
         },
         "mode": "markers",
         "name": "Taiwan Province of China",
         "orientation": "v",
         "showlegend": true,
         "type": "scatter",
         "x": [
          1.43362653255463
         ],
         "xaxis": "x",
         "y": [
          6.42199993133545
         ],
         "yaxis": "y"
        },
        {
         "hovertemplate": "Country=Tajikistan<br>Economy (GDP per Capita)=%{x}<br>Happiness Score=%{y}<extra></extra>",
         "legendgroup": "Tajikistan",
         "marker": {
          "color": "#FECB52",
          "symbol": "circle"
         },
         "mode": "markers",
         "name": "Tajikistan",
         "orientation": "v",
         "showlegend": true,
         "type": "scatter",
         "x": [
          0.39047,
          0.48835,
          0.524713635444641,
          0.474,
          0.493
         ],
         "xaxis": "x",
         "y": [
          4.786,
          4.996,
          5.04099988937378,
          5.199,
          5.467
         ],
         "yaxis": "y"
        },
        {
         "hovertemplate": "Country=Tanzania<br>Economy (GDP per Capita)=%{x}<br>Happiness Score=%{y}<extra></extra>",
         "legendgroup": "Tanzania",
         "marker": {
          "color": "#636efa",
          "symbol": "circle"
         },
         "mode": "markers",
         "name": "Tanzania",
         "orientation": "v",
         "showlegend": true,
         "type": "scatter",
         "x": [
          0.2852,
          0.47155,
          0.511135876178741,
          0.455,
          0.476
         ],
         "xaxis": "x",
         "y": [
          3.781,
          3.666,
          3.34899997711182,
          3.303,
          3.231
         ],
         "yaxis": "y"
        },
        {
         "hovertemplate": "Country=Thailand<br>Economy (GDP per Capita)=%{x}<br>Happiness Score=%{y}<extra></extra>",
         "legendgroup": "Thailand",
         "marker": {
          "color": "#EF553B",
          "symbol": "circle"
         },
         "mode": "markers",
         "name": "Thailand",
         "orientation": "v",
         "showlegend": true,
         "type": "scatter",
         "x": [
          0.9669,
          1.0893,
          1.12786877155304,
          1.016,
          1.05
         ],
         "xaxis": "x",
         "y": [
          6.455,
          6.474,
          6.42399978637695,
          6.072,
          6.008
         ],
         "yaxis": "y"
        },
        {
         "hovertemplate": "Country=Togo<br>Economy (GDP per Capita)=%{x}<br>Happiness Score=%{y}<extra></extra>",
         "legendgroup": "Togo",
         "marker": {
          "color": "#00cc96",
          "symbol": "circle"
         },
         "mode": "markers",
         "name": "Togo",
         "orientation": "v",
         "showlegend": true,
         "type": "scatter",
         "x": [
          0.20868,
          0.28123,
          0.305444717407227,
          0.259,
          0.275
         ],
         "xaxis": "x",
         "y": [
          2.839,
          3.303,
          3.49499988555908,
          3.999,
          4.085
         ],
         "yaxis": "y"
        },
        {
         "hovertemplate": "Country=Trinidad & Tobago<br>Economy (GDP per Capita)=%{x}<br>Happiness Score=%{y}<extra></extra>",
         "legendgroup": "Trinidad & Tobago",
         "marker": {
          "color": "#ab63fa",
          "symbol": "circle"
         },
         "mode": "markers",
         "name": "Trinidad & Tobago",
         "orientation": "v",
         "showlegend": true,
         "type": "scatter",
         "x": [
          1.223,
          1.231
         ],
         "xaxis": "x",
         "y": [
          6.192,
          6.192
         ],
         "yaxis": "y"
        },
        {
         "hovertemplate": "Country=Trinidad and Tobago<br>Economy (GDP per Capita)=%{x}<br>Happiness Score=%{y}<extra></extra>",
         "legendgroup": "Trinidad and Tobago",
         "marker": {
          "color": "#FFA15A",
          "symbol": "circle"
         },
         "mode": "markers",
         "name": "Trinidad and Tobago",
         "orientation": "v",
         "showlegend": true,
         "type": "scatter",
         "x": [
          1.21183,
          1.32572,
          1.36135590076447
         ],
         "xaxis": "x",
         "y": [
          6.168,
          6.168,
          6.16800022125244
         ],
         "yaxis": "y"
        },
        {
         "hovertemplate": "Country=Tunisia<br>Economy (GDP per Capita)=%{x}<br>Happiness Score=%{y}<extra></extra>",
         "legendgroup": "Tunisia",
         "marker": {
          "color": "#19d3f3",
          "symbol": "circle"
         },
         "mode": "markers",
         "name": "Tunisia",
         "orientation": "v",
         "showlegend": true,
         "type": "scatter",
         "x": [
          0.88113,
          0.97724,
          1.00726580619812,
          0.9,
          0.921
         ],
         "xaxis": "x",
         "y": [
          4.739,
          5.045,
          4.80499982833862,
          4.592,
          4.461
         ],
         "yaxis": "y"
        },
        {
         "hovertemplate": "Country=Turkey<br>Economy (GDP per Capita)=%{x}<br>Happiness Score=%{y}<extra></extra>",
         "legendgroup": "Turkey",
         "marker": {
          "color": "#FF6692",
          "symbol": "circle"
         },
         "mode": "markers",
         "name": "Turkey",
         "orientation": "v",
         "showlegend": true,
         "type": "scatter",
         "x": [
          1.06098,
          1.16492,
          1.19827437400818,
          1.148,
          1.183
         ],
         "xaxis": "x",
         "y": [
          5.332,
          5.389,
          5.5,
          5.483,
          5.373
         ],
         "yaxis": "y"
        },
        {
         "hovertemplate": "Country=Turkmenistan<br>Economy (GDP per Capita)=%{x}<br>Happiness Score=%{y}<extra></extra>",
         "legendgroup": "Turkmenistan",
         "marker": {
          "color": "#B6E880",
          "symbol": "circle"
         },
         "mode": "markers",
         "name": "Turkmenistan",
         "orientation": "v",
         "showlegend": true,
         "type": "scatter",
         "x": [
          0.95847,
          1.08017,
          1.13077676296234,
          1.016,
          1.052
         ],
         "xaxis": "x",
         "y": [
          5.548,
          5.658,
          5.82200002670288,
          5.636,
          5.247
         ],
         "yaxis": "y"
        },
        {
         "hovertemplate": "Country=Uganda<br>Economy (GDP per Capita)=%{x}<br>Happiness Score=%{y}<extra></extra>",
         "legendgroup": "Uganda",
         "marker": {
          "color": "#FF97FF",
          "symbol": "circle"
         },
         "mode": "markers",
         "name": "Uganda",
         "orientation": "v",
         "showlegend": true,
         "type": "scatter",
         "x": [
          0.21102,
          0.34719,
          0.381430715322495,
          0.322,
          0.332
         ],
         "xaxis": "x",
         "y": [
          3.931,
          3.739,
          4.08099985122681,
          4.161,
          4.189
         ],
         "yaxis": "y"
        },
        {
         "hovertemplate": "Country=Ukraine<br>Economy (GDP per Capita)=%{x}<br>Happiness Score=%{y}<extra></extra>",
         "legendgroup": "Ukraine",
         "marker": {
          "color": "#FECB52",
          "symbol": "circle"
         },
         "mode": "markers",
         "name": "Ukraine",
         "orientation": "v",
         "showlegend": true,
         "type": "scatter",
         "x": [
          0.79907,
          0.87287,
          0.89465194940567,
          0.793,
          0.82
         ],
         "xaxis": "x",
         "y": [
          4.681,
          4.324,
          4.09600019454956,
          4.103,
          4.332
         ],
         "yaxis": "y"
        },
        {
         "hovertemplate": "Country=United Arab Emirates<br>Economy (GDP per Capita)=%{x}<br>Happiness Score=%{y}<extra></extra>",
         "legendgroup": "United Arab Emirates",
         "marker": {
          "color": "#636efa",
          "symbol": "circle"
         },
         "mode": "markers",
         "name": "United Arab Emirates",
         "orientation": "v",
         "showlegend": true,
         "type": "scatter",
         "x": [
          1.42727,
          1.57352,
          1.62634336948395,
          2.096,
          1.503
         ],
         "xaxis": "x",
         "y": [
          6.901,
          6.573,
          6.64799976348877,
          6.774,
          6.825
         ],
         "yaxis": "y"
        },
        {
         "hovertemplate": "Country=United Kingdom<br>Economy (GDP per Capita)=%{x}<br>Happiness Score=%{y}<extra></extra>",
         "legendgroup": "United Kingdom",
         "marker": {
          "color": "#EF553B",
          "symbol": "circle"
         },
         "mode": "markers",
         "name": "United Kingdom",
         "orientation": "v",
         "showlegend": true,
         "type": "scatter",
         "x": [
          1.26637,
          1.40283,
          1.44163393974304,
          1.244,
          1.333
         ],
         "xaxis": "x",
         "y": [
          6.867,
          6.725,
          6.71400022506714,
          7.19,
          7.054
         ],
         "yaxis": "y"
        },
        {
         "hovertemplate": "Country=United States<br>Economy (GDP per Capita)=%{x}<br>Happiness Score=%{y}<extra></extra>",
         "legendgroup": "United States",
         "marker": {
          "color": "#00cc96",
          "symbol": "circle"
         },
         "mode": "markers",
         "name": "United States",
         "orientation": "v",
         "showlegend": true,
         "type": "scatter",
         "x": [
          1.39451,
          1.50796,
          1.54625928401947,
          1.398,
          1.433
         ],
         "xaxis": "x",
         "y": [
          7.119,
          7.104,
          6.99300003051758,
          6.886,
          6.892
         ],
         "yaxis": "y"
        },
        {
         "hovertemplate": "Country=Uruguay<br>Economy (GDP per Capita)=%{x}<br>Happiness Score=%{y}<extra></extra>",
         "legendgroup": "Uruguay",
         "marker": {
          "color": "#ab63fa",
          "symbol": "circle"
         },
         "mode": "markers",
         "name": "Uruguay",
         "orientation": "v",
         "showlegend": true,
         "type": "scatter",
         "x": [
          1.06166,
          1.18157,
          1.21755969524384,
          1.093,
          1.124
         ],
         "xaxis": "x",
         "y": [
          6.485,
          6.545,
          6.4539999961853,
          6.379,
          6.293
         ],
         "yaxis": "y"
        },
        {
         "hovertemplate": "Country=Uzbekistan<br>Economy (GDP per Capita)=%{x}<br>Happiness Score=%{y}<extra></extra>",
         "legendgroup": "Uzbekistan",
         "marker": {
          "color": "#FFA15A",
          "symbol": "circle"
         },
         "mode": "markers",
         "name": "Uzbekistan",
         "orientation": "v",
         "showlegend": true,
         "type": "scatter",
         "x": [
          0.63244,
          0.73591,
          0.786441087722778,
          0.719,
          0.745
         ],
         "xaxis": "x",
         "y": [
          6.003,
          5.987,
          5.97100019454956,
          6.096,
          6.174
         ],
         "yaxis": "y"
        },
        {
         "hovertemplate": "Country=Venezuela<br>Economy (GDP per Capita)=%{x}<br>Happiness Score=%{y}<extra></extra>",
         "legendgroup": "Venezuela",
         "marker": {
          "color": "#19d3f3",
          "symbol": "circle"
         },
         "mode": "markers",
         "name": "Venezuela",
         "orientation": "v",
         "showlegend": true,
         "type": "scatter",
         "x": [
          1.04424,
          1.13367,
          1.12843120098114,
          0.996,
          0.96
         ],
         "xaxis": "x",
         "y": [
          6.81,
          6.084,
          5.25,
          4.806,
          4.707
         ],
         "yaxis": "y"
        },
        {
         "hovertemplate": "Country=Vietnam<br>Economy (GDP per Capita)=%{x}<br>Happiness Score=%{y}<extra></extra>",
         "legendgroup": "Vietnam",
         "marker": {
          "color": "#FF6692",
          "symbol": "circle"
         },
         "mode": "markers",
         "name": "Vietnam",
         "orientation": "v",
         "showlegend": true,
         "type": "scatter",
         "x": [
          0.63216,
          0.74037,
          0.788547575473785,
          0.715,
          0.741
         ],
         "xaxis": "x",
         "y": [
          5.36,
          5.061,
          5.07399988174438,
          5.103,
          5.175
         ],
         "yaxis": "y"
        },
        {
         "hovertemplate": "Country=Yemen<br>Economy (GDP per Capita)=%{x}<br>Happiness Score=%{y}<extra></extra>",
         "legendgroup": "Yemen",
         "marker": {
          "color": "#B6E880",
          "symbol": "circle"
         },
         "mode": "markers",
         "name": "Yemen",
         "orientation": "v",
         "showlegend": true,
         "type": "scatter",
         "x": [
          0.54649,
          0.57939,
          0.591683447360992,
          0.442,
          0.287
         ],
         "xaxis": "x",
         "y": [
          4.077,
          3.724,
          3.59299993515015,
          3.355,
          3.38
         ],
         "yaxis": "y"
        },
        {
         "hovertemplate": "Country=Zambia<br>Economy (GDP per Capita)=%{x}<br>Happiness Score=%{y}<extra></extra>",
         "legendgroup": "Zambia",
         "marker": {
          "color": "#FF97FF",
          "symbol": "circle"
         },
         "mode": "markers",
         "name": "Zambia",
         "orientation": "v",
         "showlegend": true,
         "type": "scatter",
         "x": [
          0.47038,
          0.61202,
          0.636406779289246,
          0.562,
          0.578
         ],
         "xaxis": "x",
         "y": [
          5.129,
          4.795,
          4.51399993896484,
          4.377,
          4.107
         ],
         "yaxis": "y"
        },
        {
         "hovertemplate": "Country=Zimbabwe<br>Economy (GDP per Capita)=%{x}<br>Happiness Score=%{y}<extra></extra>",
         "legendgroup": "Zimbabwe",
         "marker": {
          "color": "#FECB52",
          "symbol": "circle"
         },
         "mode": "markers",
         "name": "Zimbabwe",
         "orientation": "v",
         "showlegend": true,
         "type": "scatter",
         "x": [
          0.271,
          0.35041,
          0.375846534967422,
          0.357,
          0.366
         ],
         "xaxis": "x",
         "y": [
          4.61,
          4.193,
          3.875,
          3.692,
          3.663
         ],
         "yaxis": "y"
        },
        {
         "hovertemplate": "<b>OLS trendline</b><br>Happiness Score = 2.18462 * Economy (GDP per Capita) + 3.3778<br>R<sup>2</sup>=0.622969<br><br>Economy (GDP per Capita)=%{x}<br>Happiness Score=%{y} <b>(trend)</b><extra></extra>",
         "legendgroup": "Overall Trendline",
         "line": {
          "color": "black"
         },
         "mode": "lines",
         "name": "Overall Trendline",
         "showlegend": true,
         "type": "scatter",
         "x": [
          0,
          0,
          0,
          0,
          0,
          0.0153,
          0.01604,
          0.0226431842893362,
          0.024,
          0.026,
          0.046,
          0.05661,
          0.06831,
          0.069,
          0.0694,
          0.0712,
          0.073,
          0.076,
          0.0785,
          0.08308,
          0.08709,
          0.091,
          0.091622568666935,
          0.0921023488044739,
          0.094,
          0.10706,
          0.119041793048382,
          0.131,
          0.1327,
          0.138,
          0.161925330758095,
          0.17417,
          0.186,
          0.18847,
          0.19073,
          0.191,
          0.198,
          0.204,
          0.20824,
          0.20868,
          0.21102,
          0.22208,
          0.22415,
          0.233442038297653,
          0.234305649995804,
          0.23906,
          0.244549930095673,
          0.25558,
          0.256,
          0.25812,
          0.259,
          0.26074,
          0.262,
          0.26673,
          0.268,
          0.271,
          0.27108,
          0.274,
          0.274,
          0.275,
          0.27509,
          0.27954,
          0.28123,
          0.2852,
          0.28665,
          0.287,
          0.29283,
          0.305444717407227,
          0.305808693170547,
          0.306,
          0.308,
          0.308,
          0.31292,
          0.314,
          0.315,
          0.31982,
          0.31995,
          0.322,
          0.323,
          0.32846,
          0.33024,
          0.331,
          0.332,
          0.332,
          0.332,
          0.336,
          0.337,
          0.339233845472336,
          0.34097,
          0.34112,
          0.34193,
          0.344,
          0.34719,
          0.35,
          0.35,
          0.3502277135849,
          0.35041,
          0.357,
          0.358,
          0.359,
          0.35997,
          0.36471,
          0.36485,
          0.36498,
          0.366,
          0.367110550403595,
          0.36842092871666,
          0.368610262870789,
          0.368745893239975,
          0.37,
          0.37545,
          0.375846534967422,
          0.378,
          0.38,
          0.381430715322495,
          0.38227,
          0.385,
          0.39047,
          0.393,
          0.39394,
          0.39499,
          0.39724862575531,
          0.39753,
          0.401477217674255,
          0.42214,
          0.4225,
          0.425,
          0.429,
          0.431085407733917,
          0.438012987375259,
          0.44025,
          0.442,
          0.44314,
          0.446,
          0.44626,
          0.45,
          0.45407,
          0.455,
          0.46038,
          0.46534,
          0.47038,
          0.47155,
          0.472,
          0.474,
          0.47428,
          0.476,
          0.476180493831635,
          0.479309022426605,
          0.479820191860199,
          0.48835,
          0.489,
          0.493,
          0.493,
          0.511135876178741,
          0.512,
          0.521021246910095,
          0.52107,
          0.52267,
          0.524713635444641,
          0.52497,
          0.53,
          0.532,
          0.535,
          0.541,
          0.54177,
          0.54558,
          0.54649,
          0.549,
          0.549,
          0.551,
          0.55507,
          0.55604,
          0.557,
          0.56044,
          0.560479462146759,
          0.562,
          0.562,
          0.564305365085602,
          0.569,
          0.57,
          0.574,
          0.578,
          0.57939,
          0.586682975292206,
          0.59066,
          0.591683447360992,
          0.592,
          0.59325,
          0.59448,
          0.59532,
          0.59543,
          0.596220076084137,
          0.59867,
          0.601765096187592,
          0.603048920631409,
          0.605,
          0.611,
          0.61202,
          0.61391,
          0.619,
          0.62,
          0.63069,
          0.63107,
          0.63216,
          0.63244,
          0.636406779289246,
          0.642,
          0.642,
          0.64499,
          0.648457288742065,
          0.652,
          0.65435,
          0.657,
          0.657,
          0.65951669216156,
          0.6632,
          0.667224824428558,
          0.668,
          0.67024,
          0.673,
          0.677,
          0.67866,
          0.68042,
          0.68133,
          0.682,
          0.682,
          0.685,
          0.68816,
          0.689,
          0.689,
          0.69177,
          0.69384,
          0.694,
          0.69429,
          0.696,
          0.70532,
          0.71,
          0.71206,
          0.715,
          0.716249227523804,
          0.719,
          0.72,
          0.721,
          0.72688353061676,
          0.728870630264282,
          0.73,
          0.730573117733002,
          0.73479,
          0.73591,
          0.737299203872681,
          0.74036,
          0.74037,
          0.741,
          0.7419,
          0.745,
          0.74553,
          0.74719,
          0.751,
          0.75216,
          0.755,
          0.75778,
          0.75985,
          0.764,
          0.76454,
          0.76821,
          0.77042,
          0.77109,
          0.775,
          0.776,
          0.777153134346008,
          0.779,
          0.781,
          0.783756256103516,
          0.786441087722778,
          0.788547575473785,
          0.792221248149872,
          0.793,
          0.794,
          0.79422,
          0.796,
          0.79907,
          0.8,
          0.801,
          0.80148,
          0.806,
          0.807,
          0.807,
          0.808964252471924,
          0.81038,
          0.811,
          0.81217,
          0.813,
          0.816,
          0.819,
          0.82,
          0.822,
          0.82819,
          0.82827,
          0.831,
          0.83223,
          0.833756566047668,
          0.83454,
          0.835,
          0.83524,
          0.837,
          0.83792,
          0.84058,
          0.84731,
          0.85,
          0.8527,
          0.853,
          0.855,
          0.855,
          0.85769921541214,
          0.858428180217743,
          0.86086,
          0.86402,
          0.872001945972443,
          0.87287,
          0.8737,
          0.874,
          0.87616,
          0.878114581108093,
          0.87867,
          0.879,
          0.88113,
          0.8818,
          0.882,
          0.885,
          0.885416388511658,
          0.886,
          0.889,
          0.89012,
          0.89333,
          0.89373,
          0.89465194940567,
          0.89537,
          0.899,
          0.9,
          0.90019,
          0.900596737861633,
          0.90145,
          0.90198,
          0.907975316047668,
          0.909784495830536,
          0.912,
          0.913,
          0.914,
          0.915,
          0.916,
          0.918,
          0.91851,
          0.91861,
          0.92049,
          0.92053,
          0.921,
          0.925579309463501,
          0.931,
          0.932537317276001,
          0.93287,
          0.93383,
          0.934,
          0.93929,
          0.94,
          0.945,
          0.947,
          0.948,
          0.949,
          0.950612664222717,
          0.95104,
          0.951484382152557,
          0.95395,
          0.9553,
          0.95578,
          0.95847,
          0.959,
          0.96,
          0.96,
          0.96,
          0.96,
          0.964434325695038,
          0.965,
          0.9669,
          0.97306,
          0.97318,
          0.97438,
          0.975,
          0.97724,
          0.979,
          0.98124,
          0.982,
          0.982409417629242,
          0.983,
          0.985,
          0.985,
          0.98549,
          0.986,
          0.987,
          0.98853,
          0.989,
          0.989701807498932,
          0.991012394428253,
          0.99355,
          0.99534,
          0.995538592338562,
          0.996,
          0.99602,
          0.996192753314972,
          0.99673,
          1.00082039833069,
          1.002,
          1.004,
          1.004,
          1.00726580619812,
          1.00761,
          1.0088,
          1.00985014438629,
          1.01,
          1.01,
          1.01216,
          1.015,
          1.016,
          1.016,
          1.017,
          1.017,
          1.0193,
          1.02054,
          1.02389,
          1.024,
          1.02416,
          1.02564,
          1.02723586559296,
          1.0278,
          1.02787,
          1.029,
          1.03032,
          1.03192,
          1.034,
          1.03437,
          1.03522527217865,
          1.036,
          1.038,
          1.039,
          1.041,
          1.043,
          1.043,
          1.04345,
          1.044,
          1.04424,
          1.05,
          1.051,
          1.052,
          1.05266,
          1.05351,
          1.054,
          1.05469870567322,
          1.057,
          1.059,
          1.06024,
          1.06098,
          1.06166,
          1.06353,
          1.06457793712616,
          1.06688,
          1.067,
          1.06879,
          1.06931757926941,
          1.07,
          1.07062232494354,
          1.073,
          1.07474,
          1.07498753070831,
          1.07838,
          1.07937383651733,
          1.08017,
          1.08116579055786,
          1.08254,
          1.08754,
          1.0893,
          1.09,
          1.09186446666718,
          1.092,
          1.092,
          1.093,
          1.09426,
          1.09686,
          1.1,
          1.10180306434631,
          1.10271048545837,
          1.10715,
          1.10735321044922,
          1.10970628261566,
          1.112,
          1.11306,
          1.11312,
          1.115,
          1.11508,
          1.116,
          1.11758,
          1.12,
          1.12094,
          1.12112903594971,
          1.12209415435791,
          1.12254,
          1.12268,
          1.12373,
          1.124,
          1.12486,
          1.12555,
          1.12786877155304,
          1.12843120098114,
          1.13062,
          1.13077676296234,
          1.131,
          1.13145,
          1.13367,
          1.13764,
          1.143,
          1.14372,
          1.14723,
          1.148,
          1.148,
          1.149,
          1.151,
          1.15137,
          1.15174,
          1.15318381786346,
          1.15360176563263,
          1.154,
          1.15406,
          1.155,
          1.15655755996704,
          1.15687310695648,
          1.15851,
          1.159,
          1.15991,
          1.161,
          1.1614590883255,
          1.162,
          1.16492,
          1.16891,
          1.1697,
          1.171,
          1.173,
          1.176,
          1.17898,
          1.181,
          1.18157,
          1.183,
          1.183,
          1.18306,
          1.18498,
          1.18529546260834,
          1.18649,
          1.187,
          1.188,
          1.18939554691315,
          1.197,
          1.1982102394104,
          1.19827437400818,
          1.2,
          1.201,
          1.206,
          1.2074,
          1.20806,
          1.20813,
          1.21,
          1.21183,
          1.2167,
          1.21755969524384,
          1.21768391132355,
          1.21788,
          1.219,
          1.221,
          1.221,
          1.22255623340607,
          1.223,
          1.22857,
          1.229,
          1.229,
          1.22943,
          1.23011,
          1.231,
          1.23228,
          1.233,
          1.23374843597412,
          1.237,
          1.238,
          1.24142,
          1.244,
          1.24461,
          1.24585,
          1.246,
          1.24886,
          1.25018,
          1.251,
          1.25114,
          1.25142,
          1.25278460979462,
          1.258,
          1.26074862480164,
          1.263,
          1.263,
          1.264,
          1.266,
          1.26637,
          1.268,
          1.269,
          1.2692,
          1.27,
          1.27074,
          1.276,
          1.27607,
          1.27778,
          1.27964,
          1.27973,
          1.28177809715271,
          1.28455626964569,
          1.286,
          1.2860119342804,
          1.28948748111725,
          1.29025,
          1.29098,
          1.29121541976929,
          1.29178786277771,
          1.293,
          1.294,
          1.294,
          1.29947,
          1.3,
          1.301,
          1.301,
          1.30232,
          1.303,
          1.305,
          1.30782,
          1.30782,
          1.30915,
          1.31141,
          1.31458234786987,
          1.3151752948761,
          1.31857,
          1.32087934017181,
          1.32376,
          1.324,
          1.324,
          1.32539355754852,
          1.32548,
          1.32572,
          1.32629,
          1.327,
          1.32792,
          1.32944,
          1.33,
          1.33171,
          1.333,
          1.33358,
          1.33596,
          1.33723,
          1.33766,
          1.338,
          1.34,
          1.34,
          1.34,
          1.341,
          1.3412059545517,
          1.34253,
          1.343,
          1.34327983856201,
          1.3469113111496,
          1.351,
          1.35268235206604,
          1.35495,
          1.355,
          1.35593807697296,
          1.356,
          1.35943,
          1.35948,
          1.36011,
          1.36066,
          1.361,
          1.36135590076447,
          1.362,
          1.365,
          1.365,
          1.368,
          1.372,
          1.373,
          1.37538242340088,
          1.376,
          1.379,
          1.38,
          1.38007,
          1.383,
          1.38439786434174,
          1.38604,
          1.387,
          1.39451,
          1.39488,
          1.39506661891937,
          1.39541,
          1.396,
          1.39651,
          1.39729,
          1.398,
          1.40167844295502,
          1.40283,
          1.403,
          1.405,
          1.40570604801178,
          1.40598,
          1.41691517829895,
          1.42,
          1.42539,
          1.42666,
          1.42727,
          1.43092346191406,
          1.433,
          1.43362653255463,
          1.438,
          1.44015,
          1.44024,
          1.44163393974304,
          1.44178,
          1.44357192516327,
          1.44443,
          1.44787,
          1.448,
          1.45038,
          1.45181,
          1.452,
          1.456,
          1.459,
          1.46378076076508,
          1.46468,
          1.474,
          1.47920441627502,
          1.480633020401,
          1.48238301277161,
          1.48341,
          1.484414935112,
          1.48709726333618,
          1.48792338371277,
          1.488,
          1.48841226100922,
          1.48953,
          1.49438726902008,
          1.499,
          1.5,
          1.503,
          1.50394463539124,
          1.50796,
          1.5107,
          1.52186,
          1.52733,
          1.529,
          1.53062355518341,
          1.53570663928986,
          1.54625928401947,
          1.55167484283447,
          1.55422,
          1.56391,
          1.56497955322266,
          1.572,
          1.57352,
          1.576,
          1.57744,
          1.609,
          1.61646318435669,
          1.61714,
          1.62634336948395,
          1.63295245170593,
          1.64555,
          1.649,
          1.684,
          1.69042,
          1.69227766990662,
          1.69752,
          1.74194359779358,
          1.82427,
          1.87076568603516,
          2.096
         ],
         "xaxis": "x",
         "y": [
          3.3778023791745504,
          3.3778023791745504,
          3.3778023791745504,
          3.3778023791745504,
          3.3778023791745504,
          3.4112270630473955,
          3.4128436817445134,
          3.427269129288644,
          3.430233255837837,
          3.4346024955597776,
          3.478294892779183,
          3.5014737095040775,
          3.5270337618774295,
          3.528541149581499,
          3.5294149975258873,
          3.533347313275634,
          3.53727962902538,
          3.543833488608291,
          3.5492950382607167,
          3.5593005972239604,
          3.5680609228664513,
          3.576602786522845,
          3.577962862397449,
          3.5790109996148156,
          3.583156646105756,
          3.6116877814900277,
          3.6378634445535583,
          3.6639875809616558,
          3.667701434725305,
          3.679279919988448,
          3.731547672742865,
          3.7582976203597425,
          3.7841416733150206,
          3.7895376843716173,
          3.7944749252574104,
          3.795064772619872,
          3.810357111646664,
          3.8234648308124854,
          3.8327276190229997,
          3.8336888517618264,
          3.838800862236497,
          3.862962757898828,
          3.8674849210110365,
          3.8877844924249856,
          3.8896711556929326,
          3.9000576031381033,
          3.9120510134604487,
          3.936147523241332,
          3.93706506358294,
          3.941696457688197,
          3.9436189231658503,
          3.947420161723939,
          3.950172782748761,
          3.960506034691151,
          3.963280501914583,
          3.969834361497494,
          3.970009131086371,
          3.9763882210804047,
          3.9763882210804047,
          3.978572840941375,
          3.978769456728862,
          3.98849101511018,
          3.9921830226752197,
          4.000855963523271,
          4.0040236623216785,
          4.0047882792730185,
          4.017524613062474,
          4.04508297525083,
          4.045878123932291,
          4.046296056631453,
          4.050665296353394,
          4.050665296353394,
          4.061413626069368,
          4.0637730155192155,
          4.065957635380186,
          4.076487503110062,
          4.0767715036919885,
          4.081249974406978,
          4.083434594267948,
          4.095362618708846,
          4.0992512420613725,
          4.10091155315571,
          4.10309617301668,
          4.10309617301668,
          4.10309617301668,
          4.111834652460561,
          4.114019272321531,
          4.118899375506736,
          4.122692213169584,
          4.123019906148729,
          4.124789448236115,
          4.1293116113483235,
          4.136280548704819,
          4.142419330514145,
          4.142419330514145,
          4.142916798134331,
          4.143315024657143,
          4.157711669540937,
          4.159896289401908,
          4.162080909262878,
          4.164199990528019,
          4.174555088669018,
          4.174860935449554,
          4.175144936031479,
          4.177373248289669,
          4.179799378757972,
          4.182662057246079,
          4.183075680399549,
          4.183371981197823,
          4.18611172773355,
          4.1980179059758385,
          4.198884184141238,
          4.203588686621313,
          4.207957926343253,
          4.21108349545217,
          4.2129170134276555,
          4.218881025648105,
          4.230830896287612,
          4.236357984535867,
          4.238411527205179,
          4.2407053780591975,
          4.245639616742746,
          4.246254312506062,
          4.254877482632812,
          4.30001780728454,
          4.30080427043449,
          4.3062658200869155,
          4.315004299530797,
          4.319560122684533,
          4.334694250757462,
          4.339581272966712,
          4.34340435772341,
          4.345894824364916,
          4.352142837167291,
          4.352710838331143,
          4.360881316611172,
          4.369772719445321,
          4.371804415916023,
          4.3835576707680435,
          4.394393385278456,
          4.405403869377746,
          4.407959874615082,
          4.408942953552518,
          4.413312193274459,
          4.41392388683553,
          4.4176814329964,
          4.418075743405772,
          4.424910389109956,
          4.426027100006907,
          4.444661488279382,
          4.4460814911890125,
          4.454819970632894,
          4.454819970632894,
          4.494439965929069,
          4.496327747991329,
          4.516035743161839,
          4.516142250130329,
          4.519637641907882,
          4.524102208488827,
          4.524662267588114,
          4.535650905488794,
          4.540020145210734,
          4.546574004793645,
          4.559681723959467,
          4.561363881252414,
          4.569687282922711,
          4.571675286996194,
          4.577158682847229,
          4.577158682847229,
          4.58152792256917,
          4.590419325403318,
          4.59253840666846,
          4.594635641734992,
          4.602150734056729,
          4.602236943846295,
          4.605558741039843,
          4.605558741039843,
          4.610595087392636,
          4.620851080066634,
          4.6230356999276045,
          4.631774179371486,
          4.640512658815367,
          4.643549280422116,
          4.659481659091035,
          4.668169946255251,
          4.670405789686731,
          4.67109733686895,
          4.673828111695164,
          4.676515194124157,
          4.6783502748073715,
          4.678590582992078,
          4.6803165988971625,
          4.685668751341622,
          4.692430359944649,
          4.695235028322611,
          4.699497395061564,
          4.712605114227386,
          4.714833426485575,
          4.718962358022809,
          4.730082073115148,
          4.732266692976118,
          4.75562027928989,
          4.756450434837059,
          4.758831670485517,
          4.7594433640465885,
          4.7681092688659605,
          4.780328329917464,
          4.780328329917464,
          4.786860343301765,
          4.7944350511514,
          4.802174528527167,
          4.807308385200447,
          4.813097627832018,
          4.813097627832018,
          4.8185956435121104,
          4.826642270970034,
          4.83543498235358,
          4.837128446302692,
          4.842021994791264,
          4.848051545607543,
          4.856790025051424,
          4.860416494020635,
          4.864261424975942,
          4.866249429049425,
          4.867713124356275,
          4.867713124356275,
          4.874266983939186,
          4.881170382699851,
          4.883005463383067,
          4.883005463383067,
          4.889056860397955,
          4.8935790235101635,
          4.893928562687918,
          4.894562102447599,
          4.898297802409859,
          4.918658459514102,
          4.928882480463443,
          4.933382797377042,
          4.939805579768294,
          4.942534667027667,
          4.948544059212175,
          4.950728679073145,
          4.952913298934115,
          4.965766576772117,
          4.970107634127819,
          4.972574877682848,
          4.973826922065038,
          4.983039206816896,
          4.985485981061182,
          4.988520863432378,
          4.9952075394425,
          4.995229385641109,
          4.996605696153521,
          4.998571854028395,
          5.005344175597402,
          5.006502024123717,
          5.010128493092927,
          5.018451894763224,
          5.020986053801949,
          5.027190374207105,
          5.0332636174206025,
          5.03778578053281,
          5.046851952955837,
          5.048031647680761,
          5.056049202570522,
          5.060877212463266,
          5.062340907770117,
          5.07088277142651,
          5.073067391287481,
          5.075586551482137,
          5.0796212508703915,
          5.083990490592332,
          5.0900118624179935,
          5.095877198896794,
          5.100479073874535,
          5.1085046521654185,
          5.110205928923975,
          5.112390548784946,
          5.112871165154359,
          5.1167597885068865,
          5.123466571480065,
          5.125498267950767,
          5.127682887811737,
          5.128731505345003,
          5.138605987116589,
          5.140790606977559,
          5.140790606977559,
          5.145081751939684,
          5.148174622107638,
          5.14952908642144,
          5.152085091658775,
          5.153898326143381,
          5.1604521857262915,
          5.167006045309202,
          5.169190665170172,
          5.173559904892112,
          5.187082701831519,
          5.187257471420397,
          5.193221483640845,
          5.195908566069839,
          5.1992435325766575,
          5.20095503794868,
          5.201959963084726,
          5.202484271851359,
          5.206329202806667,
          5.20833905307876,
          5.214150141908941,
          5.22885263357327,
          5.234729260999281,
          5.2406277346239,
          5.2412831205821915,
          5.245652360304132,
          5.245652360304132,
          5.2515491199025295,
          5.253141630894799,
          5.2584542326894175,
          5.265357631450083,
          5.282795149150674,
          5.28469151721967,
          5.2865047517042765,
          5.287160137662567,
          5.291878916562263,
          5.29614893327088,
          5.2973623124132985,
          5.298083236967418,
          5.302736477271285,
          5.304200172578135,
          5.304637096550329,
          5.31119095613324,
          5.3121006067456875,
          5.31337557599421,
          5.319929435577121,
          5.322376209821408,
          5.329388839575122,
          5.330262687519511,
          5.332276796501947,
          5.333845464091501,
          5.341775634186824,
          5.343960254047794,
          5.344375331821379,
          5.34526389943211,
          5.347127952846201,
          5.348285801372516,
          5.3613832878830445,
          5.365335657968764,
          5.370175692379437,
          5.372360312240407,
          5.374544932101378,
          5.376729551962348,
          5.378914171823318,
          5.383283411545259,
          5.384397567674354,
          5.384616029660451,
          5.388723114999075,
          5.388810499793514,
          5.38983727112817,
          5.399841321531663,
          5.411683469737873,
          5.415041923591637,
          5.415768708877887,
          5.417865943944419,
          5.4182373293207835,
          5.429793968385316,
          5.431345048486605,
          5.442268147791456,
          5.446637387513396,
          5.448822007374367,
          5.451006627235337,
          5.454529685525361,
          5.455463251751716,
          5.456434057828053,
          5.4618204955471406,
          5.46476973235945,
          5.465818349892716,
          5.471694977318726,
          5.47285282584504,
          5.47503744570601,
          5.47503744570601,
          5.47503744570601,
          5.47503744570601,
          5.484724761689401,
          5.485960545010862,
          5.490111322746705,
          5.503568581090282,
          5.503830735473599,
          5.506452279306763,
          5.507806743620565,
          5.5127002921091375,
          5.516545223064446,
          5.521438771553019,
          5.523099082647356,
          5.52399350453163,
          5.525283702508327,
          5.529652942230268,
          5.529652942230268,
          5.530723405962142,
          5.531837562091237,
          5.534022181952208,
          5.537364650339493,
          5.538391421674149,
          5.539924604274892,
          5.542787738510215,
          5.5483314420415635,
          5.5522419115926995,
          5.552675760359759,
          5.55368376070094,
          5.553727453098159,
          5.554104853421096,
          5.5552785331994485,
          5.564214498631953,
          5.566791479866762,
          5.571160719588702,
          5.571160719588702,
          5.578295264671194,
          5.579047197286805,
          5.581646894921359,
          5.583941061204535,
          5.584268438754524,
          5.584268438754524,
          5.5889872176542195,
          5.595191538059375,
          5.597376157920346,
          5.597376157920346,
          5.599560777781315,
          5.599560777781315,
          5.604585403461547,
          5.60729433208915,
          5.6146128086234,
          5.614853116808108,
          5.615202655985863,
          5.618435893380099,
          5.621922253049918,
          5.623154672279795,
          5.623307595670063,
          5.625776216112959,
          5.62865991432944,
          5.632155306106992,
          5.63669931541781,
          5.63750762476637,
          5.639376069354383,
          5.641068555139751,
          5.645437794861691,
          5.647622414722662,
          5.651991654444602,
          5.656360894166543,
          5.656360894166543,
          5.657343973103979,
          5.658545514027513,
          5.659069822794146,
          5.671653233193335,
          5.673837853054305,
          5.6760224729152755,
          5.677464322023516,
          5.679321248905341,
          5.680391712637215,
          5.681918118927905,
          5.686945572220127,
          5.691314811942068,
          5.694023740569671,
          5.695640359266788,
          5.697125900772248,
          5.701211139912262,
          5.703500484171119,
          5.708529616446513,
          5.708791770829829,
          5.712702240380966,
          5.713854800531156,
          5.71534563041274,
          5.716705173844375,
          5.721899489995651,
          5.72570072855374,
          5.7262414890553135,
          5.733652744847671,
          5.7358238998419875,
          5.737563214398808,
          5.739738638228875,
          5.742740763469307,
          5.753663862774158,
          5.757508793729466,
          5.759038027632146,
          5.763111178543384,
          5.763407267354086,
          5.763407267354086,
          5.765591887215056,
          5.768344508239879,
          5.7740245198784015,
          5.780884226241849,
          5.784823236423405,
          5.786805606607075,
          5.796504258247786,
          5.796948195831108,
          5.80208876402021,
          5.807099664573492,
          5.80941536162612,
          5.809546438817778,
          5.813653524156402,
          5.81382829374528,
          5.8158381440173725,
          5.819289843397705,
          5.824576623461254,
          5.826630166130566,
          5.8270431378207395,
          5.829151554663481,
          5.830125557908119,
          5.830431404688653,
          5.832725255542672,
          5.833315102905135,
          5.835193875985569,
          5.836701263689639,
          5.841766898077463,
          5.842995592576484,
          5.847777286384758,
          5.848119753865751,
          5.848607441931927,
          5.849590520869363,
          5.854440376960717,
          5.86311331780877,
          5.8748228802635705,
          5.876395806563469,
          5.884063822275474,
          5.885745979568421,
          5.885745979568421,
          5.887930599429391,
          5.892299839151332,
          5.893108148499891,
          5.89391645784845,
          5.897070651028589,
          5.897983708025965,
          5.898853698734243,
          5.898984775925902,
          5.901038318595213,
          5.904440995033861,
          5.905130345254061,
          5.908706334307219,
          5.909776798039094,
          5.911764802112577,
          5.914146037761035,
          5.915148971234862,
          5.916330657622005,
          5.922709747616038,
          5.931426380861309,
          5.933152230551476,
          5.935992236370737,
          5.9403614760926775,
          5.946915335675589,
          5.95342550286128,
          5.95783843498044,
          5.959083668301194,
          5.9622076747023804,
          5.9622076747023804,
          5.962338751894039,
          5.966533222027102,
          5.967222387906675,
          5.969831998017167,
          5.970946154146262,
          5.973130774007232,
          5.9761795135106155,
          5.992792352755965,
          5.995436265808453,
          5.995576375524539,
          5.9993462123388746,
          6.001530832199846,
          6.012453931504696,
          6.015512399310055,
          6.016954248418296,
          6.017107171808563,
          6.0211924109485775,
          6.025190265294153,
          6.035829364017078,
          6.037707471321153,
          6.03797883623594,
          6.038407215453024,
          6.040853989697311,
          6.045223229419252,
          6.045223229419252,
          6.048623007826457,
          6.049592469141192,
          6.061760801766796,
          6.062700188307014,
          6.062700188307014,
          6.0636395748472305,
          6.06512511635269,
          6.067069428028954,
          6.069865741450996,
          6.071438667750894,
          6.073073715844622,
          6.080177147194775,
          6.082361767055746,
          6.089833166980264,
          6.0954694862215675,
          6.096802104336759,
          6.099511032964362,
          6.099838725943508,
          6.1060867387458835,
          6.108970436962363,
          6.110761825248359,
          6.111067672028895,
          6.111679365589966,
          6.114660519249768,
          6.126054164275152,
          6.132058864607169,
          6.136977263580002,
          6.136977263580002,
          6.1391618834409725,
          6.143531123162913,
          6.144339432511472,
          6.147900362884854,
          6.150084982745824,
          6.150521906718018,
          6.152269602606794,
          6.153886221303912,
          6.165377321772616,
          6.165530245162884,
          6.169265945125143,
          6.173329338066548,
          6.1735259538540355,
          6.178000267571042,
          6.184069518376408,
          6.187223520382318,
          6.187249592248307,
          6.194842340895821,
          6.196508154791442,
          6.19810292728995,
          6.198617229993607,
          6.199867800359074,
          6.20251585940911,
          6.20470047927008,
          6.20470047927008,
          6.216650349909588,
          6.217808198435902,
          6.2199928182968724,
          6.2199928182968724,
          6.222876516513353,
          6.224362058018813,
          6.228731297740754,
          6.2348919257486894,
          6.2348919257486894,
          6.23779747016378,
          6.2427347110495734,
          6.249665085211998,
          6.250960449018311,
          6.25837658925412,
          6.2634216196591925,
          6.269714766332556,
          6.270239075099189,
          6.270239075099189,
          6.273283468597091,
          6.273472312493425,
          6.273996621260057,
          6.275241854580811,
          6.276792934682099,
          6.278802784954192,
          6.282123407142867,
          6.283346794265011,
          6.28708249422727,
          6.289900653847921,
          6.291167733367284,
          6.296367128636393,
          6.299141595859825,
          6.300080982400043,
          6.300823753152773,
          6.305192992874714,
          6.305192992874714,
          6.305192992874714,
          6.307377612735683,
          6.3078275451397845,
          6.310720081122968,
          6.311746852457624,
          6.312358193338056,
          6.320291580477475,
          6.329223811345386,
          6.332899111082002,
          6.337853059796219,
          6.337962290789267,
          6.340011632375514,
          6.340146910650238,
          6.347640156773365,
          6.347749387766414,
          6.349125698278826,
          6.350327239202359,
          6.351070009955089,
          6.351847517833685,
          6.3532546298160595,
          6.35980848939897,
          6.35980848939897,
          6.36636234898188,
          6.3751008284257615,
          6.377285448286733,
          6.382490137765535,
          6.383839307869643,
          6.390393167452554,
          6.392577787313524,
          6.392730710703791,
          6.399131646896435,
          6.402185449100342,
          6.405772891273784,
          6.407870126340316,
          6.424276621496203,
          6.425084930844761,
          6.42549262224245,
          6.426242779371076,
          6.427531705089049,
          6.428645861218143,
          6.4303498647097,
          6.431900944810989,
          6.439936944347972,
          6.442452658739475,
          6.44282404411584,
          6.44719328383778,
          6.448735730347114,
          6.449334211301531,
          6.473223418996669,
          6.479962581752335,
          6.491737682802965,
          6.494512150026397,
          6.495844768141589,
          6.503826193600343,
          6.508362639944949,
          6.509731375407338,
          6.519285739249799,
          6.523982671950886,
          6.524179287738373,
          6.527224516186013,
          6.5275436023242674,
          6.531458277625319,
          6.533332844955838,
          6.540847937277576,
          6.541131937859502,
          6.546331333128611,
          6.5494553395298,
          6.549870417303383,
          6.558608896747264,
          6.565162756330175,
          6.575606901248117,
          6.5775713971404866,
          6.59793205424473,
          6.6093017254038955,
          6.612422682350975,
          6.616245750440356,
          6.6184893271364595,
          6.620684728341121,
          6.626544595853306,
          6.6283493548355565,
          6.628516732298314,
          6.629417365886959,
          6.631859200685598,
          6.64247048705694,
          6.652547550768986,
          6.6547321706299565,
          6.661286030212867,
          6.663349699449945,
          6.672121744723279,
          6.6781076031423385,
          6.702487960790767,
          6.714437831430274,
          6.718086146598094,
          6.721632997497153,
          6.732737603991086,
          6.755791121253155,
          6.767622058598657,
          6.773182259491764,
          6.794351225944567,
          6.7966877931571545,
          6.812024800619817,
          6.815345422808491,
          6.820763280063697,
          6.823909132663494,
          6.892855735475716,
          6.909159956247423,
          6.910638541144014,
          6.930744404906498,
          6.945182737191422,
          6.972703591394179,
          6.980240529914527,
          7.056702225048486,
          7.070727484555915,
          7.074785787129044,
          7.086238285568804,
          7.183286959604414,
          7.363138852946786,
          7.464714252108635,
          7.956765607768238
         ],
         "yaxis": "y"
        }
       ],
       "layout": {
        "annotations": [
         {
          "font": {
           "size": 10
          },
          "showarrow": false,
          "text": "Op de x-as is de Economy variabele weergegeven, een grotere waarde betekent dat de economie verbetert.        <br> Op de y-as is de Happiness Score weergegeven, dit geeft aan hoe blij mensen zijn. Uit de grafiek kan per land afgelezen worden hoezeer de Economy variabele de Happiness Score beïnvloedt.",
          "x": 0.5,
          "xref": "paper",
          "y": -0.2,
          "yref": "paper"
         }
        ],
        "legend": {
         "title": {
          "text": "Country"
         },
         "tracegroupgap": 0
        },
        "margin": {
         "t": 60
        },
        "template": {
         "data": {
          "bar": [
           {
            "error_x": {
             "color": "#2a3f5f"
            },
            "error_y": {
             "color": "#2a3f5f"
            },
            "marker": {
             "line": {
              "color": "#E5ECF6",
              "width": 0.5
             },
             "pattern": {
              "fillmode": "overlay",
              "size": 10,
              "solidity": 0.2
             }
            },
            "type": "bar"
           }
          ],
          "barpolar": [
           {
            "marker": {
             "line": {
              "color": "#E5ECF6",
              "width": 0.5
             },
             "pattern": {
              "fillmode": "overlay",
              "size": 10,
              "solidity": 0.2
             }
            },
            "type": "barpolar"
           }
          ],
          "carpet": [
           {
            "aaxis": {
             "endlinecolor": "#2a3f5f",
             "gridcolor": "white",
             "linecolor": "white",
             "minorgridcolor": "white",
             "startlinecolor": "#2a3f5f"
            },
            "baxis": {
             "endlinecolor": "#2a3f5f",
             "gridcolor": "white",
             "linecolor": "white",
             "minorgridcolor": "white",
             "startlinecolor": "#2a3f5f"
            },
            "type": "carpet"
           }
          ],
          "choropleth": [
           {
            "colorbar": {
             "outlinewidth": 0,
             "ticks": ""
            },
            "type": "choropleth"
           }
          ],
          "contour": [
           {
            "colorbar": {
             "outlinewidth": 0,
             "ticks": ""
            },
            "colorscale": [
             [
              0,
              "#0d0887"
             ],
             [
              0.1111111111111111,
              "#46039f"
             ],
             [
              0.2222222222222222,
              "#7201a8"
             ],
             [
              0.3333333333333333,
              "#9c179e"
             ],
             [
              0.4444444444444444,
              "#bd3786"
             ],
             [
              0.5555555555555556,
              "#d8576b"
             ],
             [
              0.6666666666666666,
              "#ed7953"
             ],
             [
              0.7777777777777778,
              "#fb9f3a"
             ],
             [
              0.8888888888888888,
              "#fdca26"
             ],
             [
              1,
              "#f0f921"
             ]
            ],
            "type": "contour"
           }
          ],
          "contourcarpet": [
           {
            "colorbar": {
             "outlinewidth": 0,
             "ticks": ""
            },
            "type": "contourcarpet"
           }
          ],
          "heatmap": [
           {
            "colorbar": {
             "outlinewidth": 0,
             "ticks": ""
            },
            "colorscale": [
             [
              0,
              "#0d0887"
             ],
             [
              0.1111111111111111,
              "#46039f"
             ],
             [
              0.2222222222222222,
              "#7201a8"
             ],
             [
              0.3333333333333333,
              "#9c179e"
             ],
             [
              0.4444444444444444,
              "#bd3786"
             ],
             [
              0.5555555555555556,
              "#d8576b"
             ],
             [
              0.6666666666666666,
              "#ed7953"
             ],
             [
              0.7777777777777778,
              "#fb9f3a"
             ],
             [
              0.8888888888888888,
              "#fdca26"
             ],
             [
              1,
              "#f0f921"
             ]
            ],
            "type": "heatmap"
           }
          ],
          "heatmapgl": [
           {
            "colorbar": {
             "outlinewidth": 0,
             "ticks": ""
            },
            "colorscale": [
             [
              0,
              "#0d0887"
             ],
             [
              0.1111111111111111,
              "#46039f"
             ],
             [
              0.2222222222222222,
              "#7201a8"
             ],
             [
              0.3333333333333333,
              "#9c179e"
             ],
             [
              0.4444444444444444,
              "#bd3786"
             ],
             [
              0.5555555555555556,
              "#d8576b"
             ],
             [
              0.6666666666666666,
              "#ed7953"
             ],
             [
              0.7777777777777778,
              "#fb9f3a"
             ],
             [
              0.8888888888888888,
              "#fdca26"
             ],
             [
              1,
              "#f0f921"
             ]
            ],
            "type": "heatmapgl"
           }
          ],
          "histogram": [
           {
            "marker": {
             "pattern": {
              "fillmode": "overlay",
              "size": 10,
              "solidity": 0.2
             }
            },
            "type": "histogram"
           }
          ],
          "histogram2d": [
           {
            "colorbar": {
             "outlinewidth": 0,
             "ticks": ""
            },
            "colorscale": [
             [
              0,
              "#0d0887"
             ],
             [
              0.1111111111111111,
              "#46039f"
             ],
             [
              0.2222222222222222,
              "#7201a8"
             ],
             [
              0.3333333333333333,
              "#9c179e"
             ],
             [
              0.4444444444444444,
              "#bd3786"
             ],
             [
              0.5555555555555556,
              "#d8576b"
             ],
             [
              0.6666666666666666,
              "#ed7953"
             ],
             [
              0.7777777777777778,
              "#fb9f3a"
             ],
             [
              0.8888888888888888,
              "#fdca26"
             ],
             [
              1,
              "#f0f921"
             ]
            ],
            "type": "histogram2d"
           }
          ],
          "histogram2dcontour": [
           {
            "colorbar": {
             "outlinewidth": 0,
             "ticks": ""
            },
            "colorscale": [
             [
              0,
              "#0d0887"
             ],
             [
              0.1111111111111111,
              "#46039f"
             ],
             [
              0.2222222222222222,
              "#7201a8"
             ],
             [
              0.3333333333333333,
              "#9c179e"
             ],
             [
              0.4444444444444444,
              "#bd3786"
             ],
             [
              0.5555555555555556,
              "#d8576b"
             ],
             [
              0.6666666666666666,
              "#ed7953"
             ],
             [
              0.7777777777777778,
              "#fb9f3a"
             ],
             [
              0.8888888888888888,
              "#fdca26"
             ],
             [
              1,
              "#f0f921"
             ]
            ],
            "type": "histogram2dcontour"
           }
          ],
          "mesh3d": [
           {
            "colorbar": {
             "outlinewidth": 0,
             "ticks": ""
            },
            "type": "mesh3d"
           }
          ],
          "parcoords": [
           {
            "line": {
             "colorbar": {
              "outlinewidth": 0,
              "ticks": ""
             }
            },
            "type": "parcoords"
           }
          ],
          "pie": [
           {
            "automargin": true,
            "type": "pie"
           }
          ],
          "scatter": [
           {
            "fillpattern": {
             "fillmode": "overlay",
             "size": 10,
             "solidity": 0.2
            },
            "type": "scatter"
           }
          ],
          "scatter3d": [
           {
            "line": {
             "colorbar": {
              "outlinewidth": 0,
              "ticks": ""
             }
            },
            "marker": {
             "colorbar": {
              "outlinewidth": 0,
              "ticks": ""
             }
            },
            "type": "scatter3d"
           }
          ],
          "scattercarpet": [
           {
            "marker": {
             "colorbar": {
              "outlinewidth": 0,
              "ticks": ""
             }
            },
            "type": "scattercarpet"
           }
          ],
          "scattergeo": [
           {
            "marker": {
             "colorbar": {
              "outlinewidth": 0,
              "ticks": ""
             }
            },
            "type": "scattergeo"
           }
          ],
          "scattergl": [
           {
            "marker": {
             "colorbar": {
              "outlinewidth": 0,
              "ticks": ""
             }
            },
            "type": "scattergl"
           }
          ],
          "scattermapbox": [
           {
            "marker": {
             "colorbar": {
              "outlinewidth": 0,
              "ticks": ""
             }
            },
            "type": "scattermapbox"
           }
          ],
          "scatterpolar": [
           {
            "marker": {
             "colorbar": {
              "outlinewidth": 0,
              "ticks": ""
             }
            },
            "type": "scatterpolar"
           }
          ],
          "scatterpolargl": [
           {
            "marker": {
             "colorbar": {
              "outlinewidth": 0,
              "ticks": ""
             }
            },
            "type": "scatterpolargl"
           }
          ],
          "scatterternary": [
           {
            "marker": {
             "colorbar": {
              "outlinewidth": 0,
              "ticks": ""
             }
            },
            "type": "scatterternary"
           }
          ],
          "surface": [
           {
            "colorbar": {
             "outlinewidth": 0,
             "ticks": ""
            },
            "colorscale": [
             [
              0,
              "#0d0887"
             ],
             [
              0.1111111111111111,
              "#46039f"
             ],
             [
              0.2222222222222222,
              "#7201a8"
             ],
             [
              0.3333333333333333,
              "#9c179e"
             ],
             [
              0.4444444444444444,
              "#bd3786"
             ],
             [
              0.5555555555555556,
              "#d8576b"
             ],
             [
              0.6666666666666666,
              "#ed7953"
             ],
             [
              0.7777777777777778,
              "#fb9f3a"
             ],
             [
              0.8888888888888888,
              "#fdca26"
             ],
             [
              1,
              "#f0f921"
             ]
            ],
            "type": "surface"
           }
          ],
          "table": [
           {
            "cells": {
             "fill": {
              "color": "#EBF0F8"
             },
             "line": {
              "color": "white"
             }
            },
            "header": {
             "fill": {
              "color": "#C8D4E3"
             },
             "line": {
              "color": "white"
             }
            },
            "type": "table"
           }
          ]
         },
         "layout": {
          "annotationdefaults": {
           "arrowcolor": "#2a3f5f",
           "arrowhead": 0,
           "arrowwidth": 1
          },
          "autotypenumbers": "strict",
          "coloraxis": {
           "colorbar": {
            "outlinewidth": 0,
            "ticks": ""
           }
          },
          "colorscale": {
           "diverging": [
            [
             0,
             "#8e0152"
            ],
            [
             0.1,
             "#c51b7d"
            ],
            [
             0.2,
             "#de77ae"
            ],
            [
             0.3,
             "#f1b6da"
            ],
            [
             0.4,
             "#fde0ef"
            ],
            [
             0.5,
             "#f7f7f7"
            ],
            [
             0.6,
             "#e6f5d0"
            ],
            [
             0.7,
             "#b8e186"
            ],
            [
             0.8,
             "#7fbc41"
            ],
            [
             0.9,
             "#4d9221"
            ],
            [
             1,
             "#276419"
            ]
           ],
           "sequential": [
            [
             0,
             "#0d0887"
            ],
            [
             0.1111111111111111,
             "#46039f"
            ],
            [
             0.2222222222222222,
             "#7201a8"
            ],
            [
             0.3333333333333333,
             "#9c179e"
            ],
            [
             0.4444444444444444,
             "#bd3786"
            ],
            [
             0.5555555555555556,
             "#d8576b"
            ],
            [
             0.6666666666666666,
             "#ed7953"
            ],
            [
             0.7777777777777778,
             "#fb9f3a"
            ],
            [
             0.8888888888888888,
             "#fdca26"
            ],
            [
             1,
             "#f0f921"
            ]
           ],
           "sequentialminus": [
            [
             0,
             "#0d0887"
            ],
            [
             0.1111111111111111,
             "#46039f"
            ],
            [
             0.2222222222222222,
             "#7201a8"
            ],
            [
             0.3333333333333333,
             "#9c179e"
            ],
            [
             0.4444444444444444,
             "#bd3786"
            ],
            [
             0.5555555555555556,
             "#d8576b"
            ],
            [
             0.6666666666666666,
             "#ed7953"
            ],
            [
             0.7777777777777778,
             "#fb9f3a"
            ],
            [
             0.8888888888888888,
             "#fdca26"
            ],
            [
             1,
             "#f0f921"
            ]
           ]
          },
          "colorway": [
           "#636efa",
           "#EF553B",
           "#00cc96",
           "#ab63fa",
           "#FFA15A",
           "#19d3f3",
           "#FF6692",
           "#B6E880",
           "#FF97FF",
           "#FECB52"
          ],
          "font": {
           "color": "#2a3f5f"
          },
          "geo": {
           "bgcolor": "white",
           "lakecolor": "white",
           "landcolor": "#E5ECF6",
           "showlakes": true,
           "showland": true,
           "subunitcolor": "white"
          },
          "hoverlabel": {
           "align": "left"
          },
          "hovermode": "closest",
          "mapbox": {
           "style": "light"
          },
          "paper_bgcolor": "white",
          "plot_bgcolor": "#E5ECF6",
          "polar": {
           "angularaxis": {
            "gridcolor": "white",
            "linecolor": "white",
            "ticks": ""
           },
           "bgcolor": "#E5ECF6",
           "radialaxis": {
            "gridcolor": "white",
            "linecolor": "white",
            "ticks": ""
           }
          },
          "scene": {
           "xaxis": {
            "backgroundcolor": "#E5ECF6",
            "gridcolor": "white",
            "gridwidth": 2,
            "linecolor": "white",
            "showbackground": true,
            "ticks": "",
            "zerolinecolor": "white"
           },
           "yaxis": {
            "backgroundcolor": "#E5ECF6",
            "gridcolor": "white",
            "gridwidth": 2,
            "linecolor": "white",
            "showbackground": true,
            "ticks": "",
            "zerolinecolor": "white"
           },
           "zaxis": {
            "backgroundcolor": "#E5ECF6",
            "gridcolor": "white",
            "gridwidth": 2,
            "linecolor": "white",
            "showbackground": true,
            "ticks": "",
            "zerolinecolor": "white"
           }
          },
          "shapedefaults": {
           "line": {
            "color": "#2a3f5f"
           }
          },
          "ternary": {
           "aaxis": {
            "gridcolor": "white",
            "linecolor": "white",
            "ticks": ""
           },
           "baxis": {
            "gridcolor": "white",
            "linecolor": "white",
            "ticks": ""
           },
           "bgcolor": "#E5ECF6",
           "caxis": {
            "gridcolor": "white",
            "linecolor": "white",
            "ticks": ""
           }
          },
          "title": {
           "x": 0.05
          },
          "xaxis": {
           "automargin": true,
           "gridcolor": "white",
           "linecolor": "white",
           "ticks": "",
           "title": {
            "standoff": 15
           },
           "zerolinecolor": "white",
           "zerolinewidth": 2
          },
          "yaxis": {
           "automargin": true,
           "gridcolor": "white",
           "linecolor": "white",
           "ticks": "",
           "title": {
            "standoff": 15
           },
           "zerolinecolor": "white",
           "zerolinewidth": 2
          }
         }
        },
        "title": {
         "text": "De invloed van de economie op de Happiness Score"
        },
        "xaxis": {
         "anchor": "y",
         "domain": [
          0,
          1
         ],
         "title": {
          "text": "Economy (GDP per Capita)"
         }
        },
        "yaxis": {
         "anchor": "x",
         "domain": [
          0,
          1
         ],
         "title": {
          "text": "Happiness Score"
         }
        }
       }
      },
      "text/html": [
       "<div>                            <div id=\"da8995c5-ce53-4ae1-be5c-11c04ea3c380\" class=\"plotly-graph-div\" style=\"height:525px; width:100%;\"></div>            <script type=\"text/javascript\">                require([\"plotly\"], function(Plotly) {                    window.PLOTLYENV=window.PLOTLYENV || {};                                    if (document.getElementById(\"da8995c5-ce53-4ae1-be5c-11c04ea3c380\")) {                    Plotly.newPlot(                        \"da8995c5-ce53-4ae1-be5c-11c04ea3c380\",                        [{\"hovertemplate\":\"Country=Afghanistan\\u003cbr\\u003eEconomy (GDP per Capita)=%{x}\\u003cbr\\u003eHappiness Score=%{y}\\u003cextra\\u003e\\u003c\\u002fextra\\u003e\",\"legendgroup\":\"Afghanistan\",\"marker\":{\"color\":\"#636efa\",\"symbol\":\"circle\"},\"mode\":\"markers\",\"name\":\"Afghanistan\",\"orientation\":\"v\",\"showlegend\":true,\"x\":[0.31982,0.38227,0.401477217674255,0.332,0.35],\"xaxis\":\"x\",\"y\":[3.575,3.36,3.79399991035461,3.632,3.203],\"yaxis\":\"y\",\"type\":\"scatter\"},{\"hovertemplate\":\"Country=Albania\\u003cbr\\u003eEconomy (GDP per Capita)=%{x}\\u003cbr\\u003eHappiness Score=%{y}\\u003cextra\\u003e\\u003c\\u002fextra\\u003e\",\"legendgroup\":\"Albania\",\"marker\":{\"color\":\"#EF553B\",\"symbol\":\"circle\"},\"mode\":\"markers\",\"name\":\"Albania\",\"orientation\":\"v\",\"showlegend\":true,\"x\":[0.87867,0.9553,0.996192753314972,0.916,0.947],\"xaxis\":\"x\",\"y\":[4.959,4.655,4.64400005340576,4.586,4.719],\"yaxis\":\"y\",\"type\":\"scatter\"},{\"hovertemplate\":\"Country=Algeria\\u003cbr\\u003eEconomy (GDP per Capita)=%{x}\\u003cbr\\u003eHappiness Score=%{y}\\u003cextra\\u003e\\u003c\\u002fextra\\u003e\",\"legendgroup\":\"Algeria\",\"marker\":{\"color\":\"#00cc96\",\"symbol\":\"circle\"},\"mode\":\"markers\",\"name\":\"Algeria\",\"orientation\":\"v\",\"showlegend\":true,\"x\":[0.93929,1.05266,1.09186446666718,0.979,1.002],\"xaxis\":\"x\",\"y\":[5.605,6.355,5.87200021743774,5.295,5.211],\"yaxis\":\"y\",\"type\":\"scatter\"},{\"hovertemplate\":\"Country=Angola\\u003cbr\\u003eEconomy (GDP per Capita)=%{x}\\u003cbr\\u003eHappiness Score=%{y}\\u003cextra\\u003e\\u003c\\u002fextra\\u003e\",\"legendgroup\":\"Angola\",\"marker\":{\"color\":\"#ab63fa\",\"symbol\":\"circle\"},\"mode\":\"markers\",\"name\":\"Angola\",\"orientation\":\"v\",\"showlegend\":true,\"x\":[0.75778,0.84731,0.858428180217743,0.73],\"xaxis\":\"x\",\"y\":[4.033,3.866,3.79500007629395,3.795],\"yaxis\":\"y\",\"type\":\"scatter\"},{\"hovertemplate\":\"Country=Argentina\\u003cbr\\u003eEconomy (GDP per Capita)=%{x}\\u003cbr\\u003eHappiness Score=%{y}\\u003cextra\\u003e\\u003c\\u002fextra\\u003e\",\"legendgroup\":\"Argentina\",\"marker\":{\"color\":\"#FFA15A\",\"symbol\":\"circle\"},\"mode\":\"markers\",\"name\":\"Argentina\",\"orientation\":\"v\",\"showlegend\":true,\"x\":[1.05351,1.15137,1.18529546260834,1.073,1.092],\"xaxis\":\"x\",\"y\":[6.574,6.65,6.59899997711182,6.388,6.086],\"yaxis\":\"y\",\"type\":\"scatter\"},{\"hovertemplate\":\"Country=Armenia\\u003cbr\\u003eEconomy (GDP per Capita)=%{x}\\u003cbr\\u003eHappiness Score=%{y}\\u003cextra\\u003e\\u003c\\u002fextra\\u003e\",\"legendgroup\":\"Armenia\",\"marker\":{\"color\":\"#19d3f3\",\"symbol\":\"circle\"},\"mode\":\"markers\",\"name\":\"Armenia\",\"orientation\":\"v\",\"showlegend\":true,\"x\":[0.76821,0.86086,0.900596737861633,0.816,0.85],\"xaxis\":\"x\",\"y\":[4.35,4.36,4.37599992752075,4.321,4.559],\"yaxis\":\"y\",\"type\":\"scatter\"},{\"hovertemplate\":\"Country=Australia\\u003cbr\\u003eEconomy (GDP per Capita)=%{x}\\u003cbr\\u003eHappiness Score=%{y}\\u003cextra\\u003e\\u003c\\u002fextra\\u003e\",\"legendgroup\":\"Australia\",\"marker\":{\"color\":\"#FF6692\",\"symbol\":\"circle\"},\"mode\":\"markers\",\"name\":\"Australia\",\"orientation\":\"v\",\"showlegend\":true,\"x\":[1.33358,1.44443,1.484414935112,1.34,1.372],\"xaxis\":\"x\",\"y\":[7.284,7.313,7.28399991989136,7.272,7.228],\"yaxis\":\"y\",\"type\":\"scatter\"},{\"hovertemplate\":\"Country=Austria\\u003cbr\\u003eEconomy (GDP per Capita)=%{x}\\u003cbr\\u003eHappiness Score=%{y}\\u003cextra\\u003e\\u003c\\u002fextra\\u003e\",\"legendgroup\":\"Austria\",\"marker\":{\"color\":\"#B6E880\",\"symbol\":\"circle\"},\"mode\":\"markers\",\"name\":\"Austria\",\"orientation\":\"v\",\"showlegend\":true,\"x\":[1.33723,1.45038,1.48709726333618,1.341,1.376],\"xaxis\":\"x\",\"y\":[7.2,7.119,7.00600004196167,7.139,7.246],\"yaxis\":\"y\",\"type\":\"scatter\"},{\"hovertemplate\":\"Country=Azerbaijan\\u003cbr\\u003eEconomy (GDP per Capita)=%{x}\\u003cbr\\u003eHappiness Score=%{y}\\u003cextra\\u003e\\u003c\\u002fextra\\u003e\",\"legendgroup\":\"Azerbaijan\",\"marker\":{\"color\":\"#FF97FF\",\"symbol\":\"circle\"},\"mode\":\"markers\",\"name\":\"Azerbaijan\",\"orientation\":\"v\",\"showlegend\":true,\"x\":[1.02389,1.12373,1.15360176563263,1.024,1.043],\"xaxis\":\"x\",\"y\":[5.212,5.291,5.23400020599365,5.201,5.208],\"yaxis\":\"y\",\"type\":\"scatter\"},{\"hovertemplate\":\"Country=Bahrain\\u003cbr\\u003eEconomy (GDP per Capita)=%{x}\\u003cbr\\u003eHappiness Score=%{y}\\u003cextra\\u003e\\u003c\\u002fextra\\u003e\",\"legendgroup\":\"Bahrain\",\"marker\":{\"color\":\"#FECB52\",\"symbol\":\"circle\"},\"mode\":\"markers\",\"name\":\"Bahrain\",\"orientation\":\"v\",\"showlegend\":true,\"x\":[1.32376,1.44024,1.48841226100922,1.338,1.362],\"xaxis\":\"x\",\"y\":[5.96,6.218,6.08699989318848,6.105,6.199],\"yaxis\":\"y\",\"type\":\"scatter\"},{\"hovertemplate\":\"Country=Bangladesh\\u003cbr\\u003eEconomy (GDP per Capita)=%{x}\\u003cbr\\u003eHappiness Score=%{y}\\u003cextra\\u003e\\u003c\\u002fextra\\u003e\",\"legendgroup\":\"Bangladesh\",\"marker\":{\"color\":\"#636efa\",\"symbol\":\"circle\"},\"mode\":\"markers\",\"name\":\"Bangladesh\",\"orientation\":\"v\",\"showlegend\":true,\"x\":[0.39753,0.54177,0.586682975292206,0.532,0.562],\"xaxis\":\"x\",\"y\":[4.694,4.643,4.60799980163574,4.5,4.456],\"yaxis\":\"y\",\"type\":\"scatter\"},{\"hovertemplate\":\"Country=Belarus\\u003cbr\\u003eEconomy (GDP per Capita)=%{x}\\u003cbr\\u003eHappiness Score=%{y}\\u003cextra\\u003e\\u003c\\u002fextra\\u003e\",\"legendgroup\":\"Belarus\",\"marker\":{\"color\":\"#EF553B\",\"symbol\":\"circle\"},\"mode\":\"markers\",\"name\":\"Belarus\",\"orientation\":\"v\",\"showlegend\":true,\"x\":[1.03192,1.13062,1.15655755996704,1.039,1.067],\"xaxis\":\"x\",\"y\":[5.813,5.802,5.56899976730347,5.483,5.323],\"yaxis\":\"y\",\"type\":\"scatter\"},{\"hovertemplate\":\"Country=Belgium\\u003cbr\\u003eEconomy (GDP per Capita)=%{x}\\u003cbr\\u003eHappiness Score=%{y}\\u003cextra\\u003e\\u003c\\u002fextra\\u003e\",\"legendgroup\":\"Belgium\",\"marker\":{\"color\":\"#00cc96\",\"symbol\":\"circle\"},\"mode\":\"markers\",\"name\":\"Belgium\",\"orientation\":\"v\",\"showlegend\":true,\"x\":[1.30782,1.42539,1.46378076076508,1.324,1.356],\"xaxis\":\"x\",\"y\":[6.937,6.929,6.89099979400635,6.927,6.923],\"yaxis\":\"y\",\"type\":\"scatter\"},{\"hovertemplate\":\"Country=Belize\\u003cbr\\u003eEconomy (GDP per Capita)=%{x}\\u003cbr\\u003eHappiness Score=%{y}\\u003cextra\\u003e\\u003c\\u002fextra\\u003e\",\"legendgroup\":\"Belize\",\"marker\":{\"color\":\"#ab63fa\",\"symbol\":\"circle\"},\"mode\":\"markers\",\"name\":\"Belize\",\"orientation\":\"v\",\"showlegend\":true,\"x\":[0.87616,0.907975316047668,0.807],\"xaxis\":\"x\",\"y\":[5.956,5.95599985122681,5.956],\"yaxis\":\"y\",\"type\":\"scatter\"},{\"hovertemplate\":\"Country=Benin\\u003cbr\\u003eEconomy (GDP per Capita)=%{x}\\u003cbr\\u003eHappiness Score=%{y}\\u003cextra\\u003e\\u003c\\u002fextra\\u003e\",\"legendgroup\":\"Benin\",\"marker\":{\"color\":\"#FFA15A\",\"symbol\":\"circle\"},\"mode\":\"markers\",\"name\":\"Benin\",\"orientation\":\"v\",\"showlegend\":true,\"x\":[0.28665,0.39499,0.431085407733917,0.378,0.393],\"xaxis\":\"x\",\"y\":[3.34,3.484,3.65700006484985,4.141,4.883],\"yaxis\":\"y\",\"type\":\"scatter\"},{\"hovertemplate\":\"Country=Bhutan\\u003cbr\\u003eEconomy (GDP per Capita)=%{x}\\u003cbr\\u003eHappiness Score=%{y}\\u003cextra\\u003e\\u003c\\u002fextra\\u003e\",\"legendgroup\":\"Bhutan\",\"marker\":{\"color\":\"#19d3f3\",\"symbol\":\"circle\"},\"mode\":\"markers\",\"name\":\"Bhutan\",\"orientation\":\"v\",\"showlegend\":true,\"x\":[0.77042,0.8527,0.885416388511658,0.796,0.813],\"xaxis\":\"x\",\"y\":[5.253,5.196,5.01100015640259,5.082,5.082],\"yaxis\":\"y\",\"type\":\"scatter\"},{\"hovertemplate\":\"Country=Bolivia\\u003cbr\\u003eEconomy (GDP per Capita)=%{x}\\u003cbr\\u003eHappiness Score=%{y}\\u003cextra\\u003e\\u003c\\u002fextra\\u003e\",\"legendgroup\":\"Bolivia\",\"marker\":{\"color\":\"#FF6692\",\"symbol\":\"circle\"},\"mode\":\"markers\",\"name\":\"Bolivia\",\"orientation\":\"v\",\"showlegend\":true,\"x\":[0.68133,0.79422,0.833756566047668,0.751,0.776],\"xaxis\":\"x\",\"y\":[5.89,5.822,5.82299995422363,5.752,5.779],\"yaxis\":\"y\",\"type\":\"scatter\"},{\"hovertemplate\":\"Country=Bosnia and Herzegovina\\u003cbr\\u003eEconomy (GDP per Capita)=%{x}\\u003cbr\\u003eHappiness Score=%{y}\\u003cextra\\u003e\\u003c\\u002fextra\\u003e\",\"legendgroup\":\"Bosnia and Herzegovina\",\"marker\":{\"color\":\"#B6E880\",\"symbol\":\"circle\"},\"mode\":\"markers\",\"name\":\"Bosnia and Herzegovina\",\"orientation\":\"v\",\"showlegend\":true,\"x\":[0.83223,0.93383,0.982409417629242,0.915,0.945],\"xaxis\":\"x\",\"y\":[4.949,5.163,5.18200016021729,5.129,5.386],\"yaxis\":\"y\",\"type\":\"scatter\"},{\"hovertemplate\":\"Country=Botswana\\u003cbr\\u003eEconomy (GDP per Capita)=%{x}\\u003cbr\\u003eHappiness Score=%{y}\\u003cextra\\u003e\\u003c\\u002fextra\\u003e\",\"legendgroup\":\"Botswana\",\"marker\":{\"color\":\"#FF97FF\",\"symbol\":\"circle\"},\"mode\":\"markers\",\"name\":\"Botswana\",\"orientation\":\"v\",\"showlegend\":true,\"x\":[0.99355,1.09426,1.12209415435791,1.017,1.041],\"xaxis\":\"x\",\"y\":[4.332,3.974,3.76600003242493,3.59,3.488],\"yaxis\":\"y\",\"type\":\"scatter\"},{\"hovertemplate\":\"Country=Brazil\\u003cbr\\u003eEconomy (GDP per Capita)=%{x}\\u003cbr\\u003eHappiness Score=%{y}\\u003cextra\\u003e\\u003c\\u002fextra\\u003e\",\"legendgroup\":\"Brazil\",\"marker\":{\"color\":\"#FECB52\",\"symbol\":\"circle\"},\"mode\":\"markers\",\"name\":\"Brazil\",\"orientation\":\"v\",\"showlegend\":true,\"x\":[0.98124,1.08754,1.10735321044922,0.986,1.004],\"xaxis\":\"x\",\"y\":[6.983,6.952,6.63500022888184,6.419,6.3],\"yaxis\":\"y\",\"type\":\"scatter\"},{\"hovertemplate\":\"Country=Bulgaria\\u003cbr\\u003eEconomy (GDP per Capita)=%{x}\\u003cbr\\u003eHappiness Score=%{y}\\u003cextra\\u003e\\u003c\\u002fextra\\u003e\",\"legendgroup\":\"Bulgaria\",\"marker\":{\"color\":\"#636efa\",\"symbol\":\"circle\"},\"mode\":\"markers\",\"name\":\"Bulgaria\",\"orientation\":\"v\",\"showlegend\":true,\"x\":[1.01216,1.11306,1.1614590883255,1.054,1.092],\"xaxis\":\"x\",\"y\":[4.218,4.217,4.71400022506714,4.933,5.011],\"yaxis\":\"y\",\"type\":\"scatter\"},{\"hovertemplate\":\"Country=Burkina Faso\\u003cbr\\u003eEconomy (GDP per Capita)=%{x}\\u003cbr\\u003eHappiness Score=%{y}\\u003cextra\\u003e\\u003c\\u002fextra\\u003e\",\"legendgroup\":\"Burkina Faso\",\"marker\":{\"color\":\"#EF553B\",\"symbol\":\"circle\"},\"mode\":\"markers\",\"name\":\"Burkina Faso\",\"orientation\":\"v\",\"showlegend\":true,\"x\":[0.25812,0.31995,0.3502277135849,0.314,0.331],\"xaxis\":\"x\",\"y\":[3.587,3.739,4.03200006484985,4.424,4.587],\"yaxis\":\"y\",\"type\":\"scatter\"},{\"hovertemplate\":\"Country=Burundi\\u003cbr\\u003eEconomy (GDP per Capita)=%{x}\\u003cbr\\u003eHappiness Score=%{y}\\u003cextra\\u003e\\u003c\\u002fextra\\u003e\",\"legendgroup\":\"Burundi\",\"marker\":{\"color\":\"#00cc96\",\"symbol\":\"circle\"},\"mode\":\"markers\",\"name\":\"Burundi\",\"orientation\":\"v\",\"showlegend\":true,\"x\":[0.0153,0.06831,0.091622568666935,0.091,0.046],\"xaxis\":\"x\",\"y\":[2.905,2.905,2.90499997138977,2.905,3.775],\"yaxis\":\"y\",\"type\":\"scatter\"},{\"hovertemplate\":\"Country=Cambodia\\u003cbr\\u003eEconomy (GDP per Capita)=%{x}\\u003cbr\\u003eHappiness Score=%{y}\\u003cextra\\u003e\\u003c\\u002fextra\\u003e\",\"legendgroup\":\"Cambodia\",\"marker\":{\"color\":\"#ab63fa\",\"symbol\":\"circle\"},\"mode\":\"markers\",\"name\":\"Cambodia\",\"orientation\":\"v\",\"showlegend\":true,\"x\":[0.46038,0.55604,0.601765096187592,0.549,0.574],\"xaxis\":\"x\",\"y\":[3.819,3.907,4.16800022125244,4.433,4.7],\"yaxis\":\"y\",\"type\":\"scatter\"},{\"hovertemplate\":\"Country=Cameroon\\u003cbr\\u003eEconomy (GDP per Capita)=%{x}\\u003cbr\\u003eHappiness Score=%{y}\\u003cextra\\u003e\\u003c\\u002fextra\\u003e\",\"legendgroup\":\"Cameroon\",\"marker\":{\"color\":\"#FFA15A\",\"symbol\":\"circle\"},\"mode\":\"markers\",\"name\":\"Cameroon\",\"orientation\":\"v\",\"showlegend\":true,\"x\":[0.4225,0.52497,0.564305365085602,0.535,0.549],\"xaxis\":\"x\",\"y\":[4.252,4.513,4.69500017166138,4.975,5.044],\"yaxis\":\"y\",\"type\":\"scatter\"},{\"hovertemplate\":\"Country=Canada\\u003cbr\\u003eEconomy (GDP per Capita)=%{x}\\u003cbr\\u003eHappiness Score=%{y}\\u003cextra\\u003e\\u003c\\u002fextra\\u003e\",\"legendgroup\":\"Canada\",\"marker\":{\"color\":\"#19d3f3\",\"symbol\":\"circle\"},\"mode\":\"markers\",\"name\":\"Canada\",\"orientation\":\"v\",\"showlegend\":true,\"x\":[1.32629,1.44015,1.47920441627502,1.33,1.365],\"xaxis\":\"x\",\"y\":[7.427,7.404,7.31599998474121,7.328,7.278],\"yaxis\":\"y\",\"type\":\"scatter\"},{\"hovertemplate\":\"Country=Central African Republic\\u003cbr\\u003eEconomy (GDP per Capita)=%{x}\\u003cbr\\u003eHappiness Score=%{y}\\u003cextra\\u003e\\u003c\\u002fextra\\u003e\",\"legendgroup\":\"Central African Republic\",\"marker\":{\"color\":\"#FF6692\",\"symbol\":\"circle\"},\"mode\":\"markers\",\"name\":\"Central African Republic\",\"orientation\":\"v\",\"showlegend\":true,\"x\":[0.0785,0.0,0.024,0.026],\"xaxis\":\"x\",\"y\":[3.678,2.69300007820129,3.083,3.083],\"yaxis\":\"y\",\"type\":\"scatter\"},{\"hovertemplate\":\"Country=Chad\\u003cbr\\u003eEconomy (GDP per Capita)=%{x}\\u003cbr\\u003eHappiness Score=%{y}\\u003cextra\\u003e\\u003c\\u002fextra\\u003e\",\"legendgroup\":\"Chad\",\"marker\":{\"color\":\"#B6E880\",\"symbol\":\"circle\"},\"mode\":\"markers\",\"name\":\"Chad\",\"orientation\":\"v\",\"showlegend\":true,\"x\":[0.34193,0.42214,0.438012987375259,0.358,0.35],\"xaxis\":\"x\",\"y\":[3.667,3.763,3.93600010871887,4.301,4.35],\"yaxis\":\"y\",\"type\":\"scatter\"},{\"hovertemplate\":\"Country=Chile\\u003cbr\\u003eEconomy (GDP per Capita)=%{x}\\u003cbr\\u003eHappiness Score=%{y}\\u003cextra\\u003e\\u003c\\u002fextra\\u003e\",\"legendgroup\":\"Chile\",\"marker\":{\"color\":\"#FF97FF\",\"symbol\":\"circle\"},\"mode\":\"markers\",\"name\":\"Chile\",\"orientation\":\"v\",\"showlegend\":true,\"x\":[1.10715,1.2167,1.25278460979462,1.131,1.159],\"xaxis\":\"x\",\"y\":[6.67,6.705,6.65199995040894,6.476,6.444],\"yaxis\":\"y\",\"type\":\"scatter\"},{\"hovertemplate\":\"Country=China\\u003cbr\\u003eEconomy (GDP per Capita)=%{x}\\u003cbr\\u003eHappiness Score=%{y}\\u003cextra\\u003e\\u003c\\u002fextra\\u003e\",\"legendgroup\":\"China\",\"marker\":{\"color\":\"#FECB52\",\"symbol\":\"circle\"},\"mode\":\"markers\",\"name\":\"China\",\"orientation\":\"v\",\"showlegend\":true,\"x\":[0.89012,1.0278,1.08116579055786,0.989,1.029],\"xaxis\":\"x\",\"y\":[5.14,5.245,5.27299976348877,5.246,5.191],\"yaxis\":\"y\",\"type\":\"scatter\"},{\"hovertemplate\":\"Country=Colombia\\u003cbr\\u003eEconomy (GDP per Capita)=%{x}\\u003cbr\\u003eHappiness Score=%{y}\\u003cextra\\u003e\\u003c\\u002fextra\\u003e\",\"legendgroup\":\"Colombia\",\"marker\":{\"color\":\"#636efa\",\"symbol\":\"circle\"},\"mode\":\"markers\",\"name\":\"Colombia\",\"orientation\":\"v\",\"showlegend\":true,\"x\":[0.91861,1.03032,1.07062232494354,0.96,0.985],\"xaxis\":\"x\",\"y\":[6.477,6.481,6.35699987411499,6.26,6.125],\"yaxis\":\"y\",\"type\":\"scatter\"},{\"hovertemplate\":\"Country=Comoros\\u003cbr\\u003eEconomy (GDP per Capita)=%{x}\\u003cbr\\u003eHappiness Score=%{y}\\u003cextra\\u003e\\u003c\\u002fextra\\u003e\",\"legendgroup\":\"Comoros\",\"marker\":{\"color\":\"#EF553B\",\"symbol\":\"circle\"},\"mode\":\"markers\",\"name\":\"Comoros\",\"orientation\":\"v\",\"showlegend\":true,\"x\":[0.23906,0.27509,0.274],\"xaxis\":\"x\",\"y\":[3.956,3.956,3.973],\"yaxis\":\"y\",\"type\":\"scatter\"},{\"hovertemplate\":\"Country=Congo (Brazzaville)\\u003cbr\\u003eEconomy (GDP per Capita)=%{x}\\u003cbr\\u003eHappiness Score=%{y}\\u003cextra\\u003e\\u003c\\u002fextra\\u003e\",\"legendgroup\":\"Congo (Brazzaville)\",\"marker\":{\"color\":\"#00cc96\",\"symbol\":\"circle\"},\"mode\":\"markers\",\"name\":\"Congo (Brazzaville)\",\"orientation\":\"v\",\"showlegend\":true,\"x\":[0.67866,0.77109,0.808964252471924,0.682,0.673],\"xaxis\":\"x\",\"y\":[3.989,4.236,4.29099988937378,4.559,4.812],\"yaxis\":\"y\",\"type\":\"scatter\"},{\"hovertemplate\":\"Country=Congo (Kinshasa)\\u003cbr\\u003eEconomy (GDP per Capita)=%{x}\\u003cbr\\u003eHappiness Score=%{y}\\u003cextra\\u003e\\u003c\\u002fextra\\u003e\",\"legendgroup\":\"Congo (Kinshasa)\",\"marker\":{\"color\":\"#ab63fa\",\"symbol\":\"circle\"},\"mode\":\"markers\",\"name\":\"Congo (Kinshasa)\",\"orientation\":\"v\",\"showlegend\":true,\"x\":[0.0,0.05661,0.0921023488044739,0.069,0.094],\"xaxis\":\"x\",\"y\":[4.517,4.272,4.28000020980835,4.245,4.418],\"yaxis\":\"y\",\"type\":\"scatter\"},{\"hovertemplate\":\"Country=Costa Rica\\u003cbr\\u003eEconomy (GDP per Capita)=%{x}\\u003cbr\\u003eHappiness Score=%{y}\\u003cextra\\u003e\\u003c\\u002fextra\\u003e\",\"legendgroup\":\"Costa Rica\",\"marker\":{\"color\":\"#FFA15A\",\"symbol\":\"circle\"},\"mode\":\"markers\",\"name\":\"Costa Rica\",\"orientation\":\"v\",\"showlegend\":true,\"x\":[0.95578,1.06879,1.10970628261566,1.01,1.034],\"xaxis\":\"x\",\"y\":[7.226,7.087,7.0789999961853,7.072,7.167],\"yaxis\":\"y\",\"type\":\"scatter\"},{\"hovertemplate\":\"Country=Croatia\\u003cbr\\u003eEconomy (GDP per Capita)=%{x}\\u003cbr\\u003eHappiness Score=%{y}\\u003cextra\\u003e\\u003c\\u002fextra\\u003e\",\"legendgroup\":\"Croatia\",\"marker\":{\"color\":\"#19d3f3\",\"symbol\":\"circle\"},\"mode\":\"markers\",\"name\":\"Croatia\",\"orientation\":\"v\",\"showlegend\":true,\"x\":[1.08254,1.18649,1.22255623340607,1.115,1.155],\"xaxis\":\"x\",\"y\":[5.759,5.488,5.29300022125244,5.321,5.432],\"yaxis\":\"y\",\"type\":\"scatter\"},{\"hovertemplate\":\"Country=Cyprus\\u003cbr\\u003eEconomy (GDP per Capita)=%{x}\\u003cbr\\u003eHappiness Score=%{y}\\u003cextra\\u003e\\u003c\\u002fextra\\u003e\",\"legendgroup\":\"Cyprus\",\"marker\":{\"color\":\"#FF6692\",\"symbol\":\"circle\"},\"mode\":\"markers\",\"name\":\"Cyprus\",\"orientation\":\"v\",\"showlegend\":true,\"x\":[1.20813,1.31857,1.35593807697296,1.229,1.263],\"xaxis\":\"x\",\"y\":[5.689,5.546,5.62099981307983,5.762,6.046],\"yaxis\":\"y\",\"type\":\"scatter\"},{\"hovertemplate\":\"Country=Czech Republic\\u003cbr\\u003eEconomy (GDP per Capita)=%{x}\\u003cbr\\u003eHappiness Score=%{y}\\u003cextra\\u003e\\u003c\\u002fextra\\u003e\",\"legendgroup\":\"Czech Republic\",\"marker\":{\"color\":\"#B6E880\",\"symbol\":\"circle\"},\"mode\":\"markers\",\"name\":\"Czech Republic\",\"orientation\":\"v\",\"showlegend\":true,\"x\":[1.17898,1.30915,1.35268235206604,1.233,1.269],\"xaxis\":\"x\",\"y\":[6.505,6.596,6.60900020599365,6.711,6.852],\"yaxis\":\"y\",\"type\":\"scatter\"},{\"hovertemplate\":\"Country=Denmark\\u003cbr\\u003eEconomy (GDP per Capita)=%{x}\\u003cbr\\u003eHappiness Score=%{y}\\u003cextra\\u003e\\u003c\\u002fextra\\u003e\",\"legendgroup\":\"Denmark\",\"marker\":{\"color\":\"#FF97FF\",\"symbol\":\"circle\"},\"mode\":\"markers\",\"name\":\"Denmark\",\"orientation\":\"v\",\"showlegend\":true,\"x\":[1.32548,1.44178,1.48238301277161,1.351,1.383],\"xaxis\":\"x\",\"y\":[7.527,7.526,7.52199983596802,7.555,7.6],\"yaxis\":\"y\",\"type\":\"scatter\"},{\"hovertemplate\":\"Country=Djibouti\\u003cbr\\u003eEconomy (GDP per Capita)=%{x}\\u003cbr\\u003eHappiness Score=%{y}\\u003cextra\\u003e\\u003c\\u002fextra\\u003e\",\"legendgroup\":\"Djibouti\",\"marker\":{\"color\":\"#FECB52\",\"symbol\":\"circle\"},\"mode\":\"markers\",\"name\":\"Djibouti\",\"orientation\":\"v\",\"showlegend\":true,\"x\":[0.44025],\"xaxis\":\"x\",\"y\":[4.369],\"yaxis\":\"y\",\"type\":\"scatter\"},{\"hovertemplate\":\"Country=Dominican Republic\\u003cbr\\u003eEconomy (GDP per Capita)=%{x}\\u003cbr\\u003eHappiness Score=%{y}\\u003cextra\\u003e\\u003c\\u002fextra\\u003e\",\"legendgroup\":\"Dominican Republic\",\"marker\":{\"color\":\"#636efa\",\"symbol\":\"circle\"},\"mode\":\"markers\",\"name\":\"Dominican Republic\",\"orientation\":\"v\",\"showlegend\":true,\"x\":[0.89537,1.02787,1.07937383651733,0.982,1.015],\"xaxis\":\"x\",\"y\":[4.885,5.155,5.23000001907349,5.302,5.425],\"yaxis\":\"y\",\"type\":\"scatter\"},{\"hovertemplate\":\"Country=Ecuador\\u003cbr\\u003eEconomy (GDP per Capita)=%{x}\\u003cbr\\u003eHappiness Score=%{y}\\u003cextra\\u003e\\u003c\\u002fextra\\u003e\",\"legendgroup\":\"Ecuador\",\"marker\":{\"color\":\"#EF553B\",\"symbol\":\"circle\"},\"mode\":\"markers\",\"name\":\"Ecuador\",\"orientation\":\"v\",\"showlegend\":true,\"x\":[0.86402,0.97306,1.00082039833069,0.889,0.912],\"xaxis\":\"x\",\"y\":[5.975,5.976,6.00799989700317,5.973,6.028],\"yaxis\":\"y\",\"type\":\"scatter\"},{\"hovertemplate\":\"Country=Egypt\\u003cbr\\u003eEconomy (GDP per Capita)=%{x}\\u003cbr\\u003eHappiness Score=%{y}\\u003cextra\\u003e\\u003c\\u002fextra\\u003e\",\"legendgroup\":\"Egypt\",\"marker\":{\"color\":\"#00cc96\",\"symbol\":\"circle\"},\"mode\":\"markers\",\"name\":\"Egypt\",\"orientation\":\"v\",\"showlegend\":true,\"x\":[0.8818,0.95395,0.989701807498932,0.885,0.913],\"xaxis\":\"x\",\"y\":[4.194,4.362,4.7350001335144,4.419,4.166],\"yaxis\":\"y\",\"type\":\"scatter\"},{\"hovertemplate\":\"Country=El Salvador\\u003cbr\\u003eEconomy (GDP per Capita)=%{x}\\u003cbr\\u003eHappiness Score=%{y}\\u003cextra\\u003e\\u003c\\u002fextra\\u003e\",\"legendgroup\":\"El Salvador\",\"marker\":{\"color\":\"#ab63fa\",\"symbol\":\"circle\"},\"mode\":\"markers\",\"name\":\"El Salvador\",\"orientation\":\"v\",\"showlegend\":true,\"x\":[0.76454,0.8737,0.909784495830536,0.806,0.794],\"xaxis\":\"x\",\"y\":[6.13,6.068,6.00299978256226,6.167,6.253],\"yaxis\":\"y\",\"type\":\"scatter\"},{\"hovertemplate\":\"Country=Estonia\\u003cbr\\u003eEconomy (GDP per Capita)=%{x}\\u003cbr\\u003eHappiness Score=%{y}\\u003cextra\\u003e\\u003c\\u002fextra\\u003e\",\"legendgroup\":\"Estonia\",\"marker\":{\"color\":\"#FFA15A\",\"symbol\":\"circle\"},\"mode\":\"markers\",\"name\":\"Estonia\",\"orientation\":\"v\",\"showlegend\":true,\"x\":[1.15174,1.27964,1.32087934017181,1.2,1.237],\"xaxis\":\"x\",\"y\":[5.429,5.517,5.61100006103516,5.739,5.893],\"yaxis\":\"y\",\"type\":\"scatter\"},{\"hovertemplate\":\"Country=Ethiopia\\u003cbr\\u003eEconomy (GDP per Capita)=%{x}\\u003cbr\\u003eHappiness Score=%{y}\\u003cextra\\u003e\\u003c\\u002fextra\\u003e\",\"legendgroup\":\"Ethiopia\",\"marker\":{\"color\":\"#19d3f3\",\"symbol\":\"circle\"},\"mode\":\"markers\",\"name\":\"Ethiopia\",\"orientation\":\"v\",\"showlegend\":true,\"x\":[0.19073,0.29283,0.339233845472336,0.308,0.336],\"xaxis\":\"x\",\"y\":[4.512,4.508,4.46000003814697,4.35,4.286],\"yaxis\":\"y\",\"type\":\"scatter\"},{\"hovertemplate\":\"Country=Finland\\u003cbr\\u003eEconomy (GDP per Capita)=%{x}\\u003cbr\\u003eHappiness Score=%{y}\\u003cextra\\u003e\\u003c\\u002fextra\\u003e\",\"legendgroup\":\"Finland\",\"marker\":{\"color\":\"#FF6692\",\"symbol\":\"circle\"},\"mode\":\"markers\",\"name\":\"Finland\",\"orientation\":\"v\",\"showlegend\":true,\"x\":[1.29025,1.40598,1.44357192516327,1.305,1.34],\"xaxis\":\"x\",\"y\":[7.406,7.413,7.4689998626709,7.632,7.769],\"yaxis\":\"y\",\"type\":\"scatter\"},{\"hovertemplate\":\"Country=France\\u003cbr\\u003eEconomy (GDP per Capita)=%{x}\\u003cbr\\u003eHappiness Score=%{y}\\u003cextra\\u003e\\u003c\\u002fextra\\u003e\",\"legendgroup\":\"France\",\"marker\":{\"color\":\"#B6E880\",\"symbol\":\"circle\"},\"mode\":\"markers\",\"name\":\"France\",\"orientation\":\"v\",\"showlegend\":true,\"x\":[1.27778,1.39488,1.43092346191406,1.293,1.324],\"xaxis\":\"x\",\"y\":[6.575,6.478,6.44199991226196,6.489,6.592],\"yaxis\":\"y\",\"type\":\"scatter\"},{\"hovertemplate\":\"Country=Gabon\\u003cbr\\u003eEconomy (GDP per Capita)=%{x}\\u003cbr\\u003eHappiness Score=%{y}\\u003cextra\\u003e\\u003c\\u002fextra\\u003e\",\"legendgroup\":\"Gabon\",\"marker\":{\"color\":\"#FF97FF\",\"symbol\":\"circle\"},\"mode\":\"markers\",\"name\":\"Gabon\",\"orientation\":\"v\",\"showlegend\":true,\"x\":[1.06024,1.15851,1.1982102394104,1.036,1.057],\"xaxis\":\"x\",\"y\":[3.896,4.121,4.46500015258789,4.758,4.799],\"yaxis\":\"y\",\"type\":\"scatter\"},{\"hovertemplate\":\"Country=Gambia\\u003cbr\\u003eEconomy (GDP per Capita)=%{x}\\u003cbr\\u003eHappiness Score=%{y}\\u003cextra\\u003e\\u003c\\u002fextra\\u003e\",\"legendgroup\":\"Gambia\",\"marker\":{\"color\":\"#FECB52\",\"symbol\":\"circle\"},\"mode\":\"markers\",\"name\":\"Gambia\",\"orientation\":\"v\",\"showlegend\":true,\"x\":[0.308],\"xaxis\":\"x\",\"y\":[4.516],\"yaxis\":\"y\",\"type\":\"scatter\"},{\"hovertemplate\":\"Country=Georgia\\u003cbr\\u003eEconomy (GDP per Capita)=%{x}\\u003cbr\\u003eHappiness Score=%{y}\\u003cextra\\u003e\\u003c\\u002fextra\\u003e\",\"legendgroup\":\"Georgia\",\"marker\":{\"color\":\"#636efa\",\"symbol\":\"circle\"},\"mode\":\"markers\",\"name\":\"Georgia\",\"orientation\":\"v\",\"showlegend\":true,\"x\":[0.7419,0.83792,0.950612664222717,0.853,0.886],\"xaxis\":\"x\",\"y\":[4.297,4.252,4.28599977493286,4.34,4.519],\"yaxis\":\"y\",\"type\":\"scatter\"},{\"hovertemplate\":\"Country=Germany\\u003cbr\\u003eEconomy (GDP per Capita)=%{x}\\u003cbr\\u003eHappiness Score=%{y}\\u003cextra\\u003e\\u003c\\u002fextra\\u003e\",\"legendgroup\":\"Germany\",\"marker\":{\"color\":\"#EF553B\",\"symbol\":\"circle\"},\"mode\":\"markers\",\"name\":\"Germany\",\"orientation\":\"v\",\"showlegend\":true,\"x\":[1.32792,1.44787,1.48792338371277,1.34,1.373],\"xaxis\":\"x\",\"y\":[6.75,6.994,6.95100021362305,6.965,6.985],\"yaxis\":\"y\",\"type\":\"scatter\"},{\"hovertemplate\":\"Country=Ghana\\u003cbr\\u003eEconomy (GDP per Capita)=%{x}\\u003cbr\\u003eHappiness Score=%{y}\\u003cextra\\u003e\\u003c\\u002fextra\\u003e\",\"legendgroup\":\"Ghana\",\"marker\":{\"color\":\"#00cc96\",\"symbol\":\"circle\"},\"mode\":\"markers\",\"name\":\"Ghana\",\"orientation\":\"v\",\"showlegend\":true,\"x\":[0.54558,0.63107,0.667224824428558,0.592,0.611],\"xaxis\":\"x\",\"y\":[4.633,4.276,4.11999988555908,4.657,4.996],\"yaxis\":\"y\",\"type\":\"scatter\"},{\"hovertemplate\":\"Country=Greece\\u003cbr\\u003eEconomy (GDP per Capita)=%{x}\\u003cbr\\u003eHappiness Score=%{y}\\u003cextra\\u003e\\u003c\\u002fextra\\u003e\",\"legendgroup\":\"Greece\",\"marker\":{\"color\":\"#ab63fa\",\"symbol\":\"circle\"},\"mode\":\"markers\",\"name\":\"Greece\",\"orientation\":\"v\",\"showlegend\":true,\"x\":[1.15406,1.24886,1.28948748111725,1.154,1.181],\"xaxis\":\"x\",\"y\":[4.857,5.033,5.22700023651123,5.358,5.287],\"yaxis\":\"y\",\"type\":\"scatter\"},{\"hovertemplate\":\"Country=Guatemala\\u003cbr\\u003eEconomy (GDP per Capita)=%{x}\\u003cbr\\u003eHappiness Score=%{y}\\u003cextra\\u003e\\u003c\\u002fextra\\u003e\",\"legendgroup\":\"Guatemala\",\"marker\":{\"color\":\"#FFA15A\",\"symbol\":\"circle\"},\"mode\":\"markers\",\"name\":\"Guatemala\",\"orientation\":\"v\",\"showlegend\":true,\"x\":[0.74553,0.83454,0.872001945972443,0.781,0.8],\"xaxis\":\"x\",\"y\":[6.123,6.324,6.4539999961853,6.382,6.436],\"yaxis\":\"y\",\"type\":\"scatter\"},{\"hovertemplate\":\"Country=Guinea\\u003cbr\\u003eEconomy (GDP per Capita)=%{x}\\u003cbr\\u003eHappiness Score=%{y}\\u003cextra\\u003e\\u003c\\u002fextra\\u003e\",\"legendgroup\":\"Guinea\",\"marker\":{\"color\":\"#19d3f3\",\"symbol\":\"circle\"},\"mode\":\"markers\",\"name\":\"Guinea\",\"orientation\":\"v\",\"showlegend\":true,\"x\":[0.17417,0.22415,0.244549930095673,0.344,0.38],\"xaxis\":\"x\",\"y\":[3.656,3.607,3.50699996948242,3.964,4.534],\"yaxis\":\"y\",\"type\":\"scatter\"},{\"hovertemplate\":\"Country=Haiti\\u003cbr\\u003eEconomy (GDP per Capita)=%{x}\\u003cbr\\u003eHappiness Score=%{y}\\u003cextra\\u003e\\u003c\\u002fextra\\u003e\",\"legendgroup\":\"Haiti\",\"marker\":{\"color\":\"#FF6692\",\"symbol\":\"circle\"},\"mode\":\"markers\",\"name\":\"Haiti\",\"orientation\":\"v\",\"showlegend\":true,\"x\":[0.26673,0.34097,0.368610262870789,0.315,0.323],\"xaxis\":\"x\",\"y\":[4.518,4.028,3.6029999256134,3.582,3.597],\"yaxis\":\"y\",\"type\":\"scatter\"},{\"hovertemplate\":\"Country=Honduras\\u003cbr\\u003eEconomy (GDP per Capita)=%{x}\\u003cbr\\u003eHappiness Score=%{y}\\u003cextra\\u003e\\u003c\\u002fextra\\u003e\",\"legendgroup\":\"Honduras\",\"marker\":{\"color\":\"#B6E880\",\"symbol\":\"circle\"},\"mode\":\"markers\",\"name\":\"Honduras\",\"orientation\":\"v\",\"showlegend\":true,\"x\":[0.59532,0.69429,0.730573117733002,0.62,0.642],\"xaxis\":\"x\",\"y\":[4.788,4.871,5.18100023269653,5.504,5.86],\"yaxis\":\"y\",\"type\":\"scatter\"},{\"hovertemplate\":\"Country=Hong Kong\\u003cbr\\u003eEconomy (GDP per Capita)=%{x}\\u003cbr\\u003eHappiness Score=%{y}\\u003cextra\\u003e\\u003c\\u002fextra\\u003e\",\"legendgroup\":\"Hong Kong\",\"marker\":{\"color\":\"#FF97FF\",\"symbol\":\"circle\"},\"mode\":\"markers\",\"name\":\"Hong Kong\",\"orientation\":\"v\",\"showlegend\":true,\"x\":[1.38604,1.5107,1.405,1.438],\"xaxis\":\"x\",\"y\":[5.474,5.458,5.43,5.43],\"yaxis\":\"y\",\"type\":\"scatter\"},{\"hovertemplate\":\"Country=Hong Kong S.A.R., China\\u003cbr\\u003eEconomy (GDP per Capita)=%{x}\\u003cbr\\u003eHappiness Score=%{y}\\u003cextra\\u003e\\u003c\\u002fextra\\u003e\",\"legendgroup\":\"Hong Kong S.A.R., China\",\"marker\":{\"color\":\"#FECB52\",\"symbol\":\"circle\"},\"mode\":\"markers\",\"name\":\"Hong Kong S.A.R., China\",\"orientation\":\"v\",\"showlegend\":true,\"x\":[1.55167484283447],\"xaxis\":\"x\",\"y\":[5.47200012207031],\"yaxis\":\"y\",\"type\":\"scatter\"},{\"hovertemplate\":\"Country=Hungary\\u003cbr\\u003eEconomy (GDP per Capita)=%{x}\\u003cbr\\u003eHappiness Score=%{y}\\u003cextra\\u003e\\u003c\\u002fextra\\u003e\",\"legendgroup\":\"Hungary\",\"marker\":{\"color\":\"#636efa\",\"symbol\":\"circle\"},\"mode\":\"markers\",\"name\":\"Hungary\",\"orientation\":\"v\",\"showlegend\":true,\"x\":[1.12094,1.24142,1.2860119342804,1.171,1.201],\"xaxis\":\"x\",\"y\":[4.8,5.145,5.32399988174438,5.62,5.758],\"yaxis\":\"y\",\"type\":\"scatter\"},{\"hovertemplate\":\"Country=Iceland\\u003cbr\\u003eEconomy (GDP per Capita)=%{x}\\u003cbr\\u003eHappiness Score=%{y}\\u003cextra\\u003e\\u003c\\u002fextra\\u003e\",\"legendgroup\":\"Iceland\",\"marker\":{\"color\":\"#EF553B\",\"symbol\":\"circle\"},\"mode\":\"markers\",\"name\":\"Iceland\",\"orientation\":\"v\",\"showlegend\":true,\"x\":[1.30232,1.42666,1.480633020401,1.343,1.38],\"xaxis\":\"x\",\"y\":[7.561,7.501,7.50400018692017,7.495,7.494],\"yaxis\":\"y\",\"type\":\"scatter\"},{\"hovertemplate\":\"Country=India\\u003cbr\\u003eEconomy (GDP per Capita)=%{x}\\u003cbr\\u003eHappiness Score=%{y}\\u003cextra\\u003e\\u003c\\u002fextra\\u003e\",\"legendgroup\":\"India\",\"marker\":{\"color\":\"#00cc96\",\"symbol\":\"circle\"},\"mode\":\"markers\",\"name\":\"India\",\"orientation\":\"v\",\"showlegend\":true,\"x\":[0.64499,0.74036,0.792221248149872,0.721,0.755],\"xaxis\":\"x\",\"y\":[4.565,4.404,4.31500005722046,4.19,4.015],\"yaxis\":\"y\",\"type\":\"scatter\"},{\"hovertemplate\":\"Country=Indonesia\\u003cbr\\u003eEconomy (GDP per Capita)=%{x}\\u003cbr\\u003eHappiness Score=%{y}\\u003cextra\\u003e\\u003c\\u002fextra\\u003e\",\"legendgroup\":\"Indonesia\",\"marker\":{\"color\":\"#ab63fa\",\"symbol\":\"circle\"},\"mode\":\"markers\",\"name\":\"Indonesia\",\"orientation\":\"v\",\"showlegend\":true,\"x\":[0.82827,0.95104,0.995538592338562,0.899,0.931],\"xaxis\":\"x\",\"y\":[5.399,5.314,5.26200008392334,5.093,5.192],\"yaxis\":\"y\",\"type\":\"scatter\"},{\"hovertemplate\":\"Country=Iran\\u003cbr\\u003eEconomy (GDP per Capita)=%{x}\\u003cbr\\u003eHappiness Score=%{y}\\u003cextra\\u003e\\u003c\\u002fextra\\u003e\",\"legendgroup\":\"Iran\",\"marker\":{\"color\":\"#FFA15A\",\"symbol\":\"circle\"},\"mode\":\"markers\",\"name\":\"Iran\",\"orientation\":\"v\",\"showlegend\":true,\"x\":[1.0088,1.11758,1.15687310695648,1.059,1.1],\"xaxis\":\"x\",\"y\":[4.686,4.813,4.69199991226196,4.707,4.548],\"yaxis\":\"y\",\"type\":\"scatter\"},{\"hovertemplate\":\"Country=Iraq\\u003cbr\\u003eEconomy (GDP per Capita)=%{x}\\u003cbr\\u003eHappiness Score=%{y}\\u003cextra\\u003e\\u003c\\u002fextra\\u003e\",\"legendgroup\":\"Iraq\",\"marker\":{\"color\":\"#19d3f3\",\"symbol\":\"circle\"},\"mode\":\"markers\",\"name\":\"Iraq\",\"orientation\":\"v\",\"showlegend\":true,\"x\":[0.98549,1.07474,1.10271048545837,1.01,1.043],\"xaxis\":\"x\",\"y\":[4.677,4.575,4.49700021743774,4.456,4.437],\"yaxis\":\"y\",\"type\":\"scatter\"},{\"hovertemplate\":\"Country=Ireland\\u003cbr\\u003eEconomy (GDP per Capita)=%{x}\\u003cbr\\u003eHappiness Score=%{y}\\u003cextra\\u003e\\u003c\\u002fextra\\u003e\",\"legendgroup\":\"Ireland\",\"marker\":{\"color\":\"#FF6692\",\"symbol\":\"circle\"},\"mode\":\"markers\",\"name\":\"Ireland\",\"orientation\":\"v\",\"showlegend\":true,\"x\":[1.33596,1.48341,1.53570663928986,1.448,1.499],\"xaxis\":\"x\",\"y\":[6.94,6.907,6.97700023651123,6.977,7.021],\"yaxis\":\"y\",\"type\":\"scatter\"},{\"hovertemplate\":\"Country=Israel\\u003cbr\\u003eEconomy (GDP per Capita)=%{x}\\u003cbr\\u003eHappiness Score=%{y}\\u003cextra\\u003e\\u003c\\u002fextra\\u003e\",\"legendgroup\":\"Israel\",\"marker\":{\"color\":\"#B6E880\",\"symbol\":\"circle\"},\"mode\":\"markers\",\"name\":\"Israel\",\"orientation\":\"v\",\"showlegend\":true,\"x\":[1.22857,1.33766,1.37538242340088,1.301,1.276],\"xaxis\":\"x\",\"y\":[7.278,7.267,7.21299982070923,6.814,7.139],\"yaxis\":\"y\",\"type\":\"scatter\"},{\"hovertemplate\":\"Country=Italy\\u003cbr\\u003eEconomy (GDP per Capita)=%{x}\\u003cbr\\u003eHappiness Score=%{y}\\u003cextra\\u003e\\u003c\\u002fextra\\u003e\",\"legendgroup\":\"Italy\",\"marker\":{\"color\":\"#FF97FF\",\"symbol\":\"circle\"},\"mode\":\"markers\",\"name\":\"Italy\",\"orientation\":\"v\",\"showlegend\":true,\"x\":[1.25114,1.35495,1.39506661891937,1.264,1.294],\"xaxis\":\"x\",\"y\":[5.948,5.977,5.96400022506714,6.0,6.223],\"yaxis\":\"y\",\"type\":\"scatter\"},{\"hovertemplate\":\"Country=Ivory Coast\\u003cbr\\u003eEconomy (GDP per Capita)=%{x}\\u003cbr\\u003eHappiness Score=%{y}\\u003cextra\\u003e\\u003c\\u002fextra\\u003e\",\"legendgroup\":\"Ivory Coast\",\"marker\":{\"color\":\"#FECB52\",\"symbol\":\"circle\"},\"mode\":\"markers\",\"name\":\"Ivory Coast\",\"orientation\":\"v\",\"showlegend\":true,\"x\":[0.46534,0.55507,0.603048920631409,0.541,0.569],\"xaxis\":\"x\",\"y\":[3.655,3.916,4.17999982833862,4.671,4.944],\"yaxis\":\"y\",\"type\":\"scatter\"},{\"hovertemplate\":\"Country=Jamaica\\u003cbr\\u003eEconomy (GDP per Capita)=%{x}\\u003cbr\\u003eHappiness Score=%{y}\\u003cextra\\u003e\\u003c\\u002fextra\\u003e\",\"legendgroup\":\"Jamaica\",\"marker\":{\"color\":\"#636efa\",\"symbol\":\"circle\"},\"mode\":\"markers\",\"name\":\"Jamaica\",\"orientation\":\"v\",\"showlegend\":true,\"x\":[0.81038,0.89333,0.925579309463501,0.819,0.831],\"xaxis\":\"x\",\"y\":[5.709,5.51,5.31099987030029,5.89,5.89],\"yaxis\":\"y\",\"type\":\"scatter\"},{\"hovertemplate\":\"Country=Japan\\u003cbr\\u003eEconomy (GDP per Capita)=%{x}\\u003cbr\\u003eHappiness Score=%{y}\\u003cextra\\u003e\\u003c\\u002fextra\\u003e\",\"legendgroup\":\"Japan\",\"marker\":{\"color\":\"#EF553B\",\"symbol\":\"circle\"},\"mode\":\"markers\",\"name\":\"Japan\",\"orientation\":\"v\",\"showlegend\":true,\"x\":[1.27074,1.38007,1.41691517829895,1.294,1.327],\"xaxis\":\"x\",\"y\":[5.987,5.921,5.92000007629395,5.915,5.886],\"yaxis\":\"y\",\"type\":\"scatter\"},{\"hovertemplate\":\"Country=Jordan\\u003cbr\\u003eEconomy (GDP per Capita)=%{x}\\u003cbr\\u003eHappiness Score=%{y}\\u003cextra\\u003e\\u003c\\u002fextra\\u003e\",\"legendgroup\":\"Jordan\",\"marker\":{\"color\":\"#00cc96\",\"symbol\":\"circle\"},\"mode\":\"markers\",\"name\":\"Jordan\",\"orientation\":\"v\",\"showlegend\":true,\"x\":[0.90198,0.99673,0.991012394428253,0.822,0.837],\"xaxis\":\"x\",\"y\":[5.192,5.303,5.33599996566772,5.161,4.906],\"yaxis\":\"y\",\"type\":\"scatter\"},{\"hovertemplate\":\"Country=Kazakhstan\\u003cbr\\u003eEconomy (GDP per Capita)=%{x}\\u003cbr\\u003eHappiness Score=%{y}\\u003cextra\\u003e\\u003c\\u002fextra\\u003e\",\"legendgroup\":\"Kazakhstan\",\"marker\":{\"color\":\"#ab63fa\",\"symbol\":\"circle\"},\"mode\":\"markers\",\"name\":\"Kazakhstan\",\"orientation\":\"v\",\"showlegend\":true,\"x\":[1.12254,1.22943,1.28455626964569,1.143,1.173],\"xaxis\":\"x\",\"y\":[5.855,5.919,5.81899976730347,5.79,5.809],\"yaxis\":\"y\",\"type\":\"scatter\"},{\"hovertemplate\":\"Country=Kenya\\u003cbr\\u003eEconomy (GDP per Capita)=%{x}\\u003cbr\\u003eHappiness Score=%{y}\\u003cextra\\u003e\\u003c\\u002fextra\\u003e\",\"legendgroup\":\"Kenya\",\"marker\":{\"color\":\"#FFA15A\",\"symbol\":\"circle\"},\"mode\":\"markers\",\"name\":\"Kenya\",\"orientation\":\"v\",\"showlegend\":true,\"x\":[0.36471,0.52267,0.560479462146759,0.493,0.512],\"xaxis\":\"x\",\"y\":[4.419,4.356,4.55299997329712,4.41,4.509],\"yaxis\":\"y\",\"type\":\"scatter\"},{\"hovertemplate\":\"Country=Kosovo\\u003cbr\\u003eEconomy (GDP per Capita)=%{x}\\u003cbr\\u003eHappiness Score=%{y}\\u003cextra\\u003e\\u003c\\u002fextra\\u003e\",\"legendgroup\":\"Kosovo\",\"marker\":{\"color\":\"#19d3f3\",\"symbol\":\"circle\"},\"mode\":\"markers\",\"name\":\"Kosovo\",\"orientation\":\"v\",\"showlegend\":true,\"x\":[0.80148,0.90145,0.951484382152557,0.855,0.882],\"xaxis\":\"x\",\"y\":[5.589,5.401,5.27899980545044,5.662,6.1],\"yaxis\":\"y\",\"type\":\"scatter\"},{\"hovertemplate\":\"Country=Kuwait\\u003cbr\\u003eEconomy (GDP per Capita)=%{x}\\u003cbr\\u003eHappiness Score=%{y}\\u003cextra\\u003e\\u003c\\u002fextra\\u003e\",\"legendgroup\":\"Kuwait\",\"marker\":{\"color\":\"#FF6692\",\"symbol\":\"circle\"},\"mode\":\"markers\",\"name\":\"Kuwait\",\"orientation\":\"v\",\"showlegend\":true,\"x\":[1.55422,1.61714,1.63295245170593,1.474,1.5],\"xaxis\":\"x\",\"y\":[6.295,6.239,6.10500001907349,6.083,6.021],\"yaxis\":\"y\",\"type\":\"scatter\"},{\"hovertemplate\":\"Country=Kyrgyzstan\\u003cbr\\u003eEconomy (GDP per Capita)=%{x}\\u003cbr\\u003eHappiness Score=%{y}\\u003cextra\\u003e\\u003c\\u002fextra\\u003e\",\"legendgroup\":\"Kyrgyzstan\",\"marker\":{\"color\":\"#B6E880\",\"symbol\":\"circle\"},\"mode\":\"markers\",\"name\":\"Kyrgyzstan\",\"orientation\":\"v\",\"showlegend\":true,\"x\":[0.47428,0.56044,0.596220076084137,0.53,0.551],\"xaxis\":\"x\",\"y\":[5.286,5.185,5.00400018692017,5.131,5.261],\"yaxis\":\"y\",\"type\":\"scatter\"},{\"hovertemplate\":\"Country=Laos\\u003cbr\\u003eEconomy (GDP per Capita)=%{x}\\u003cbr\\u003eHappiness Score=%{y}\\u003cextra\\u003e\\u003c\\u002fextra\\u003e\",\"legendgroup\":\"Laos\",\"marker\":{\"color\":\"#FF97FF\",\"symbol\":\"circle\"},\"mode\":\"markers\",\"name\":\"Laos\",\"orientation\":\"v\",\"showlegend\":true,\"x\":[0.59066,0.68042,0.72,0.764],\"xaxis\":\"x\",\"y\":[4.876,4.876,4.623,4.796],\"yaxis\":\"y\",\"type\":\"scatter\"},{\"hovertemplate\":\"Country=Latvia\\u003cbr\\u003eEconomy (GDP per Capita)=%{x}\\u003cbr\\u003eHappiness Score=%{y}\\u003cextra\\u003e\\u003c\\u002fextra\\u003e\",\"legendgroup\":\"Latvia\",\"marker\":{\"color\":\"#FECB52\",\"symbol\":\"circle\"},\"mode\":\"markers\",\"name\":\"Latvia\",\"orientation\":\"v\",\"showlegend\":true,\"x\":[1.11312,1.21788,1.26074862480164,1.148,1.187],\"xaxis\":\"x\",\"y\":[5.098,5.56,5.84999990463257,5.933,5.94],\"yaxis\":\"y\",\"type\":\"scatter\"},{\"hovertemplate\":\"Country=Lebanon\\u003cbr\\u003eEconomy (GDP per Capita)=%{x}\\u003cbr\\u003eHappiness Score=%{y}\\u003cextra\\u003e\\u003c\\u002fextra\\u003e\",\"legendgroup\":\"Lebanon\",\"marker\":{\"color\":\"#636efa\",\"symbol\":\"circle\"},\"mode\":\"markers\",\"name\":\"Lebanon\",\"orientation\":\"v\",\"showlegend\":true,\"x\":[1.02564,1.12268,1.07498753070831,0.965,0.987],\"xaxis\":\"x\",\"y\":[4.839,5.129,5.22499990463257,5.358,5.197],\"yaxis\":\"y\",\"type\":\"scatter\"},{\"hovertemplate\":\"Country=Lesotho\\u003cbr\\u003eEconomy (GDP per Capita)=%{x}\\u003cbr\\u003eHappiness Score=%{y}\\u003cextra\\u003e\\u003c\\u002fextra\\u003e\",\"legendgroup\":\"Lesotho\",\"marker\":{\"color\":\"#EF553B\",\"symbol\":\"circle\"},\"mode\":\"markers\",\"name\":\"Lesotho\",\"orientation\":\"v\",\"showlegend\":true,\"x\":[0.37545,0.521021246910095,0.472,0.489],\"xaxis\":\"x\",\"y\":[4.898,3.80800008773804,3.808,3.802],\"yaxis\":\"y\",\"type\":\"scatter\"},{\"hovertemplate\":\"Country=Liberia\\u003cbr\\u003eEconomy (GDP per Capita)=%{x}\\u003cbr\\u003eHappiness Score=%{y}\\u003cextra\\u003e\\u003c\\u002fextra\\u003e\",\"legendgroup\":\"Liberia\",\"marker\":{\"color\":\"#00cc96\",\"symbol\":\"circle\"},\"mode\":\"markers\",\"name\":\"Liberia\",\"orientation\":\"v\",\"showlegend\":true,\"x\":[0.0712,0.10706,0.119041793048382,0.076,0.073],\"xaxis\":\"x\",\"y\":[4.571,3.622,3.53299999237061,3.495,3.975],\"yaxis\":\"y\",\"type\":\"scatter\"},{\"hovertemplate\":\"Country=Libya\\u003cbr\\u003eEconomy (GDP per Capita)=%{x}\\u003cbr\\u003eHappiness Score=%{y}\\u003cextra\\u003e\\u003c\\u002fextra\\u003e\",\"legendgroup\":\"Libya\",\"marker\":{\"color\":\"#ab63fa\",\"symbol\":\"circle\"},\"mode\":\"markers\",\"name\":\"Libya\",\"orientation\":\"v\",\"showlegend\":true,\"x\":[1.13145,1.06688,1.10180306434631,0.985,1.044],\"xaxis\":\"x\",\"y\":[5.754,5.615,5.52500009536743,5.566,5.525],\"yaxis\":\"y\",\"type\":\"scatter\"},{\"hovertemplate\":\"Country=Lithuania\\u003cbr\\u003eEconomy (GDP per Capita)=%{x}\\u003cbr\\u003eHappiness Score=%{y}\\u003cextra\\u003e\\u003c\\u002fextra\\u003e\",\"legendgroup\":\"Lithuania\",\"marker\":{\"color\":\"#FFA15A\",\"symbol\":\"circle\"},\"mode\":\"markers\",\"name\":\"Lithuania\",\"orientation\":\"v\",\"showlegend\":true,\"x\":[1.14723,1.2692,1.31458234786987,1.197,1.238],\"xaxis\":\"x\",\"y\":[5.833,5.813,5.90199995040894,5.952,6.149],\"yaxis\":\"y\",\"type\":\"scatter\"},{\"hovertemplate\":\"Country=Luxembourg\\u003cbr\\u003eEconomy (GDP per Capita)=%{x}\\u003cbr\\u003eHappiness Score=%{y}\\u003cextra\\u003e\\u003c\\u002fextra\\u003e\",\"legendgroup\":\"Luxembourg\",\"marker\":{\"color\":\"#19d3f3\",\"symbol\":\"circle\"},\"mode\":\"markers\",\"name\":\"Luxembourg\",\"orientation\":\"v\",\"showlegend\":true,\"x\":[1.56391,1.69752,1.74194359779358,1.576,1.609],\"xaxis\":\"x\",\"y\":[6.946,6.871,6.86299991607666,6.91,7.09],\"yaxis\":\"y\",\"type\":\"scatter\"},{\"hovertemplate\":\"Country=Macedonia\\u003cbr\\u003eEconomy (GDP per Capita)=%{x}\\u003cbr\\u003eHappiness Score=%{y}\\u003cextra\\u003e\\u003c\\u002fextra\\u003e\",\"legendgroup\":\"Macedonia\",\"marker\":{\"color\":\"#FF6692\",\"symbol\":\"circle\"},\"mode\":\"markers\",\"name\":\"Macedonia\",\"orientation\":\"v\",\"showlegend\":true,\"x\":[0.91851,1.0193,1.06457793712616,0.959],\"xaxis\":\"x\",\"y\":[5.007,5.121,5.17500019073486,5.185],\"yaxis\":\"y\",\"type\":\"scatter\"},{\"hovertemplate\":\"Country=Madagascar\\u003cbr\\u003eEconomy (GDP per Capita)=%{x}\\u003cbr\\u003eHappiness Score=%{y}\\u003cextra\\u003e\\u003c\\u002fextra\\u003e\",\"legendgroup\":\"Madagascar\",\"marker\":{\"color\":\"#B6E880\",\"symbol\":\"circle\"},\"mode\":\"markers\",\"name\":\"Madagascar\",\"orientation\":\"v\",\"showlegend\":true,\"x\":[0.20824,0.27954,0.305808693170547,0.262,0.274],\"xaxis\":\"x\",\"y\":[3.681,3.695,3.64400005340576,3.774,3.933],\"yaxis\":\"y\",\"type\":\"scatter\"},{\"hovertemplate\":\"Country=Malawi\\u003cbr\\u003eEconomy (GDP per Capita)=%{x}\\u003cbr\\u003eHappiness Score=%{y}\\u003cextra\\u003e\\u003c\\u002fextra\\u003e\",\"legendgroup\":\"Malawi\",\"marker\":{\"color\":\"#FF97FF\",\"symbol\":\"circle\"},\"mode\":\"markers\",\"name\":\"Malawi\",\"orientation\":\"v\",\"showlegend\":true,\"x\":[0.01604,0.08709,0.233442038297653,0.186,0.191],\"xaxis\":\"x\",\"y\":[4.292,4.156,3.97000002861023,3.587,3.41],\"yaxis\":\"y\",\"type\":\"scatter\"},{\"hovertemplate\":\"Country=Malaysia\\u003cbr\\u003eEconomy (GDP per Capita)=%{x}\\u003cbr\\u003eHappiness Score=%{y}\\u003cextra\\u003e\\u003c\\u002fextra\\u003e\",\"legendgroup\":\"Malaysia\",\"marker\":{\"color\":\"#FECB52\",\"symbol\":\"circle\"},\"mode\":\"markers\",\"name\":\"Malaysia\",\"orientation\":\"v\",\"showlegend\":true,\"x\":[1.12486,1.25142,1.29121541976929,1.161,1.221],\"xaxis\":\"x\",\"y\":[5.77,6.005,6.08400011062622,6.322,5.339],\"yaxis\":\"y\",\"type\":\"scatter\"},{\"hovertemplate\":\"Country=Mali\\u003cbr\\u003eEconomy (GDP per Capita)=%{x}\\u003cbr\\u003eHappiness Score=%{y}\\u003cextra\\u003e\\u003c\\u002fextra\\u003e\",\"legendgroup\":\"Mali\",\"marker\":{\"color\":\"#636efa\",\"symbol\":\"circle\"},\"mode\":\"markers\",\"name\":\"Mali\",\"orientation\":\"v\",\"showlegend\":true,\"x\":[0.26074,0.31292,0.476180493831635,0.37,0.385],\"xaxis\":\"x\",\"y\":[3.995,4.073,4.19000005722046,4.447,4.39],\"yaxis\":\"y\",\"type\":\"scatter\"},{\"hovertemplate\":\"Country=Malta\\u003cbr\\u003eEconomy (GDP per Capita)=%{x}\\u003cbr\\u003eHappiness Score=%{y}\\u003cextra\\u003e\\u003c\\u002fextra\\u003e\",\"legendgroup\":\"Malta\",\"marker\":{\"color\":\"#EF553B\",\"symbol\":\"circle\"},\"mode\":\"markers\",\"name\":\"Malta\",\"orientation\":\"v\",\"showlegend\":true,\"x\":[1.2074,1.30782,1.34327983856201,1.27,1.3],\"xaxis\":\"x\",\"y\":[6.302,6.488,6.52699995040894,6.627,6.726],\"yaxis\":\"y\",\"type\":\"scatter\"},{\"hovertemplate\":\"Country=Mauritania\\u003cbr\\u003eEconomy (GDP per Capita)=%{x}\\u003cbr\\u003eHappiness Score=%{y}\\u003cextra\\u003e\\u003c\\u002fextra\\u003e\",\"legendgroup\":\"Mauritania\",\"marker\":{\"color\":\"#00cc96\",\"symbol\":\"circle\"},\"mode\":\"markers\",\"name\":\"Mauritania\",\"orientation\":\"v\",\"showlegend\":true,\"x\":[0.45407,0.61391,0.648457288742065,0.557,0.57],\"xaxis\":\"x\",\"y\":[4.436,4.201,4.29199981689453,4.356,4.49],\"yaxis\":\"y\",\"type\":\"scatter\"},{\"hovertemplate\":\"Country=Mauritius\\u003cbr\\u003eEconomy (GDP per Capita)=%{x}\\u003cbr\\u003eHappiness Score=%{y}\\u003cextra\\u003e\\u003c\\u002fextra\\u003e\",\"legendgroup\":\"Mauritius\",\"marker\":{\"color\":\"#ab63fa\",\"symbol\":\"circle\"},\"mode\":\"markers\",\"name\":\"Mauritius\",\"orientation\":\"v\",\"showlegend\":true,\"x\":[1.00761,1.14372,1.18939554691315,1.09,1.12],\"xaxis\":\"x\",\"y\":[5.477,5.648,5.62900018692017,5.891,5.888],\"yaxis\":\"y\",\"type\":\"scatter\"},{\"hovertemplate\":\"Country=Mexico\\u003cbr\\u003eEconomy (GDP per Capita)=%{x}\\u003cbr\\u003eHappiness Score=%{y}\\u003cextra\\u003e\\u003c\\u002fextra\\u003e\",\"legendgroup\":\"Mexico\",\"marker\":{\"color\":\"#FFA15A\",\"symbol\":\"circle\"},\"mode\":\"markers\",\"name\":\"Mexico\",\"orientation\":\"v\",\"showlegend\":true,\"x\":[1.02054,1.11508,1.15318381786346,1.038,1.07],\"xaxis\":\"x\",\"y\":[7.187,6.778,6.57800006866455,6.488,6.595],\"yaxis\":\"y\",\"type\":\"scatter\"},{\"hovertemplate\":\"Country=Moldova\\u003cbr\\u003eEconomy (GDP per Capita)=%{x}\\u003cbr\\u003eHappiness Score=%{y}\\u003cextra\\u003e\\u003c\\u002fextra\\u003e\",\"legendgroup\":\"Moldova\",\"marker\":{\"color\":\"#19d3f3\",\"symbol\":\"circle\"},\"mode\":\"markers\",\"name\":\"Moldova\",\"orientation\":\"v\",\"showlegend\":true,\"x\":[0.59448,0.69177,0.728870630264282,0.657,0.685],\"xaxis\":\"x\",\"y\":[5.889,5.897,5.83799982070923,5.64,5.529],\"yaxis\":\"y\",\"type\":\"scatter\"},{\"hovertemplate\":\"Country=Mongolia\\u003cbr\\u003eEconomy (GDP per Capita)=%{x}\\u003cbr\\u003eHappiness Score=%{y}\\u003cextra\\u003e\\u003c\\u002fextra\\u003e\",\"legendgroup\":\"Mongolia\",\"marker\":{\"color\":\"#FF6692\",\"symbol\":\"circle\"},\"mode\":\"markers\",\"name\":\"Mongolia\",\"orientation\":\"v\",\"showlegend\":true,\"x\":[0.82819,0.98853,1.02723586559296,0.914,0.948],\"xaxis\":\"x\",\"y\":[4.874,4.907,4.95499992370605,5.125,5.285],\"yaxis\":\"y\",\"type\":\"scatter\"},{\"hovertemplate\":\"Country=Montenegro\\u003cbr\\u003eEconomy (GDP per Capita)=%{x}\\u003cbr\\u003eHappiness Score=%{y}\\u003cextra\\u003e\\u003c\\u002fextra\\u003e\",\"legendgroup\":\"Montenegro\",\"marker\":{\"color\":\"#B6E880\",\"symbol\":\"circle\"},\"mode\":\"markers\",\"name\":\"Montenegro\",\"orientation\":\"v\",\"showlegend\":true,\"x\":[0.97438,1.07838,1.12112903594971,1.017,1.051],\"xaxis\":\"x\",\"y\":[5.192,5.161,5.23699998855591,5.347,5.523],\"yaxis\":\"y\",\"type\":\"scatter\"},{\"hovertemplate\":\"Country=Morocco\\u003cbr\\u003eEconomy (GDP per Capita)=%{x}\\u003cbr\\u003eHappiness Score=%{y}\\u003cextra\\u003e\\u003c\\u002fextra\\u003e\",\"legendgroup\":\"Morocco\",\"marker\":{\"color\":\"#FF97FF\",\"symbol\":\"circle\"},\"mode\":\"markers\",\"name\":\"Morocco\",\"orientation\":\"v\",\"showlegend\":true,\"x\":[0.73479,0.84058,0.878114581108093,0.779,0.801],\"xaxis\":\"x\",\"y\":[5.013,5.151,5.2350001335144,5.254,5.208],\"yaxis\":\"y\",\"type\":\"scatter\"},{\"hovertemplate\":\"Country=Mozambique\\u003cbr\\u003eEconomy (GDP per Capita)=%{x}\\u003cbr\\u003eHappiness Score=%{y}\\u003cextra\\u003e\\u003c\\u002fextra\\u003e\",\"legendgroup\":\"Mozambique\",\"marker\":{\"color\":\"#FECB52\",\"symbol\":\"circle\"},\"mode\":\"markers\",\"name\":\"Mozambique\",\"orientation\":\"v\",\"showlegend\":true,\"x\":[0.08308,0.234305649995804,0.198,0.204],\"xaxis\":\"x\",\"y\":[4.971,4.55000019073486,4.417,4.466],\"yaxis\":\"y\",\"type\":\"scatter\"},{\"hovertemplate\":\"Country=Myanmar\\u003cbr\\u003eEconomy (GDP per Capita)=%{x}\\u003cbr\\u003eHappiness Score=%{y}\\u003cextra\\u003e\\u003c\\u002fextra\\u003e\",\"legendgroup\":\"Myanmar\",\"marker\":{\"color\":\"#636efa\",\"symbol\":\"circle\"},\"mode\":\"markers\",\"name\":\"Myanmar\",\"orientation\":\"v\",\"showlegend\":true,\"x\":[0.27108,0.34112,0.367110550403595,0.682,0.71],\"xaxis\":\"x\",\"y\":[4.307,4.395,4.54500007629395,4.308,4.36],\"yaxis\":\"y\",\"type\":\"scatter\"},{\"hovertemplate\":\"Country=Namibia\\u003cbr\\u003eEconomy (GDP per Capita)=%{x}\\u003cbr\\u003eHappiness Score=%{y}\\u003cextra\\u003e\\u003c\\u002fextra\\u003e\",\"legendgroup\":\"Namibia\",\"marker\":{\"color\":\"#EF553B\",\"symbol\":\"circle\"},\"mode\":\"markers\",\"name\":\"Namibia\",\"orientation\":\"v\",\"showlegend\":true,\"x\":[0.93287,0.964434325695038,0.874,0.879],\"xaxis\":\"x\",\"y\":[4.574,4.57399988174438,4.441,4.639],\"yaxis\":\"y\",\"type\":\"scatter\"},{\"hovertemplate\":\"Country=Nepal\\u003cbr\\u003eEconomy (GDP per Capita)=%{x}\\u003cbr\\u003eHappiness Score=%{y}\\u003cextra\\u003e\\u003c\\u002fextra\\u003e\",\"legendgroup\":\"Nepal\",\"marker\":{\"color\":\"#00cc96\",\"symbol\":\"circle\"},\"mode\":\"markers\",\"name\":\"Nepal\",\"orientation\":\"v\",\"showlegend\":true,\"x\":[0.35997,0.44626,0.479820191860199,0.425,0.446],\"xaxis\":\"x\",\"y\":[4.514,4.793,4.96199989318848,4.88,4.913],\"yaxis\":\"y\",\"type\":\"scatter\"},{\"hovertemplate\":\"Country=Netherlands\\u003cbr\\u003eEconomy (GDP per Capita)=%{x}\\u003cbr\\u003eHappiness Score=%{y}\\u003cextra\\u003e\\u003c\\u002fextra\\u003e\",\"legendgroup\":\"Netherlands\",\"marker\":{\"color\":\"#ab63fa\",\"symbol\":\"circle\"},\"mode\":\"markers\",\"name\":\"Netherlands\",\"orientation\":\"v\",\"showlegend\":true,\"x\":[1.32944,1.46468,1.50394463539124,1.361,1.396],\"xaxis\":\"x\",\"y\":[7.378,7.339,7.3769998550415,7.441,7.488],\"yaxis\":\"y\",\"type\":\"scatter\"},{\"hovertemplate\":\"Country=New Zealand\\u003cbr\\u003eEconomy (GDP per Capita)=%{x}\\u003cbr\\u003eHappiness Score=%{y}\\u003cextra\\u003e\\u003c\\u002fextra\\u003e\",\"legendgroup\":\"New Zealand\",\"marker\":{\"color\":\"#FFA15A\",\"symbol\":\"circle\"},\"mode\":\"markers\",\"name\":\"New Zealand\",\"orientation\":\"v\",\"showlegend\":true,\"x\":[1.25018,1.36066,1.40570604801178,1.268,1.303],\"xaxis\":\"x\",\"y\":[7.286,7.334,7.31400012969971,7.324,7.307],\"yaxis\":\"y\",\"type\":\"scatter\"},{\"hovertemplate\":\"Country=Nicaragua\\u003cbr\\u003eEconomy (GDP per Capita)=%{x}\\u003cbr\\u003eHappiness Score=%{y}\\u003cextra\\u003e\\u003c\\u002fextra\\u003e\",\"legendgroup\":\"Nicaragua\",\"marker\":{\"color\":\"#19d3f3\",\"symbol\":\"circle\"},\"mode\":\"markers\",\"name\":\"Nicaragua\",\"orientation\":\"v\",\"showlegend\":true,\"x\":[0.59325,0.69384,0.737299203872681,0.668,0.694],\"xaxis\":\"x\",\"y\":[5.828,5.992,6.07100009918213,6.141,6.105],\"yaxis\":\"y\",\"type\":\"scatter\"},{\"hovertemplate\":\"Country=Niger\\u003cbr\\u003eEconomy (GDP per Capita)=%{x}\\u003cbr\\u003eHappiness Score=%{y}\\u003cextra\\u003e\\u003c\\u002fextra\\u003e\",\"legendgroup\":\"Niger\",\"marker\":{\"color\":\"#FF6692\",\"symbol\":\"circle\"},\"mode\":\"markers\",\"name\":\"Niger\",\"orientation\":\"v\",\"showlegend\":true,\"x\":[0.0694,0.1327,0.161925330758095,0.131,0.138],\"xaxis\":\"x\",\"y\":[3.845,3.856,4.02799987792969,4.166,4.628],\"yaxis\":\"y\",\"type\":\"scatter\"},{\"hovertemplate\":\"Country=Nigeria\\u003cbr\\u003eEconomy (GDP per Capita)=%{x}\\u003cbr\\u003eHappiness Score=%{y}\\u003cextra\\u003e\\u003c\\u002fextra\\u003e\",\"legendgroup\":\"Nigeria\",\"marker\":{\"color\":\"#B6E880\",\"symbol\":\"circle\"},\"mode\":\"markers\",\"name\":\"Nigeria\",\"orientation\":\"v\",\"showlegend\":true,\"x\":[0.65435,0.75216,0.783756256103516,0.689,0.696],\"xaxis\":\"x\",\"y\":[5.268,4.875,5.07399988174438,5.155,5.265],\"yaxis\":\"y\",\"type\":\"scatter\"},{\"hovertemplate\":\"Country=North Cyprus\\u003cbr\\u003eEconomy (GDP per Capita)=%{x}\\u003cbr\\u003eHappiness Score=%{y}\\u003cextra\\u003e\\u003c\\u002fextra\\u003e\",\"legendgroup\":\"North Cyprus\",\"marker\":{\"color\":\"#FF97FF\",\"symbol\":\"circle\"},\"mode\":\"markers\",\"name\":\"North Cyprus\",\"orientation\":\"v\",\"showlegend\":true,\"x\":[1.20806,1.31141,1.3469113111496],\"xaxis\":\"x\",\"y\":[5.695,5.771,5.80999994277954],\"yaxis\":\"y\",\"type\":\"scatter\"},{\"hovertemplate\":\"Country=North Macedonia\\u003cbr\\u003eEconomy (GDP per Capita)=%{x}\\u003cbr\\u003eHappiness Score=%{y}\\u003cextra\\u003e\\u003c\\u002fextra\\u003e\",\"legendgroup\":\"North Macedonia\",\"marker\":{\"color\":\"#FECB52\",\"symbol\":\"circle\"},\"mode\":\"markers\",\"name\":\"North Macedonia\",\"orientation\":\"v\",\"showlegend\":true,\"x\":[0.983],\"xaxis\":\"x\",\"y\":[5.274],\"yaxis\":\"y\",\"type\":\"scatter\"},{\"hovertemplate\":\"Country=Northern Cyprus\\u003cbr\\u003eEconomy (GDP per Capita)=%{x}\\u003cbr\\u003eHappiness Score=%{y}\\u003cextra\\u003e\\u003c\\u002fextra\\u003e\",\"legendgroup\":\"Northern Cyprus\",\"marker\":{\"color\":\"#636efa\",\"symbol\":\"circle\"},\"mode\":\"markers\",\"name\":\"Northern Cyprus\",\"orientation\":\"v\",\"showlegend\":true,\"x\":[1.229,1.263],\"xaxis\":\"x\",\"y\":[5.835,5.718],\"yaxis\":\"y\",\"type\":\"scatter\"},{\"hovertemplate\":\"Country=Norway\\u003cbr\\u003eEconomy (GDP per Capita)=%{x}\\u003cbr\\u003eHappiness Score=%{y}\\u003cextra\\u003e\\u003c\\u002fextra\\u003e\",\"legendgroup\":\"Norway\",\"marker\":{\"color\":\"#EF553B\",\"symbol\":\"circle\"},\"mode\":\"markers\",\"name\":\"Norway\",\"orientation\":\"v\",\"showlegend\":true,\"x\":[1.459,1.57744,1.61646318435669,1.456,1.488],\"xaxis\":\"x\",\"y\":[7.522,7.498,7.53700017929077,7.594,7.554],\"yaxis\":\"y\",\"type\":\"scatter\"},{\"hovertemplate\":\"Country=Oman\\u003cbr\\u003eEconomy (GDP per Capita)=%{x}\\u003cbr\\u003eHappiness Score=%{y}\\u003cextra\\u003e\\u003c\\u002fextra\\u003e\",\"legendgroup\":\"Oman\",\"marker\":{\"color\":\"#00cc96\",\"symbol\":\"circle\"},\"mode\":\"markers\",\"name\":\"Oman\",\"orientation\":\"v\",\"showlegend\":true,\"x\":[1.36011],\"xaxis\":\"x\",\"y\":[6.853],\"yaxis\":\"y\",\"type\":\"scatter\"},{\"hovertemplate\":\"Country=Pakistan\\u003cbr\\u003eEconomy (GDP per Capita)=%{x}\\u003cbr\\u003eHappiness Score=%{y}\\u003cextra\\u003e\\u003c\\u002fextra\\u003e\",\"legendgroup\":\"Pakistan\",\"marker\":{\"color\":\"#ab63fa\",\"symbol\":\"circle\"},\"mode\":\"markers\",\"name\":\"Pakistan\",\"orientation\":\"v\",\"showlegend\":true,\"x\":[0.59543,0.68816,0.72688353061676,0.652,0.677],\"xaxis\":\"x\",\"y\":[5.194,5.132,5.26900005340576,5.472,5.653],\"yaxis\":\"y\",\"type\":\"scatter\"},{\"hovertemplate\":\"Country=Palestinian Territories\\u003cbr\\u003eEconomy (GDP per Capita)=%{x}\\u003cbr\\u003eHappiness Score=%{y}\\u003cextra\\u003e\\u003c\\u002fextra\\u003e\",\"legendgroup\":\"Palestinian Territories\",\"marker\":{\"color\":\"#FFA15A\",\"symbol\":\"circle\"},\"mode\":\"markers\",\"name\":\"Palestinian Territories\",\"orientation\":\"v\",\"showlegend\":true,\"x\":[0.59867,0.67024,0.716249227523804,0.642,0.657],\"xaxis\":\"x\",\"y\":[4.715,4.754,4.77500009536743,4.743,4.696],\"yaxis\":\"y\",\"type\":\"scatter\"},{\"hovertemplate\":\"Country=Panama\\u003cbr\\u003eEconomy (GDP per Capita)=%{x}\\u003cbr\\u003eHappiness Score=%{y}\\u003cextra\\u003e\\u003c\\u002fextra\\u003e\",\"legendgroup\":\"Panama\",\"marker\":{\"color\":\"#19d3f3\",\"symbol\":\"circle\"},\"mode\":\"markers\",\"name\":\"Panama\",\"orientation\":\"v\",\"showlegend\":true,\"x\":[1.06353,1.18306,1.23374843597412,1.112,1.149],\"xaxis\":\"x\",\"y\":[6.786,6.701,6.4520001411438,6.43,6.321],\"yaxis\":\"y\",\"type\":\"scatter\"},{\"hovertemplate\":\"Country=Paraguay\\u003cbr\\u003eEconomy (GDP per Capita)=%{x}\\u003cbr\\u003eHappiness Score=%{y}\\u003cextra\\u003e\\u003c\\u002fextra\\u003e\",\"legendgroup\":\"Paraguay\",\"marker\":{\"color\":\"#FF6692\",\"symbol\":\"circle\"},\"mode\":\"markers\",\"name\":\"Paraguay\",\"orientation\":\"v\",\"showlegend\":true,\"x\":[0.75985,0.89373,0.932537317276001,0.835,0.855],\"xaxis\":\"x\",\"y\":[5.878,5.538,5.49300003051758,5.681,5.743],\"yaxis\":\"y\",\"type\":\"scatter\"},{\"hovertemplate\":\"Country=Peru\\u003cbr\\u003eEconomy (GDP per Capita)=%{x}\\u003cbr\\u003eHappiness Score=%{y}\\u003cextra\\u003e\\u003c\\u002fextra\\u003e\",\"legendgroup\":\"Peru\",\"marker\":{\"color\":\"#B6E880\",\"symbol\":\"circle\"},\"mode\":\"markers\",\"name\":\"Peru\",\"orientation\":\"v\",\"showlegend\":true,\"x\":[0.90019,0.99602,1.03522527217865,0.934,0.96],\"xaxis\":\"x\",\"y\":[5.824,5.743,5.71500015258789,5.663,5.697],\"yaxis\":\"y\",\"type\":\"scatter\"},{\"hovertemplate\":\"Country=Philippines\\u003cbr\\u003eEconomy (GDP per Capita)=%{x}\\u003cbr\\u003eHappiness Score=%{y}\\u003cextra\\u003e\\u003c\\u002fextra\\u003e\",\"legendgroup\":\"Philippines\",\"marker\":{\"color\":\"#FF97FF\",\"symbol\":\"circle\"},\"mode\":\"markers\",\"name\":\"Philippines\",\"orientation\":\"v\",\"showlegend\":true,\"x\":[0.70532,0.81217,0.85769921541214,0.775,0.807],\"xaxis\":\"x\",\"y\":[5.073,5.279,5.42999982833862,5.524,5.631],\"yaxis\":\"y\",\"type\":\"scatter\"},{\"hovertemplate\":\"Country=Poland\\u003cbr\\u003eEconomy (GDP per Capita)=%{x}\\u003cbr\\u003eHappiness Score=%{y}\\u003cextra\\u003e\\u003c\\u002fextra\\u003e\",\"legendgroup\":\"Poland\",\"marker\":{\"color\":\"#FECB52\",\"symbol\":\"circle\"},\"mode\":\"markers\",\"name\":\"Poland\",\"orientation\":\"v\",\"showlegend\":true,\"x\":[1.12555,1.24585,1.29178786277771,1.176,1.206],\"xaxis\":\"x\",\"y\":[5.791,5.835,5.97300004959106,6.123,6.182],\"yaxis\":\"y\",\"type\":\"scatter\"},{\"hovertemplate\":\"Country=Portugal\\u003cbr\\u003eEconomy (GDP per Capita)=%{x}\\u003cbr\\u003eHappiness Score=%{y}\\u003cextra\\u003e\\u003c\\u002fextra\\u003e\",\"legendgroup\":\"Portugal\",\"marker\":{\"color\":\"#636efa\",\"symbol\":\"circle\"},\"mode\":\"markers\",\"name\":\"Portugal\",\"orientation\":\"v\",\"showlegend\":true,\"x\":[1.15991,1.27607,1.3151752948761,1.188,1.221],\"xaxis\":\"x\",\"y\":[5.102,5.123,5.19500017166138,5.41,5.693],\"yaxis\":\"y\",\"type\":\"scatter\"},{\"hovertemplate\":\"Country=Puerto Rico\\u003cbr\\u003eEconomy (GDP per Capita)=%{x}\\u003cbr\\u003eHappiness Score=%{y}\\u003cextra\\u003e\\u003c\\u002fextra\\u003e\",\"legendgroup\":\"Puerto Rico\",\"marker\":{\"color\":\"#EF553B\",\"symbol\":\"circle\"},\"mode\":\"markers\",\"name\":\"Puerto Rico\",\"orientation\":\"v\",\"showlegend\":true,\"x\":[1.35943],\"xaxis\":\"x\",\"y\":[7.039],\"yaxis\":\"y\",\"type\":\"scatter\"},{\"hovertemplate\":\"Country=Qatar\\u003cbr\\u003eEconomy (GDP per Capita)=%{x}\\u003cbr\\u003eHappiness Score=%{y}\\u003cextra\\u003e\\u003c\\u002fextra\\u003e\",\"legendgroup\":\"Qatar\",\"marker\":{\"color\":\"#00cc96\",\"symbol\":\"circle\"},\"mode\":\"markers\",\"name\":\"Qatar\",\"orientation\":\"v\",\"showlegend\":true,\"x\":[1.69042,1.82427,1.87076568603516,1.649,1.684],\"xaxis\":\"x\",\"y\":[6.611,6.375,6.375,6.374,6.374],\"yaxis\":\"y\",\"type\":\"scatter\"},{\"hovertemplate\":\"Country=Romania\\u003cbr\\u003eEconomy (GDP per Capita)=%{x}\\u003cbr\\u003eHappiness Score=%{y}\\u003cextra\\u003e\\u003c\\u002fextra\\u003e\",\"legendgroup\":\"Romania\",\"marker\":{\"color\":\"#ab63fa\",\"symbol\":\"circle\"},\"mode\":\"markers\",\"name\":\"Romania\",\"orientation\":\"v\",\"showlegend\":true,\"x\":[1.04345,1.1697,1.21768391132355,1.116,1.162],\"xaxis\":\"x\",\"y\":[5.124,5.528,5.82499980926514,5.945,6.07],\"yaxis\":\"y\",\"type\":\"scatter\"},{\"hovertemplate\":\"Country=Russia\\u003cbr\\u003eEconomy (GDP per Capita)=%{x}\\u003cbr\\u003eHappiness Score=%{y}\\u003cextra\\u003e\\u003c\\u002fextra\\u003e\",\"legendgroup\":\"Russia\",\"marker\":{\"color\":\"#FFA15A\",\"symbol\":\"circle\"},\"mode\":\"markers\",\"name\":\"Russia\",\"orientation\":\"v\",\"showlegend\":true,\"x\":[1.13764,1.23228,1.28177809715271,1.151,1.183],\"xaxis\":\"x\",\"y\":[5.716,5.856,5.96299982070923,5.81,5.648],\"yaxis\":\"y\",\"type\":\"scatter\"},{\"hovertemplate\":\"Country=Rwanda\\u003cbr\\u003eEconomy (GDP per Capita)=%{x}\\u003cbr\\u003eHappiness Score=%{y}\\u003cextra\\u003e\\u003c\\u002fextra\\u003e\",\"legendgroup\":\"Rwanda\",\"marker\":{\"color\":\"#19d3f3\",\"symbol\":\"circle\"},\"mode\":\"markers\",\"name\":\"Rwanda\",\"orientation\":\"v\",\"showlegend\":true,\"x\":[0.22208,0.32846,0.368745893239975,0.332,0.359],\"xaxis\":\"x\",\"y\":[3.465,3.515,3.47099995613098,3.408,3.334],\"yaxis\":\"y\",\"type\":\"scatter\"},{\"hovertemplate\":\"Country=Saudi Arabia\\u003cbr\\u003eEconomy (GDP per Capita)=%{x}\\u003cbr\\u003eHappiness Score=%{y}\\u003cextra\\u003e\\u003c\\u002fextra\\u003e\",\"legendgroup\":\"Saudi Arabia\",\"marker\":{\"color\":\"#FF6692\",\"symbol\":\"circle\"},\"mode\":\"markers\",\"name\":\"Saudi Arabia\",\"orientation\":\"v\",\"showlegend\":true,\"x\":[1.39541,1.48953,1.53062355518341,1.379,1.403],\"xaxis\":\"x\",\"y\":[6.411,6.379,6.3439998626709,6.371,6.375],\"yaxis\":\"y\",\"type\":\"scatter\"},{\"hovertemplate\":\"Country=Senegal\\u003cbr\\u003eEconomy (GDP per Capita)=%{x}\\u003cbr\\u003eHappiness Score=%{y}\\u003cextra\\u003e\\u003c\\u002fextra\\u003e\",\"legendgroup\":\"Senegal\",\"marker\":{\"color\":\"#B6E880\",\"symbol\":\"circle\"},\"mode\":\"markers\",\"name\":\"Senegal\",\"orientation\":\"v\",\"showlegend\":true,\"x\":[0.36498,0.44314,0.479309022426605,0.429,0.45],\"xaxis\":\"x\",\"y\":[3.904,4.219,4.53499984741211,4.631,4.681],\"yaxis\":\"y\",\"type\":\"scatter\"},{\"hovertemplate\":\"Country=Serbia\\u003cbr\\u003eEconomy (GDP per Capita)=%{x}\\u003cbr\\u003eHappiness Score=%{y}\\u003cextra\\u003e\\u003c\\u002fextra\\u003e\",\"legendgroup\":\"Serbia\",\"marker\":{\"color\":\"#FF97FF\",\"symbol\":\"circle\"},\"mode\":\"markers\",\"name\":\"Serbia\",\"orientation\":\"v\",\"showlegend\":true,\"x\":[0.92053,1.03437,1.06931757926941,0.975,1.004],\"xaxis\":\"x\",\"y\":[5.123,5.177,5.39499998092651,5.398,5.603],\"yaxis\":\"y\",\"type\":\"scatter\"},{\"hovertemplate\":\"Country=Sierra Leone\\u003cbr\\u003eEconomy (GDP per Capita)=%{x}\\u003cbr\\u003eHappiness Score=%{y}\\u003cextra\\u003e\\u003c\\u002fextra\\u003e\",\"legendgroup\":\"Sierra Leone\",\"marker\":{\"color\":\"#FECB52\",\"symbol\":\"circle\"},\"mode\":\"markers\",\"name\":\"Sierra Leone\",\"orientation\":\"v\",\"showlegend\":true,\"x\":[0.33024,0.36485,0.36842092871666,0.256,0.268],\"xaxis\":\"x\",\"y\":[4.507,4.635,4.70900011062622,4.571,4.374],\"yaxis\":\"y\",\"type\":\"scatter\"},{\"hovertemplate\":\"Country=Singapore\\u003cbr\\u003eEconomy (GDP per Capita)=%{x}\\u003cbr\\u003eHappiness Score=%{y}\\u003cextra\\u003e\\u003c\\u002fextra\\u003e\",\"legendgroup\":\"Singapore\",\"marker\":{\"color\":\"#636efa\",\"symbol\":\"circle\"},\"mode\":\"markers\",\"name\":\"Singapore\",\"orientation\":\"v\",\"showlegend\":true,\"x\":[1.52186,1.64555,1.69227766990662,1.529,1.572],\"xaxis\":\"x\",\"y\":[6.798,6.739,6.57200002670288,6.343,6.262],\"yaxis\":\"y\",\"type\":\"scatter\"},{\"hovertemplate\":\"Country=Slovakia\\u003cbr\\u003eEconomy (GDP per Capita)=%{x}\\u003cbr\\u003eHappiness Score=%{y}\\u003cextra\\u003e\\u003c\\u002fextra\\u003e\",\"legendgroup\":\"Slovakia\",\"marker\":{\"color\":\"#EF553B\",\"symbol\":\"circle\"},\"mode\":\"markers\",\"name\":\"Slovakia\",\"orientation\":\"v\",\"showlegend\":true,\"x\":[1.16891,1.27973,1.32539355754852,1.21,1.246],\"xaxis\":\"x\",\"y\":[5.995,6.078,6.09800004959106,6.173,6.198],\"yaxis\":\"y\",\"type\":\"scatter\"},{\"hovertemplate\":\"Country=Slovenia\\u003cbr\\u003eEconomy (GDP per Capita)=%{x}\\u003cbr\\u003eHappiness Score=%{y}\\u003cextra\\u003e\\u003c\\u002fextra\\u003e\",\"legendgroup\":\"Slovenia\",\"marker\":{\"color\":\"#00cc96\",\"symbol\":\"circle\"},\"mode\":\"markers\",\"name\":\"Slovenia\",\"orientation\":\"v\",\"showlegend\":true,\"x\":[1.18498,1.29947,1.3412059545517,1.219,1.258],\"xaxis\":\"x\",\"y\":[5.848,5.768,5.75799989700317,5.948,6.118],\"yaxis\":\"y\",\"type\":\"scatter\"},{\"hovertemplate\":\"Country=Somalia\\u003cbr\\u003eEconomy (GDP per Capita)=%{x}\\u003cbr\\u003eHappiness Score=%{y}\\u003cextra\\u003e\\u003c\\u002fextra\\u003e\",\"legendgroup\":\"Somalia\",\"marker\":{\"color\":\"#ab63fa\",\"symbol\":\"circle\"},\"mode\":\"markers\",\"name\":\"Somalia\",\"orientation\":\"v\",\"showlegend\":true,\"x\":[0.0,0.0226431842893362,0.0,0.0],\"xaxis\":\"x\",\"y\":[5.44,5.15100002288818,4.982,4.668],\"yaxis\":\"y\",\"type\":\"scatter\"},{\"hovertemplate\":\"Country=Somaliland Region\\u003cbr\\u003eEconomy (GDP per Capita)=%{x}\\u003cbr\\u003eHappiness Score=%{y}\\u003cextra\\u003e\\u003c\\u002fextra\\u003e\",\"legendgroup\":\"Somaliland Region\",\"marker\":{\"color\":\"#FFA15A\",\"symbol\":\"circle\"},\"mode\":\"markers\",\"name\":\"Somaliland Region\",\"orientation\":\"v\",\"showlegend\":true,\"x\":[0.25558],\"xaxis\":\"x\",\"y\":[5.057],\"yaxis\":\"y\",\"type\":\"scatter\"},{\"hovertemplate\":\"Country=Somaliland region\\u003cbr\\u003eEconomy (GDP per Capita)=%{x}\\u003cbr\\u003eHappiness Score=%{y}\\u003cextra\\u003e\\u003c\\u002fextra\\u003e\",\"legendgroup\":\"Somaliland region\",\"marker\":{\"color\":\"#19d3f3\",\"symbol\":\"circle\"},\"mode\":\"markers\",\"name\":\"Somaliland region\",\"orientation\":\"v\",\"showlegend\":true,\"x\":[0.18847],\"xaxis\":\"x\",\"y\":[5.057],\"yaxis\":\"y\",\"type\":\"scatter\"},{\"hovertemplate\":\"Country=South Africa\\u003cbr\\u003eEconomy (GDP per Capita)=%{x}\\u003cbr\\u003eHappiness Score=%{y}\\u003cextra\\u003e\\u003c\\u002fextra\\u003e\",\"legendgroup\":\"South Africa\",\"marker\":{\"color\":\"#FF6692\",\"symbol\":\"circle\"},\"mode\":\"markers\",\"name\":\"South Africa\",\"orientation\":\"v\",\"showlegend\":true,\"x\":[0.92049,1.02416,1.05469870567322,0.94,0.96],\"xaxis\":\"x\",\"y\":[4.642,4.459,4.8289999961853,4.724,4.722],\"yaxis\":\"y\",\"type\":\"scatter\"},{\"hovertemplate\":\"Country=South Korea\\u003cbr\\u003eEconomy (GDP per Capita)=%{x}\\u003cbr\\u003eHappiness Score=%{y}\\u003cextra\\u003e\\u003c\\u002fextra\\u003e\",\"legendgroup\":\"South Korea\",\"marker\":{\"color\":\"#B6E880\",\"symbol\":\"circle\"},\"mode\":\"markers\",\"name\":\"South Korea\",\"orientation\":\"v\",\"showlegend\":true,\"x\":[1.24461,1.35948,1.40167844295502,1.266,1.301],\"xaxis\":\"x\",\"y\":[5.984,5.835,5.83799982070923,5.875,5.895],\"yaxis\":\"y\",\"type\":\"scatter\"},{\"hovertemplate\":\"Country=South Sudan\\u003cbr\\u003eEconomy (GDP per Capita)=%{x}\\u003cbr\\u003eHappiness Score=%{y}\\u003cextra\\u003e\\u003c\\u002fextra\\u003e\",\"legendgroup\":\"South Sudan\",\"marker\":{\"color\":\"#FF97FF\",\"symbol\":\"circle\"},\"mode\":\"markers\",\"name\":\"South Sudan\",\"orientation\":\"v\",\"showlegend\":true,\"x\":[0.39394,0.39724862575531,0.337,0.306],\"xaxis\":\"x\",\"y\":[3.832,3.59100008010864,3.254,2.853],\"yaxis\":\"y\",\"type\":\"scatter\"},{\"hovertemplate\":\"Country=Spain\\u003cbr\\u003eEconomy (GDP per Capita)=%{x}\\u003cbr\\u003eHappiness Score=%{y}\\u003cextra\\u003e\\u003c\\u002fextra\\u003e\",\"legendgroup\":\"Spain\",\"marker\":{\"color\":\"#FECB52\",\"symbol\":\"circle\"},\"mode\":\"markers\",\"name\":\"Spain\",\"orientation\":\"v\",\"showlegend\":true,\"x\":[1.23011,1.34253,1.38439786434174,1.251,1.286],\"xaxis\":\"x\",\"y\":[6.329,6.361,6.40299987792969,6.31,6.354],\"yaxis\":\"y\",\"type\":\"scatter\"},{\"hovertemplate\":\"Country=Sri Lanka\\u003cbr\\u003eEconomy (GDP per Capita)=%{x}\\u003cbr\\u003eHappiness Score=%{y}\\u003cextra\\u003e\\u003c\\u002fextra\\u003e\",\"legendgroup\":\"Sri Lanka\",\"marker\":{\"color\":\"#636efa\",\"symbol\":\"circle\"},\"mode\":\"markers\",\"name\":\"Sri Lanka\",\"orientation\":\"v\",\"showlegend\":true,\"x\":[0.83524,0.97318,1.00985014438629,0.918,0.949],\"xaxis\":\"x\",\"y\":[4.271,4.415,4.44000005722046,4.471,4.366],\"yaxis\":\"y\",\"type\":\"scatter\"},{\"hovertemplate\":\"Country=Sudan\\u003cbr\\u003eEconomy (GDP per Capita)=%{x}\\u003cbr\\u003eHappiness Score=%{y}\\u003cextra\\u003e\\u003c\\u002fextra\\u003e\",\"legendgroup\":\"Sudan\",\"marker\":{\"color\":\"#EF553B\",\"symbol\":\"circle\"},\"mode\":\"markers\",\"name\":\"Sudan\",\"orientation\":\"v\",\"showlegend\":true,\"x\":[0.52107,0.63069,0.65951669216156,0.605],\"xaxis\":\"x\",\"y\":[4.55,4.139,4.13899993896484,4.139],\"yaxis\":\"y\",\"type\":\"scatter\"},{\"hovertemplate\":\"Country=Suriname\\u003cbr\\u003eEconomy (GDP per Capita)=%{x}\\u003cbr\\u003eHappiness Score=%{y}\\u003cextra\\u003e\\u003c\\u002fextra\\u003e\",\"legendgroup\":\"Suriname\",\"marker\":{\"color\":\"#00cc96\",\"symbol\":\"circle\"},\"mode\":\"markers\",\"name\":\"Suriname\",\"orientation\":\"v\",\"showlegend\":true,\"x\":[0.99534,1.09686],\"xaxis\":\"x\",\"y\":[6.269,6.269],\"yaxis\":\"y\",\"type\":\"scatter\"},{\"hovertemplate\":\"Country=Swaziland\\u003cbr\\u003eEconomy (GDP per Capita)=%{x}\\u003cbr\\u003eHappiness Score=%{y}\\u003cextra\\u003e\\u003c\\u002fextra\\u003e\",\"legendgroup\":\"Swaziland\",\"marker\":{\"color\":\"#ab63fa\",\"symbol\":\"circle\"},\"mode\":\"markers\",\"name\":\"Swaziland\",\"orientation\":\"v\",\"showlegend\":true,\"x\":[0.71206,0.811],\"xaxis\":\"x\",\"y\":[4.867,4.212],\"yaxis\":\"y\",\"type\":\"scatter\"},{\"hovertemplate\":\"Country=Sweden\\u003cbr\\u003eEconomy (GDP per Capita)=%{x}\\u003cbr\\u003eHappiness Score=%{y}\\u003cextra\\u003e\\u003c\\u002fextra\\u003e\",\"legendgroup\":\"Sweden\",\"marker\":{\"color\":\"#FFA15A\",\"symbol\":\"circle\"},\"mode\":\"markers\",\"name\":\"Sweden\",\"orientation\":\"v\",\"showlegend\":true,\"x\":[1.33171,1.45181,1.49438726902008,1.355,1.387],\"xaxis\":\"x\",\"y\":[7.364,7.291,7.28399991989136,7.314,7.343],\"yaxis\":\"y\",\"type\":\"scatter\"},{\"hovertemplate\":\"Country=Switzerland\\u003cbr\\u003eEconomy (GDP per Capita)=%{x}\\u003cbr\\u003eHappiness Score=%{y}\\u003cextra\\u003e\\u003c\\u002fextra\\u003e\",\"legendgroup\":\"Switzerland\",\"marker\":{\"color\":\"#19d3f3\",\"symbol\":\"circle\"},\"mode\":\"markers\",\"name\":\"Switzerland\",\"orientation\":\"v\",\"showlegend\":true,\"x\":[1.39651,1.52733,1.56497955322266,1.42,1.452],\"xaxis\":\"x\",\"y\":[7.587,7.509,7.49399995803833,7.487,7.48],\"yaxis\":\"y\",\"type\":\"scatter\"},{\"hovertemplate\":\"Country=Syria\\u003cbr\\u003eEconomy (GDP per Capita)=%{x}\\u003cbr\\u003eHappiness Score=%{y}\\u003cextra\\u003e\\u003c\\u002fextra\\u003e\",\"legendgroup\":\"Syria\",\"marker\":{\"color\":\"#FF6692\",\"symbol\":\"circle\"},\"mode\":\"markers\",\"name\":\"Syria\",\"orientation\":\"v\",\"showlegend\":true,\"x\":[0.6632,0.74719,0.777153134346008,0.689,0.619],\"xaxis\":\"x\",\"y\":[3.006,3.069,3.46199989318848,3.462,3.462],\"yaxis\":\"y\",\"type\":\"scatter\"},{\"hovertemplate\":\"Country=Taiwan\\u003cbr\\u003eEconomy (GDP per Capita)=%{x}\\u003cbr\\u003eHappiness Score=%{y}\\u003cextra\\u003e\\u003c\\u002fextra\\u003e\",\"legendgroup\":\"Taiwan\",\"marker\":{\"color\":\"#B6E880\",\"symbol\":\"circle\"},\"mode\":\"markers\",\"name\":\"Taiwan\",\"orientation\":\"v\",\"showlegend\":true,\"x\":[1.29098,1.39729,1.365,1.368],\"xaxis\":\"x\",\"y\":[6.298,6.379,6.441,6.446],\"yaxis\":\"y\",\"type\":\"scatter\"},{\"hovertemplate\":\"Country=Taiwan Province of China\\u003cbr\\u003eEconomy (GDP per Capita)=%{x}\\u003cbr\\u003eHappiness Score=%{y}\\u003cextra\\u003e\\u003c\\u002fextra\\u003e\",\"legendgroup\":\"Taiwan Province of China\",\"marker\":{\"color\":\"#FF97FF\",\"symbol\":\"circle\"},\"mode\":\"markers\",\"name\":\"Taiwan Province of China\",\"orientation\":\"v\",\"showlegend\":true,\"x\":[1.43362653255463],\"xaxis\":\"x\",\"y\":[6.42199993133545],\"yaxis\":\"y\",\"type\":\"scatter\"},{\"hovertemplate\":\"Country=Tajikistan\\u003cbr\\u003eEconomy (GDP per Capita)=%{x}\\u003cbr\\u003eHappiness Score=%{y}\\u003cextra\\u003e\\u003c\\u002fextra\\u003e\",\"legendgroup\":\"Tajikistan\",\"marker\":{\"color\":\"#FECB52\",\"symbol\":\"circle\"},\"mode\":\"markers\",\"name\":\"Tajikistan\",\"orientation\":\"v\",\"showlegend\":true,\"x\":[0.39047,0.48835,0.524713635444641,0.474,0.493],\"xaxis\":\"x\",\"y\":[4.786,4.996,5.04099988937378,5.199,5.467],\"yaxis\":\"y\",\"type\":\"scatter\"},{\"hovertemplate\":\"Country=Tanzania\\u003cbr\\u003eEconomy (GDP per Capita)=%{x}\\u003cbr\\u003eHappiness Score=%{y}\\u003cextra\\u003e\\u003c\\u002fextra\\u003e\",\"legendgroup\":\"Tanzania\",\"marker\":{\"color\":\"#636efa\",\"symbol\":\"circle\"},\"mode\":\"markers\",\"name\":\"Tanzania\",\"orientation\":\"v\",\"showlegend\":true,\"x\":[0.2852,0.47155,0.511135876178741,0.455,0.476],\"xaxis\":\"x\",\"y\":[3.781,3.666,3.34899997711182,3.303,3.231],\"yaxis\":\"y\",\"type\":\"scatter\"},{\"hovertemplate\":\"Country=Thailand\\u003cbr\\u003eEconomy (GDP per Capita)=%{x}\\u003cbr\\u003eHappiness Score=%{y}\\u003cextra\\u003e\\u003c\\u002fextra\\u003e\",\"legendgroup\":\"Thailand\",\"marker\":{\"color\":\"#EF553B\",\"symbol\":\"circle\"},\"mode\":\"markers\",\"name\":\"Thailand\",\"orientation\":\"v\",\"showlegend\":true,\"x\":[0.9669,1.0893,1.12786877155304,1.016,1.05],\"xaxis\":\"x\",\"y\":[6.455,6.474,6.42399978637695,6.072,6.008],\"yaxis\":\"y\",\"type\":\"scatter\"},{\"hovertemplate\":\"Country=Togo\\u003cbr\\u003eEconomy (GDP per Capita)=%{x}\\u003cbr\\u003eHappiness Score=%{y}\\u003cextra\\u003e\\u003c\\u002fextra\\u003e\",\"legendgroup\":\"Togo\",\"marker\":{\"color\":\"#00cc96\",\"symbol\":\"circle\"},\"mode\":\"markers\",\"name\":\"Togo\",\"orientation\":\"v\",\"showlegend\":true,\"x\":[0.20868,0.28123,0.305444717407227,0.259,0.275],\"xaxis\":\"x\",\"y\":[2.839,3.303,3.49499988555908,3.999,4.085],\"yaxis\":\"y\",\"type\":\"scatter\"},{\"hovertemplate\":\"Country=Trinidad & Tobago\\u003cbr\\u003eEconomy (GDP per Capita)=%{x}\\u003cbr\\u003eHappiness Score=%{y}\\u003cextra\\u003e\\u003c\\u002fextra\\u003e\",\"legendgroup\":\"Trinidad & Tobago\",\"marker\":{\"color\":\"#ab63fa\",\"symbol\":\"circle\"},\"mode\":\"markers\",\"name\":\"Trinidad & Tobago\",\"orientation\":\"v\",\"showlegend\":true,\"x\":[1.223,1.231],\"xaxis\":\"x\",\"y\":[6.192,6.192],\"yaxis\":\"y\",\"type\":\"scatter\"},{\"hovertemplate\":\"Country=Trinidad and Tobago\\u003cbr\\u003eEconomy (GDP per Capita)=%{x}\\u003cbr\\u003eHappiness Score=%{y}\\u003cextra\\u003e\\u003c\\u002fextra\\u003e\",\"legendgroup\":\"Trinidad and Tobago\",\"marker\":{\"color\":\"#FFA15A\",\"symbol\":\"circle\"},\"mode\":\"markers\",\"name\":\"Trinidad and Tobago\",\"orientation\":\"v\",\"showlegend\":true,\"x\":[1.21183,1.32572,1.36135590076447],\"xaxis\":\"x\",\"y\":[6.168,6.168,6.16800022125244],\"yaxis\":\"y\",\"type\":\"scatter\"},{\"hovertemplate\":\"Country=Tunisia\\u003cbr\\u003eEconomy (GDP per Capita)=%{x}\\u003cbr\\u003eHappiness Score=%{y}\\u003cextra\\u003e\\u003c\\u002fextra\\u003e\",\"legendgroup\":\"Tunisia\",\"marker\":{\"color\":\"#19d3f3\",\"symbol\":\"circle\"},\"mode\":\"markers\",\"name\":\"Tunisia\",\"orientation\":\"v\",\"showlegend\":true,\"x\":[0.88113,0.97724,1.00726580619812,0.9,0.921],\"xaxis\":\"x\",\"y\":[4.739,5.045,4.80499982833862,4.592,4.461],\"yaxis\":\"y\",\"type\":\"scatter\"},{\"hovertemplate\":\"Country=Turkey\\u003cbr\\u003eEconomy (GDP per Capita)=%{x}\\u003cbr\\u003eHappiness Score=%{y}\\u003cextra\\u003e\\u003c\\u002fextra\\u003e\",\"legendgroup\":\"Turkey\",\"marker\":{\"color\":\"#FF6692\",\"symbol\":\"circle\"},\"mode\":\"markers\",\"name\":\"Turkey\",\"orientation\":\"v\",\"showlegend\":true,\"x\":[1.06098,1.16492,1.19827437400818,1.148,1.183],\"xaxis\":\"x\",\"y\":[5.332,5.389,5.5,5.483,5.373],\"yaxis\":\"y\",\"type\":\"scatter\"},{\"hovertemplate\":\"Country=Turkmenistan\\u003cbr\\u003eEconomy (GDP per Capita)=%{x}\\u003cbr\\u003eHappiness Score=%{y}\\u003cextra\\u003e\\u003c\\u002fextra\\u003e\",\"legendgroup\":\"Turkmenistan\",\"marker\":{\"color\":\"#B6E880\",\"symbol\":\"circle\"},\"mode\":\"markers\",\"name\":\"Turkmenistan\",\"orientation\":\"v\",\"showlegend\":true,\"x\":[0.95847,1.08017,1.13077676296234,1.016,1.052],\"xaxis\":\"x\",\"y\":[5.548,5.658,5.82200002670288,5.636,5.247],\"yaxis\":\"y\",\"type\":\"scatter\"},{\"hovertemplate\":\"Country=Uganda\\u003cbr\\u003eEconomy (GDP per Capita)=%{x}\\u003cbr\\u003eHappiness Score=%{y}\\u003cextra\\u003e\\u003c\\u002fextra\\u003e\",\"legendgroup\":\"Uganda\",\"marker\":{\"color\":\"#FF97FF\",\"symbol\":\"circle\"},\"mode\":\"markers\",\"name\":\"Uganda\",\"orientation\":\"v\",\"showlegend\":true,\"x\":[0.21102,0.34719,0.381430715322495,0.322,0.332],\"xaxis\":\"x\",\"y\":[3.931,3.739,4.08099985122681,4.161,4.189],\"yaxis\":\"y\",\"type\":\"scatter\"},{\"hovertemplate\":\"Country=Ukraine\\u003cbr\\u003eEconomy (GDP per Capita)=%{x}\\u003cbr\\u003eHappiness Score=%{y}\\u003cextra\\u003e\\u003c\\u002fextra\\u003e\",\"legendgroup\":\"Ukraine\",\"marker\":{\"color\":\"#FECB52\",\"symbol\":\"circle\"},\"mode\":\"markers\",\"name\":\"Ukraine\",\"orientation\":\"v\",\"showlegend\":true,\"x\":[0.79907,0.87287,0.89465194940567,0.793,0.82],\"xaxis\":\"x\",\"y\":[4.681,4.324,4.09600019454956,4.103,4.332],\"yaxis\":\"y\",\"type\":\"scatter\"},{\"hovertemplate\":\"Country=United Arab Emirates\\u003cbr\\u003eEconomy (GDP per Capita)=%{x}\\u003cbr\\u003eHappiness Score=%{y}\\u003cextra\\u003e\\u003c\\u002fextra\\u003e\",\"legendgroup\":\"United Arab Emirates\",\"marker\":{\"color\":\"#636efa\",\"symbol\":\"circle\"},\"mode\":\"markers\",\"name\":\"United Arab Emirates\",\"orientation\":\"v\",\"showlegend\":true,\"x\":[1.42727,1.57352,1.62634336948395,2.096,1.503],\"xaxis\":\"x\",\"y\":[6.901,6.573,6.64799976348877,6.774,6.825],\"yaxis\":\"y\",\"type\":\"scatter\"},{\"hovertemplate\":\"Country=United Kingdom\\u003cbr\\u003eEconomy (GDP per Capita)=%{x}\\u003cbr\\u003eHappiness Score=%{y}\\u003cextra\\u003e\\u003c\\u002fextra\\u003e\",\"legendgroup\":\"United Kingdom\",\"marker\":{\"color\":\"#EF553B\",\"symbol\":\"circle\"},\"mode\":\"markers\",\"name\":\"United Kingdom\",\"orientation\":\"v\",\"showlegend\":true,\"x\":[1.26637,1.40283,1.44163393974304,1.244,1.333],\"xaxis\":\"x\",\"y\":[6.867,6.725,6.71400022506714,7.19,7.054],\"yaxis\":\"y\",\"type\":\"scatter\"},{\"hovertemplate\":\"Country=United States\\u003cbr\\u003eEconomy (GDP per Capita)=%{x}\\u003cbr\\u003eHappiness Score=%{y}\\u003cextra\\u003e\\u003c\\u002fextra\\u003e\",\"legendgroup\":\"United States\",\"marker\":{\"color\":\"#00cc96\",\"symbol\":\"circle\"},\"mode\":\"markers\",\"name\":\"United States\",\"orientation\":\"v\",\"showlegend\":true,\"x\":[1.39451,1.50796,1.54625928401947,1.398,1.433],\"xaxis\":\"x\",\"y\":[7.119,7.104,6.99300003051758,6.886,6.892],\"yaxis\":\"y\",\"type\":\"scatter\"},{\"hovertemplate\":\"Country=Uruguay\\u003cbr\\u003eEconomy (GDP per Capita)=%{x}\\u003cbr\\u003eHappiness Score=%{y}\\u003cextra\\u003e\\u003c\\u002fextra\\u003e\",\"legendgroup\":\"Uruguay\",\"marker\":{\"color\":\"#ab63fa\",\"symbol\":\"circle\"},\"mode\":\"markers\",\"name\":\"Uruguay\",\"orientation\":\"v\",\"showlegend\":true,\"x\":[1.06166,1.18157,1.21755969524384,1.093,1.124],\"xaxis\":\"x\",\"y\":[6.485,6.545,6.4539999961853,6.379,6.293],\"yaxis\":\"y\",\"type\":\"scatter\"},{\"hovertemplate\":\"Country=Uzbekistan\\u003cbr\\u003eEconomy (GDP per Capita)=%{x}\\u003cbr\\u003eHappiness Score=%{y}\\u003cextra\\u003e\\u003c\\u002fextra\\u003e\",\"legendgroup\":\"Uzbekistan\",\"marker\":{\"color\":\"#FFA15A\",\"symbol\":\"circle\"},\"mode\":\"markers\",\"name\":\"Uzbekistan\",\"orientation\":\"v\",\"showlegend\":true,\"x\":[0.63244,0.73591,0.786441087722778,0.719,0.745],\"xaxis\":\"x\",\"y\":[6.003,5.987,5.97100019454956,6.096,6.174],\"yaxis\":\"y\",\"type\":\"scatter\"},{\"hovertemplate\":\"Country=Venezuela\\u003cbr\\u003eEconomy (GDP per Capita)=%{x}\\u003cbr\\u003eHappiness Score=%{y}\\u003cextra\\u003e\\u003c\\u002fextra\\u003e\",\"legendgroup\":\"Venezuela\",\"marker\":{\"color\":\"#19d3f3\",\"symbol\":\"circle\"},\"mode\":\"markers\",\"name\":\"Venezuela\",\"orientation\":\"v\",\"showlegend\":true,\"x\":[1.04424,1.13367,1.12843120098114,0.996,0.96],\"xaxis\":\"x\",\"y\":[6.81,6.084,5.25,4.806,4.707],\"yaxis\":\"y\",\"type\":\"scatter\"},{\"hovertemplate\":\"Country=Vietnam\\u003cbr\\u003eEconomy (GDP per Capita)=%{x}\\u003cbr\\u003eHappiness Score=%{y}\\u003cextra\\u003e\\u003c\\u002fextra\\u003e\",\"legendgroup\":\"Vietnam\",\"marker\":{\"color\":\"#FF6692\",\"symbol\":\"circle\"},\"mode\":\"markers\",\"name\":\"Vietnam\",\"orientation\":\"v\",\"showlegend\":true,\"x\":[0.63216,0.74037,0.788547575473785,0.715,0.741],\"xaxis\":\"x\",\"y\":[5.36,5.061,5.07399988174438,5.103,5.175],\"yaxis\":\"y\",\"type\":\"scatter\"},{\"hovertemplate\":\"Country=Yemen\\u003cbr\\u003eEconomy (GDP per Capita)=%{x}\\u003cbr\\u003eHappiness Score=%{y}\\u003cextra\\u003e\\u003c\\u002fextra\\u003e\",\"legendgroup\":\"Yemen\",\"marker\":{\"color\":\"#B6E880\",\"symbol\":\"circle\"},\"mode\":\"markers\",\"name\":\"Yemen\",\"orientation\":\"v\",\"showlegend\":true,\"x\":[0.54649,0.57939,0.591683447360992,0.442,0.287],\"xaxis\":\"x\",\"y\":[4.077,3.724,3.59299993515015,3.355,3.38],\"yaxis\":\"y\",\"type\":\"scatter\"},{\"hovertemplate\":\"Country=Zambia\\u003cbr\\u003eEconomy (GDP per Capita)=%{x}\\u003cbr\\u003eHappiness Score=%{y}\\u003cextra\\u003e\\u003c\\u002fextra\\u003e\",\"legendgroup\":\"Zambia\",\"marker\":{\"color\":\"#FF97FF\",\"symbol\":\"circle\"},\"mode\":\"markers\",\"name\":\"Zambia\",\"orientation\":\"v\",\"showlegend\":true,\"x\":[0.47038,0.61202,0.636406779289246,0.562,0.578],\"xaxis\":\"x\",\"y\":[5.129,4.795,4.51399993896484,4.377,4.107],\"yaxis\":\"y\",\"type\":\"scatter\"},{\"hovertemplate\":\"Country=Zimbabwe\\u003cbr\\u003eEconomy (GDP per Capita)=%{x}\\u003cbr\\u003eHappiness Score=%{y}\\u003cextra\\u003e\\u003c\\u002fextra\\u003e\",\"legendgroup\":\"Zimbabwe\",\"marker\":{\"color\":\"#FECB52\",\"symbol\":\"circle\"},\"mode\":\"markers\",\"name\":\"Zimbabwe\",\"orientation\":\"v\",\"showlegend\":true,\"x\":[0.271,0.35041,0.375846534967422,0.357,0.366],\"xaxis\":\"x\",\"y\":[4.61,4.193,3.875,3.692,3.663],\"yaxis\":\"y\",\"type\":\"scatter\"},{\"hovertemplate\":\"\\u003cb\\u003eOLS trendline\\u003c\\u002fb\\u003e\\u003cbr\\u003eHappiness Score = 2.18462 * Economy (GDP per Capita) + 3.3778\\u003cbr\\u003eR\\u003csup\\u003e2\\u003c\\u002fsup\\u003e=0.622969\\u003cbr\\u003e\\u003cbr\\u003eEconomy (GDP per Capita)=%{x}\\u003cbr\\u003eHappiness Score=%{y} \\u003cb\\u003e(trend)\\u003c\\u002fb\\u003e\\u003cextra\\u003e\\u003c\\u002fextra\\u003e\",\"legendgroup\":\"Overall Trendline\",\"line\":{\"color\":\"black\"},\"mode\":\"lines\",\"name\":\"Overall Trendline\",\"showlegend\":true,\"x\":[0.0,0.0,0.0,0.0,0.0,0.0153,0.01604,0.0226431842893362,0.024,0.026,0.046,0.05661,0.06831,0.069,0.0694,0.0712,0.073,0.076,0.0785,0.08308,0.08709,0.091,0.091622568666935,0.0921023488044739,0.094,0.10706,0.119041793048382,0.131,0.1327,0.138,0.161925330758095,0.17417,0.186,0.18847,0.19073,0.191,0.198,0.204,0.20824,0.20868,0.21102,0.22208,0.22415,0.233442038297653,0.234305649995804,0.23906,0.244549930095673,0.25558,0.256,0.25812,0.259,0.26074,0.262,0.26673,0.268,0.271,0.27108,0.274,0.274,0.275,0.27509,0.27954,0.28123,0.2852,0.28665,0.287,0.29283,0.305444717407227,0.305808693170547,0.306,0.308,0.308,0.31292,0.314,0.315,0.31982,0.31995,0.322,0.323,0.32846,0.33024,0.331,0.332,0.332,0.332,0.336,0.337,0.339233845472336,0.34097,0.34112,0.34193,0.344,0.34719,0.35,0.35,0.3502277135849,0.35041,0.357,0.358,0.359,0.35997,0.36471,0.36485,0.36498,0.366,0.367110550403595,0.36842092871666,0.368610262870789,0.368745893239975,0.37,0.37545,0.375846534967422,0.378,0.38,0.381430715322495,0.38227,0.385,0.39047,0.393,0.39394,0.39499,0.39724862575531,0.39753,0.401477217674255,0.42214,0.4225,0.425,0.429,0.431085407733917,0.438012987375259,0.44025,0.442,0.44314,0.446,0.44626,0.45,0.45407,0.455,0.46038,0.46534,0.47038,0.47155,0.472,0.474,0.47428,0.476,0.476180493831635,0.479309022426605,0.479820191860199,0.48835,0.489,0.493,0.493,0.511135876178741,0.512,0.521021246910095,0.52107,0.52267,0.524713635444641,0.52497,0.53,0.532,0.535,0.541,0.54177,0.54558,0.54649,0.549,0.549,0.551,0.55507,0.55604,0.557,0.56044,0.560479462146759,0.562,0.562,0.564305365085602,0.569,0.57,0.574,0.578,0.57939,0.586682975292206,0.59066,0.591683447360992,0.592,0.59325,0.59448,0.59532,0.59543,0.596220076084137,0.59867,0.601765096187592,0.603048920631409,0.605,0.611,0.61202,0.61391,0.619,0.62,0.63069,0.63107,0.63216,0.63244,0.636406779289246,0.642,0.642,0.64499,0.648457288742065,0.652,0.65435,0.657,0.657,0.65951669216156,0.6632,0.667224824428558,0.668,0.67024,0.673,0.677,0.67866,0.68042,0.68133,0.682,0.682,0.685,0.68816,0.689,0.689,0.69177,0.69384,0.694,0.69429,0.696,0.70532,0.71,0.71206,0.715,0.716249227523804,0.719,0.72,0.721,0.72688353061676,0.728870630264282,0.73,0.730573117733002,0.73479,0.73591,0.737299203872681,0.74036,0.74037,0.741,0.7419,0.745,0.74553,0.74719,0.751,0.75216,0.755,0.75778,0.75985,0.764,0.76454,0.76821,0.77042,0.77109,0.775,0.776,0.777153134346008,0.779,0.781,0.783756256103516,0.786441087722778,0.788547575473785,0.792221248149872,0.793,0.794,0.79422,0.796,0.79907,0.8,0.801,0.80148,0.806,0.807,0.807,0.808964252471924,0.81038,0.811,0.81217,0.813,0.816,0.819,0.82,0.822,0.82819,0.82827,0.831,0.83223,0.833756566047668,0.83454,0.835,0.83524,0.837,0.83792,0.84058,0.84731,0.85,0.8527,0.853,0.855,0.855,0.85769921541214,0.858428180217743,0.86086,0.86402,0.872001945972443,0.87287,0.8737,0.874,0.87616,0.878114581108093,0.87867,0.879,0.88113,0.8818,0.882,0.885,0.885416388511658,0.886,0.889,0.89012,0.89333,0.89373,0.89465194940567,0.89537,0.899,0.9,0.90019,0.900596737861633,0.90145,0.90198,0.907975316047668,0.909784495830536,0.912,0.913,0.914,0.915,0.916,0.918,0.91851,0.91861,0.92049,0.92053,0.921,0.925579309463501,0.931,0.932537317276001,0.93287,0.93383,0.934,0.93929,0.94,0.945,0.947,0.948,0.949,0.950612664222717,0.95104,0.951484382152557,0.95395,0.9553,0.95578,0.95847,0.959,0.96,0.96,0.96,0.96,0.964434325695038,0.965,0.9669,0.97306,0.97318,0.97438,0.975,0.97724,0.979,0.98124,0.982,0.982409417629242,0.983,0.985,0.985,0.98549,0.986,0.987,0.98853,0.989,0.989701807498932,0.991012394428253,0.99355,0.99534,0.995538592338562,0.996,0.99602,0.996192753314972,0.99673,1.00082039833069,1.002,1.004,1.004,1.00726580619812,1.00761,1.0088,1.00985014438629,1.01,1.01,1.01216,1.015,1.016,1.016,1.017,1.017,1.0193,1.02054,1.02389,1.024,1.02416,1.02564,1.02723586559296,1.0278,1.02787,1.029,1.03032,1.03192,1.034,1.03437,1.03522527217865,1.036,1.038,1.039,1.041,1.043,1.043,1.04345,1.044,1.04424,1.05,1.051,1.052,1.05266,1.05351,1.054,1.05469870567322,1.057,1.059,1.06024,1.06098,1.06166,1.06353,1.06457793712616,1.06688,1.067,1.06879,1.06931757926941,1.07,1.07062232494354,1.073,1.07474,1.07498753070831,1.07838,1.07937383651733,1.08017,1.08116579055786,1.08254,1.08754,1.0893,1.09,1.09186446666718,1.092,1.092,1.093,1.09426,1.09686,1.1,1.10180306434631,1.10271048545837,1.10715,1.10735321044922,1.10970628261566,1.112,1.11306,1.11312,1.115,1.11508,1.116,1.11758,1.12,1.12094,1.12112903594971,1.12209415435791,1.12254,1.12268,1.12373,1.124,1.12486,1.12555,1.12786877155304,1.12843120098114,1.13062,1.13077676296234,1.131,1.13145,1.13367,1.13764,1.143,1.14372,1.14723,1.148,1.148,1.149,1.151,1.15137,1.15174,1.15318381786346,1.15360176563263,1.154,1.15406,1.155,1.15655755996704,1.15687310695648,1.15851,1.159,1.15991,1.161,1.1614590883255,1.162,1.16492,1.16891,1.1697,1.171,1.173,1.176,1.17898,1.181,1.18157,1.183,1.183,1.18306,1.18498,1.18529546260834,1.18649,1.187,1.188,1.18939554691315,1.197,1.1982102394104,1.19827437400818,1.2,1.201,1.206,1.2074,1.20806,1.20813,1.21,1.21183,1.2167,1.21755969524384,1.21768391132355,1.21788,1.219,1.221,1.221,1.22255623340607,1.223,1.22857,1.229,1.229,1.22943,1.23011,1.231,1.23228,1.233,1.23374843597412,1.237,1.238,1.24142,1.244,1.24461,1.24585,1.246,1.24886,1.25018,1.251,1.25114,1.25142,1.25278460979462,1.258,1.26074862480164,1.263,1.263,1.264,1.266,1.26637,1.268,1.269,1.2692,1.27,1.27074,1.276,1.27607,1.27778,1.27964,1.27973,1.28177809715271,1.28455626964569,1.286,1.2860119342804,1.28948748111725,1.29025,1.29098,1.29121541976929,1.29178786277771,1.293,1.294,1.294,1.29947,1.3,1.301,1.301,1.30232,1.303,1.305,1.30782,1.30782,1.30915,1.31141,1.31458234786987,1.3151752948761,1.31857,1.32087934017181,1.32376,1.324,1.324,1.32539355754852,1.32548,1.32572,1.32629,1.327,1.32792,1.32944,1.33,1.33171,1.333,1.33358,1.33596,1.33723,1.33766,1.338,1.34,1.34,1.34,1.341,1.3412059545517,1.34253,1.343,1.34327983856201,1.3469113111496,1.351,1.35268235206604,1.35495,1.355,1.35593807697296,1.356,1.35943,1.35948,1.36011,1.36066,1.361,1.36135590076447,1.362,1.365,1.365,1.368,1.372,1.373,1.37538242340088,1.376,1.379,1.38,1.38007,1.383,1.38439786434174,1.38604,1.387,1.39451,1.39488,1.39506661891937,1.39541,1.396,1.39651,1.39729,1.398,1.40167844295502,1.40283,1.403,1.405,1.40570604801178,1.40598,1.41691517829895,1.42,1.42539,1.42666,1.42727,1.43092346191406,1.433,1.43362653255463,1.438,1.44015,1.44024,1.44163393974304,1.44178,1.44357192516327,1.44443,1.44787,1.448,1.45038,1.45181,1.452,1.456,1.459,1.46378076076508,1.46468,1.474,1.47920441627502,1.480633020401,1.48238301277161,1.48341,1.484414935112,1.48709726333618,1.48792338371277,1.488,1.48841226100922,1.48953,1.49438726902008,1.499,1.5,1.503,1.50394463539124,1.50796,1.5107,1.52186,1.52733,1.529,1.53062355518341,1.53570663928986,1.54625928401947,1.55167484283447,1.55422,1.56391,1.56497955322266,1.572,1.57352,1.576,1.57744,1.609,1.61646318435669,1.61714,1.62634336948395,1.63295245170593,1.64555,1.649,1.684,1.69042,1.69227766990662,1.69752,1.74194359779358,1.82427,1.87076568603516,2.096],\"y\":[3.3778023791745504,3.3778023791745504,3.3778023791745504,3.3778023791745504,3.3778023791745504,3.4112270630473955,3.4128436817445134,3.427269129288644,3.430233255837837,3.4346024955597776,3.478294892779183,3.5014737095040775,3.5270337618774295,3.528541149581499,3.5294149975258873,3.533347313275634,3.53727962902538,3.543833488608291,3.5492950382607167,3.5593005972239604,3.5680609228664513,3.576602786522845,3.577962862397449,3.5790109996148156,3.583156646105756,3.6116877814900277,3.6378634445535583,3.6639875809616558,3.667701434725305,3.679279919988448,3.731547672742865,3.7582976203597425,3.7841416733150206,3.7895376843716173,3.7944749252574104,3.795064772619872,3.810357111646664,3.8234648308124854,3.8327276190229997,3.8336888517618264,3.838800862236497,3.862962757898828,3.8674849210110365,3.8877844924249856,3.8896711556929326,3.9000576031381033,3.9120510134604487,3.936147523241332,3.93706506358294,3.941696457688197,3.9436189231658503,3.947420161723939,3.950172782748761,3.960506034691151,3.963280501914583,3.969834361497494,3.970009131086371,3.9763882210804047,3.9763882210804047,3.978572840941375,3.978769456728862,3.98849101511018,3.9921830226752197,4.000855963523271,4.0040236623216785,4.0047882792730185,4.017524613062474,4.04508297525083,4.045878123932291,4.046296056631453,4.050665296353394,4.050665296353394,4.061413626069368,4.0637730155192155,4.065957635380186,4.076487503110062,4.0767715036919885,4.081249974406978,4.083434594267948,4.095362618708846,4.0992512420613725,4.10091155315571,4.10309617301668,4.10309617301668,4.10309617301668,4.111834652460561,4.114019272321531,4.118899375506736,4.122692213169584,4.123019906148729,4.124789448236115,4.1293116113483235,4.136280548704819,4.142419330514145,4.142419330514145,4.142916798134331,4.143315024657143,4.157711669540937,4.159896289401908,4.162080909262878,4.164199990528019,4.174555088669018,4.174860935449554,4.175144936031479,4.177373248289669,4.179799378757972,4.182662057246079,4.183075680399549,4.183371981197823,4.18611172773355,4.1980179059758385,4.198884184141238,4.203588686621313,4.207957926343253,4.21108349545217,4.2129170134276555,4.218881025648105,4.230830896287612,4.236357984535867,4.238411527205179,4.2407053780591975,4.245639616742746,4.246254312506062,4.254877482632812,4.30001780728454,4.30080427043449,4.3062658200869155,4.315004299530797,4.319560122684533,4.334694250757462,4.339581272966712,4.34340435772341,4.345894824364916,4.352142837167291,4.352710838331143,4.360881316611172,4.369772719445321,4.371804415916023,4.3835576707680435,4.394393385278456,4.405403869377746,4.407959874615082,4.408942953552518,4.413312193274459,4.41392388683553,4.4176814329964,4.418075743405772,4.424910389109956,4.426027100006907,4.444661488279382,4.4460814911890125,4.454819970632894,4.454819970632894,4.494439965929069,4.496327747991329,4.516035743161839,4.516142250130329,4.519637641907882,4.524102208488827,4.524662267588114,4.535650905488794,4.540020145210734,4.546574004793645,4.559681723959467,4.561363881252414,4.569687282922711,4.571675286996194,4.577158682847229,4.577158682847229,4.58152792256917,4.590419325403318,4.59253840666846,4.594635641734992,4.602150734056729,4.602236943846295,4.605558741039843,4.605558741039843,4.610595087392636,4.620851080066634,4.6230356999276045,4.631774179371486,4.640512658815367,4.643549280422116,4.659481659091035,4.668169946255251,4.670405789686731,4.67109733686895,4.673828111695164,4.676515194124157,4.6783502748073715,4.678590582992078,4.6803165988971625,4.685668751341622,4.692430359944649,4.695235028322611,4.699497395061564,4.712605114227386,4.714833426485575,4.718962358022809,4.730082073115148,4.732266692976118,4.75562027928989,4.756450434837059,4.758831670485517,4.7594433640465885,4.7681092688659605,4.780328329917464,4.780328329917464,4.786860343301765,4.7944350511514,4.802174528527167,4.807308385200447,4.813097627832018,4.813097627832018,4.8185956435121104,4.826642270970034,4.83543498235358,4.837128446302692,4.842021994791264,4.848051545607543,4.856790025051424,4.860416494020635,4.864261424975942,4.866249429049425,4.867713124356275,4.867713124356275,4.874266983939186,4.881170382699851,4.883005463383067,4.883005463383067,4.889056860397955,4.8935790235101635,4.893928562687918,4.894562102447599,4.898297802409859,4.918658459514102,4.928882480463443,4.933382797377042,4.939805579768294,4.942534667027667,4.948544059212175,4.950728679073145,4.952913298934115,4.965766576772117,4.970107634127819,4.972574877682848,4.973826922065038,4.983039206816896,4.985485981061182,4.988520863432378,4.9952075394425,4.995229385641109,4.996605696153521,4.998571854028395,5.005344175597402,5.006502024123717,5.010128493092927,5.018451894763224,5.020986053801949,5.027190374207105,5.0332636174206025,5.03778578053281,5.046851952955837,5.048031647680761,5.056049202570522,5.060877212463266,5.062340907770117,5.07088277142651,5.073067391287481,5.075586551482137,5.0796212508703915,5.083990490592332,5.0900118624179935,5.095877198896794,5.100479073874535,5.1085046521654185,5.110205928923975,5.112390548784946,5.112871165154359,5.1167597885068865,5.123466571480065,5.125498267950767,5.127682887811737,5.128731505345003,5.138605987116589,5.140790606977559,5.140790606977559,5.145081751939684,5.148174622107638,5.14952908642144,5.152085091658775,5.153898326143381,5.1604521857262915,5.167006045309202,5.169190665170172,5.173559904892112,5.187082701831519,5.187257471420397,5.193221483640845,5.195908566069839,5.1992435325766575,5.20095503794868,5.201959963084726,5.202484271851359,5.206329202806667,5.20833905307876,5.214150141908941,5.22885263357327,5.234729260999281,5.2406277346239,5.2412831205821915,5.245652360304132,5.245652360304132,5.2515491199025295,5.253141630894799,5.2584542326894175,5.265357631450083,5.282795149150674,5.28469151721967,5.2865047517042765,5.287160137662567,5.291878916562263,5.29614893327088,5.2973623124132985,5.298083236967418,5.302736477271285,5.304200172578135,5.304637096550329,5.31119095613324,5.3121006067456875,5.31337557599421,5.319929435577121,5.322376209821408,5.329388839575122,5.330262687519511,5.332276796501947,5.333845464091501,5.341775634186824,5.343960254047794,5.344375331821379,5.34526389943211,5.347127952846201,5.348285801372516,5.3613832878830445,5.365335657968764,5.370175692379437,5.372360312240407,5.374544932101378,5.376729551962348,5.378914171823318,5.383283411545259,5.384397567674354,5.384616029660451,5.388723114999075,5.388810499793514,5.38983727112817,5.399841321531663,5.411683469737873,5.415041923591637,5.415768708877887,5.417865943944419,5.4182373293207835,5.429793968385316,5.431345048486605,5.442268147791456,5.446637387513396,5.448822007374367,5.451006627235337,5.454529685525361,5.455463251751716,5.456434057828053,5.4618204955471406,5.46476973235945,5.465818349892716,5.471694977318726,5.47285282584504,5.47503744570601,5.47503744570601,5.47503744570601,5.47503744570601,5.484724761689401,5.485960545010862,5.490111322746705,5.503568581090282,5.503830735473599,5.506452279306763,5.507806743620565,5.5127002921091375,5.516545223064446,5.521438771553019,5.523099082647356,5.52399350453163,5.525283702508327,5.529652942230268,5.529652942230268,5.530723405962142,5.531837562091237,5.534022181952208,5.537364650339493,5.538391421674149,5.539924604274892,5.542787738510215,5.5483314420415635,5.5522419115926995,5.552675760359759,5.55368376070094,5.553727453098159,5.554104853421096,5.5552785331994485,5.564214498631953,5.566791479866762,5.571160719588702,5.571160719588702,5.578295264671194,5.579047197286805,5.581646894921359,5.583941061204535,5.584268438754524,5.584268438754524,5.5889872176542195,5.595191538059375,5.597376157920346,5.597376157920346,5.599560777781315,5.599560777781315,5.604585403461547,5.60729433208915,5.6146128086234,5.614853116808108,5.615202655985863,5.618435893380099,5.621922253049918,5.623154672279795,5.623307595670063,5.625776216112959,5.62865991432944,5.632155306106992,5.63669931541781,5.63750762476637,5.639376069354383,5.641068555139751,5.645437794861691,5.647622414722662,5.651991654444602,5.656360894166543,5.656360894166543,5.657343973103979,5.658545514027513,5.659069822794146,5.671653233193335,5.673837853054305,5.6760224729152755,5.677464322023516,5.679321248905341,5.680391712637215,5.681918118927905,5.686945572220127,5.691314811942068,5.694023740569671,5.695640359266788,5.697125900772248,5.701211139912262,5.703500484171119,5.708529616446513,5.708791770829829,5.712702240380966,5.713854800531156,5.71534563041274,5.716705173844375,5.721899489995651,5.72570072855374,5.7262414890553135,5.733652744847671,5.7358238998419875,5.737563214398808,5.739738638228875,5.742740763469307,5.753663862774158,5.757508793729466,5.759038027632146,5.763111178543384,5.763407267354086,5.763407267354086,5.765591887215056,5.768344508239879,5.7740245198784015,5.780884226241849,5.784823236423405,5.786805606607075,5.796504258247786,5.796948195831108,5.80208876402021,5.807099664573492,5.80941536162612,5.809546438817778,5.813653524156402,5.81382829374528,5.8158381440173725,5.819289843397705,5.824576623461254,5.826630166130566,5.8270431378207395,5.829151554663481,5.830125557908119,5.830431404688653,5.832725255542672,5.833315102905135,5.835193875985569,5.836701263689639,5.841766898077463,5.842995592576484,5.847777286384758,5.848119753865751,5.848607441931927,5.849590520869363,5.854440376960717,5.86311331780877,5.8748228802635705,5.876395806563469,5.884063822275474,5.885745979568421,5.885745979568421,5.887930599429391,5.892299839151332,5.893108148499891,5.89391645784845,5.897070651028589,5.897983708025965,5.898853698734243,5.898984775925902,5.901038318595213,5.904440995033861,5.905130345254061,5.908706334307219,5.909776798039094,5.911764802112577,5.914146037761035,5.915148971234862,5.916330657622005,5.922709747616038,5.931426380861309,5.933152230551476,5.935992236370737,5.9403614760926775,5.946915335675589,5.95342550286128,5.95783843498044,5.959083668301194,5.9622076747023804,5.9622076747023804,5.962338751894039,5.966533222027102,5.967222387906675,5.969831998017167,5.970946154146262,5.973130774007232,5.9761795135106155,5.992792352755965,5.995436265808453,5.995576375524539,5.9993462123388746,6.001530832199846,6.012453931504696,6.015512399310055,6.016954248418296,6.017107171808563,6.0211924109485775,6.025190265294153,6.035829364017078,6.037707471321153,6.03797883623594,6.038407215453024,6.040853989697311,6.045223229419252,6.045223229419252,6.048623007826457,6.049592469141192,6.061760801766796,6.062700188307014,6.062700188307014,6.0636395748472305,6.06512511635269,6.067069428028954,6.069865741450996,6.071438667750894,6.073073715844622,6.080177147194775,6.082361767055746,6.089833166980264,6.0954694862215675,6.096802104336759,6.099511032964362,6.099838725943508,6.1060867387458835,6.108970436962363,6.110761825248359,6.111067672028895,6.111679365589966,6.114660519249768,6.126054164275152,6.132058864607169,6.136977263580002,6.136977263580002,6.1391618834409725,6.143531123162913,6.144339432511472,6.147900362884854,6.150084982745824,6.150521906718018,6.152269602606794,6.153886221303912,6.165377321772616,6.165530245162884,6.169265945125143,6.173329338066548,6.1735259538540355,6.178000267571042,6.184069518376408,6.187223520382318,6.187249592248307,6.194842340895821,6.196508154791442,6.19810292728995,6.198617229993607,6.199867800359074,6.20251585940911,6.20470047927008,6.20470047927008,6.216650349909588,6.217808198435902,6.2199928182968724,6.2199928182968724,6.222876516513353,6.224362058018813,6.228731297740754,6.2348919257486894,6.2348919257486894,6.23779747016378,6.2427347110495734,6.249665085211998,6.250960449018311,6.25837658925412,6.2634216196591925,6.269714766332556,6.270239075099189,6.270239075099189,6.273283468597091,6.273472312493425,6.273996621260057,6.275241854580811,6.276792934682099,6.278802784954192,6.282123407142867,6.283346794265011,6.28708249422727,6.289900653847921,6.291167733367284,6.296367128636393,6.299141595859825,6.300080982400043,6.300823753152773,6.305192992874714,6.305192992874714,6.305192992874714,6.307377612735683,6.3078275451397845,6.310720081122968,6.311746852457624,6.312358193338056,6.320291580477475,6.329223811345386,6.332899111082002,6.337853059796219,6.337962290789267,6.340011632375514,6.340146910650238,6.347640156773365,6.347749387766414,6.349125698278826,6.350327239202359,6.351070009955089,6.351847517833685,6.3532546298160595,6.35980848939897,6.35980848939897,6.36636234898188,6.3751008284257615,6.377285448286733,6.382490137765535,6.383839307869643,6.390393167452554,6.392577787313524,6.392730710703791,6.399131646896435,6.402185449100342,6.405772891273784,6.407870126340316,6.424276621496203,6.425084930844761,6.42549262224245,6.426242779371076,6.427531705089049,6.428645861218143,6.4303498647097,6.431900944810989,6.439936944347972,6.442452658739475,6.44282404411584,6.44719328383778,6.448735730347114,6.449334211301531,6.473223418996669,6.479962581752335,6.491737682802965,6.494512150026397,6.495844768141589,6.503826193600343,6.508362639944949,6.509731375407338,6.519285739249799,6.523982671950886,6.524179287738373,6.527224516186013,6.5275436023242674,6.531458277625319,6.533332844955838,6.540847937277576,6.541131937859502,6.546331333128611,6.5494553395298,6.549870417303383,6.558608896747264,6.565162756330175,6.575606901248117,6.5775713971404866,6.59793205424473,6.6093017254038955,6.612422682350975,6.616245750440356,6.6184893271364595,6.620684728341121,6.626544595853306,6.6283493548355565,6.628516732298314,6.629417365886959,6.631859200685598,6.64247048705694,6.652547550768986,6.6547321706299565,6.661286030212867,6.663349699449945,6.672121744723279,6.6781076031423385,6.702487960790767,6.714437831430274,6.718086146598094,6.721632997497153,6.732737603991086,6.755791121253155,6.767622058598657,6.773182259491764,6.794351225944567,6.7966877931571545,6.812024800619817,6.815345422808491,6.820763280063697,6.823909132663494,6.892855735475716,6.909159956247423,6.910638541144014,6.930744404906498,6.945182737191422,6.972703591394179,6.980240529914527,7.056702225048486,7.070727484555915,7.074785787129044,7.086238285568804,7.183286959604414,7.363138852946786,7.464714252108635,7.956765607768238],\"type\":\"scatter\",\"xaxis\":\"x\",\"yaxis\":\"y\"}],                        {\"template\":{\"data\":{\"histogram2dcontour\":[{\"type\":\"histogram2dcontour\",\"colorbar\":{\"outlinewidth\":0,\"ticks\":\"\"},\"colorscale\":[[0.0,\"#0d0887\"],[0.1111111111111111,\"#46039f\"],[0.2222222222222222,\"#7201a8\"],[0.3333333333333333,\"#9c179e\"],[0.4444444444444444,\"#bd3786\"],[0.5555555555555556,\"#d8576b\"],[0.6666666666666666,\"#ed7953\"],[0.7777777777777778,\"#fb9f3a\"],[0.8888888888888888,\"#fdca26\"],[1.0,\"#f0f921\"]]}],\"choropleth\":[{\"type\":\"choropleth\",\"colorbar\":{\"outlinewidth\":0,\"ticks\":\"\"}}],\"histogram2d\":[{\"type\":\"histogram2d\",\"colorbar\":{\"outlinewidth\":0,\"ticks\":\"\"},\"colorscale\":[[0.0,\"#0d0887\"],[0.1111111111111111,\"#46039f\"],[0.2222222222222222,\"#7201a8\"],[0.3333333333333333,\"#9c179e\"],[0.4444444444444444,\"#bd3786\"],[0.5555555555555556,\"#d8576b\"],[0.6666666666666666,\"#ed7953\"],[0.7777777777777778,\"#fb9f3a\"],[0.8888888888888888,\"#fdca26\"],[1.0,\"#f0f921\"]]}],\"heatmap\":[{\"type\":\"heatmap\",\"colorbar\":{\"outlinewidth\":0,\"ticks\":\"\"},\"colorscale\":[[0.0,\"#0d0887\"],[0.1111111111111111,\"#46039f\"],[0.2222222222222222,\"#7201a8\"],[0.3333333333333333,\"#9c179e\"],[0.4444444444444444,\"#bd3786\"],[0.5555555555555556,\"#d8576b\"],[0.6666666666666666,\"#ed7953\"],[0.7777777777777778,\"#fb9f3a\"],[0.8888888888888888,\"#fdca26\"],[1.0,\"#f0f921\"]]}],\"heatmapgl\":[{\"type\":\"heatmapgl\",\"colorbar\":{\"outlinewidth\":0,\"ticks\":\"\"},\"colorscale\":[[0.0,\"#0d0887\"],[0.1111111111111111,\"#46039f\"],[0.2222222222222222,\"#7201a8\"],[0.3333333333333333,\"#9c179e\"],[0.4444444444444444,\"#bd3786\"],[0.5555555555555556,\"#d8576b\"],[0.6666666666666666,\"#ed7953\"],[0.7777777777777778,\"#fb9f3a\"],[0.8888888888888888,\"#fdca26\"],[1.0,\"#f0f921\"]]}],\"contourcarpet\":[{\"type\":\"contourcarpet\",\"colorbar\":{\"outlinewidth\":0,\"ticks\":\"\"}}],\"contour\":[{\"type\":\"contour\",\"colorbar\":{\"outlinewidth\":0,\"ticks\":\"\"},\"colorscale\":[[0.0,\"#0d0887\"],[0.1111111111111111,\"#46039f\"],[0.2222222222222222,\"#7201a8\"],[0.3333333333333333,\"#9c179e\"],[0.4444444444444444,\"#bd3786\"],[0.5555555555555556,\"#d8576b\"],[0.6666666666666666,\"#ed7953\"],[0.7777777777777778,\"#fb9f3a\"],[0.8888888888888888,\"#fdca26\"],[1.0,\"#f0f921\"]]}],\"surface\":[{\"type\":\"surface\",\"colorbar\":{\"outlinewidth\":0,\"ticks\":\"\"},\"colorscale\":[[0.0,\"#0d0887\"],[0.1111111111111111,\"#46039f\"],[0.2222222222222222,\"#7201a8\"],[0.3333333333333333,\"#9c179e\"],[0.4444444444444444,\"#bd3786\"],[0.5555555555555556,\"#d8576b\"],[0.6666666666666666,\"#ed7953\"],[0.7777777777777778,\"#fb9f3a\"],[0.8888888888888888,\"#fdca26\"],[1.0,\"#f0f921\"]]}],\"mesh3d\":[{\"type\":\"mesh3d\",\"colorbar\":{\"outlinewidth\":0,\"ticks\":\"\"}}],\"scatter\":[{\"fillpattern\":{\"fillmode\":\"overlay\",\"size\":10,\"solidity\":0.2},\"type\":\"scatter\"}],\"parcoords\":[{\"type\":\"parcoords\",\"line\":{\"colorbar\":{\"outlinewidth\":0,\"ticks\":\"\"}}}],\"scatterpolargl\":[{\"type\":\"scatterpolargl\",\"marker\":{\"colorbar\":{\"outlinewidth\":0,\"ticks\":\"\"}}}],\"bar\":[{\"error_x\":{\"color\":\"#2a3f5f\"},\"error_y\":{\"color\":\"#2a3f5f\"},\"marker\":{\"line\":{\"color\":\"#E5ECF6\",\"width\":0.5},\"pattern\":{\"fillmode\":\"overlay\",\"size\":10,\"solidity\":0.2}},\"type\":\"bar\"}],\"scattergeo\":[{\"type\":\"scattergeo\",\"marker\":{\"colorbar\":{\"outlinewidth\":0,\"ticks\":\"\"}}}],\"scatterpolar\":[{\"type\":\"scatterpolar\",\"marker\":{\"colorbar\":{\"outlinewidth\":0,\"ticks\":\"\"}}}],\"histogram\":[{\"marker\":{\"pattern\":{\"fillmode\":\"overlay\",\"size\":10,\"solidity\":0.2}},\"type\":\"histogram\"}],\"scattergl\":[{\"type\":\"scattergl\",\"marker\":{\"colorbar\":{\"outlinewidth\":0,\"ticks\":\"\"}}}],\"scatter3d\":[{\"type\":\"scatter3d\",\"line\":{\"colorbar\":{\"outlinewidth\":0,\"ticks\":\"\"}},\"marker\":{\"colorbar\":{\"outlinewidth\":0,\"ticks\":\"\"}}}],\"scattermapbox\":[{\"type\":\"scattermapbox\",\"marker\":{\"colorbar\":{\"outlinewidth\":0,\"ticks\":\"\"}}}],\"scatterternary\":[{\"type\":\"scatterternary\",\"marker\":{\"colorbar\":{\"outlinewidth\":0,\"ticks\":\"\"}}}],\"scattercarpet\":[{\"type\":\"scattercarpet\",\"marker\":{\"colorbar\":{\"outlinewidth\":0,\"ticks\":\"\"}}}],\"carpet\":[{\"aaxis\":{\"endlinecolor\":\"#2a3f5f\",\"gridcolor\":\"white\",\"linecolor\":\"white\",\"minorgridcolor\":\"white\",\"startlinecolor\":\"#2a3f5f\"},\"baxis\":{\"endlinecolor\":\"#2a3f5f\",\"gridcolor\":\"white\",\"linecolor\":\"white\",\"minorgridcolor\":\"white\",\"startlinecolor\":\"#2a3f5f\"},\"type\":\"carpet\"}],\"table\":[{\"cells\":{\"fill\":{\"color\":\"#EBF0F8\"},\"line\":{\"color\":\"white\"}},\"header\":{\"fill\":{\"color\":\"#C8D4E3\"},\"line\":{\"color\":\"white\"}},\"type\":\"table\"}],\"barpolar\":[{\"marker\":{\"line\":{\"color\":\"#E5ECF6\",\"width\":0.5},\"pattern\":{\"fillmode\":\"overlay\",\"size\":10,\"solidity\":0.2}},\"type\":\"barpolar\"}],\"pie\":[{\"automargin\":true,\"type\":\"pie\"}]},\"layout\":{\"autotypenumbers\":\"strict\",\"colorway\":[\"#636efa\",\"#EF553B\",\"#00cc96\",\"#ab63fa\",\"#FFA15A\",\"#19d3f3\",\"#FF6692\",\"#B6E880\",\"#FF97FF\",\"#FECB52\"],\"font\":{\"color\":\"#2a3f5f\"},\"hovermode\":\"closest\",\"hoverlabel\":{\"align\":\"left\"},\"paper_bgcolor\":\"white\",\"plot_bgcolor\":\"#E5ECF6\",\"polar\":{\"bgcolor\":\"#E5ECF6\",\"angularaxis\":{\"gridcolor\":\"white\",\"linecolor\":\"white\",\"ticks\":\"\"},\"radialaxis\":{\"gridcolor\":\"white\",\"linecolor\":\"white\",\"ticks\":\"\"}},\"ternary\":{\"bgcolor\":\"#E5ECF6\",\"aaxis\":{\"gridcolor\":\"white\",\"linecolor\":\"white\",\"ticks\":\"\"},\"baxis\":{\"gridcolor\":\"white\",\"linecolor\":\"white\",\"ticks\":\"\"},\"caxis\":{\"gridcolor\":\"white\",\"linecolor\":\"white\",\"ticks\":\"\"}},\"coloraxis\":{\"colorbar\":{\"outlinewidth\":0,\"ticks\":\"\"}},\"colorscale\":{\"sequential\":[[0.0,\"#0d0887\"],[0.1111111111111111,\"#46039f\"],[0.2222222222222222,\"#7201a8\"],[0.3333333333333333,\"#9c179e\"],[0.4444444444444444,\"#bd3786\"],[0.5555555555555556,\"#d8576b\"],[0.6666666666666666,\"#ed7953\"],[0.7777777777777778,\"#fb9f3a\"],[0.8888888888888888,\"#fdca26\"],[1.0,\"#f0f921\"]],\"sequentialminus\":[[0.0,\"#0d0887\"],[0.1111111111111111,\"#46039f\"],[0.2222222222222222,\"#7201a8\"],[0.3333333333333333,\"#9c179e\"],[0.4444444444444444,\"#bd3786\"],[0.5555555555555556,\"#d8576b\"],[0.6666666666666666,\"#ed7953\"],[0.7777777777777778,\"#fb9f3a\"],[0.8888888888888888,\"#fdca26\"],[1.0,\"#f0f921\"]],\"diverging\":[[0,\"#8e0152\"],[0.1,\"#c51b7d\"],[0.2,\"#de77ae\"],[0.3,\"#f1b6da\"],[0.4,\"#fde0ef\"],[0.5,\"#f7f7f7\"],[0.6,\"#e6f5d0\"],[0.7,\"#b8e186\"],[0.8,\"#7fbc41\"],[0.9,\"#4d9221\"],[1,\"#276419\"]]},\"xaxis\":{\"gridcolor\":\"white\",\"linecolor\":\"white\",\"ticks\":\"\",\"title\":{\"standoff\":15},\"zerolinecolor\":\"white\",\"automargin\":true,\"zerolinewidth\":2},\"yaxis\":{\"gridcolor\":\"white\",\"linecolor\":\"white\",\"ticks\":\"\",\"title\":{\"standoff\":15},\"zerolinecolor\":\"white\",\"automargin\":true,\"zerolinewidth\":2},\"scene\":{\"xaxis\":{\"backgroundcolor\":\"#E5ECF6\",\"gridcolor\":\"white\",\"linecolor\":\"white\",\"showbackground\":true,\"ticks\":\"\",\"zerolinecolor\":\"white\",\"gridwidth\":2},\"yaxis\":{\"backgroundcolor\":\"#E5ECF6\",\"gridcolor\":\"white\",\"linecolor\":\"white\",\"showbackground\":true,\"ticks\":\"\",\"zerolinecolor\":\"white\",\"gridwidth\":2},\"zaxis\":{\"backgroundcolor\":\"#E5ECF6\",\"gridcolor\":\"white\",\"linecolor\":\"white\",\"showbackground\":true,\"ticks\":\"\",\"zerolinecolor\":\"white\",\"gridwidth\":2}},\"shapedefaults\":{\"line\":{\"color\":\"#2a3f5f\"}},\"annotationdefaults\":{\"arrowcolor\":\"#2a3f5f\",\"arrowhead\":0,\"arrowwidth\":1},\"geo\":{\"bgcolor\":\"white\",\"landcolor\":\"#E5ECF6\",\"subunitcolor\":\"white\",\"showland\":true,\"showlakes\":true,\"lakecolor\":\"white\"},\"title\":{\"x\":0.05},\"mapbox\":{\"style\":\"light\"}}},\"xaxis\":{\"anchor\":\"y\",\"domain\":[0.0,1.0],\"title\":{\"text\":\"Economy (GDP per Capita)\"}},\"yaxis\":{\"anchor\":\"x\",\"domain\":[0.0,1.0],\"title\":{\"text\":\"Happiness Score\"}},\"legend\":{\"title\":{\"text\":\"Country\"},\"tracegroupgap\":0},\"margin\":{\"t\":60},\"title\":{\"text\":\"De invloed van de economie op de Happiness Score\"},\"annotations\":[{\"font\":{\"size\":10},\"showarrow\":false,\"text\":\"Op de x-as is de Economy variabele weergegeven, een grotere waarde betekent dat de economie verbetert.        \\u003cbr\\u003e Op de y-as is de Happiness Score weergegeven, dit geeft aan hoe blij mensen zijn. Uit de grafiek kan per land afgelezen worden hoezeer de Economy variabele de Happiness Score be\\u00efnvloedt.\",\"x\":0.5,\"xref\":\"paper\",\"y\":-0.2,\"yref\":\"paper\"}]},                        {\"responsive\": true}                    ).then(function(){\n",
       "                            \n",
       "var gd = document.getElementById('da8995c5-ce53-4ae1-be5c-11c04ea3c380');\n",
       "var x = new MutationObserver(function (mutations, observer) {{\n",
       "        var display = window.getComputedStyle(gd).display;\n",
       "        if (!display || display === 'none') {{\n",
       "            console.log([gd, 'removed!']);\n",
       "            Plotly.purge(gd);\n",
       "            observer.disconnect();\n",
       "        }}\n",
       "}});\n",
       "\n",
       "// Listen for the removal of the full notebook cells\n",
       "var notebookContainer = gd.closest('#notebook-container');\n",
       "if (notebookContainer) {{\n",
       "    x.observe(notebookContainer, {childList: true});\n",
       "}}\n",
       "\n",
       "// Listen for the clearing of the current output cell\n",
       "var outputEl = gd.closest('.output');\n",
       "if (outputEl) {{\n",
       "    x.observe(outputEl, {childList: true});\n",
       "}}\n",
       "\n",
       "                        })                };                });            </script>        </div>"
      ]
     },
     "metadata": {},
     "output_type": "display_data"
    }
   ],
   "source": [
    "!pip install statsmodels\n",
    "import pandas as pd\n",
    "import numpy as np\n",
    "import plotly.express as px\n",
    "import plotly.graph_objects as go\n",
    "from plotly.subplots import make_subplots\n",
    "import seaborn as sns\n",
    "import matplotlib.pyplot as plt\n",
    "\n",
    "df = pd.read_csv('/home/hamid/IV/docs/cleaned_data.csv').drop(columns=['Unnamed: 0'])\n",
    "\n",
    "fig = px.scatter(\n",
    "    df, \n",
    "    x='Economy (GDP per Capita)', \n",
    "    y='Happiness Score', \n",
    "    color='Country', \n",
    "    trendline='ols', \n",
    "    trendline_scope='overall',\n",
    "    trendline_color_override='black'\n",
    "    )\n",
    "\n",
    "fig.update_layout(\n",
    "    title=\"De invloed van de economie op de Happiness Score\",\n",
    "    xaxis_title=\"Economy (GDP per Capita)\",\n",
    "    yaxis_title=\"Happiness Score\",\n",
    "    annotations=[dict(\n",
    "        x=0.5,\n",
    "        y=-0.2,\n",
    "        showarrow=False,\n",
    "        text=\"Op de x-as is de Economy variabele weergegeven, een grotere waarde betekent dat de economie verbetert.\\\n",
    "        <br> Op de y-as is de Happiness Score weergegeven, dit geeft aan hoe blij mensen zijn. Uit de grafiek kan per land afgelezen worden hoezeer de Economy variabele de Happiness Score beïnvloedt.\",\n",
    "        xref=\"paper\",\n",
    "        yref=\"paper\",\n",
    "        font=dict(size=10)\n",
    "        )\n",
    "    ]\n",
    ")\n",
    "\n",
    "fig.show()"
   ]
  },
  {
   "cell_type": "markdown",
   "id": "e3158d11",
   "metadata": {},
   "source": [
    "### Invloed van de economie en gezondheid op de Happiness Score\n",
    "\n",
    "Het is duidelijk dat er een verband is tussen de economie en de Happiness Score, maar wordt de Happiness Score ook beïnvloedt door twee variabelen die mogelijk onderling elkaars effect op de Happiness Score versterken / verzwakken?\n",
    "In de grafiek hieronder zijn de scores van de gezondheid, economie en Happiness onderverdeeld in vijf groepen, er kan dus worden afgeleid welke combinaties van groepen leiden tot een hogere Happiness Score. Er zijn interessante patronen op te merken, als eerst blijkt dat als de gezondheid een hoge score heeft, en de economie ook een hoge score heeft, dat de Happiness Score dan ook hoog is. Ten tweede blijkt dat als de gezondheid een lage score heeft, en de economie een gemiddelde score, dat de Happiness Score dan \"Below Average\" is. Er zijn echter ook aparte gevallen, waarbij de gezondheidsscore \"Above Average\" is, en de score van de economie \"Average\" is, dat dan de Happiness Score \"Below Average\" is, hierbij kan er een andere variabele een rol gespeeld hebben waarbij de Happiness Score wat lager. Over het algemeen blijkt wel dat de scores van de twee variabelen samengenomen een versterkend of verzwakkend effect hebben op de Happiness Score, afhankelijk van de individuele scores van de variabelen. "
   ]
  },
  {
   "cell_type": "code",
   "execution_count": 2,
   "id": "6253c896",
   "metadata": {
    "tags": [
     "hide-input"
    ]
   },
   "outputs": [
    {
     "data": {
      "application/vnd.plotly.v1+json": {
       "config": {
        "plotlyServerURL": "https://plot.ly"
       },
       "data": [
        {
         "dimensions": [
          {
           "categoryarray": [
            "Low",
            "Below Average",
            "Average",
            "Above Average",
            "High"
           ],
           "categoryorder": "array",
           "label": "Health (Life Expectancy)",
           "values": [
            "Low",
            "Low",
            "Low",
            "Low",
            "Low",
            "Above Average",
            "Above Average",
            "Above Average",
            "Above Average",
            "High",
            "Average",
            "Average",
            "Average",
            "Average",
            "Above Average",
            "Low",
            "Low",
            "Low",
            "Low",
            "Above Average",
            "Average",
            "Average",
            "Above Average",
            "High",
            "Above Average",
            "Average",
            "Average",
            "Average",
            "Above Average",
            "High",
            "High",
            "High",
            "High",
            "High",
            "High",
            "Above Average",
            "Above Average",
            "High",
            "High",
            "Average",
            "Below Average",
            "Below Average",
            "Average",
            "Above Average",
            "Above Average",
            "Average",
            "Average",
            "Average",
            "High",
            "Average",
            "Below Average",
            "Below Average",
            "Below Average",
            "Above Average",
            "Above Average",
            "Average",
            "Average",
            "Average",
            "Above Average",
            "High",
            "Above Average",
            "Above Average",
            "High",
            "High",
            "Below Average",
            "Below Average",
            "Below Average",
            "Low",
            "Low",
            "Low",
            "Low",
            "Below Average",
            "Below Average",
            "Below Average",
            "Below Average",
            "Below Average",
            "Average",
            "Below Average",
            "Below Average",
            "Below Average",
            "Below Average",
            "Average",
            "Above Average",
            "Average",
            "Average",
            "Above Average",
            "High",
            "Low",
            "Low",
            "Low",
            "Below Average",
            "Below Average",
            "Average",
            "Average",
            "Average",
            "Average",
            "Above Average",
            "Above Average",
            "Average",
            "Average",
            "Above Average",
            "Above Average",
            "Low",
            "Low",
            "Low",
            "Low",
            "Below Average",
            "Low",
            "Low",
            "Low",
            "Low",
            "Below Average",
            "Average",
            "Below Average",
            "Below Average",
            "Below Average",
            "Average",
            "Low",
            "Low",
            "Low",
            "Low",
            "Low",
            "High",
            "Above Average",
            "High",
            "High",
            "High",
            "Low",
            "Low",
            "Low",
            "Low",
            "Low",
            "Low",
            "Low",
            "Low",
            "Low",
            "High",
            "Above Average",
            "Above Average",
            "Above Average",
            "High",
            "Above Average",
            "Above Average",
            "Above Average",
            "Above Average",
            "High",
            "Average",
            "Average",
            "Below Average",
            "Average",
            "High",
            "Low",
            "Low",
            "Below Average",
            "Low",
            "Low",
            "Low",
            "Low",
            "Below Average",
            "Low",
            "Low",
            "Low",
            "Low",
            "Low",
            "High",
            "Above Average",
            "Above Average",
            "Above Average",
            "High",
            "Above Average",
            "Average",
            "Average",
            "Above Average",
            "High",
            "High",
            "High",
            "High",
            "High",
            "High",
            "High",
            "Above Average",
            "Above Average",
            "High",
            "High",
            "High",
            "Above Average",
            "Above Average",
            "High",
            "High",
            "Low",
            "Average",
            "Below Average",
            "Below Average",
            "Average",
            "Above Average",
            "Above Average",
            "Average",
            "Average",
            "Above Average",
            "High",
            "Average",
            "Below Average",
            "Below Average",
            "Below Average",
            "Average",
            "Average",
            "Below Average",
            "Average",
            "Average",
            "Above Average",
            "Above Average",
            "Average",
            "Average",
            "Above Average",
            "High",
            "Below Average",
            "Low",
            "Low",
            "Below Average",
            "Below Average",
            "High",
            "Above Average",
            "Above Average",
            "High",
            "High",
            "High",
            "High",
            "High",
            "High",
            "High",
            "Below Average",
            "Low",
            "Low",
            "Below Average",
            "Below Average",
            "Below Average",
            "Above Average",
            "Average",
            "Average",
            "Average",
            "Above Average",
            "High",
            "Above Average",
            "Above Average",
            "High",
            "High",
            "Below Average",
            "Low",
            "Low",
            "Low",
            "Below Average",
            "High",
            "Above Average",
            "Above Average",
            "High",
            "High",
            "Average",
            "Below Average",
            "Below Average",
            "Average",
            "Above Average",
            "Low",
            "Low",
            "Low",
            "Low",
            "Low",
            "Below Average",
            "Low",
            "Low",
            "Low",
            "Below Average",
            "Average",
            "Below Average",
            "Below Average",
            "Average",
            "Above Average",
            "High",
            "High",
            "High",
            "High",
            "High",
            "Above Average",
            "Average",
            "Average",
            "Above Average",
            "Above Average",
            "High",
            "High",
            "High",
            "High",
            "High",
            "Below Average",
            "Below Average",
            "Below Average",
            "Below Average",
            "Below Average",
            "Average",
            "Below Average",
            "Below Average",
            "Below Average",
            "Average",
            "Average",
            "Average",
            "Average",
            "Average",
            "Above Average",
            "Average",
            "Below Average",
            "Below Average",
            "Below Average",
            "Below Average",
            "High",
            "Above Average",
            "Above Average",
            "High",
            "High",
            "High",
            "High",
            "High",
            "High",
            "High",
            "High",
            "High",
            "High",
            "High",
            "High",
            "Low",
            "Low",
            "Low",
            "Low",
            "Low",
            "Average",
            "Below Average",
            "Average",
            "Average",
            "High",
            "High",
            "High",
            "High",
            "High",
            "High",
            "Average",
            "Average",
            "Average",
            "Average",
            "Above Average",
            "Average",
            "Below Average",
            "Average",
            "Average",
            "Above Average",
            "Below Average",
            "Low",
            "Low",
            "Below Average",
            "Below Average",
            "Average",
            "Below Average",
            "Below Average",
            "Below Average",
            "Above Average",
            "Above Average",
            "Average",
            "Average",
            "Average",
            "Above Average",
            "Average",
            "Below Average",
            "Below Average",
            "Below Average",
            "Above Average",
            "Below Average",
            "Below Average",
            "Below Average",
            "Below Average",
            "Above Average",
            "Average",
            "Average",
            "Average",
            "Above Average",
            "High",
            "Above Average",
            "Above Average",
            "Above Average",
            "Above Average",
            "Low",
            "Low",
            "Low",
            "Low",
            "Low",
            "Low",
            "Low",
            "Low",
            "Below Average",
            "Average",
            "Below Average",
            "Below Average",
            "Below Average",
            "Average",
            "Above Average",
            "Average",
            "Average",
            "Above Average",
            "Above Average",
            "High",
            "High",
            "High",
            "High",
            "High",
            "Above Average",
            "Average",
            "Average",
            "Average",
            "Below Average",
            "Low",
            "Below Average",
            "Below Average",
            "Below Average",
            "Low",
            "Low",
            "Low",
            "Low",
            "Below Average",
            "Above Average",
            "Average",
            "Average",
            "Average",
            "Above Average",
            "Low",
            "Low",
            "Low",
            "Low",
            "Low",
            "High",
            "Above Average",
            "Above Average",
            "High",
            "High",
            "Low",
            "Low",
            "Low",
            "Low",
            "Below Average",
            "Above Average",
            "Average",
            "Average",
            "Average",
            "Above Average",
            "Above Average",
            "Above Average",
            "Above Average",
            "Above Average",
            "High",
            "Average",
            "Below Average",
            "Below Average",
            "Average",
            "Above Average",
            "Average",
            "Below Average",
            "Below Average",
            "Below Average",
            "Average",
            "Above Average",
            "Average",
            "Average",
            "Above Average",
            "High",
            "Average",
            "Below Average",
            "Average",
            "Average",
            "Above Average",
            "Low",
            "Low",
            "Low",
            "Below Average",
            "Below Average",
            "Below Average",
            "Below Average",
            "Below Average",
            "Below Average",
            "Low",
            "Low",
            "Low",
            "Below Average",
            "Below Average",
            "Below Average",
            "Below Average",
            "Below Average",
            "Average",
            "High",
            "Above Average",
            "Above Average",
            "High",
            "High",
            "High",
            "High",
            "Above Average",
            "High",
            "High",
            "Above Average",
            "Average",
            "Average",
            "Average",
            "High",
            "Low",
            "Low",
            "Low",
            "Low",
            "Low",
            "Low",
            "Low",
            "Low",
            "Low",
            "Low",
            "High",
            "High",
            "High",
            "High",
            "High",
            "High",
            "High",
            "Above Average",
            "Above Average",
            "High",
            "High",
            "Above Average",
            "Below Average",
            "Below Average",
            "Below Average",
            "Below Average",
            "Below Average",
            "Average",
            "Below Average",
            "Below Average",
            "Average",
            "Average",
            "Above Average",
            "Above Average",
            "Average",
            "Above Average",
            "High",
            "Average",
            "Below Average",
            "Below Average",
            "Average",
            "Above Average",
            "Above Average",
            "Average",
            "Average",
            "Average",
            "High",
            "Below Average",
            "Below Average",
            "Below Average",
            "Below Average",
            "Average",
            "Above Average",
            "Average",
            "Average",
            "Above Average",
            "High",
            "High",
            "Above Average",
            "Above Average",
            "High",
            "High",
            "Above Average",
            "Above Average",
            "Above Average",
            "Above Average",
            "Above Average",
            "High",
            "Above Average",
            "Average",
            "Average",
            "Above Average",
            "Above Average",
            "Average",
            "Below Average",
            "Below Average",
            "Average",
            "Above Average",
            "Below Average",
            "Low",
            "Low",
            "Below Average",
            "Average",
            "Above Average",
            "Below Average",
            "Below Average",
            "Average",
            "Above Average",
            "Below Average",
            "Below Average",
            "Below Average",
            "Below Average",
            "Below Average",
            "Above Average",
            "Average",
            "Average",
            "Average",
            "High",
            "Low",
            "Low",
            "Low",
            "Low",
            "Low",
            "High",
            "High",
            "High",
            "High",
            "High",
            "Above Average",
            "Average",
            "Above Average",
            "Above Average",
            "High",
            "High",
            "Above Average",
            "Above Average",
            "High",
            "High",
            "Low",
            "Low",
            "Low",
            "Low",
            "Low",
            "Below Average",
            "Low",
            "Low",
            "Low",
            "Low",
            "Below Average",
            "High",
            "High",
            "High",
            "High",
            "High",
            "Low",
            "Low",
            "Low",
            "Low",
            "High",
            "High",
            "High",
            "High",
            "High",
            "Average",
            "Average",
            "Average",
            "Average",
            "High",
            "Low",
            "Low",
            "Low",
            "Low",
            "Average",
            "Below Average",
            "Low",
            "Low",
            "High",
            "High",
            "Above Average",
            "High",
            "High",
            "High",
            "High",
            "High",
            "High",
            "High",
            "Above Average",
            "Average",
            "Below Average",
            "Below Average",
            "Below Average",
            "High",
            "Above Average",
            "High",
            "High",
            "Above Average",
            "Below Average",
            "Below Average",
            "Below Average",
            "Average",
            "Above Average",
            "Below Average",
            "Low",
            "Low",
            "Below Average",
            "Below Average",
            "Above Average",
            "Average",
            "Average",
            "Average",
            "Above Average",
            "Low",
            "Low",
            "Low",
            "Low",
            "Below Average",
            "Below Average",
            "Above Average",
            "Average",
            "Below Average",
            "Below Average",
            "Above Average",
            "Below Average",
            "Average",
            "Average",
            "Above Average",
            "Above Average",
            "Average",
            "Average",
            "Average",
            "Above Average",
            "Below Average",
            "Below Average",
            "Below Average",
            "Below Average",
            "Average",
            "Low",
            "Low",
            "Low",
            "Low",
            "Below Average",
            "Average",
            "Below Average",
            "Below Average",
            "Average",
            "Above Average",
            "Above Average",
            "Above Average",
            "Above Average",
            "Average",
            "Above Average",
            "High",
            "Above Average",
            "Above Average",
            "High",
            "High",
            "High",
            "Above Average",
            "Above Average",
            "Above Average",
            "High",
            "Above Average",
            "Above Average",
            "Above Average",
            "Above Average",
            "High",
            "Average",
            "Below Average",
            "Below Average",
            "Average",
            "Above Average",
            "Above Average",
            "Average",
            "Average",
            "Average",
            "Above Average",
            "Above Average",
            "Average",
            "Average",
            "Average",
            "High",
            "Below Average",
            "Low",
            "Low",
            "Low",
            "Below Average",
            "Low",
            "Low",
            "Low",
            "Low",
            "Below Average",
            "Low",
            "Low",
            "Low",
            "Low",
            "Below Average"
           ]
          },
          {
           "categoryarray": [
            "Low",
            "Below Average",
            "Average",
            "Above Average",
            "High"
           ],
           "categoryorder": "array",
           "label": "Economy (GDP per Capita)",
           "values": [
            "Low",
            "Low",
            "Low",
            "Low",
            "Low",
            "Average",
            "Average",
            "Average",
            "Average",
            "Average",
            "Average",
            "Average",
            "Above Average",
            "Average",
            "Average",
            "Below Average",
            "Below Average",
            "Average",
            "Below Average",
            "Average",
            "Above Average",
            "Above Average",
            "Above Average",
            "Above Average",
            "Below Average",
            "Average",
            "Average",
            "Below Average",
            "Below Average",
            "High",
            "High",
            "High",
            "High",
            "High",
            "High",
            "High",
            "High",
            "High",
            "High",
            "Average",
            "Above Average",
            "Above Average",
            "Average",
            "Average",
            "High",
            "High",
            "High",
            "High",
            "High",
            "Low",
            "Below Average",
            "Below Average",
            "Below Average",
            "Below Average",
            "Average",
            "Above Average",
            "Above Average",
            "Average",
            "Average",
            "High",
            "High",
            "High",
            "High",
            "High",
            "Average",
            "Average",
            "Below Average",
            "Low",
            "Low",
            "Low",
            "Low",
            "Low",
            "Below Average",
            "Below Average",
            "Average",
            "Below Average",
            "Below Average",
            "Below Average",
            "Below Average",
            "Below Average",
            "Below Average",
            "Below Average",
            "Below Average",
            "Average",
            "Average",
            "Average",
            "Average",
            "Average",
            "Above Average",
            "Above Average",
            "Average",
            "Average",
            "Average",
            "Above Average",
            "Above Average",
            "Average",
            "Average",
            "Average",
            "Above Average",
            "Above Average",
            "Average",
            "Above Average",
            "Low",
            "Low",
            "Low",
            "Low",
            "Low",
            "Low",
            "Low",
            "Low",
            "Low",
            "Low",
            "Low",
            "Below Average",
            "Below Average",
            "Below Average",
            "Below Average",
            "Low",
            "Below Average",
            "Below Average",
            "Below Average",
            "Below Average",
            "High",
            "High",
            "High",
            "High",
            "High",
            "Low",
            "Low",
            "Low",
            "Low",
            "Low",
            "Low",
            "Low",
            "Low",
            "Low",
            "Above Average",
            "Above Average",
            "Above Average",
            "Above Average",
            "Above Average",
            "Average",
            "Average",
            "Above Average",
            "Average",
            "Average",
            "Average",
            "Average",
            "Average",
            "Average",
            "Average",
            "Low",
            "Low",
            "Low",
            "Below Average",
            "Below Average",
            "Below Average",
            "Below Average",
            "Below Average",
            "Low",
            "Low",
            "Low",
            "Low",
            "Low",
            "Average",
            "Average",
            "Above Average",
            "Average",
            "Average",
            "Above Average",
            "Above Average",
            "Above Average",
            "Above Average",
            "Above Average",
            "Above Average",
            "High",
            "High",
            "Above Average",
            "Above Average",
            "Above Average",
            "High",
            "High",
            "Above Average",
            "Above Average",
            "High",
            "High",
            "High",
            "High",
            "High",
            "Low",
            "Average",
            "Average",
            "Above Average",
            "Average",
            "Average",
            "Average",
            "Average",
            "Average",
            "Average",
            "Average",
            "Average",
            "Average",
            "Average",
            "Average",
            "Average",
            "Below Average",
            "Average",
            "Average",
            "Below Average",
            "Below Average",
            "Above Average",
            "Above Average",
            "High",
            "Above Average",
            "Above Average",
            "Low",
            "Low",
            "Low",
            "Low",
            "Low",
            "Above Average",
            "High",
            "High",
            "High",
            "High",
            "Above Average",
            "High",
            "High",
            "High",
            "High",
            "Average",
            "Above Average",
            "Above Average",
            "Average",
            "Average",
            "Low",
            "Below Average",
            "Below Average",
            "Average",
            "Below Average",
            "Average",
            "High",
            "High",
            "High",
            "High",
            "High",
            "Below Average",
            "Below Average",
            "Below Average",
            "Below Average",
            "Below Average",
            "Above Average",
            "Above Average",
            "Above Average",
            "Above Average",
            "Above Average",
            "Below Average",
            "Below Average",
            "Average",
            "Below Average",
            "Below Average",
            "Low",
            "Low",
            "Low",
            "Low",
            "Low",
            "Low",
            "Low",
            "Low",
            "Low",
            "Low",
            "Below Average",
            "Below Average",
            "Below Average",
            "Below Average",
            "Below Average",
            "High",
            "High",
            "High",
            "High",
            "High",
            "Above Average",
            "Above Average",
            "Above Average",
            "Above Average",
            "Above Average",
            "High",
            "High",
            "High",
            "High",
            "High",
            "Below Average",
            "Below Average",
            "Below Average",
            "Below Average",
            "Below Average",
            "Below Average",
            "Average",
            "Average",
            "Average",
            "Average",
            "Average",
            "Above Average",
            "Above Average",
            "Average",
            "Above Average",
            "Average",
            "Above Average",
            "Above Average",
            "Average",
            "Average",
            "High",
            "High",
            "High",
            "High",
            "High",
            "Above Average",
            "High",
            "High",
            "High",
            "Above Average",
            "Above Average",
            "High",
            "High",
            "Above Average",
            "High",
            "Low",
            "Below Average",
            "Below Average",
            "Below Average",
            "Below Average",
            "Below Average",
            "Average",
            "Average",
            "Below Average",
            "Below Average",
            "Above Average",
            "High",
            "High",
            "High",
            "High",
            "Average",
            "Average",
            "Average",
            "Below Average",
            "Below Average",
            "Above Average",
            "Above Average",
            "Above Average",
            "Above Average",
            "Above Average",
            "Low",
            "Below Average",
            "Below Average",
            "Low",
            "Low",
            "Below Average",
            "Average",
            "Average",
            "Below Average",
            "Average",
            "High",
            "High",
            "High",
            "High",
            "High",
            "Low",
            "Below Average",
            "Below Average",
            "Below Average",
            "Below Average",
            "Below Average",
            "Below Average",
            "Below Average",
            "Below Average",
            "Above Average",
            "Above Average",
            "Above Average",
            "Above Average",
            "Above Average",
            "Average",
            "Above Average",
            "Above Average",
            "Average",
            "Average",
            "Low",
            "Low",
            "Low",
            "Low",
            "Low",
            "Low",
            "Low",
            "Low",
            "Low",
            "Above Average",
            "Average",
            "Above Average",
            "Average",
            "Average",
            "Above Average",
            "Above Average",
            "High",
            "Above Average",
            "Above Average",
            "High",
            "High",
            "High",
            "High",
            "High",
            "Average",
            "Average",
            "Average",
            "Average",
            "Low",
            "Low",
            "Low",
            "Low",
            "Low",
            "Low",
            "Low",
            "Low",
            "Low",
            "Low",
            "Above Average",
            "Above Average",
            "Above Average",
            "Above Average",
            "Above Average",
            "Low",
            "Low",
            "Low",
            "Low",
            "Low",
            "Above Average",
            "High",
            "High",
            "Above Average",
            "High",
            "Low",
            "Below Average",
            "Below Average",
            "Below Average",
            "Below Average",
            "Average",
            "Above Average",
            "Above Average",
            "Above Average",
            "Above Average",
            "Average",
            "Above Average",
            "Above Average",
            "Average",
            "Average",
            "Below Average",
            "Below Average",
            "Below Average",
            "Below Average",
            "Below Average",
            "Below Average",
            "Average",
            "Average",
            "Average",
            "Average",
            "Average",
            "Above Average",
            "Above Average",
            "Average",
            "Average",
            "Below Average",
            "Below Average",
            "Average",
            "Below Average",
            "Below Average",
            "Low",
            "Low",
            "Low",
            "Low",
            "Low",
            "Low",
            "Low",
            "Below Average",
            "Below Average",
            "Average",
            "Average",
            "Average",
            "Average",
            "Low",
            "Low",
            "Low",
            "Low",
            "Low",
            "High",
            "High",
            "High",
            "High",
            "High",
            "Above Average",
            "High",
            "High",
            "Above Average",
            "High",
            "Below Average",
            "Below Average",
            "Below Average",
            "Below Average",
            "Below Average",
            "Low",
            "Low",
            "Low",
            "Low",
            "Low",
            "Below Average",
            "Below Average",
            "Below Average",
            "Below Average",
            "Below Average",
            "Above Average",
            "High",
            "High",
            "Average",
            "Above Average",
            "Above Average",
            "High",
            "High",
            "High",
            "High",
            "High",
            "High",
            "Below Average",
            "Below Average",
            "Below Average",
            "Below Average",
            "Below Average",
            "Below Average",
            "Below Average",
            "Below Average",
            "Below Average",
            "Below Average",
            "Average",
            "Above Average",
            "Above Average",
            "Above Average",
            "Above Average",
            "Below Average",
            "Average",
            "Average",
            "Below Average",
            "Below Average",
            "Average",
            "Average",
            "Average",
            "Average",
            "Average",
            "Below Average",
            "Below Average",
            "Average",
            "Below Average",
            "Below Average",
            "Above Average",
            "Above Average",
            "Above Average",
            "Above Average",
            "Above Average",
            "Above Average",
            "Above Average",
            "High",
            "Above Average",
            "Above Average",
            "High",
            "High",
            "High",
            "High",
            "High",
            "High",
            "Average",
            "Above Average",
            "Above Average",
            "Above Average",
            "Above Average",
            "Above Average",
            "Above Average",
            "Above Average",
            "Above Average",
            "Above Average",
            "Low",
            "Low",
            "Low",
            "Low",
            "Low",
            "High",
            "High",
            "High",
            "High",
            "High",
            "Low",
            "Low",
            "Low",
            "Low",
            "Low",
            "Average",
            "Average",
            "Average",
            "Average",
            "Average",
            "Low",
            "Low",
            "Low",
            "Low",
            "Low",
            "High",
            "High",
            "High",
            "High",
            "High",
            "Above Average",
            "Above Average",
            "High",
            "Above Average",
            "Above Average",
            "Above Average",
            "High",
            "High",
            "Above Average",
            "Above Average",
            "Low",
            "Low",
            "Low",
            "Low",
            "Low",
            "Low",
            "Average",
            "Average",
            "Average",
            "Average",
            "Average",
            "Above Average",
            "High",
            "High",
            "Above Average",
            "High",
            "Low",
            "Low",
            "Low",
            "Low",
            "Above Average",
            "High",
            "High",
            "Above Average",
            "Above Average",
            "Below Average",
            "Average",
            "Average",
            "Average",
            "Average",
            "Low",
            "Below Average",
            "Below Average",
            "Below Average",
            "Average",
            "Above Average",
            "Below Average",
            "Below Average",
            "High",
            "High",
            "High",
            "High",
            "High",
            "High",
            "High",
            "High",
            "High",
            "High",
            "Below Average",
            "Below Average",
            "Below Average",
            "Below Average",
            "Below Average",
            "Above Average",
            "High",
            "High",
            "High",
            "High",
            "Low",
            "Low",
            "Below Average",
            "Low",
            "Low",
            "Low",
            "Low",
            "Low",
            "Low",
            "Low",
            "Average",
            "Above Average",
            "Above Average",
            "Average",
            "Average",
            "Low",
            "Low",
            "Low",
            "Low",
            "Low",
            "Above Average",
            "Above Average",
            "Above Average",
            "High",
            "High",
            "Average",
            "Average",
            "Average",
            "Average",
            "Average",
            "Average",
            "Above Average",
            "Above Average",
            "Above Average",
            "Above Average",
            "Average",
            "Above Average",
            "Above Average",
            "Average",
            "Average",
            "Low",
            "Low",
            "Low",
            "Low",
            "Low",
            "Below Average",
            "Average",
            "Average",
            "Below Average",
            "Below Average",
            "High",
            "High",
            "High",
            "High",
            "High",
            "Above Average",
            "High",
            "High",
            "Above Average",
            "High",
            "High",
            "High",
            "High",
            "High",
            "High",
            "Average",
            "Above Average",
            "Above Average",
            "Above Average",
            "Above Average",
            "Below Average",
            "Below Average",
            "Below Average",
            "Below Average",
            "Below Average",
            "Average",
            "Above Average",
            "Above Average",
            "Average",
            "Average",
            "Below Average",
            "Below Average",
            "Below Average",
            "Below Average",
            "Below Average",
            "Below Average",
            "Below Average",
            "Below Average",
            "Low",
            "Low",
            "Low",
            "Below Average",
            "Below Average",
            "Below Average",
            "Below Average",
            "Low",
            "Low",
            "Low",
            "Low",
            "Low"
           ]
          },
          {
           "categoryarray": [
            "Low",
            "Below Average",
            "Average",
            "Above Average",
            "High"
           ],
           "categoryorder": "array",
           "label": "Happiness Score",
           "values": [
            "Low",
            "Low",
            "Low",
            "Low",
            "Low",
            "Below Average",
            "Below Average",
            "Below Average",
            "Below Average",
            "Below Average",
            "Average",
            "Above Average",
            "Above Average",
            "Average",
            "Average",
            "Low",
            "Low",
            "Low",
            "Low",
            "High",
            "High",
            "High",
            "Above Average",
            "Above Average",
            "Low",
            "Below Average",
            "Below Average",
            "Low",
            "Below Average",
            "High",
            "High",
            "High",
            "High",
            "High",
            "High",
            "High",
            "High",
            "High",
            "High",
            "Average",
            "Average",
            "Average",
            "Average",
            "Average",
            "Above Average",
            "Above Average",
            "Above Average",
            "Above Average",
            "Above Average",
            "Below Average",
            "Below Average",
            "Below Average",
            "Below Average",
            "Below Average",
            "Above Average",
            "Above Average",
            "Average",
            "Average",
            "Average",
            "High",
            "High",
            "High",
            "High",
            "High",
            "Above Average",
            "Above Average",
            "Above Average",
            "Low",
            "Low",
            "Low",
            "Low",
            "Below Average",
            "Average",
            "Average",
            "Below Average",
            "Average",
            "Average",
            "Above Average",
            "Above Average",
            "Above Average",
            "Above Average",
            "Above Average",
            "Below Average",
            "Average",
            "Average",
            "Average",
            "Average",
            "Low",
            "Low",
            "Low",
            "Low",
            "Low",
            "High",
            "High",
            "High",
            "High",
            "Above Average",
            "Low",
            "Low",
            "Below Average",
            "Below Average",
            "Below Average",
            "Low",
            "Low",
            "Low",
            "Below Average",
            "Below Average",
            "Low",
            "Low",
            "Low",
            "Low",
            "Low",
            "Low",
            "Low",
            "Low",
            "Below Average",
            "Below Average",
            "Low",
            "Below Average",
            "Below Average",
            "Below Average",
            "Below Average",
            "High",
            "High",
            "High",
            "High",
            "High",
            "Low",
            "Low",
            "Low",
            "Low",
            "Low",
            "Low",
            "Low",
            "Low",
            "Low",
            "High",
            "High",
            "High",
            "High",
            "High",
            "Average",
            "Average",
            "Average",
            "Average",
            "Average",
            "High",
            "High",
            "Above Average",
            "Above Average",
            "Above Average",
            "Low",
            "Low",
            "Low",
            "Low",
            "Low",
            "Low",
            "Below Average",
            "Below Average",
            "Below Average",
            "Low",
            "Low",
            "Low",
            "Below Average",
            "High",
            "High",
            "High",
            "High",
            "High",
            "Above Average",
            "Average",
            "Average",
            "Average",
            "Average",
            "Average",
            "Average",
            "Average",
            "Above Average",
            "Above Average",
            "High",
            "High",
            "High",
            "High",
            "High",
            "High",
            "High",
            "High",
            "High",
            "High",
            "Below Average",
            "Below Average",
            "Average",
            "Average",
            "Average",
            "Average",
            "Above Average",
            "Above Average",
            "Above Average",
            "Above Average",
            "Above Average",
            "Low",
            "Below Average",
            "Below Average",
            "Below Average",
            "Low",
            "Above Average",
            "Above Average",
            "Above Average",
            "Above Average",
            "Above Average",
            "Average",
            "Average",
            "Average",
            "Average",
            "Above Average",
            "Below Average",
            "Below Average",
            "Below Average",
            "Low",
            "Low",
            "High",
            "High",
            "High",
            "High",
            "High",
            "High",
            "High",
            "High",
            "High",
            "High",
            "Low",
            "Low",
            "Below Average",
            "Below Average",
            "Below Average",
            "Below Average",
            "Low",
            "Low",
            "Low",
            "Low",
            "Below Average",
            "High",
            "High",
            "High",
            "High",
            "High",
            "Below Average",
            "Low",
            "Low",
            "Below Average",
            "Below Average",
            "Below Average",
            "Below Average",
            "Average",
            "Average",
            "Average",
            "Above Average",
            "Above Average",
            "High",
            "Above Average",
            "High",
            "Low",
            "Low",
            "Low",
            "Low",
            "Below Average",
            "Below Average",
            "Low",
            "Low",
            "Low",
            "Low",
            "Below Average",
            "Below Average",
            "Average",
            "Average",
            "Above Average",
            "Average",
            "Average",
            "Average",
            "Average",
            "Average",
            "Below Average",
            "Average",
            "Average",
            "Average",
            "Above Average",
            "High",
            "High",
            "High",
            "High",
            "High",
            "Below Average",
            "Below Average",
            "Low",
            "Low",
            "Low",
            "Average",
            "Average",
            "Average",
            "Average",
            "Average",
            "Below Average",
            "Below Average",
            "Below Average",
            "Below Average",
            "Below Average",
            "Below Average",
            "Below Average",
            "Below Average",
            "Below Average",
            "Below Average",
            "High",
            "High",
            "High",
            "High",
            "High",
            "High",
            "High",
            "High",
            "High",
            "High",
            "Above Average",
            "Above Average",
            "Above Average",
            "Above Average",
            "Above Average",
            "Low",
            "Low",
            "Low",
            "Below Average",
            "Below Average",
            "Average",
            "Average",
            "Average",
            "Above Average",
            "Above Average",
            "Above Average",
            "Above Average",
            "Above Average",
            "Above Average",
            "Above Average",
            "Average",
            "Average",
            "Average",
            "Average",
            "Below Average",
            "Above Average",
            "Above Average",
            "Above Average",
            "Above Average",
            "Above Average",
            "Below Average",
            "Low",
            "Below Average",
            "Below Average",
            "Below Average",
            "Average",
            "Average",
            "Average",
            "Average",
            "Above Average",
            "Above Average",
            "Above Average",
            "Above Average",
            "Above Average",
            "Above Average",
            "Average",
            "Average",
            "Below Average",
            "Average",
            "Average",
            "Below Average",
            "Below Average",
            "Below Average",
            "Below Average",
            "Average",
            "Average",
            "Above Average",
            "Above Average",
            "Above Average",
            "Below Average",
            "Average",
            "Average",
            "Average",
            "Average",
            "Below Average",
            "Low",
            "Low",
            "Low",
            "Below Average",
            "Low",
            "Low",
            "Low",
            "Low",
            "Above Average",
            "Average",
            "Average",
            "Average",
            "Average",
            "Above Average",
            "Above Average",
            "Above Average",
            "Above Average",
            "Above Average",
            "High",
            "High",
            "High",
            "High",
            "High",
            "Below Average",
            "Average",
            "Average",
            "Average",
            "Low",
            "Low",
            "Low",
            "Low",
            "Low",
            "Low",
            "Low",
            "Low",
            "Low",
            "Low",
            "Above Average",
            "Above Average",
            "Above Average",
            "Above Average",
            "Average",
            "Low",
            "Low",
            "Low",
            "Below Average",
            "Below Average",
            "Above Average",
            "High",
            "High",
            "High",
            "High",
            "Below Average",
            "Low",
            "Low",
            "Low",
            "Below Average",
            "Average",
            "Average",
            "Average",
            "Above Average",
            "Above Average",
            "High",
            "High",
            "High",
            "High",
            "High",
            "Above Average",
            "Above Average",
            "Above Average",
            "Average",
            "Average",
            "Below Average",
            "Below Average",
            "Below Average",
            "Average",
            "Average",
            "Average",
            "Average",
            "Average",
            "Average",
            "Average",
            "Below Average",
            "Average",
            "Average",
            "Average",
            "Average",
            "Below Average",
            "Below Average",
            "Below Average",
            "Below Average",
            "Low",
            "Below Average",
            "Below Average",
            "Low",
            "Below Average",
            "Below Average",
            "Below Average",
            "Below Average",
            "Below Average",
            "Below Average",
            "Below Average",
            "Below Average",
            "Below Average",
            "Below Average",
            "High",
            "High",
            "High",
            "High",
            "High",
            "High",
            "High",
            "High",
            "High",
            "High",
            "Above Average",
            "Above Average",
            "Above Average",
            "Above Average",
            "Above Average",
            "Low",
            "Low",
            "Low",
            "Low",
            "Below Average",
            "Average",
            "Below Average",
            "Below Average",
            "Average",
            "Average",
            "Average",
            "Above Average",
            "Above Average",
            "Average",
            "Above Average",
            "Average",
            "High",
            "High",
            "High",
            "High",
            "High",
            "High",
            "Average",
            "Average",
            "Average",
            "Average",
            "Average",
            "Below Average",
            "Below Average",
            "Below Average",
            "Below Average",
            "Below Average",
            "High",
            "High",
            "High",
            "High",
            "Above Average",
            "Above Average",
            "Average",
            "Average",
            "Average",
            "Average",
            "Above Average",
            "Average",
            "Average",
            "Average",
            "Average",
            "Below Average",
            "Average",
            "Average",
            "Average",
            "Average",
            "Above Average",
            "Above Average",
            "Above Average",
            "Above Average",
            "Above Average",
            "Average",
            "Average",
            "Average",
            "Average",
            "Average",
            "High",
            "High",
            "Above Average",
            "Above Average",
            "Above Average",
            "Above Average",
            "Average",
            "Average",
            "Above Average",
            "Above Average",
            "Above Average",
            "Average",
            "Above Average",
            "Above Average",
            "Above Average",
            "Average",
            "Low",
            "Low",
            "Low",
            "Low",
            "Low",
            "High",
            "Above Average",
            "Above Average",
            "Above Average",
            "Above Average",
            "Low",
            "Low",
            "Below Average",
            "Below Average",
            "Below Average",
            "Average",
            "Average",
            "Average",
            "Average",
            "Average",
            "Below Average",
            "Below Average",
            "Below Average",
            "Below Average",
            "Below Average",
            "High",
            "High",
            "High",
            "Above Average",
            "Above Average",
            "Above Average",
            "Above Average",
            "Above Average",
            "Above Average",
            "Above Average",
            "Above Average",
            "Above Average",
            "Above Average",
            "Above Average",
            "Above Average",
            "Average",
            "Average",
            "Below Average",
            "Below Average",
            "Below Average",
            "Below Average",
            "Below Average",
            "Below Average",
            "Below Average",
            "Below Average",
            "Below Average",
            "Above Average",
            "Above Average",
            "Above Average",
            "Above Average",
            "Above Average",
            "Low",
            "Low",
            "Low",
            "Low",
            "Above Average",
            "Above Average",
            "High",
            "Above Average",
            "Above Average",
            "Low",
            "Below Average",
            "Below Average",
            "Below Average",
            "Below Average",
            "Below Average",
            "Low",
            "Low",
            "Low",
            "Above Average",
            "Above Average",
            "Below Average",
            "Low",
            "High",
            "High",
            "High",
            "High",
            "High",
            "High",
            "High",
            "High",
            "High",
            "High",
            "Low",
            "Low",
            "Low",
            "Low",
            "Low",
            "Above Average",
            "Above Average",
            "High",
            "High",
            "High",
            "Below Average",
            "Below Average",
            "Below Average",
            "Average",
            "Average",
            "Low",
            "Low",
            "Low",
            "Low",
            "Low",
            "High",
            "High",
            "High",
            "Above Average",
            "Above Average",
            "Low",
            "Low",
            "Low",
            "Low",
            "Low",
            "Above Average",
            "Above Average",
            "Above Average",
            "Above Average",
            "Above Average",
            "Below Average",
            "Below Average",
            "Below Average",
            "Below Average",
            "Below Average",
            "Average",
            "Average",
            "Average",
            "Average",
            "Average",
            "Average",
            "Average",
            "Above Average",
            "Average",
            "Average",
            "Low",
            "Low",
            "Low",
            "Low",
            "Low",
            "Below Average",
            "Low",
            "Low",
            "Low",
            "Low",
            "High",
            "High",
            "High",
            "High",
            "High",
            "High",
            "High",
            "High",
            "High",
            "High",
            "High",
            "High",
            "High",
            "High",
            "High",
            "High",
            "High",
            "High",
            "Above Average",
            "Above Average",
            "Above Average",
            "Above Average",
            "Above Average",
            "Above Average",
            "Above Average",
            "High",
            "Above Average",
            "Average",
            "Below Average",
            "Below Average",
            "Average",
            "Below Average",
            "Below Average",
            "Average",
            "Average",
            "Low",
            "Low",
            "Low",
            "Low",
            "Low",
            "Average",
            "Below Average",
            "Below Average",
            "Below Average",
            "Low",
            "Below Average",
            "Low",
            "Low",
            "Low",
            "Low"
           ]
          }
         ],
         "line": {
          "color": [
           0,
           0,
           0,
           0,
           0,
           1,
           1,
           1,
           1,
           1,
           2,
           3,
           3,
           2,
           2,
           0,
           0,
           0,
           0,
           4,
           4,
           4,
           3,
           3,
           0,
           1,
           1,
           0,
           1,
           4,
           4,
           4,
           4,
           4,
           4,
           4,
           4,
           4,
           4,
           2,
           2,
           2,
           2,
           2,
           3,
           3,
           3,
           3,
           3,
           1,
           1,
           1,
           1,
           1,
           3,
           3,
           2,
           2,
           2,
           4,
           4,
           4,
           4,
           4,
           3,
           3,
           3,
           0,
           0,
           0,
           0,
           1,
           2,
           2,
           1,
           2,
           2,
           3,
           3,
           3,
           3,
           3,
           1,
           2,
           2,
           2,
           2,
           0,
           0,
           0,
           0,
           0,
           4,
           4,
           4,
           4,
           3,
           0,
           0,
           1,
           1,
           1,
           0,
           0,
           0,
           1,
           1,
           0,
           0,
           0,
           0,
           0,
           0,
           0,
           0,
           1,
           1,
           0,
           1,
           1,
           1,
           1,
           4,
           4,
           4,
           4,
           4,
           0,
           0,
           0,
           0,
           0,
           0,
           0,
           0,
           0,
           4,
           4,
           4,
           4,
           4,
           2,
           2,
           2,
           2,
           2,
           4,
           4,
           3,
           3,
           3,
           0,
           0,
           0,
           0,
           0,
           0,
           1,
           1,
           1,
           0,
           0,
           0,
           1,
           4,
           4,
           4,
           4,
           4,
           3,
           2,
           2,
           2,
           2,
           2,
           2,
           2,
           3,
           3,
           4,
           4,
           4,
           4,
           4,
           4,
           4,
           4,
           4,
           4,
           1,
           1,
           2,
           2,
           2,
           2,
           3,
           3,
           3,
           3,
           3,
           0,
           1,
           1,
           1,
           0,
           3,
           3,
           3,
           3,
           3,
           2,
           2,
           2,
           2,
           3,
           1,
           1,
           1,
           0,
           0,
           4,
           4,
           4,
           4,
           4,
           4,
           4,
           4,
           4,
           4,
           0,
           0,
           1,
           1,
           1,
           1,
           0,
           0,
           0,
           0,
           1,
           4,
           4,
           4,
           4,
           4,
           1,
           0,
           0,
           1,
           1,
           1,
           1,
           2,
           2,
           2,
           3,
           3,
           4,
           3,
           4,
           0,
           0,
           0,
           0,
           1,
           1,
           0,
           0,
           0,
           0,
           1,
           1,
           2,
           2,
           3,
           2,
           2,
           2,
           2,
           2,
           1,
           2,
           2,
           2,
           3,
           4,
           4,
           4,
           4,
           4,
           1,
           1,
           0,
           0,
           0,
           2,
           2,
           2,
           2,
           2,
           1,
           1,
           1,
           1,
           1,
           1,
           1,
           1,
           1,
           1,
           4,
           4,
           4,
           4,
           4,
           4,
           4,
           4,
           4,
           4,
           3,
           3,
           3,
           3,
           3,
           0,
           0,
           0,
           1,
           1,
           2,
           2,
           2,
           3,
           3,
           3,
           3,
           3,
           3,
           3,
           2,
           2,
           2,
           2,
           1,
           3,
           3,
           3,
           3,
           3,
           1,
           0,
           1,
           1,
           1,
           2,
           2,
           2,
           2,
           3,
           3,
           3,
           3,
           3,
           3,
           2,
           2,
           1,
           2,
           2,
           1,
           1,
           1,
           1,
           2,
           2,
           3,
           3,
           3,
           1,
           2,
           2,
           2,
           2,
           1,
           0,
           0,
           0,
           1,
           0,
           0,
           0,
           0,
           3,
           2,
           2,
           2,
           2,
           3,
           3,
           3,
           3,
           3,
           4,
           4,
           4,
           4,
           4,
           1,
           2,
           2,
           2,
           0,
           0,
           0,
           0,
           0,
           0,
           0,
           0,
           0,
           0,
           3,
           3,
           3,
           3,
           2,
           0,
           0,
           0,
           1,
           1,
           3,
           4,
           4,
           4,
           4,
           1,
           0,
           0,
           0,
           1,
           2,
           2,
           2,
           3,
           3,
           4,
           4,
           4,
           4,
           4,
           3,
           3,
           3,
           2,
           2,
           1,
           1,
           1,
           2,
           2,
           2,
           2,
           2,
           2,
           2,
           1,
           2,
           2,
           2,
           2,
           1,
           1,
           1,
           1,
           0,
           1,
           1,
           0,
           1,
           1,
           1,
           1,
           1,
           1,
           1,
           1,
           1,
           1,
           4,
           4,
           4,
           4,
           4,
           4,
           4,
           4,
           4,
           4,
           3,
           3,
           3,
           3,
           3,
           0,
           0,
           0,
           0,
           1,
           2,
           1,
           1,
           2,
           2,
           2,
           3,
           3,
           2,
           3,
           2,
           4,
           4,
           4,
           4,
           4,
           4,
           2,
           2,
           2,
           2,
           2,
           1,
           1,
           1,
           1,
           1,
           4,
           4,
           4,
           4,
           3,
           3,
           2,
           2,
           2,
           2,
           3,
           2,
           2,
           2,
           2,
           1,
           2,
           2,
           2,
           2,
           3,
           3,
           3,
           3,
           3,
           2,
           2,
           2,
           2,
           2,
           4,
           4,
           3,
           3,
           3,
           3,
           2,
           2,
           3,
           3,
           3,
           2,
           3,
           3,
           3,
           2,
           0,
           0,
           0,
           0,
           0,
           4,
           3,
           3,
           3,
           3,
           0,
           0,
           1,
           1,
           1,
           2,
           2,
           2,
           2,
           2,
           1,
           1,
           1,
           1,
           1,
           4,
           4,
           4,
           3,
           3,
           3,
           3,
           3,
           3,
           3,
           3,
           3,
           3,
           3,
           3,
           2,
           2,
           1,
           1,
           1,
           1,
           1,
           1,
           1,
           1,
           1,
           3,
           3,
           3,
           3,
           3,
           0,
           0,
           0,
           0,
           3,
           3,
           4,
           3,
           3,
           0,
           1,
           1,
           1,
           1,
           1,
           0,
           0,
           0,
           3,
           3,
           1,
           0,
           4,
           4,
           4,
           4,
           4,
           4,
           4,
           4,
           4,
           4,
           0,
           0,
           0,
           0,
           0,
           3,
           3,
           4,
           4,
           4,
           1,
           1,
           1,
           2,
           2,
           0,
           0,
           0,
           0,
           0,
           4,
           4,
           4,
           3,
           3,
           0,
           0,
           0,
           0,
           0,
           3,
           3,
           3,
           3,
           3,
           1,
           1,
           1,
           1,
           1,
           2,
           2,
           2,
           2,
           2,
           2,
           2,
           3,
           2,
           2,
           0,
           0,
           0,
           0,
           0,
           1,
           0,
           0,
           0,
           0,
           4,
           4,
           4,
           4,
           4,
           4,
           4,
           4,
           4,
           4,
           4,
           4,
           4,
           4,
           4,
           4,
           4,
           4,
           3,
           3,
           3,
           3,
           3,
           3,
           3,
           4,
           3,
           2,
           1,
           1,
           2,
           1,
           1,
           2,
           2,
           0,
           0,
           0,
           0,
           0,
           2,
           1,
           1,
           1,
           0,
           1,
           0,
           0,
           0,
           0
          ],
          "colorscale": [
           [
            0,
            "darkblue"
           ],
           [
            0.25,
            "purple"
           ],
           [
            0.5,
            "pink"
           ],
           [
            0.75,
            "orange"
           ],
           [
            1,
            "lightyellow"
           ]
          ]
         },
         "type": "parcats"
        }
       ],
       "layout": {
        "annotations": [
         {
          "showarrow": false,
          "text": "Voor alle variabelen geldt dat ze gekwantiseerd zijn in 5 categorieën. Hoe donkerder de kleur, hoe lager de score. <br> Door te kijken welke combinatie van groepen binnen de Health en Economy variabelen naar een bepaalde groep binnen de Happiness Score leiden, valt er verbanden te zien.",
          "x": 0.5,
          "xref": "paper",
          "y": -0.25,
          "yref": "paper"
         }
        ],
        "margin": {
         "b": 90
        },
        "template": {
         "data": {
          "bar": [
           {
            "error_x": {
             "color": "#2a3f5f"
            },
            "error_y": {
             "color": "#2a3f5f"
            },
            "marker": {
             "line": {
              "color": "#E5ECF6",
              "width": 0.5
             },
             "pattern": {
              "fillmode": "overlay",
              "size": 10,
              "solidity": 0.2
             }
            },
            "type": "bar"
           }
          ],
          "barpolar": [
           {
            "marker": {
             "line": {
              "color": "#E5ECF6",
              "width": 0.5
             },
             "pattern": {
              "fillmode": "overlay",
              "size": 10,
              "solidity": 0.2
             }
            },
            "type": "barpolar"
           }
          ],
          "carpet": [
           {
            "aaxis": {
             "endlinecolor": "#2a3f5f",
             "gridcolor": "white",
             "linecolor": "white",
             "minorgridcolor": "white",
             "startlinecolor": "#2a3f5f"
            },
            "baxis": {
             "endlinecolor": "#2a3f5f",
             "gridcolor": "white",
             "linecolor": "white",
             "minorgridcolor": "white",
             "startlinecolor": "#2a3f5f"
            },
            "type": "carpet"
           }
          ],
          "choropleth": [
           {
            "colorbar": {
             "outlinewidth": 0,
             "ticks": ""
            },
            "type": "choropleth"
           }
          ],
          "contour": [
           {
            "colorbar": {
             "outlinewidth": 0,
             "ticks": ""
            },
            "colorscale": [
             [
              0,
              "#0d0887"
             ],
             [
              0.1111111111111111,
              "#46039f"
             ],
             [
              0.2222222222222222,
              "#7201a8"
             ],
             [
              0.3333333333333333,
              "#9c179e"
             ],
             [
              0.4444444444444444,
              "#bd3786"
             ],
             [
              0.5555555555555556,
              "#d8576b"
             ],
             [
              0.6666666666666666,
              "#ed7953"
             ],
             [
              0.7777777777777778,
              "#fb9f3a"
             ],
             [
              0.8888888888888888,
              "#fdca26"
             ],
             [
              1,
              "#f0f921"
             ]
            ],
            "type": "contour"
           }
          ],
          "contourcarpet": [
           {
            "colorbar": {
             "outlinewidth": 0,
             "ticks": ""
            },
            "type": "contourcarpet"
           }
          ],
          "heatmap": [
           {
            "colorbar": {
             "outlinewidth": 0,
             "ticks": ""
            },
            "colorscale": [
             [
              0,
              "#0d0887"
             ],
             [
              0.1111111111111111,
              "#46039f"
             ],
             [
              0.2222222222222222,
              "#7201a8"
             ],
             [
              0.3333333333333333,
              "#9c179e"
             ],
             [
              0.4444444444444444,
              "#bd3786"
             ],
             [
              0.5555555555555556,
              "#d8576b"
             ],
             [
              0.6666666666666666,
              "#ed7953"
             ],
             [
              0.7777777777777778,
              "#fb9f3a"
             ],
             [
              0.8888888888888888,
              "#fdca26"
             ],
             [
              1,
              "#f0f921"
             ]
            ],
            "type": "heatmap"
           }
          ],
          "heatmapgl": [
           {
            "colorbar": {
             "outlinewidth": 0,
             "ticks": ""
            },
            "colorscale": [
             [
              0,
              "#0d0887"
             ],
             [
              0.1111111111111111,
              "#46039f"
             ],
             [
              0.2222222222222222,
              "#7201a8"
             ],
             [
              0.3333333333333333,
              "#9c179e"
             ],
             [
              0.4444444444444444,
              "#bd3786"
             ],
             [
              0.5555555555555556,
              "#d8576b"
             ],
             [
              0.6666666666666666,
              "#ed7953"
             ],
             [
              0.7777777777777778,
              "#fb9f3a"
             ],
             [
              0.8888888888888888,
              "#fdca26"
             ],
             [
              1,
              "#f0f921"
             ]
            ],
            "type": "heatmapgl"
           }
          ],
          "histogram": [
           {
            "marker": {
             "pattern": {
              "fillmode": "overlay",
              "size": 10,
              "solidity": 0.2
             }
            },
            "type": "histogram"
           }
          ],
          "histogram2d": [
           {
            "colorbar": {
             "outlinewidth": 0,
             "ticks": ""
            },
            "colorscale": [
             [
              0,
              "#0d0887"
             ],
             [
              0.1111111111111111,
              "#46039f"
             ],
             [
              0.2222222222222222,
              "#7201a8"
             ],
             [
              0.3333333333333333,
              "#9c179e"
             ],
             [
              0.4444444444444444,
              "#bd3786"
             ],
             [
              0.5555555555555556,
              "#d8576b"
             ],
             [
              0.6666666666666666,
              "#ed7953"
             ],
             [
              0.7777777777777778,
              "#fb9f3a"
             ],
             [
              0.8888888888888888,
              "#fdca26"
             ],
             [
              1,
              "#f0f921"
             ]
            ],
            "type": "histogram2d"
           }
          ],
          "histogram2dcontour": [
           {
            "colorbar": {
             "outlinewidth": 0,
             "ticks": ""
            },
            "colorscale": [
             [
              0,
              "#0d0887"
             ],
             [
              0.1111111111111111,
              "#46039f"
             ],
             [
              0.2222222222222222,
              "#7201a8"
             ],
             [
              0.3333333333333333,
              "#9c179e"
             ],
             [
              0.4444444444444444,
              "#bd3786"
             ],
             [
              0.5555555555555556,
              "#d8576b"
             ],
             [
              0.6666666666666666,
              "#ed7953"
             ],
             [
              0.7777777777777778,
              "#fb9f3a"
             ],
             [
              0.8888888888888888,
              "#fdca26"
             ],
             [
              1,
              "#f0f921"
             ]
            ],
            "type": "histogram2dcontour"
           }
          ],
          "mesh3d": [
           {
            "colorbar": {
             "outlinewidth": 0,
             "ticks": ""
            },
            "type": "mesh3d"
           }
          ],
          "parcoords": [
           {
            "line": {
             "colorbar": {
              "outlinewidth": 0,
              "ticks": ""
             }
            },
            "type": "parcoords"
           }
          ],
          "pie": [
           {
            "automargin": true,
            "type": "pie"
           }
          ],
          "scatter": [
           {
            "fillpattern": {
             "fillmode": "overlay",
             "size": 10,
             "solidity": 0.2
            },
            "type": "scatter"
           }
          ],
          "scatter3d": [
           {
            "line": {
             "colorbar": {
              "outlinewidth": 0,
              "ticks": ""
             }
            },
            "marker": {
             "colorbar": {
              "outlinewidth": 0,
              "ticks": ""
             }
            },
            "type": "scatter3d"
           }
          ],
          "scattercarpet": [
           {
            "marker": {
             "colorbar": {
              "outlinewidth": 0,
              "ticks": ""
             }
            },
            "type": "scattercarpet"
           }
          ],
          "scattergeo": [
           {
            "marker": {
             "colorbar": {
              "outlinewidth": 0,
              "ticks": ""
             }
            },
            "type": "scattergeo"
           }
          ],
          "scattergl": [
           {
            "marker": {
             "colorbar": {
              "outlinewidth": 0,
              "ticks": ""
             }
            },
            "type": "scattergl"
           }
          ],
          "scattermapbox": [
           {
            "marker": {
             "colorbar": {
              "outlinewidth": 0,
              "ticks": ""
             }
            },
            "type": "scattermapbox"
           }
          ],
          "scatterpolar": [
           {
            "marker": {
             "colorbar": {
              "outlinewidth": 0,
              "ticks": ""
             }
            },
            "type": "scatterpolar"
           }
          ],
          "scatterpolargl": [
           {
            "marker": {
             "colorbar": {
              "outlinewidth": 0,
              "ticks": ""
             }
            },
            "type": "scatterpolargl"
           }
          ],
          "scatterternary": [
           {
            "marker": {
             "colorbar": {
              "outlinewidth": 0,
              "ticks": ""
             }
            },
            "type": "scatterternary"
           }
          ],
          "surface": [
           {
            "colorbar": {
             "outlinewidth": 0,
             "ticks": ""
            },
            "colorscale": [
             [
              0,
              "#0d0887"
             ],
             [
              0.1111111111111111,
              "#46039f"
             ],
             [
              0.2222222222222222,
              "#7201a8"
             ],
             [
              0.3333333333333333,
              "#9c179e"
             ],
             [
              0.4444444444444444,
              "#bd3786"
             ],
             [
              0.5555555555555556,
              "#d8576b"
             ],
             [
              0.6666666666666666,
              "#ed7953"
             ],
             [
              0.7777777777777778,
              "#fb9f3a"
             ],
             [
              0.8888888888888888,
              "#fdca26"
             ],
             [
              1,
              "#f0f921"
             ]
            ],
            "type": "surface"
           }
          ],
          "table": [
           {
            "cells": {
             "fill": {
              "color": "#EBF0F8"
             },
             "line": {
              "color": "white"
             }
            },
            "header": {
             "fill": {
              "color": "#C8D4E3"
             },
             "line": {
              "color": "white"
             }
            },
            "type": "table"
           }
          ]
         },
         "layout": {
          "annotationdefaults": {
           "arrowcolor": "#2a3f5f",
           "arrowhead": 0,
           "arrowwidth": 1
          },
          "autotypenumbers": "strict",
          "coloraxis": {
           "colorbar": {
            "outlinewidth": 0,
            "ticks": ""
           }
          },
          "colorscale": {
           "diverging": [
            [
             0,
             "#8e0152"
            ],
            [
             0.1,
             "#c51b7d"
            ],
            [
             0.2,
             "#de77ae"
            ],
            [
             0.3,
             "#f1b6da"
            ],
            [
             0.4,
             "#fde0ef"
            ],
            [
             0.5,
             "#f7f7f7"
            ],
            [
             0.6,
             "#e6f5d0"
            ],
            [
             0.7,
             "#b8e186"
            ],
            [
             0.8,
             "#7fbc41"
            ],
            [
             0.9,
             "#4d9221"
            ],
            [
             1,
             "#276419"
            ]
           ],
           "sequential": [
            [
             0,
             "#0d0887"
            ],
            [
             0.1111111111111111,
             "#46039f"
            ],
            [
             0.2222222222222222,
             "#7201a8"
            ],
            [
             0.3333333333333333,
             "#9c179e"
            ],
            [
             0.4444444444444444,
             "#bd3786"
            ],
            [
             0.5555555555555556,
             "#d8576b"
            ],
            [
             0.6666666666666666,
             "#ed7953"
            ],
            [
             0.7777777777777778,
             "#fb9f3a"
            ],
            [
             0.8888888888888888,
             "#fdca26"
            ],
            [
             1,
             "#f0f921"
            ]
           ],
           "sequentialminus": [
            [
             0,
             "#0d0887"
            ],
            [
             0.1111111111111111,
             "#46039f"
            ],
            [
             0.2222222222222222,
             "#7201a8"
            ],
            [
             0.3333333333333333,
             "#9c179e"
            ],
            [
             0.4444444444444444,
             "#bd3786"
            ],
            [
             0.5555555555555556,
             "#d8576b"
            ],
            [
             0.6666666666666666,
             "#ed7953"
            ],
            [
             0.7777777777777778,
             "#fb9f3a"
            ],
            [
             0.8888888888888888,
             "#fdca26"
            ],
            [
             1,
             "#f0f921"
            ]
           ]
          },
          "colorway": [
           "#636efa",
           "#EF553B",
           "#00cc96",
           "#ab63fa",
           "#FFA15A",
           "#19d3f3",
           "#FF6692",
           "#B6E880",
           "#FF97FF",
           "#FECB52"
          ],
          "font": {
           "color": "#2a3f5f"
          },
          "geo": {
           "bgcolor": "white",
           "lakecolor": "white",
           "landcolor": "#E5ECF6",
           "showlakes": true,
           "showland": true,
           "subunitcolor": "white"
          },
          "hoverlabel": {
           "align": "left"
          },
          "hovermode": "closest",
          "mapbox": {
           "style": "light"
          },
          "paper_bgcolor": "white",
          "plot_bgcolor": "#E5ECF6",
          "polar": {
           "angularaxis": {
            "gridcolor": "white",
            "linecolor": "white",
            "ticks": ""
           },
           "bgcolor": "#E5ECF6",
           "radialaxis": {
            "gridcolor": "white",
            "linecolor": "white",
            "ticks": ""
           }
          },
          "scene": {
           "xaxis": {
            "backgroundcolor": "#E5ECF6",
            "gridcolor": "white",
            "gridwidth": 2,
            "linecolor": "white",
            "showbackground": true,
            "ticks": "",
            "zerolinecolor": "white"
           },
           "yaxis": {
            "backgroundcolor": "#E5ECF6",
            "gridcolor": "white",
            "gridwidth": 2,
            "linecolor": "white",
            "showbackground": true,
            "ticks": "",
            "zerolinecolor": "white"
           },
           "zaxis": {
            "backgroundcolor": "#E5ECF6",
            "gridcolor": "white",
            "gridwidth": 2,
            "linecolor": "white",
            "showbackground": true,
            "ticks": "",
            "zerolinecolor": "white"
           }
          },
          "shapedefaults": {
           "line": {
            "color": "#2a3f5f"
           }
          },
          "ternary": {
           "aaxis": {
            "gridcolor": "white",
            "linecolor": "white",
            "ticks": ""
           },
           "baxis": {
            "gridcolor": "white",
            "linecolor": "white",
            "ticks": ""
           },
           "bgcolor": "#E5ECF6",
           "caxis": {
            "gridcolor": "white",
            "linecolor": "white",
            "ticks": ""
           }
          },
          "title": {
           "x": 0.05
          },
          "xaxis": {
           "automargin": true,
           "gridcolor": "white",
           "linecolor": "white",
           "ticks": "",
           "title": {
            "standoff": 15
           },
           "zerolinecolor": "white",
           "zerolinewidth": 2
          },
          "yaxis": {
           "automargin": true,
           "gridcolor": "white",
           "linecolor": "white",
           "ticks": "",
           "title": {
            "standoff": 15
           },
           "zerolinecolor": "white",
           "zerolinewidth": 2
          }
         }
        },
        "title": {
         "text": "De invloed van de Health en Economy variabelen op de Happiness Score"
        }
       }
      },
      "text/html": [
       "<div>                            <div id=\"85c3fda2-58f3-4eab-92a6-619d1bfc15b5\" class=\"plotly-graph-div\" style=\"height:525px; width:100%;\"></div>            <script type=\"text/javascript\">                require([\"plotly\"], function(Plotly) {                    window.PLOTLYENV=window.PLOTLYENV || {};                                    if (document.getElementById(\"85c3fda2-58f3-4eab-92a6-619d1bfc15b5\")) {                    Plotly.newPlot(                        \"85c3fda2-58f3-4eab-92a6-619d1bfc15b5\",                        [{\"dimensions\":[{\"categoryarray\":[\"Low\",\"Below Average\",\"Average\",\"Above Average\",\"High\"],\"categoryorder\":\"array\",\"label\":\"Health (Life Expectancy)\",\"values\":[\"Low\",\"Low\",\"Low\",\"Low\",\"Low\",\"Above Average\",\"Above Average\",\"Above Average\",\"Above Average\",\"High\",\"Average\",\"Average\",\"Average\",\"Average\",\"Above Average\",\"Low\",\"Low\",\"Low\",\"Low\",\"Above Average\",\"Average\",\"Average\",\"Above Average\",\"High\",\"Above Average\",\"Average\",\"Average\",\"Average\",\"Above Average\",\"High\",\"High\",\"High\",\"High\",\"High\",\"High\",\"Above Average\",\"Above Average\",\"High\",\"High\",\"Average\",\"Below Average\",\"Below Average\",\"Average\",\"Above Average\",\"Above Average\",\"Average\",\"Average\",\"Average\",\"High\",\"Average\",\"Below Average\",\"Below Average\",\"Below Average\",\"Above Average\",\"Above Average\",\"Average\",\"Average\",\"Average\",\"Above Average\",\"High\",\"Above Average\",\"Above Average\",\"High\",\"High\",\"Below Average\",\"Below Average\",\"Below Average\",\"Low\",\"Low\",\"Low\",\"Low\",\"Below Average\",\"Below Average\",\"Below Average\",\"Below Average\",\"Below Average\",\"Average\",\"Below Average\",\"Below Average\",\"Below Average\",\"Below Average\",\"Average\",\"Above Average\",\"Average\",\"Average\",\"Above Average\",\"High\",\"Low\",\"Low\",\"Low\",\"Below Average\",\"Below Average\",\"Average\",\"Average\",\"Average\",\"Average\",\"Above Average\",\"Above Average\",\"Average\",\"Average\",\"Above Average\",\"Above Average\",\"Low\",\"Low\",\"Low\",\"Low\",\"Below Average\",\"Low\",\"Low\",\"Low\",\"Low\",\"Below Average\",\"Average\",\"Below Average\",\"Below Average\",\"Below Average\",\"Average\",\"Low\",\"Low\",\"Low\",\"Low\",\"Low\",\"High\",\"Above Average\",\"High\",\"High\",\"High\",\"Low\",\"Low\",\"Low\",\"Low\",\"Low\",\"Low\",\"Low\",\"Low\",\"Low\",\"High\",\"Above Average\",\"Above Average\",\"Above Average\",\"High\",\"Above Average\",\"Above Average\",\"Above Average\",\"Above Average\",\"High\",\"Average\",\"Average\",\"Below Average\",\"Average\",\"High\",\"Low\",\"Low\",\"Below Average\",\"Low\",\"Low\",\"Low\",\"Low\",\"Below Average\",\"Low\",\"Low\",\"Low\",\"Low\",\"Low\",\"High\",\"Above Average\",\"Above Average\",\"Above Average\",\"High\",\"Above Average\",\"Average\",\"Average\",\"Above Average\",\"High\",\"High\",\"High\",\"High\",\"High\",\"High\",\"High\",\"Above Average\",\"Above Average\",\"High\",\"High\",\"High\",\"Above Average\",\"Above Average\",\"High\",\"High\",\"Low\",\"Average\",\"Below Average\",\"Below Average\",\"Average\",\"Above Average\",\"Above Average\",\"Average\",\"Average\",\"Above Average\",\"High\",\"Average\",\"Below Average\",\"Below Average\",\"Below Average\",\"Average\",\"Average\",\"Below Average\",\"Average\",\"Average\",\"Above Average\",\"Above Average\",\"Average\",\"Average\",\"Above Average\",\"High\",\"Below Average\",\"Low\",\"Low\",\"Below Average\",\"Below Average\",\"High\",\"Above Average\",\"Above Average\",\"High\",\"High\",\"High\",\"High\",\"High\",\"High\",\"High\",\"Below Average\",\"Low\",\"Low\",\"Below Average\",\"Below Average\",\"Below Average\",\"Above Average\",\"Average\",\"Average\",\"Average\",\"Above Average\",\"High\",\"Above Average\",\"Above Average\",\"High\",\"High\",\"Below Average\",\"Low\",\"Low\",\"Low\",\"Below Average\",\"High\",\"Above Average\",\"Above Average\",\"High\",\"High\",\"Average\",\"Below Average\",\"Below Average\",\"Average\",\"Above Average\",\"Low\",\"Low\",\"Low\",\"Low\",\"Low\",\"Below Average\",\"Low\",\"Low\",\"Low\",\"Below Average\",\"Average\",\"Below Average\",\"Below Average\",\"Average\",\"Above Average\",\"High\",\"High\",\"High\",\"High\",\"High\",\"Above Average\",\"Average\",\"Average\",\"Above Average\",\"Above Average\",\"High\",\"High\",\"High\",\"High\",\"High\",\"Below Average\",\"Below Average\",\"Below Average\",\"Below Average\",\"Below Average\",\"Average\",\"Below Average\",\"Below Average\",\"Below Average\",\"Average\",\"Average\",\"Average\",\"Average\",\"Average\",\"Above Average\",\"Average\",\"Below Average\",\"Below Average\",\"Below Average\",\"Below Average\",\"High\",\"Above Average\",\"Above Average\",\"High\",\"High\",\"High\",\"High\",\"High\",\"High\",\"High\",\"High\",\"High\",\"High\",\"High\",\"High\",\"Low\",\"Low\",\"Low\",\"Low\",\"Low\",\"Average\",\"Below Average\",\"Average\",\"Average\",\"High\",\"High\",\"High\",\"High\",\"High\",\"High\",\"Average\",\"Average\",\"Average\",\"Average\",\"Above Average\",\"Average\",\"Below Average\",\"Average\",\"Average\",\"Above Average\",\"Below Average\",\"Low\",\"Low\",\"Below Average\",\"Below Average\",\"Average\",\"Below Average\",\"Below Average\",\"Below Average\",\"Above Average\",\"Above Average\",\"Average\",\"Average\",\"Average\",\"Above Average\",\"Average\",\"Below Average\",\"Below Average\",\"Below Average\",\"Above Average\",\"Below Average\",\"Below Average\",\"Below Average\",\"Below Average\",\"Above Average\",\"Average\",\"Average\",\"Average\",\"Above Average\",\"High\",\"Above Average\",\"Above Average\",\"Above Average\",\"Above Average\",\"Low\",\"Low\",\"Low\",\"Low\",\"Low\",\"Low\",\"Low\",\"Low\",\"Below Average\",\"Average\",\"Below Average\",\"Below Average\",\"Below Average\",\"Average\",\"Above Average\",\"Average\",\"Average\",\"Above Average\",\"Above Average\",\"High\",\"High\",\"High\",\"High\",\"High\",\"Above Average\",\"Average\",\"Average\",\"Average\",\"Below Average\",\"Low\",\"Below Average\",\"Below Average\",\"Below Average\",\"Low\",\"Low\",\"Low\",\"Low\",\"Below Average\",\"Above Average\",\"Average\",\"Average\",\"Average\",\"Above Average\",\"Low\",\"Low\",\"Low\",\"Low\",\"Low\",\"High\",\"Above Average\",\"Above Average\",\"High\",\"High\",\"Low\",\"Low\",\"Low\",\"Low\",\"Below Average\",\"Above Average\",\"Average\",\"Average\",\"Average\",\"Above Average\",\"Above Average\",\"Above Average\",\"Above Average\",\"Above Average\",\"High\",\"Average\",\"Below Average\",\"Below Average\",\"Average\",\"Above Average\",\"Average\",\"Below Average\",\"Below Average\",\"Below Average\",\"Average\",\"Above Average\",\"Average\",\"Average\",\"Above Average\",\"High\",\"Average\",\"Below Average\",\"Average\",\"Average\",\"Above Average\",\"Low\",\"Low\",\"Low\",\"Below Average\",\"Below Average\",\"Below Average\",\"Below Average\",\"Below Average\",\"Below Average\",\"Low\",\"Low\",\"Low\",\"Below Average\",\"Below Average\",\"Below Average\",\"Below Average\",\"Below Average\",\"Average\",\"High\",\"Above Average\",\"Above Average\",\"High\",\"High\",\"High\",\"High\",\"Above Average\",\"High\",\"High\",\"Above Average\",\"Average\",\"Average\",\"Average\",\"High\",\"Low\",\"Low\",\"Low\",\"Low\",\"Low\",\"Low\",\"Low\",\"Low\",\"Low\",\"Low\",\"High\",\"High\",\"High\",\"High\",\"High\",\"High\",\"High\",\"Above Average\",\"Above Average\",\"High\",\"High\",\"Above Average\",\"Below Average\",\"Below Average\",\"Below Average\",\"Below Average\",\"Below Average\",\"Average\",\"Below Average\",\"Below Average\",\"Average\",\"Average\",\"Above Average\",\"Above Average\",\"Average\",\"Above Average\",\"High\",\"Average\",\"Below Average\",\"Below Average\",\"Average\",\"Above Average\",\"Above Average\",\"Average\",\"Average\",\"Average\",\"High\",\"Below Average\",\"Below Average\",\"Below Average\",\"Below Average\",\"Average\",\"Above Average\",\"Average\",\"Average\",\"Above Average\",\"High\",\"High\",\"Above Average\",\"Above Average\",\"High\",\"High\",\"Above Average\",\"Above Average\",\"Above Average\",\"Above Average\",\"Above Average\",\"High\",\"Above Average\",\"Average\",\"Average\",\"Above Average\",\"Above Average\",\"Average\",\"Below Average\",\"Below Average\",\"Average\",\"Above Average\",\"Below Average\",\"Low\",\"Low\",\"Below Average\",\"Average\",\"Above Average\",\"Below Average\",\"Below Average\",\"Average\",\"Above Average\",\"Below Average\",\"Below Average\",\"Below Average\",\"Below Average\",\"Below Average\",\"Above Average\",\"Average\",\"Average\",\"Average\",\"High\",\"Low\",\"Low\",\"Low\",\"Low\",\"Low\",\"High\",\"High\",\"High\",\"High\",\"High\",\"Above Average\",\"Average\",\"Above Average\",\"Above Average\",\"High\",\"High\",\"Above Average\",\"Above Average\",\"High\",\"High\",\"Low\",\"Low\",\"Low\",\"Low\",\"Low\",\"Below Average\",\"Low\",\"Low\",\"Low\",\"Low\",\"Below Average\",\"High\",\"High\",\"High\",\"High\",\"High\",\"Low\",\"Low\",\"Low\",\"Low\",\"High\",\"High\",\"High\",\"High\",\"High\",\"Average\",\"Average\",\"Average\",\"Average\",\"High\",\"Low\",\"Low\",\"Low\",\"Low\",\"Average\",\"Below Average\",\"Low\",\"Low\",\"High\",\"High\",\"Above Average\",\"High\",\"High\",\"High\",\"High\",\"High\",\"High\",\"High\",\"Above Average\",\"Average\",\"Below Average\",\"Below Average\",\"Below Average\",\"High\",\"Above Average\",\"High\",\"High\",\"Above Average\",\"Below Average\",\"Below Average\",\"Below Average\",\"Average\",\"Above Average\",\"Below Average\",\"Low\",\"Low\",\"Below Average\",\"Below Average\",\"Above Average\",\"Average\",\"Average\",\"Average\",\"Above Average\",\"Low\",\"Low\",\"Low\",\"Low\",\"Below Average\",\"Below Average\",\"Above Average\",\"Average\",\"Below Average\",\"Below Average\",\"Above Average\",\"Below Average\",\"Average\",\"Average\",\"Above Average\",\"Above Average\",\"Average\",\"Average\",\"Average\",\"Above Average\",\"Below Average\",\"Below Average\",\"Below Average\",\"Below Average\",\"Average\",\"Low\",\"Low\",\"Low\",\"Low\",\"Below Average\",\"Average\",\"Below Average\",\"Below Average\",\"Average\",\"Above Average\",\"Above Average\",\"Above Average\",\"Above Average\",\"Average\",\"Above Average\",\"High\",\"Above Average\",\"Above Average\",\"High\",\"High\",\"High\",\"Above Average\",\"Above Average\",\"Above Average\",\"High\",\"Above Average\",\"Above Average\",\"Above Average\",\"Above Average\",\"High\",\"Average\",\"Below Average\",\"Below Average\",\"Average\",\"Above Average\",\"Above Average\",\"Average\",\"Average\",\"Average\",\"Above Average\",\"Above Average\",\"Average\",\"Average\",\"Average\",\"High\",\"Below Average\",\"Low\",\"Low\",\"Low\",\"Below Average\",\"Low\",\"Low\",\"Low\",\"Low\",\"Below Average\",\"Low\",\"Low\",\"Low\",\"Low\",\"Below Average\"]},{\"categoryarray\":[\"Low\",\"Below Average\",\"Average\",\"Above Average\",\"High\"],\"categoryorder\":\"array\",\"label\":\"Economy (GDP per Capita)\",\"values\":[\"Low\",\"Low\",\"Low\",\"Low\",\"Low\",\"Average\",\"Average\",\"Average\",\"Average\",\"Average\",\"Average\",\"Average\",\"Above Average\",\"Average\",\"Average\",\"Below Average\",\"Below Average\",\"Average\",\"Below Average\",\"Average\",\"Above Average\",\"Above Average\",\"Above Average\",\"Above Average\",\"Below Average\",\"Average\",\"Average\",\"Below Average\",\"Below Average\",\"High\",\"High\",\"High\",\"High\",\"High\",\"High\",\"High\",\"High\",\"High\",\"High\",\"Average\",\"Above Average\",\"Above Average\",\"Average\",\"Average\",\"High\",\"High\",\"High\",\"High\",\"High\",\"Low\",\"Below Average\",\"Below Average\",\"Below Average\",\"Below Average\",\"Average\",\"Above Average\",\"Above Average\",\"Average\",\"Average\",\"High\",\"High\",\"High\",\"High\",\"High\",\"Average\",\"Average\",\"Below Average\",\"Low\",\"Low\",\"Low\",\"Low\",\"Low\",\"Below Average\",\"Below Average\",\"Average\",\"Below Average\",\"Below Average\",\"Below Average\",\"Below Average\",\"Below Average\",\"Below Average\",\"Below Average\",\"Below Average\",\"Average\",\"Average\",\"Average\",\"Average\",\"Average\",\"Above Average\",\"Above Average\",\"Average\",\"Average\",\"Average\",\"Above Average\",\"Above Average\",\"Average\",\"Average\",\"Average\",\"Above Average\",\"Above Average\",\"Average\",\"Above Average\",\"Low\",\"Low\",\"Low\",\"Low\",\"Low\",\"Low\",\"Low\",\"Low\",\"Low\",\"Low\",\"Low\",\"Below Average\",\"Below Average\",\"Below Average\",\"Below Average\",\"Low\",\"Below Average\",\"Below Average\",\"Below Average\",\"Below Average\",\"High\",\"High\",\"High\",\"High\",\"High\",\"Low\",\"Low\",\"Low\",\"Low\",\"Low\",\"Low\",\"Low\",\"Low\",\"Low\",\"Above Average\",\"Above Average\",\"Above Average\",\"Above Average\",\"Above Average\",\"Average\",\"Average\",\"Above Average\",\"Average\",\"Average\",\"Average\",\"Average\",\"Average\",\"Average\",\"Average\",\"Low\",\"Low\",\"Low\",\"Below Average\",\"Below Average\",\"Below Average\",\"Below Average\",\"Below Average\",\"Low\",\"Low\",\"Low\",\"Low\",\"Low\",\"Average\",\"Average\",\"Above Average\",\"Average\",\"Average\",\"Above Average\",\"Above Average\",\"Above Average\",\"Above Average\",\"Above Average\",\"Above Average\",\"High\",\"High\",\"Above Average\",\"Above Average\",\"Above Average\",\"High\",\"High\",\"Above Average\",\"Above Average\",\"High\",\"High\",\"High\",\"High\",\"High\",\"Low\",\"Average\",\"Average\",\"Above Average\",\"Average\",\"Average\",\"Average\",\"Average\",\"Average\",\"Average\",\"Average\",\"Average\",\"Average\",\"Average\",\"Average\",\"Average\",\"Below Average\",\"Average\",\"Average\",\"Below Average\",\"Below Average\",\"Above Average\",\"Above Average\",\"High\",\"Above Average\",\"Above Average\",\"Low\",\"Low\",\"Low\",\"Low\",\"Low\",\"Above Average\",\"High\",\"High\",\"High\",\"High\",\"Above Average\",\"High\",\"High\",\"High\",\"High\",\"Average\",\"Above Average\",\"Above Average\",\"Average\",\"Average\",\"Low\",\"Below Average\",\"Below Average\",\"Average\",\"Below Average\",\"Average\",\"High\",\"High\",\"High\",\"High\",\"High\",\"Below Average\",\"Below Average\",\"Below Average\",\"Below Average\",\"Below Average\",\"Above Average\",\"Above Average\",\"Above Average\",\"Above Average\",\"Above Average\",\"Below Average\",\"Below Average\",\"Average\",\"Below Average\",\"Below Average\",\"Low\",\"Low\",\"Low\",\"Low\",\"Low\",\"Low\",\"Low\",\"Low\",\"Low\",\"Low\",\"Below Average\",\"Below Average\",\"Below Average\",\"Below Average\",\"Below Average\",\"High\",\"High\",\"High\",\"High\",\"High\",\"Above Average\",\"Above Average\",\"Above Average\",\"Above Average\",\"Above Average\",\"High\",\"High\",\"High\",\"High\",\"High\",\"Below Average\",\"Below Average\",\"Below Average\",\"Below Average\",\"Below Average\",\"Below Average\",\"Average\",\"Average\",\"Average\",\"Average\",\"Average\",\"Above Average\",\"Above Average\",\"Average\",\"Above Average\",\"Average\",\"Above Average\",\"Above Average\",\"Average\",\"Average\",\"High\",\"High\",\"High\",\"High\",\"High\",\"Above Average\",\"High\",\"High\",\"High\",\"Above Average\",\"Above Average\",\"High\",\"High\",\"Above Average\",\"High\",\"Low\",\"Below Average\",\"Below Average\",\"Below Average\",\"Below Average\",\"Below Average\",\"Average\",\"Average\",\"Below Average\",\"Below Average\",\"Above Average\",\"High\",\"High\",\"High\",\"High\",\"Average\",\"Average\",\"Average\",\"Below Average\",\"Below Average\",\"Above Average\",\"Above Average\",\"Above Average\",\"Above Average\",\"Above Average\",\"Low\",\"Below Average\",\"Below Average\",\"Low\",\"Low\",\"Below Average\",\"Average\",\"Average\",\"Below Average\",\"Average\",\"High\",\"High\",\"High\",\"High\",\"High\",\"Low\",\"Below Average\",\"Below Average\",\"Below Average\",\"Below Average\",\"Below Average\",\"Below Average\",\"Below Average\",\"Below Average\",\"Above Average\",\"Above Average\",\"Above Average\",\"Above Average\",\"Above Average\",\"Average\",\"Above Average\",\"Above Average\",\"Average\",\"Average\",\"Low\",\"Low\",\"Low\",\"Low\",\"Low\",\"Low\",\"Low\",\"Low\",\"Low\",\"Above Average\",\"Average\",\"Above Average\",\"Average\",\"Average\",\"Above Average\",\"Above Average\",\"High\",\"Above Average\",\"Above Average\",\"High\",\"High\",\"High\",\"High\",\"High\",\"Average\",\"Average\",\"Average\",\"Average\",\"Low\",\"Low\",\"Low\",\"Low\",\"Low\",\"Low\",\"Low\",\"Low\",\"Low\",\"Low\",\"Above Average\",\"Above Average\",\"Above Average\",\"Above Average\",\"Above Average\",\"Low\",\"Low\",\"Low\",\"Low\",\"Low\",\"Above Average\",\"High\",\"High\",\"Above Average\",\"High\",\"Low\",\"Below Average\",\"Below Average\",\"Below Average\",\"Below Average\",\"Average\",\"Above Average\",\"Above Average\",\"Above Average\",\"Above Average\",\"Average\",\"Above Average\",\"Above Average\",\"Average\",\"Average\",\"Below Average\",\"Below Average\",\"Below Average\",\"Below Average\",\"Below Average\",\"Below Average\",\"Average\",\"Average\",\"Average\",\"Average\",\"Average\",\"Above Average\",\"Above Average\",\"Average\",\"Average\",\"Below Average\",\"Below Average\",\"Average\",\"Below Average\",\"Below Average\",\"Low\",\"Low\",\"Low\",\"Low\",\"Low\",\"Low\",\"Low\",\"Below Average\",\"Below Average\",\"Average\",\"Average\",\"Average\",\"Average\",\"Low\",\"Low\",\"Low\",\"Low\",\"Low\",\"High\",\"High\",\"High\",\"High\",\"High\",\"Above Average\",\"High\",\"High\",\"Above Average\",\"High\",\"Below Average\",\"Below Average\",\"Below Average\",\"Below Average\",\"Below Average\",\"Low\",\"Low\",\"Low\",\"Low\",\"Low\",\"Below Average\",\"Below Average\",\"Below Average\",\"Below Average\",\"Below Average\",\"Above Average\",\"High\",\"High\",\"Average\",\"Above Average\",\"Above Average\",\"High\",\"High\",\"High\",\"High\",\"High\",\"High\",\"Below Average\",\"Below Average\",\"Below Average\",\"Below Average\",\"Below Average\",\"Below Average\",\"Below Average\",\"Below Average\",\"Below Average\",\"Below Average\",\"Average\",\"Above Average\",\"Above Average\",\"Above Average\",\"Above Average\",\"Below Average\",\"Average\",\"Average\",\"Below Average\",\"Below Average\",\"Average\",\"Average\",\"Average\",\"Average\",\"Average\",\"Below Average\",\"Below Average\",\"Average\",\"Below Average\",\"Below Average\",\"Above Average\",\"Above Average\",\"Above Average\",\"Above Average\",\"Above Average\",\"Above Average\",\"Above Average\",\"High\",\"Above Average\",\"Above Average\",\"High\",\"High\",\"High\",\"High\",\"High\",\"High\",\"Average\",\"Above Average\",\"Above Average\",\"Above Average\",\"Above Average\",\"Above Average\",\"Above Average\",\"Above Average\",\"Above Average\",\"Above Average\",\"Low\",\"Low\",\"Low\",\"Low\",\"Low\",\"High\",\"High\",\"High\",\"High\",\"High\",\"Low\",\"Low\",\"Low\",\"Low\",\"Low\",\"Average\",\"Average\",\"Average\",\"Average\",\"Average\",\"Low\",\"Low\",\"Low\",\"Low\",\"Low\",\"High\",\"High\",\"High\",\"High\",\"High\",\"Above Average\",\"Above Average\",\"High\",\"Above Average\",\"Above Average\",\"Above Average\",\"High\",\"High\",\"Above Average\",\"Above Average\",\"Low\",\"Low\",\"Low\",\"Low\",\"Low\",\"Low\",\"Average\",\"Average\",\"Average\",\"Average\",\"Average\",\"Above Average\",\"High\",\"High\",\"Above Average\",\"High\",\"Low\",\"Low\",\"Low\",\"Low\",\"Above Average\",\"High\",\"High\",\"Above Average\",\"Above Average\",\"Below Average\",\"Average\",\"Average\",\"Average\",\"Average\",\"Low\",\"Below Average\",\"Below Average\",\"Below Average\",\"Average\",\"Above Average\",\"Below Average\",\"Below Average\",\"High\",\"High\",\"High\",\"High\",\"High\",\"High\",\"High\",\"High\",\"High\",\"High\",\"Below Average\",\"Below Average\",\"Below Average\",\"Below Average\",\"Below Average\",\"Above Average\",\"High\",\"High\",\"High\",\"High\",\"Low\",\"Low\",\"Below Average\",\"Low\",\"Low\",\"Low\",\"Low\",\"Low\",\"Low\",\"Low\",\"Average\",\"Above Average\",\"Above Average\",\"Average\",\"Average\",\"Low\",\"Low\",\"Low\",\"Low\",\"Low\",\"Above Average\",\"Above Average\",\"Above Average\",\"High\",\"High\",\"Average\",\"Average\",\"Average\",\"Average\",\"Average\",\"Average\",\"Above Average\",\"Above Average\",\"Above Average\",\"Above Average\",\"Average\",\"Above Average\",\"Above Average\",\"Average\",\"Average\",\"Low\",\"Low\",\"Low\",\"Low\",\"Low\",\"Below Average\",\"Average\",\"Average\",\"Below Average\",\"Below Average\",\"High\",\"High\",\"High\",\"High\",\"High\",\"Above Average\",\"High\",\"High\",\"Above Average\",\"High\",\"High\",\"High\",\"High\",\"High\",\"High\",\"Average\",\"Above Average\",\"Above Average\",\"Above Average\",\"Above Average\",\"Below Average\",\"Below Average\",\"Below Average\",\"Below Average\",\"Below Average\",\"Average\",\"Above Average\",\"Above Average\",\"Average\",\"Average\",\"Below Average\",\"Below Average\",\"Below Average\",\"Below Average\",\"Below Average\",\"Below Average\",\"Below Average\",\"Below Average\",\"Low\",\"Low\",\"Low\",\"Below Average\",\"Below Average\",\"Below Average\",\"Below Average\",\"Low\",\"Low\",\"Low\",\"Low\",\"Low\"]},{\"categoryarray\":[\"Low\",\"Below Average\",\"Average\",\"Above Average\",\"High\"],\"categoryorder\":\"array\",\"label\":\"Happiness Score\",\"values\":[\"Low\",\"Low\",\"Low\",\"Low\",\"Low\",\"Below Average\",\"Below Average\",\"Below Average\",\"Below Average\",\"Below Average\",\"Average\",\"Above Average\",\"Above Average\",\"Average\",\"Average\",\"Low\",\"Low\",\"Low\",\"Low\",\"High\",\"High\",\"High\",\"Above Average\",\"Above Average\",\"Low\",\"Below Average\",\"Below Average\",\"Low\",\"Below Average\",\"High\",\"High\",\"High\",\"High\",\"High\",\"High\",\"High\",\"High\",\"High\",\"High\",\"Average\",\"Average\",\"Average\",\"Average\",\"Average\",\"Above Average\",\"Above Average\",\"Above Average\",\"Above Average\",\"Above Average\",\"Below Average\",\"Below Average\",\"Below Average\",\"Below Average\",\"Below Average\",\"Above Average\",\"Above Average\",\"Average\",\"Average\",\"Average\",\"High\",\"High\",\"High\",\"High\",\"High\",\"Above Average\",\"Above Average\",\"Above Average\",\"Low\",\"Low\",\"Low\",\"Low\",\"Below Average\",\"Average\",\"Average\",\"Below Average\",\"Average\",\"Average\",\"Above Average\",\"Above Average\",\"Above Average\",\"Above Average\",\"Above Average\",\"Below Average\",\"Average\",\"Average\",\"Average\",\"Average\",\"Low\",\"Low\",\"Low\",\"Low\",\"Low\",\"High\",\"High\",\"High\",\"High\",\"Above Average\",\"Low\",\"Low\",\"Below Average\",\"Below Average\",\"Below Average\",\"Low\",\"Low\",\"Low\",\"Below Average\",\"Below Average\",\"Low\",\"Low\",\"Low\",\"Low\",\"Low\",\"Low\",\"Low\",\"Low\",\"Below Average\",\"Below Average\",\"Low\",\"Below Average\",\"Below Average\",\"Below Average\",\"Below Average\",\"High\",\"High\",\"High\",\"High\",\"High\",\"Low\",\"Low\",\"Low\",\"Low\",\"Low\",\"Low\",\"Low\",\"Low\",\"Low\",\"High\",\"High\",\"High\",\"High\",\"High\",\"Average\",\"Average\",\"Average\",\"Average\",\"Average\",\"High\",\"High\",\"Above Average\",\"Above Average\",\"Above Average\",\"Low\",\"Low\",\"Low\",\"Low\",\"Low\",\"Low\",\"Below Average\",\"Below Average\",\"Below Average\",\"Low\",\"Low\",\"Low\",\"Below Average\",\"High\",\"High\",\"High\",\"High\",\"High\",\"Above Average\",\"Average\",\"Average\",\"Average\",\"Average\",\"Average\",\"Average\",\"Average\",\"Above Average\",\"Above Average\",\"High\",\"High\",\"High\",\"High\",\"High\",\"High\",\"High\",\"High\",\"High\",\"High\",\"Below Average\",\"Below Average\",\"Average\",\"Average\",\"Average\",\"Average\",\"Above Average\",\"Above Average\",\"Above Average\",\"Above Average\",\"Above Average\",\"Low\",\"Below Average\",\"Below Average\",\"Below Average\",\"Low\",\"Above Average\",\"Above Average\",\"Above Average\",\"Above Average\",\"Above Average\",\"Average\",\"Average\",\"Average\",\"Average\",\"Above Average\",\"Below Average\",\"Below Average\",\"Below Average\",\"Low\",\"Low\",\"High\",\"High\",\"High\",\"High\",\"High\",\"High\",\"High\",\"High\",\"High\",\"High\",\"Low\",\"Low\",\"Below Average\",\"Below Average\",\"Below Average\",\"Below Average\",\"Low\",\"Low\",\"Low\",\"Low\",\"Below Average\",\"High\",\"High\",\"High\",\"High\",\"High\",\"Below Average\",\"Low\",\"Low\",\"Below Average\",\"Below Average\",\"Below Average\",\"Below Average\",\"Average\",\"Average\",\"Average\",\"Above Average\",\"Above Average\",\"High\",\"Above Average\",\"High\",\"Low\",\"Low\",\"Low\",\"Low\",\"Below Average\",\"Below Average\",\"Low\",\"Low\",\"Low\",\"Low\",\"Below Average\",\"Below Average\",\"Average\",\"Average\",\"Above Average\",\"Average\",\"Average\",\"Average\",\"Average\",\"Average\",\"Below Average\",\"Average\",\"Average\",\"Average\",\"Above Average\",\"High\",\"High\",\"High\",\"High\",\"High\",\"Below Average\",\"Below Average\",\"Low\",\"Low\",\"Low\",\"Average\",\"Average\",\"Average\",\"Average\",\"Average\",\"Below Average\",\"Below Average\",\"Below Average\",\"Below Average\",\"Below Average\",\"Below Average\",\"Below Average\",\"Below Average\",\"Below Average\",\"Below Average\",\"High\",\"High\",\"High\",\"High\",\"High\",\"High\",\"High\",\"High\",\"High\",\"High\",\"Above Average\",\"Above Average\",\"Above Average\",\"Above Average\",\"Above Average\",\"Low\",\"Low\",\"Low\",\"Below Average\",\"Below Average\",\"Average\",\"Average\",\"Average\",\"Above Average\",\"Above Average\",\"Above Average\",\"Above Average\",\"Above Average\",\"Above Average\",\"Above Average\",\"Average\",\"Average\",\"Average\",\"Average\",\"Below Average\",\"Above Average\",\"Above Average\",\"Above Average\",\"Above Average\",\"Above Average\",\"Below Average\",\"Low\",\"Below Average\",\"Below Average\",\"Below Average\",\"Average\",\"Average\",\"Average\",\"Average\",\"Above Average\",\"Above Average\",\"Above Average\",\"Above Average\",\"Above Average\",\"Above Average\",\"Average\",\"Average\",\"Below Average\",\"Average\",\"Average\",\"Below Average\",\"Below Average\",\"Below Average\",\"Below Average\",\"Average\",\"Average\",\"Above Average\",\"Above Average\",\"Above Average\",\"Below Average\",\"Average\",\"Average\",\"Average\",\"Average\",\"Below Average\",\"Low\",\"Low\",\"Low\",\"Below Average\",\"Low\",\"Low\",\"Low\",\"Low\",\"Above Average\",\"Average\",\"Average\",\"Average\",\"Average\",\"Above Average\",\"Above Average\",\"Above Average\",\"Above Average\",\"Above Average\",\"High\",\"High\",\"High\",\"High\",\"High\",\"Below Average\",\"Average\",\"Average\",\"Average\",\"Low\",\"Low\",\"Low\",\"Low\",\"Low\",\"Low\",\"Low\",\"Low\",\"Low\",\"Low\",\"Above Average\",\"Above Average\",\"Above Average\",\"Above Average\",\"Average\",\"Low\",\"Low\",\"Low\",\"Below Average\",\"Below Average\",\"Above Average\",\"High\",\"High\",\"High\",\"High\",\"Below Average\",\"Low\",\"Low\",\"Low\",\"Below Average\",\"Average\",\"Average\",\"Average\",\"Above Average\",\"Above Average\",\"High\",\"High\",\"High\",\"High\",\"High\",\"Above Average\",\"Above Average\",\"Above Average\",\"Average\",\"Average\",\"Below Average\",\"Below Average\",\"Below Average\",\"Average\",\"Average\",\"Average\",\"Average\",\"Average\",\"Average\",\"Average\",\"Below Average\",\"Average\",\"Average\",\"Average\",\"Average\",\"Below Average\",\"Below Average\",\"Below Average\",\"Below Average\",\"Low\",\"Below Average\",\"Below Average\",\"Low\",\"Below Average\",\"Below Average\",\"Below Average\",\"Below Average\",\"Below Average\",\"Below Average\",\"Below Average\",\"Below Average\",\"Below Average\",\"Below Average\",\"High\",\"High\",\"High\",\"High\",\"High\",\"High\",\"High\",\"High\",\"High\",\"High\",\"Above Average\",\"Above Average\",\"Above Average\",\"Above Average\",\"Above Average\",\"Low\",\"Low\",\"Low\",\"Low\",\"Below Average\",\"Average\",\"Below Average\",\"Below Average\",\"Average\",\"Average\",\"Average\",\"Above Average\",\"Above Average\",\"Average\",\"Above Average\",\"Average\",\"High\",\"High\",\"High\",\"High\",\"High\",\"High\",\"Average\",\"Average\",\"Average\",\"Average\",\"Average\",\"Below Average\",\"Below Average\",\"Below Average\",\"Below Average\",\"Below Average\",\"High\",\"High\",\"High\",\"High\",\"Above Average\",\"Above Average\",\"Average\",\"Average\",\"Average\",\"Average\",\"Above Average\",\"Average\",\"Average\",\"Average\",\"Average\",\"Below Average\",\"Average\",\"Average\",\"Average\",\"Average\",\"Above Average\",\"Above Average\",\"Above Average\",\"Above Average\",\"Above Average\",\"Average\",\"Average\",\"Average\",\"Average\",\"Average\",\"High\",\"High\",\"Above Average\",\"Above Average\",\"Above Average\",\"Above Average\",\"Average\",\"Average\",\"Above Average\",\"Above Average\",\"Above Average\",\"Average\",\"Above Average\",\"Above Average\",\"Above Average\",\"Average\",\"Low\",\"Low\",\"Low\",\"Low\",\"Low\",\"High\",\"Above Average\",\"Above Average\",\"Above Average\",\"Above Average\",\"Low\",\"Low\",\"Below Average\",\"Below Average\",\"Below Average\",\"Average\",\"Average\",\"Average\",\"Average\",\"Average\",\"Below Average\",\"Below Average\",\"Below Average\",\"Below Average\",\"Below Average\",\"High\",\"High\",\"High\",\"Above Average\",\"Above Average\",\"Above Average\",\"Above Average\",\"Above Average\",\"Above Average\",\"Above Average\",\"Above Average\",\"Above Average\",\"Above Average\",\"Above Average\",\"Above Average\",\"Average\",\"Average\",\"Below Average\",\"Below Average\",\"Below Average\",\"Below Average\",\"Below Average\",\"Below Average\",\"Below Average\",\"Below Average\",\"Below Average\",\"Above Average\",\"Above Average\",\"Above Average\",\"Above Average\",\"Above Average\",\"Low\",\"Low\",\"Low\",\"Low\",\"Above Average\",\"Above Average\",\"High\",\"Above Average\",\"Above Average\",\"Low\",\"Below Average\",\"Below Average\",\"Below Average\",\"Below Average\",\"Below Average\",\"Low\",\"Low\",\"Low\",\"Above Average\",\"Above Average\",\"Below Average\",\"Low\",\"High\",\"High\",\"High\",\"High\",\"High\",\"High\",\"High\",\"High\",\"High\",\"High\",\"Low\",\"Low\",\"Low\",\"Low\",\"Low\",\"Above Average\",\"Above Average\",\"High\",\"High\",\"High\",\"Below Average\",\"Below Average\",\"Below Average\",\"Average\",\"Average\",\"Low\",\"Low\",\"Low\",\"Low\",\"Low\",\"High\",\"High\",\"High\",\"Above Average\",\"Above Average\",\"Low\",\"Low\",\"Low\",\"Low\",\"Low\",\"Above Average\",\"Above Average\",\"Above Average\",\"Above Average\",\"Above Average\",\"Below Average\",\"Below Average\",\"Below Average\",\"Below Average\",\"Below Average\",\"Average\",\"Average\",\"Average\",\"Average\",\"Average\",\"Average\",\"Average\",\"Above Average\",\"Average\",\"Average\",\"Low\",\"Low\",\"Low\",\"Low\",\"Low\",\"Below Average\",\"Low\",\"Low\",\"Low\",\"Low\",\"High\",\"High\",\"High\",\"High\",\"High\",\"High\",\"High\",\"High\",\"High\",\"High\",\"High\",\"High\",\"High\",\"High\",\"High\",\"High\",\"High\",\"High\",\"Above Average\",\"Above Average\",\"Above Average\",\"Above Average\",\"Above Average\",\"Above Average\",\"Above Average\",\"High\",\"Above Average\",\"Average\",\"Below Average\",\"Below Average\",\"Average\",\"Below Average\",\"Below Average\",\"Average\",\"Average\",\"Low\",\"Low\",\"Low\",\"Low\",\"Low\",\"Average\",\"Below Average\",\"Below Average\",\"Below Average\",\"Low\",\"Below Average\",\"Low\",\"Low\",\"Low\",\"Low\"]}],\"line\":{\"color\":[0,0,0,0,0,1,1,1,1,1,2,3,3,2,2,0,0,0,0,4,4,4,3,3,0,1,1,0,1,4,4,4,4,4,4,4,4,4,4,2,2,2,2,2,3,3,3,3,3,1,1,1,1,1,3,3,2,2,2,4,4,4,4,4,3,3,3,0,0,0,0,1,2,2,1,2,2,3,3,3,3,3,1,2,2,2,2,0,0,0,0,0,4,4,4,4,3,0,0,1,1,1,0,0,0,1,1,0,0,0,0,0,0,0,0,1,1,0,1,1,1,1,4,4,4,4,4,0,0,0,0,0,0,0,0,0,4,4,4,4,4,2,2,2,2,2,4,4,3,3,3,0,0,0,0,0,0,1,1,1,0,0,0,1,4,4,4,4,4,3,2,2,2,2,2,2,2,3,3,4,4,4,4,4,4,4,4,4,4,1,1,2,2,2,2,3,3,3,3,3,0,1,1,1,0,3,3,3,3,3,2,2,2,2,3,1,1,1,0,0,4,4,4,4,4,4,4,4,4,4,0,0,1,1,1,1,0,0,0,0,1,4,4,4,4,4,1,0,0,1,1,1,1,2,2,2,3,3,4,3,4,0,0,0,0,1,1,0,0,0,0,1,1,2,2,3,2,2,2,2,2,1,2,2,2,3,4,4,4,4,4,1,1,0,0,0,2,2,2,2,2,1,1,1,1,1,1,1,1,1,1,4,4,4,4,4,4,4,4,4,4,3,3,3,3,3,0,0,0,1,1,2,2,2,3,3,3,3,3,3,3,2,2,2,2,1,3,3,3,3,3,1,0,1,1,1,2,2,2,2,3,3,3,3,3,3,2,2,1,2,2,1,1,1,1,2,2,3,3,3,1,2,2,2,2,1,0,0,0,1,0,0,0,0,3,2,2,2,2,3,3,3,3,3,4,4,4,4,4,1,2,2,2,0,0,0,0,0,0,0,0,0,0,3,3,3,3,2,0,0,0,1,1,3,4,4,4,4,1,0,0,0,1,2,2,2,3,3,4,4,4,4,4,3,3,3,2,2,1,1,1,2,2,2,2,2,2,2,1,2,2,2,2,1,1,1,1,0,1,1,0,1,1,1,1,1,1,1,1,1,1,4,4,4,4,4,4,4,4,4,4,3,3,3,3,3,0,0,0,0,1,2,1,1,2,2,2,3,3,2,3,2,4,4,4,4,4,4,2,2,2,2,2,1,1,1,1,1,4,4,4,4,3,3,2,2,2,2,3,2,2,2,2,1,2,2,2,2,3,3,3,3,3,2,2,2,2,2,4,4,3,3,3,3,2,2,3,3,3,2,3,3,3,2,0,0,0,0,0,4,3,3,3,3,0,0,1,1,1,2,2,2,2,2,1,1,1,1,1,4,4,4,3,3,3,3,3,3,3,3,3,3,3,3,2,2,1,1,1,1,1,1,1,1,1,3,3,3,3,3,0,0,0,0,3,3,4,3,3,0,1,1,1,1,1,0,0,0,3,3,1,0,4,4,4,4,4,4,4,4,4,4,0,0,0,0,0,3,3,4,4,4,1,1,1,2,2,0,0,0,0,0,4,4,4,3,3,0,0,0,0,0,3,3,3,3,3,1,1,1,1,1,2,2,2,2,2,2,2,3,2,2,0,0,0,0,0,1,0,0,0,0,4,4,4,4,4,4,4,4,4,4,4,4,4,4,4,4,4,4,3,3,3,3,3,3,3,4,3,2,1,1,2,1,1,2,2,0,0,0,0,0,2,1,1,1,0,1,0,0,0,0],\"colorscale\":[[0,\"darkblue\"],[0.25,\"purple\"],[0.5,\"pink\"],[0.75,\"orange\"],[1,\"lightyellow\"]]},\"type\":\"parcats\"}],                        {\"annotations\":[{\"showarrow\":false,\"text\":\"Voor alle variabelen geldt dat ze gekwantiseerd zijn in 5 categorie\\u00ebn. Hoe donkerder de kleur, hoe lager de score. \\u003cbr\\u003e Door te kijken welke combinatie van groepen binnen de Health en Economy variabelen naar een bepaalde groep binnen de Happiness Score leiden, valt er verbanden te zien.\",\"x\":0.5,\"xref\":\"paper\",\"y\":-0.25,\"yref\":\"paper\"}],\"margin\":{\"b\":90},\"title\":{\"text\":\"De invloed van de Health en Economy variabelen op de Happiness Score\"},\"template\":{\"data\":{\"histogram2dcontour\":[{\"type\":\"histogram2dcontour\",\"colorbar\":{\"outlinewidth\":0,\"ticks\":\"\"},\"colorscale\":[[0.0,\"#0d0887\"],[0.1111111111111111,\"#46039f\"],[0.2222222222222222,\"#7201a8\"],[0.3333333333333333,\"#9c179e\"],[0.4444444444444444,\"#bd3786\"],[0.5555555555555556,\"#d8576b\"],[0.6666666666666666,\"#ed7953\"],[0.7777777777777778,\"#fb9f3a\"],[0.8888888888888888,\"#fdca26\"],[1.0,\"#f0f921\"]]}],\"choropleth\":[{\"type\":\"choropleth\",\"colorbar\":{\"outlinewidth\":0,\"ticks\":\"\"}}],\"histogram2d\":[{\"type\":\"histogram2d\",\"colorbar\":{\"outlinewidth\":0,\"ticks\":\"\"},\"colorscale\":[[0.0,\"#0d0887\"],[0.1111111111111111,\"#46039f\"],[0.2222222222222222,\"#7201a8\"],[0.3333333333333333,\"#9c179e\"],[0.4444444444444444,\"#bd3786\"],[0.5555555555555556,\"#d8576b\"],[0.6666666666666666,\"#ed7953\"],[0.7777777777777778,\"#fb9f3a\"],[0.8888888888888888,\"#fdca26\"],[1.0,\"#f0f921\"]]}],\"heatmap\":[{\"type\":\"heatmap\",\"colorbar\":{\"outlinewidth\":0,\"ticks\":\"\"},\"colorscale\":[[0.0,\"#0d0887\"],[0.1111111111111111,\"#46039f\"],[0.2222222222222222,\"#7201a8\"],[0.3333333333333333,\"#9c179e\"],[0.4444444444444444,\"#bd3786\"],[0.5555555555555556,\"#d8576b\"],[0.6666666666666666,\"#ed7953\"],[0.7777777777777778,\"#fb9f3a\"],[0.8888888888888888,\"#fdca26\"],[1.0,\"#f0f921\"]]}],\"heatmapgl\":[{\"type\":\"heatmapgl\",\"colorbar\":{\"outlinewidth\":0,\"ticks\":\"\"},\"colorscale\":[[0.0,\"#0d0887\"],[0.1111111111111111,\"#46039f\"],[0.2222222222222222,\"#7201a8\"],[0.3333333333333333,\"#9c179e\"],[0.4444444444444444,\"#bd3786\"],[0.5555555555555556,\"#d8576b\"],[0.6666666666666666,\"#ed7953\"],[0.7777777777777778,\"#fb9f3a\"],[0.8888888888888888,\"#fdca26\"],[1.0,\"#f0f921\"]]}],\"contourcarpet\":[{\"type\":\"contourcarpet\",\"colorbar\":{\"outlinewidth\":0,\"ticks\":\"\"}}],\"contour\":[{\"type\":\"contour\",\"colorbar\":{\"outlinewidth\":0,\"ticks\":\"\"},\"colorscale\":[[0.0,\"#0d0887\"],[0.1111111111111111,\"#46039f\"],[0.2222222222222222,\"#7201a8\"],[0.3333333333333333,\"#9c179e\"],[0.4444444444444444,\"#bd3786\"],[0.5555555555555556,\"#d8576b\"],[0.6666666666666666,\"#ed7953\"],[0.7777777777777778,\"#fb9f3a\"],[0.8888888888888888,\"#fdca26\"],[1.0,\"#f0f921\"]]}],\"surface\":[{\"type\":\"surface\",\"colorbar\":{\"outlinewidth\":0,\"ticks\":\"\"},\"colorscale\":[[0.0,\"#0d0887\"],[0.1111111111111111,\"#46039f\"],[0.2222222222222222,\"#7201a8\"],[0.3333333333333333,\"#9c179e\"],[0.4444444444444444,\"#bd3786\"],[0.5555555555555556,\"#d8576b\"],[0.6666666666666666,\"#ed7953\"],[0.7777777777777778,\"#fb9f3a\"],[0.8888888888888888,\"#fdca26\"],[1.0,\"#f0f921\"]]}],\"mesh3d\":[{\"type\":\"mesh3d\",\"colorbar\":{\"outlinewidth\":0,\"ticks\":\"\"}}],\"scatter\":[{\"fillpattern\":{\"fillmode\":\"overlay\",\"size\":10,\"solidity\":0.2},\"type\":\"scatter\"}],\"parcoords\":[{\"type\":\"parcoords\",\"line\":{\"colorbar\":{\"outlinewidth\":0,\"ticks\":\"\"}}}],\"scatterpolargl\":[{\"type\":\"scatterpolargl\",\"marker\":{\"colorbar\":{\"outlinewidth\":0,\"ticks\":\"\"}}}],\"bar\":[{\"error_x\":{\"color\":\"#2a3f5f\"},\"error_y\":{\"color\":\"#2a3f5f\"},\"marker\":{\"line\":{\"color\":\"#E5ECF6\",\"width\":0.5},\"pattern\":{\"fillmode\":\"overlay\",\"size\":10,\"solidity\":0.2}},\"type\":\"bar\"}],\"scattergeo\":[{\"type\":\"scattergeo\",\"marker\":{\"colorbar\":{\"outlinewidth\":0,\"ticks\":\"\"}}}],\"scatterpolar\":[{\"type\":\"scatterpolar\",\"marker\":{\"colorbar\":{\"outlinewidth\":0,\"ticks\":\"\"}}}],\"histogram\":[{\"marker\":{\"pattern\":{\"fillmode\":\"overlay\",\"size\":10,\"solidity\":0.2}},\"type\":\"histogram\"}],\"scattergl\":[{\"type\":\"scattergl\",\"marker\":{\"colorbar\":{\"outlinewidth\":0,\"ticks\":\"\"}}}],\"scatter3d\":[{\"type\":\"scatter3d\",\"line\":{\"colorbar\":{\"outlinewidth\":0,\"ticks\":\"\"}},\"marker\":{\"colorbar\":{\"outlinewidth\":0,\"ticks\":\"\"}}}],\"scattermapbox\":[{\"type\":\"scattermapbox\",\"marker\":{\"colorbar\":{\"outlinewidth\":0,\"ticks\":\"\"}}}],\"scatterternary\":[{\"type\":\"scatterternary\",\"marker\":{\"colorbar\":{\"outlinewidth\":0,\"ticks\":\"\"}}}],\"scattercarpet\":[{\"type\":\"scattercarpet\",\"marker\":{\"colorbar\":{\"outlinewidth\":0,\"ticks\":\"\"}}}],\"carpet\":[{\"aaxis\":{\"endlinecolor\":\"#2a3f5f\",\"gridcolor\":\"white\",\"linecolor\":\"white\",\"minorgridcolor\":\"white\",\"startlinecolor\":\"#2a3f5f\"},\"baxis\":{\"endlinecolor\":\"#2a3f5f\",\"gridcolor\":\"white\",\"linecolor\":\"white\",\"minorgridcolor\":\"white\",\"startlinecolor\":\"#2a3f5f\"},\"type\":\"carpet\"}],\"table\":[{\"cells\":{\"fill\":{\"color\":\"#EBF0F8\"},\"line\":{\"color\":\"white\"}},\"header\":{\"fill\":{\"color\":\"#C8D4E3\"},\"line\":{\"color\":\"white\"}},\"type\":\"table\"}],\"barpolar\":[{\"marker\":{\"line\":{\"color\":\"#E5ECF6\",\"width\":0.5},\"pattern\":{\"fillmode\":\"overlay\",\"size\":10,\"solidity\":0.2}},\"type\":\"barpolar\"}],\"pie\":[{\"automargin\":true,\"type\":\"pie\"}]},\"layout\":{\"autotypenumbers\":\"strict\",\"colorway\":[\"#636efa\",\"#EF553B\",\"#00cc96\",\"#ab63fa\",\"#FFA15A\",\"#19d3f3\",\"#FF6692\",\"#B6E880\",\"#FF97FF\",\"#FECB52\"],\"font\":{\"color\":\"#2a3f5f\"},\"hovermode\":\"closest\",\"hoverlabel\":{\"align\":\"left\"},\"paper_bgcolor\":\"white\",\"plot_bgcolor\":\"#E5ECF6\",\"polar\":{\"bgcolor\":\"#E5ECF6\",\"angularaxis\":{\"gridcolor\":\"white\",\"linecolor\":\"white\",\"ticks\":\"\"},\"radialaxis\":{\"gridcolor\":\"white\",\"linecolor\":\"white\",\"ticks\":\"\"}},\"ternary\":{\"bgcolor\":\"#E5ECF6\",\"aaxis\":{\"gridcolor\":\"white\",\"linecolor\":\"white\",\"ticks\":\"\"},\"baxis\":{\"gridcolor\":\"white\",\"linecolor\":\"white\",\"ticks\":\"\"},\"caxis\":{\"gridcolor\":\"white\",\"linecolor\":\"white\",\"ticks\":\"\"}},\"coloraxis\":{\"colorbar\":{\"outlinewidth\":0,\"ticks\":\"\"}},\"colorscale\":{\"sequential\":[[0.0,\"#0d0887\"],[0.1111111111111111,\"#46039f\"],[0.2222222222222222,\"#7201a8\"],[0.3333333333333333,\"#9c179e\"],[0.4444444444444444,\"#bd3786\"],[0.5555555555555556,\"#d8576b\"],[0.6666666666666666,\"#ed7953\"],[0.7777777777777778,\"#fb9f3a\"],[0.8888888888888888,\"#fdca26\"],[1.0,\"#f0f921\"]],\"sequentialminus\":[[0.0,\"#0d0887\"],[0.1111111111111111,\"#46039f\"],[0.2222222222222222,\"#7201a8\"],[0.3333333333333333,\"#9c179e\"],[0.4444444444444444,\"#bd3786\"],[0.5555555555555556,\"#d8576b\"],[0.6666666666666666,\"#ed7953\"],[0.7777777777777778,\"#fb9f3a\"],[0.8888888888888888,\"#fdca26\"],[1.0,\"#f0f921\"]],\"diverging\":[[0,\"#8e0152\"],[0.1,\"#c51b7d\"],[0.2,\"#de77ae\"],[0.3,\"#f1b6da\"],[0.4,\"#fde0ef\"],[0.5,\"#f7f7f7\"],[0.6,\"#e6f5d0\"],[0.7,\"#b8e186\"],[0.8,\"#7fbc41\"],[0.9,\"#4d9221\"],[1,\"#276419\"]]},\"xaxis\":{\"gridcolor\":\"white\",\"linecolor\":\"white\",\"ticks\":\"\",\"title\":{\"standoff\":15},\"zerolinecolor\":\"white\",\"automargin\":true,\"zerolinewidth\":2},\"yaxis\":{\"gridcolor\":\"white\",\"linecolor\":\"white\",\"ticks\":\"\",\"title\":{\"standoff\":15},\"zerolinecolor\":\"white\",\"automargin\":true,\"zerolinewidth\":2},\"scene\":{\"xaxis\":{\"backgroundcolor\":\"#E5ECF6\",\"gridcolor\":\"white\",\"linecolor\":\"white\",\"showbackground\":true,\"ticks\":\"\",\"zerolinecolor\":\"white\",\"gridwidth\":2},\"yaxis\":{\"backgroundcolor\":\"#E5ECF6\",\"gridcolor\":\"white\",\"linecolor\":\"white\",\"showbackground\":true,\"ticks\":\"\",\"zerolinecolor\":\"white\",\"gridwidth\":2},\"zaxis\":{\"backgroundcolor\":\"#E5ECF6\",\"gridcolor\":\"white\",\"linecolor\":\"white\",\"showbackground\":true,\"ticks\":\"\",\"zerolinecolor\":\"white\",\"gridwidth\":2}},\"shapedefaults\":{\"line\":{\"color\":\"#2a3f5f\"}},\"annotationdefaults\":{\"arrowcolor\":\"#2a3f5f\",\"arrowhead\":0,\"arrowwidth\":1},\"geo\":{\"bgcolor\":\"white\",\"landcolor\":\"#E5ECF6\",\"subunitcolor\":\"white\",\"showland\":true,\"showlakes\":true,\"lakecolor\":\"white\"},\"title\":{\"x\":0.05},\"mapbox\":{\"style\":\"light\"}}}},                        {\"responsive\": true}                    ).then(function(){\n",
       "                            \n",
       "var gd = document.getElementById('85c3fda2-58f3-4eab-92a6-619d1bfc15b5');\n",
       "var x = new MutationObserver(function (mutations, observer) {{\n",
       "        var display = window.getComputedStyle(gd).display;\n",
       "        if (!display || display === 'none') {{\n",
       "            console.log([gd, 'removed!']);\n",
       "            Plotly.purge(gd);\n",
       "            observer.disconnect();\n",
       "        }}\n",
       "}});\n",
       "\n",
       "// Listen for the removal of the full notebook cells\n",
       "var notebookContainer = gd.closest('#notebook-container');\n",
       "if (notebookContainer) {{\n",
       "    x.observe(notebookContainer, {childList: true});\n",
       "}}\n",
       "\n",
       "// Listen for the clearing of the current output cell\n",
       "var outputEl = gd.closest('.output');\n",
       "if (outputEl) {{\n",
       "    x.observe(outputEl, {childList: true});\n",
       "}}\n",
       "\n",
       "                        })                };                });            </script>        </div>"
      ]
     },
     "metadata": {},
     "output_type": "display_data"
    }
   ],
   "source": [
    "labels = ['Low', 'Below Average', 'Average', 'Above Average', 'High']\n",
    "cut_quantized = pd.qcut(df['Happiness Score'], q=5, labels=labels)\n",
    "health_quantized = pd.qcut(df['Health (Life Expectancy)'], q=5, labels=labels)\n",
    "economy_quantized = pd.qcut(df['Economy (GDP per Capita)'], q=5, labels=labels)\n",
    "colorscale = [[0,'darkblue'], [0.25,'purple'],[0.5,'pink'],[0.75,'orange'],[1,'lightyellow']]\n",
    "\n",
    "parcats_data = [\n",
    "    go.Parcats(\n",
    "        dimensions=[\n",
    "            {'label': 'Health (Life Expectancy)', 'values': health_quantized, 'categoryorder': 'array', 'categoryarray': labels},\n",
    "            {'label': 'Economy (GDP per Capita)', 'values': economy_quantized, 'categoryorder': 'array', 'categoryarray': labels},\n",
    "            {'label': 'Happiness Score', 'values': cut_quantized, 'categoryorder': 'array', 'categoryarray': labels}\n",
    "        ],\n",
    "        line={'color': cut_quantized.astype('category').cat.codes, 'colorscale': colorscale},\n",
    "    )\n",
    "]\n",
    "\n",
    "layout = go.Layout(\n",
    "    title='De invloed van de Health en Economy variabelen op de Happiness Score',\n",
    "    margin_b=90,\n",
    "    annotations = [dict(xref='paper',\n",
    "                        yref='paper',\n",
    "                        x=0.5, y=-0.25,\n",
    "                        showarrow=False,\n",
    "                        text='Voor alle variabelen geldt dat ze gekwantiseerd zijn in 5 categorieën. Hoe donkerder de kleur, hoe lager de score. <br> Door te kijken welke combinatie van groepen binnen de Health en Economy variabelen naar een bepaalde groep binnen de Happiness Score leiden, valt er verbanden te zien.')])\n",
    "\n",
    "fig_parcats = go.Figure(data=parcats_data, layout=layout)\n",
    "fig_parcats.show()"
   ]
  },
  {
   "cell_type": "markdown",
   "id": "4ac0d106",
   "metadata": {},
   "source": [
    "### Vrijheid\n",
    "\n",
    "Vrijheid kan ook een rol spelen bij de Happiness van mensen. In de onderstaande grafiek kunnen we de relatie tussen de vrijheid en de Happiness Score zien. Er valt op te merken dat er over het algemeen een opwaartse trend is als de score van de vrijheid toeneemt, dit wordt ook bevestigd met de roze trendlijn die de algemene trend van de data weergeeft. Het lijkt er dus op dat als de vrijheid in een land toeneemt, dat de Happiness Score ook toeneemt. "
   ]
  },
  {
   "cell_type": "code",
   "execution_count": 23,
   "id": "f9bfc205",
   "metadata": {
    "tags": [
     "hide-input"
    ]
   },
   "outputs": [
    {
     "data": {
      "image/png": "[encoded data removed]",
      "text/plain": [
       "<Figure size 792x576 with 1 Axes>"
      ]
     },
     "metadata": {},
     "output_type": "display_data"
    }
   ],
   "source": [
    "sns.set_theme(style='darkgrid')\n",
    "sns.set(rc={'figure.figsize':(11,8)})\n",
    "\n",
    "ax1 = sns.lineplot(\n",
    "    df,\n",
    "    x='Freedom',\n",
    "    y='Happiness Score'\n",
    ")\n",
    "\n",
    "ax1.set_xticks(np.arange(df['Freedom'].min(), df['Freedom'].max(), 0.05))\n",
    "\n",
    "ax2 = sns.regplot(\n",
    "    df,\n",
    "    x='Freedom',\n",
    "    y='Happiness Score',\n",
    "    color='magenta',\n",
    "    scatter=False\n",
    ")\n",
    "\n",
    "ax2.set_xticks(np.arange(df['Freedom'].min(), df['Freedom'].max(), 0.05))\n",
    "\n",
    "caption='Op de x-as is de Freedom variabele weergegeven, een grotere waarde betekent dat mensen blijer zijn \\\n",
    "met de vrijheid in hun land. \\n Op de y-as staat de Happiness Score, een grotere waarde betekent dat mensen \\\n",
    "blijer zijn met hoe het eraan toe is in hun land. \\n Uit de grafiek kan informatie verkregen worden over hoe \\\n",
    "wereldwijd gezien de Happiness Score beïnvloedt wordt door de vrijheid. \\n Ook is er een roze trendlijn \\\n",
    "weergegeven die het verband tussen de twee variabelen weergeeft.'\n",
    "plt.text(0.37,1.1,caption,ha='center',fontsize=12)\n",
    "plt.title('De invloed van vrijheid op de Happiness Score')\n",
    "plt.show()"
   ]
  },
  {
   "cell_type": "markdown",
   "id": "d9be8edf",
   "metadata": {},
   "source": [
    "We hebben gezien dat als we naar de absolute waardes van bepaalde variabelen kijken, dat er wel degelijk een verband is met de Happiness Score. Maar wacht eens even, wat nou als we naar de relatieve veranderingen van variabelen over de jaren heen kijken? Is er dan ook een verband met de Happiness Score?"
   ]
  },
  {
   "cell_type": "markdown",
   "id": "3c9853cd",
   "metadata": {},
   "source": [
    "### Relatieve verandering gezondheid\n",
    "\n",
    "Bij de relatieve verandering van de gezondheid wordt gekeken met hoeveel procent de score ieder jaar is toegenomen of afgenomen ten opzichte van het vorige jaar. Uit de onderstaande choropletenkaart vallen er interessante inzichten te halen, als we naar Brazilië kijken, dan neemt de Happiness Score af als de gezondheidsscore toeneemt, en vice versa. Dit is, om nog een aantal voorbeelden te geven, over het algemeen ook zo voor Rusland, Argentinië, Australië en Turkije. Hier lijkt een omgekeerd evenredig verband in te zitten, wat in dit geval niet logisch is, je zou verwachten dat de Happiness Score toeneemt als de gezondheid verbetert. Er zijn echter wel landen waar er wel een logisch verband is, zoals Canada, Zweden, Engeland en Saudi Arabië, hier neemt de Happiness Score toe als de gezondheidsscore ook toeneemt. Maar er kan hier nog verder onderzoek naar gedaan worden, waarom er een omgekeerd evenredig verband in zit bij sommige landen. "
   ]
  },
  {
   "cell_type": "code",
   "execution_count": 3,
   "id": "e6508342",
   "metadata": {
    "tags": [
     "hide-input"
    ]
   },
   "outputs": [
    {
     "data": {
      "application/vnd.plotly.v1+json": {
       "config": {
        "plotlyServerURL": "https://plot.ly"
       },
       "data": [
        {
         "coloraxis": "coloraxis",
         "customdata": [
          [
           "nan%"
          ],
          [
           "nan%"
          ],
          [
           "nan%"
          ],
          [
           "nan%"
          ],
          [
           "nan%"
          ],
          [
           "nan%"
          ],
          [
           "nan%"
          ],
          [
           "nan%"
          ],
          [
           "nan%"
          ],
          [
           "nan%"
          ],
          [
           "nan%"
          ],
          [
           "nan%"
          ],
          [
           "nan%"
          ],
          [
           "nan%"
          ],
          [
           "nan%"
          ],
          [
           "nan%"
          ],
          [
           "nan%"
          ],
          [
           "nan%"
          ],
          [
           "nan%"
          ],
          [
           "nan%"
          ],
          [
           "nan%"
          ],
          [
           "nan%"
          ],
          [
           "nan%"
          ],
          [
           "nan%"
          ],
          [
           "nan%"
          ],
          [
           "nan%"
          ],
          [
           "nan%"
          ],
          [
           "nan%"
          ],
          [
           "nan%"
          ],
          [
           "nan%"
          ],
          [
           "nan%"
          ],
          [
           "nan%"
          ],
          [
           "nan%"
          ],
          [
           "nan%"
          ],
          [
           "nan%"
          ],
          [
           "nan%"
          ],
          [
           "nan%"
          ],
          [
           "nan%"
          ],
          [
           "nan%"
          ],
          [
           "nan%"
          ],
          [
           "nan%"
          ],
          [
           "nan%"
          ],
          [
           "nan%"
          ],
          [
           "nan%"
          ],
          [
           "nan%"
          ],
          [
           "nan%"
          ],
          [
           "nan%"
          ],
          [
           "nan%"
          ],
          [
           "nan%"
          ],
          [
           "nan%"
          ],
          [
           "nan%"
          ],
          [
           "nan%"
          ],
          [
           "nan%"
          ],
          [
           "nan%"
          ],
          [
           "nan%"
          ],
          [
           "nan%"
          ],
          [
           "nan%"
          ],
          [
           "nan%"
          ],
          [
           "nan%"
          ],
          [
           "nan%"
          ],
          [
           "nan%"
          ],
          [
           "nan%"
          ],
          [
           "nan%"
          ],
          [
           "nan%"
          ],
          [
           "nan%"
          ],
          [
           "nan%"
          ],
          [
           "nan%"
          ],
          [
           "nan%"
          ],
          [
           "nan%"
          ],
          [
           "nan%"
          ],
          [
           "nan%"
          ],
          [
           "nan%"
          ],
          [
           "nan%"
          ],
          [
           "nan%"
          ],
          [
           "nan%"
          ],
          [
           "nan%"
          ],
          [
           "nan%"
          ],
          [
           "nan%"
          ],
          [
           "nan%"
          ],
          [
           "nan%"
          ],
          [
           "nan%"
          ],
          [
           "nan%"
          ],
          [
           "nan%"
          ],
          [
           "nan%"
          ],
          [
           "nan%"
          ],
          [
           "nan%"
          ],
          [
           "nan%"
          ],
          [
           "nan%"
          ],
          [
           "nan%"
          ],
          [
           "nan%"
          ],
          [
           "nan%"
          ],
          [
           "nan%"
          ],
          [
           "nan%"
          ],
          [
           "nan%"
          ],
          [
           "nan%"
          ],
          [
           "nan%"
          ],
          [
           "nan%"
          ],
          [
           "nan%"
          ],
          [
           "nan%"
          ],
          [
           "nan%"
          ],
          [
           "nan%"
          ],
          [
           "nan%"
          ],
          [
           "nan%"
          ],
          [
           "nan%"
          ],
          [
           "nan%"
          ],
          [
           "nan%"
          ],
          [
           "nan%"
          ],
          [
           "nan%"
          ],
          [
           "nan%"
          ],
          [
           "nan%"
          ],
          [
           "nan%"
          ],
          [
           "nan%"
          ],
          [
           "nan%"
          ],
          [
           "nan%"
          ],
          [
           "nan%"
          ],
          [
           "nan%"
          ],
          [
           "nan%"
          ],
          [
           "nan%"
          ],
          [
           "nan%"
          ],
          [
           "nan%"
          ],
          [
           "nan%"
          ],
          [
           "nan%"
          ],
          [
           "nan%"
          ],
          [
           "nan%"
          ],
          [
           "nan%"
          ],
          [
           "nan%"
          ],
          [
           "nan%"
          ],
          [
           "nan%"
          ],
          [
           "nan%"
          ],
          [
           "nan%"
          ],
          [
           "nan%"
          ],
          [
           "nan%"
          ],
          [
           "nan%"
          ],
          [
           "nan%"
          ],
          [
           "nan%"
          ],
          [
           "nan%"
          ],
          [
           "nan%"
          ],
          [
           "nan%"
          ],
          [
           "nan%"
          ],
          [
           "nan%"
          ],
          [
           "nan%"
          ],
          [
           "nan%"
          ],
          [
           "nan%"
          ],
          [
           "nan%"
          ],
          [
           "nan%"
          ],
          [
           "nan%"
          ],
          [
           "nan%"
          ],
          [
           "nan%"
          ],
          [
           "nan%"
          ],
          [
           "nan%"
          ],
          [
           "nan%"
          ],
          [
           "nan%"
          ],
          [
           "nan%"
          ],
          [
           "nan%"
          ],
          [
           "nan%"
          ],
          [
           "nan%"
          ],
          [
           "nan%"
          ],
          [
           "nan%"
          ]
         ],
         "geo": "geo",
         "hovertemplate": "<b>%{hovertext}</b><br><br>Year=2015<br>Country=%{location}<br>Relative Change Health (Life Expectancy)=%{customdata[0]}<br>Happiness Score=%{z}<extra></extra>",
         "hovertext": [
          "Afghanistan",
          "Albania",
          "Algeria",
          "Angola",
          "Argentina",
          "Armenia",
          "Australia",
          "Austria",
          "Azerbaijan",
          "Bahrain",
          "Bangladesh",
          "Belarus",
          "Belgium",
          "Benin",
          "Bhutan",
          "Bolivia",
          "Bosnia and Herzegovina",
          "Botswana",
          "Brazil",
          "Bulgaria",
          "Burkina Faso",
          "Burundi",
          "Cambodia",
          "Cameroon",
          "Canada",
          "Central African Republic",
          "Chad",
          "Chile",
          "China",
          "Colombia",
          "Comoros",
          "Congo (Brazzaville)",
          "Congo (Kinshasa)",
          "Costa Rica",
          "Croatia",
          "Cyprus",
          "Czech Republic",
          "Denmark",
          "Djibouti",
          "Dominican Republic",
          "Ecuador",
          "Egypt",
          "El Salvador",
          "Estonia",
          "Ethiopia",
          "Finland",
          "France",
          "Gabon",
          "Georgia",
          "Germany",
          "Ghana",
          "Greece",
          "Guatemala",
          "Guinea",
          "Haiti",
          "Honduras",
          "Hong Kong",
          "Hungary",
          "Iceland",
          "India",
          "Indonesia",
          "Iran",
          "Iraq",
          "Ireland",
          "Israel",
          "Italy",
          "Ivory Coast",
          "Jamaica",
          "Japan",
          "Jordan",
          "Kazakhstan",
          "Kenya",
          "Kosovo",
          "Kuwait",
          "Kyrgyzstan",
          "Laos",
          "Latvia",
          "Lebanon",
          "Lesotho",
          "Liberia",
          "Libya",
          "Lithuania",
          "Luxembourg",
          "Macedonia",
          "Madagascar",
          "Malawi",
          "Malaysia",
          "Mali",
          "Malta",
          "Mauritania",
          "Mauritius",
          "Mexico",
          "Moldova",
          "Mongolia",
          "Montenegro",
          "Morocco",
          "Mozambique",
          "Myanmar",
          "Nepal",
          "Netherlands",
          "New Zealand",
          "Nicaragua",
          "Niger",
          "Nigeria",
          "North Cyprus",
          "Norway",
          "Oman",
          "Pakistan",
          "Palestinian Territories",
          "Panama",
          "Paraguay",
          "Peru",
          "Philippines",
          "Poland",
          "Portugal",
          "Qatar",
          "Romania",
          "Russia",
          "Rwanda",
          "Saudi Arabia",
          "Senegal",
          "Serbia",
          "Sierra Leone",
          "Singapore",
          "Slovakia",
          "Slovenia",
          "Somaliland region",
          "South Africa",
          "South Korea",
          "Spain",
          "Sri Lanka",
          "Sudan",
          "Suriname",
          "Swaziland",
          "Sweden",
          "Switzerland",
          "Syria",
          "Taiwan",
          "Tajikistan",
          "Tanzania",
          "Thailand",
          "Togo",
          "Trinidad and Tobago",
          "Tunisia",
          "Turkey",
          "Turkmenistan",
          "Uganda",
          "Ukraine",
          "United Arab Emirates",
          "United Kingdom",
          "United States",
          "Uruguay",
          "Uzbekistan",
          "Venezuela",
          "Vietnam",
          "Yemen",
          "Zambia",
          "Zimbabwe"
         ],
         "locationmode": "country names",
         "locations": [
          "Afghanistan",
          "Albania",
          "Algeria",
          "Angola",
          "Argentina",
          "Armenia",
          "Australia",
          "Austria",
          "Azerbaijan",
          "Bahrain",
          "Bangladesh",
          "Belarus",
          "Belgium",
          "Benin",
          "Bhutan",
          "Bolivia",
          "Bosnia and Herzegovina",
          "Botswana",
          "Brazil",
          "Bulgaria",
          "Burkina Faso",
          "Burundi",
          "Cambodia",
          "Cameroon",
          "Canada",
          "Central African Republic",
          "Chad",
          "Chile",
          "China",
          "Colombia",
          "Comoros",
          "Congo (Brazzaville)",
          "Congo (Kinshasa)",
          "Costa Rica",
          "Croatia",
          "Cyprus",
          "Czech Republic",
          "Denmark",
          "Djibouti",
          "Dominican Republic",
          "Ecuador",
          "Egypt",
          "El Salvador",
          "Estonia",
          "Ethiopia",
          "Finland",
          "France",
          "Gabon",
          "Georgia",
          "Germany",
          "Ghana",
          "Greece",
          "Guatemala",
          "Guinea",
          "Haiti",
          "Honduras",
          "Hong Kong",
          "Hungary",
          "Iceland",
          "India",
          "Indonesia",
          "Iran",
          "Iraq",
          "Ireland",
          "Israel",
          "Italy",
          "Ivory Coast",
          "Jamaica",
          "Japan",
          "Jordan",
          "Kazakhstan",
          "Kenya",
          "Kosovo",
          "Kuwait",
          "Kyrgyzstan",
          "Laos",
          "Latvia",
          "Lebanon",
          "Lesotho",
          "Liberia",
          "Libya",
          "Lithuania",
          "Luxembourg",
          "Macedonia",
          "Madagascar",
          "Malawi",
          "Malaysia",
          "Mali",
          "Malta",
          "Mauritania",
          "Mauritius",
          "Mexico",
          "Moldova",
          "Mongolia",
          "Montenegro",
          "Morocco",
          "Mozambique",
          "Myanmar",
          "Nepal",
          "Netherlands",
          "New Zealand",
          "Nicaragua",
          "Niger",
          "Nigeria",
          "North Cyprus",
          "Norway",
          "Oman",
          "Pakistan",
          "Palestinian Territories",
          "Panama",
          "Paraguay",
          "Peru",
          "Philippines",
          "Poland",
          "Portugal",
          "Qatar",
          "Romania",
          "Russia",
          "Rwanda",
          "Saudi Arabia",
          "Senegal",
          "Serbia",
          "Sierra Leone",
          "Singapore",
          "Slovakia",
          "Slovenia",
          "Somaliland region",
          "South Africa",
          "South Korea",
          "Spain",
          "Sri Lanka",
          "Sudan",
          "Suriname",
          "Swaziland",
          "Sweden",
          "Switzerland",
          "Syria",
          "Taiwan",
          "Tajikistan",
          "Tanzania",
          "Thailand",
          "Togo",
          "Trinidad and Tobago",
          "Tunisia",
          "Turkey",
          "Turkmenistan",
          "Uganda",
          "Ukraine",
          "United Arab Emirates",
          "United Kingdom",
          "United States",
          "Uruguay",
          "Uzbekistan",
          "Venezuela",
          "Vietnam",
          "Yemen",
          "Zambia",
          "Zimbabwe"
         ],
         "name": "",
         "type": "choropleth",
         "z": [
          3.575,
          4.959,
          5.605,
          4.033,
          6.574,
          4.35,
          7.284,
          7.2,
          5.212,
          5.96,
          4.694,
          5.813,
          6.937,
          3.34,
          5.253,
          5.89,
          4.949,
          4.332,
          6.983,
          4.218,
          3.587,
          2.905,
          3.819,
          4.252,
          7.427,
          3.678,
          3.667,
          6.67,
          5.14,
          6.477,
          3.956,
          3.989,
          4.517,
          7.226,
          5.759,
          5.689,
          6.505,
          7.527,
          4.369,
          4.885,
          5.975,
          4.194,
          6.13,
          5.429,
          4.512,
          7.406,
          6.575,
          3.896,
          4.297,
          6.75,
          4.633,
          4.857,
          6.123,
          3.656,
          4.518,
          4.788,
          5.474,
          4.8,
          7.561,
          4.565,
          5.399,
          4.686,
          4.677,
          6.94,
          7.278,
          5.948,
          3.655,
          5.709,
          5.987,
          5.192,
          5.855,
          4.419,
          5.589,
          6.295,
          5.286,
          4.876,
          5.098,
          4.839,
          4.898,
          4.571,
          5.754,
          5.833,
          6.946,
          5.007,
          3.681,
          4.292,
          5.77,
          3.995,
          6.302,
          4.436,
          5.477,
          7.187,
          5.889,
          4.874,
          5.192,
          5.013,
          4.971,
          4.307,
          4.514,
          7.378,
          7.286,
          5.828,
          3.845,
          5.268,
          5.695,
          7.522,
          6.853,
          5.194,
          4.715,
          6.786,
          5.878,
          5.824,
          5.073,
          5.791,
          5.102,
          6.611,
          5.124,
          5.716,
          3.465,
          6.411,
          3.904,
          5.123,
          4.507,
          6.798,
          5.995,
          5.848,
          5.057,
          4.642,
          5.984,
          6.329,
          4.271,
          4.55,
          6.269,
          4.867,
          7.364,
          7.587,
          3.006,
          6.298,
          4.786,
          3.781,
          6.455,
          2.839,
          6.168,
          4.739,
          5.332,
          5.548,
          3.931,
          4.681,
          6.901,
          6.867,
          7.119,
          6.485,
          6.003,
          6.81,
          5.36,
          4.077,
          5.129,
          4.61
         ]
        }
       ],
       "frames": [
        {
         "data": [
          {
           "coloraxis": "coloraxis",
           "customdata": [
            [
             "nan%"
            ],
            [
             "nan%"
            ],
            [
             "nan%"
            ],
            [
             "nan%"
            ],
            [
             "nan%"
            ],
            [
             "nan%"
            ],
            [
             "nan%"
            ],
            [
             "nan%"
            ],
            [
             "nan%"
            ],
            [
             "nan%"
            ],
            [
             "nan%"
            ],
            [
             "nan%"
            ],
            [
             "nan%"
            ],
            [
             "nan%"
            ],
            [
             "nan%"
            ],
            [
             "nan%"
            ],
            [
             "nan%"
            ],
            [
             "nan%"
            ],
            [
             "nan%"
            ],
            [
             "nan%"
            ],
            [
             "nan%"
            ],
            [
             "nan%"
            ],
            [
             "nan%"
            ],
            [
             "nan%"
            ],
            [
             "nan%"
            ],
            [
             "nan%"
            ],
            [
             "nan%"
            ],
            [
             "nan%"
            ],
            [
             "nan%"
            ],
            [
             "nan%"
            ],
            [
             "nan%"
            ],
            [
             "nan%"
            ],
            [
             "nan%"
            ],
            [
             "nan%"
            ],
            [
             "nan%"
            ],
            [
             "nan%"
            ],
            [
             "nan%"
            ],
            [
             "nan%"
            ],
            [
             "nan%"
            ],
            [
             "nan%"
            ],
            [
             "nan%"
            ],
            [
             "nan%"
            ],
            [
             "nan%"
            ],
            [
             "nan%"
            ],
            [
             "nan%"
            ],
            [
             "nan%"
            ],
            [
             "nan%"
            ],
            [
             "nan%"
            ],
            [
             "nan%"
            ],
            [
             "nan%"
            ],
            [
             "nan%"
            ],
            [
             "nan%"
            ],
            [
             "nan%"
            ],
            [
             "nan%"
            ],
            [
             "nan%"
            ],
            [
             "nan%"
            ],
            [
             "nan%"
            ],
            [
             "nan%"
            ],
            [
             "nan%"
            ],
            [
             "nan%"
            ],
            [
             "nan%"
            ],
            [
             "nan%"
            ],
            [
             "nan%"
            ],
            [
             "nan%"
            ],
            [
             "nan%"
            ],
            [
             "nan%"
            ],
            [
             "nan%"
            ],
            [
             "nan%"
            ],
            [
             "nan%"
            ],
            [
             "nan%"
            ],
            [
             "nan%"
            ],
            [
             "nan%"
            ],
            [
             "nan%"
            ],
            [
             "nan%"
            ],
            [
             "nan%"
            ],
            [
             "nan%"
            ],
            [
             "nan%"
            ],
            [
             "nan%"
            ],
            [
             "nan%"
            ],
            [
             "nan%"
            ],
            [
             "nan%"
            ],
            [
             "nan%"
            ],
            [
             "nan%"
            ],
            [
             "nan%"
            ],
            [
             "nan%"
            ],
            [
             "nan%"
            ],
            [
             "nan%"
            ],
            [
             "nan%"
            ],
            [
             "nan%"
            ],
            [
             "nan%"
            ],
            [
             "nan%"
            ],
            [
             "nan%"
            ],
            [
             "nan%"
            ],
            [
             "nan%"
            ],
            [
             "nan%"
            ],
            [
             "nan%"
            ],
            [
             "nan%"
            ],
            [
             "nan%"
            ],
            [
             "nan%"
            ],
            [
             "nan%"
            ],
            [
             "nan%"
            ],
            [
             "nan%"
            ],
            [
             "nan%"
            ],
            [
             "nan%"
            ],
            [
             "nan%"
            ],
            [
             "nan%"
            ],
            [
             "nan%"
            ],
            [
             "nan%"
            ],
            [
             "nan%"
            ],
            [
             "nan%"
            ],
            [
             "nan%"
            ],
            [
             "nan%"
            ],
            [
             "nan%"
            ],
            [
             "nan%"
            ],
            [
             "nan%"
            ],
            [
             "nan%"
            ],
            [
             "nan%"
            ],
            [
             "nan%"
            ],
            [
             "nan%"
            ],
            [
             "nan%"
            ],
            [
             "nan%"
            ],
            [
             "nan%"
            ],
            [
             "nan%"
            ],
            [
             "nan%"
            ],
            [
             "nan%"
            ],
            [
             "nan%"
            ],
            [
             "nan%"
            ],
            [
             "nan%"
            ],
            [
             "nan%"
            ],
            [
             "nan%"
            ],
            [
             "nan%"
            ],
            [
             "nan%"
            ],
            [
             "nan%"
            ],
            [
             "nan%"
            ],
            [
             "nan%"
            ],
            [
             "nan%"
            ],
            [
             "nan%"
            ],
            [
             "nan%"
            ],
            [
             "nan%"
            ],
            [
             "nan%"
            ],
            [
             "nan%"
            ],
            [
             "nan%"
            ],
            [
             "nan%"
            ],
            [
             "nan%"
            ],
            [
             "nan%"
            ],
            [
             "nan%"
            ],
            [
             "nan%"
            ],
            [
             "nan%"
            ],
            [
             "nan%"
            ],
            [
             "nan%"
            ],
            [
             "nan%"
            ],
            [
             "nan%"
            ],
            [
             "nan%"
            ],
            [
             "nan%"
            ],
            [
             "nan%"
            ],
            [
             "nan%"
            ],
            [
             "nan%"
            ],
            [
             "nan%"
            ]
           ],
           "geo": "geo",
           "hovertemplate": "<b>%{hovertext}</b><br><br>Year=2015<br>Country=%{location}<br>Relative Change Health (Life Expectancy)=%{customdata[0]}<br>Happiness Score=%{z}<extra></extra>",
           "hovertext": [
            "Afghanistan",
            "Albania",
            "Algeria",
            "Angola",
            "Argentina",
            "Armenia",
            "Australia",
            "Austria",
            "Azerbaijan",
            "Bahrain",
            "Bangladesh",
            "Belarus",
            "Belgium",
            "Benin",
            "Bhutan",
            "Bolivia",
            "Bosnia and Herzegovina",
            "Botswana",
            "Brazil",
            "Bulgaria",
            "Burkina Faso",
            "Burundi",
            "Cambodia",
            "Cameroon",
            "Canada",
            "Central African Republic",
            "Chad",
            "Chile",
            "China",
            "Colombia",
            "Comoros",
            "Congo (Brazzaville)",
            "Congo (Kinshasa)",
            "Costa Rica",
            "Croatia",
            "Cyprus",
            "Czech Republic",
            "Denmark",
            "Djibouti",
            "Dominican Republic",
            "Ecuador",
            "Egypt",
            "El Salvador",
            "Estonia",
            "Ethiopia",
            "Finland",
            "France",
            "Gabon",
            "Georgia",
            "Germany",
            "Ghana",
            "Greece",
            "Guatemala",
            "Guinea",
            "Haiti",
            "Honduras",
            "Hong Kong",
            "Hungary",
            "Iceland",
            "India",
            "Indonesia",
            "Iran",
            "Iraq",
            "Ireland",
            "Israel",
            "Italy",
            "Ivory Coast",
            "Jamaica",
            "Japan",
            "Jordan",
            "Kazakhstan",
            "Kenya",
            "Kosovo",
            "Kuwait",
            "Kyrgyzstan",
            "Laos",
            "Latvia",
            "Lebanon",
            "Lesotho",
            "Liberia",
            "Libya",
            "Lithuania",
            "Luxembourg",
            "Macedonia",
            "Madagascar",
            "Malawi",
            "Malaysia",
            "Mali",
            "Malta",
            "Mauritania",
            "Mauritius",
            "Mexico",
            "Moldova",
            "Mongolia",
            "Montenegro",
            "Morocco",
            "Mozambique",
            "Myanmar",
            "Nepal",
            "Netherlands",
            "New Zealand",
            "Nicaragua",
            "Niger",
            "Nigeria",
            "North Cyprus",
            "Norway",
            "Oman",
            "Pakistan",
            "Palestinian Territories",
            "Panama",
            "Paraguay",
            "Peru",
            "Philippines",
            "Poland",
            "Portugal",
            "Qatar",
            "Romania",
            "Russia",
            "Rwanda",
            "Saudi Arabia",
            "Senegal",
            "Serbia",
            "Sierra Leone",
            "Singapore",
            "Slovakia",
            "Slovenia",
            "Somaliland region",
            "South Africa",
            "South Korea",
            "Spain",
            "Sri Lanka",
            "Sudan",
            "Suriname",
            "Swaziland",
            "Sweden",
            "Switzerland",
            "Syria",
            "Taiwan",
            "Tajikistan",
            "Tanzania",
            "Thailand",
            "Togo",
            "Trinidad and Tobago",
            "Tunisia",
            "Turkey",
            "Turkmenistan",
            "Uganda",
            "Ukraine",
            "United Arab Emirates",
            "United Kingdom",
            "United States",
            "Uruguay",
            "Uzbekistan",
            "Venezuela",
            "Vietnam",
            "Yemen",
            "Zambia",
            "Zimbabwe"
           ],
           "locationmode": "country names",
           "locations": [
            "Afghanistan",
            "Albania",
            "Algeria",
            "Angola",
            "Argentina",
            "Armenia",
            "Australia",
            "Austria",
            "Azerbaijan",
            "Bahrain",
            "Bangladesh",
            "Belarus",
            "Belgium",
            "Benin",
            "Bhutan",
            "Bolivia",
            "Bosnia and Herzegovina",
            "Botswana",
            "Brazil",
            "Bulgaria",
            "Burkina Faso",
            "Burundi",
            "Cambodia",
            "Cameroon",
            "Canada",
            "Central African Republic",
            "Chad",
            "Chile",
            "China",
            "Colombia",
            "Comoros",
            "Congo (Brazzaville)",
            "Congo (Kinshasa)",
            "Costa Rica",
            "Croatia",
            "Cyprus",
            "Czech Republic",
            "Denmark",
            "Djibouti",
            "Dominican Republic",
            "Ecuador",
            "Egypt",
            "El Salvador",
            "Estonia",
            "Ethiopia",
            "Finland",
            "France",
            "Gabon",
            "Georgia",
            "Germany",
            "Ghana",
            "Greece",
            "Guatemala",
            "Guinea",
            "Haiti",
            "Honduras",
            "Hong Kong",
            "Hungary",
            "Iceland",
            "India",
            "Indonesia",
            "Iran",
            "Iraq",
            "Ireland",
            "Israel",
            "Italy",
            "Ivory Coast",
            "Jamaica",
            "Japan",
            "Jordan",
            "Kazakhstan",
            "Kenya",
            "Kosovo",
            "Kuwait",
            "Kyrgyzstan",
            "Laos",
            "Latvia",
            "Lebanon",
            "Lesotho",
            "Liberia",
            "Libya",
            "Lithuania",
            "Luxembourg",
            "Macedonia",
            "Madagascar",
            "Malawi",
            "Malaysia",
            "Mali",
            "Malta",
            "Mauritania",
            "Mauritius",
            "Mexico",
            "Moldova",
            "Mongolia",
            "Montenegro",
            "Morocco",
            "Mozambique",
            "Myanmar",
            "Nepal",
            "Netherlands",
            "New Zealand",
            "Nicaragua",
            "Niger",
            "Nigeria",
            "North Cyprus",
            "Norway",
            "Oman",
            "Pakistan",
            "Palestinian Territories",
            "Panama",
            "Paraguay",
            "Peru",
            "Philippines",
            "Poland",
            "Portugal",
            "Qatar",
            "Romania",
            "Russia",
            "Rwanda",
            "Saudi Arabia",
            "Senegal",
            "Serbia",
            "Sierra Leone",
            "Singapore",
            "Slovakia",
            "Slovenia",
            "Somaliland region",
            "South Africa",
            "South Korea",
            "Spain",
            "Sri Lanka",
            "Sudan",
            "Suriname",
            "Swaziland",
            "Sweden",
            "Switzerland",
            "Syria",
            "Taiwan",
            "Tajikistan",
            "Tanzania",
            "Thailand",
            "Togo",
            "Trinidad and Tobago",
            "Tunisia",
            "Turkey",
            "Turkmenistan",
            "Uganda",
            "Ukraine",
            "United Arab Emirates",
            "United Kingdom",
            "United States",
            "Uruguay",
            "Uzbekistan",
            "Venezuela",
            "Vietnam",
            "Yemen",
            "Zambia",
            "Zimbabwe"
           ],
           "name": "",
           "type": "choropleth",
           "z": [
            3.575,
            4.959,
            5.605,
            4.033,
            6.574,
            4.35,
            7.284,
            7.2,
            5.212,
            5.96,
            4.694,
            5.813,
            6.937,
            3.34,
            5.253,
            5.89,
            4.949,
            4.332,
            6.983,
            4.218,
            3.587,
            2.905,
            3.819,
            4.252,
            7.427,
            3.678,
            3.667,
            6.67,
            5.14,
            6.477,
            3.956,
            3.989,
            4.517,
            7.226,
            5.759,
            5.689,
            6.505,
            7.527,
            4.369,
            4.885,
            5.975,
            4.194,
            6.13,
            5.429,
            4.512,
            7.406,
            6.575,
            3.896,
            4.297,
            6.75,
            4.633,
            4.857,
            6.123,
            3.656,
            4.518,
            4.788,
            5.474,
            4.8,
            7.561,
            4.565,
            5.399,
            4.686,
            4.677,
            6.94,
            7.278,
            5.948,
            3.655,
            5.709,
            5.987,
            5.192,
            5.855,
            4.419,
            5.589,
            6.295,
            5.286,
            4.876,
            5.098,
            4.839,
            4.898,
            4.571,
            5.754,
            5.833,
            6.946,
            5.007,
            3.681,
            4.292,
            5.77,
            3.995,
            6.302,
            4.436,
            5.477,
            7.187,
            5.889,
            4.874,
            5.192,
            5.013,
            4.971,
            4.307,
            4.514,
            7.378,
            7.286,
            5.828,
            3.845,
            5.268,
            5.695,
            7.522,
            6.853,
            5.194,
            4.715,
            6.786,
            5.878,
            5.824,
            5.073,
            5.791,
            5.102,
            6.611,
            5.124,
            5.716,
            3.465,
            6.411,
            3.904,
            5.123,
            4.507,
            6.798,
            5.995,
            5.848,
            5.057,
            4.642,
            5.984,
            6.329,
            4.271,
            4.55,
            6.269,
            4.867,
            7.364,
            7.587,
            3.006,
            6.298,
            4.786,
            3.781,
            6.455,
            2.839,
            6.168,
            4.739,
            5.332,
            5.548,
            3.931,
            4.681,
            6.901,
            6.867,
            7.119,
            6.485,
            6.003,
            6.81,
            5.36,
            4.077,
            5.129,
            4.61
           ]
          }
         ],
         "name": "2015"
        },
        {
         "data": [
          {
           "coloraxis": "coloraxis",
           "customdata": [
            [
             "-0.428%"
            ],
            [
             "-0.102%"
            ],
            [
             "0.001%"
            ],
            [
             "-0.701%"
            ],
            [
             "-0.114%"
            ],
            [
             "-0.122%"
            ],
            [
             "-0.086%"
            ],
            [
             "-0.095%"
            ],
            [
             "-0.149%"
            ],
            [
             "-0.121%"
            ],
            [
             "-0.119%"
            ],
            [
             "-0.143%"
            ],
            [
             "-0.086%"
            ],
            [
             "nan%"
            ],
            [
             "-0.341%"
            ],
            [
             "-0.133%"
            ],
            [
             "-0.129%"
            ],
            [
             "-0.105%"
            ],
            [
             "6.276%"
            ],
            [
             "-0.119%"
            ],
            [
             "-0.115%"
            ],
            [
             "-0.215%"
            ],
            [
             "-0.297%"
            ],
            [
             "-0.305%"
            ],
            [
             "-0.457%"
            ],
            [
             "-0.086%"
            ],
            [
             "-0.745%"
            ],
            [
             "-0.046%"
            ],
            [
             "-0.099%"
            ],
            [
             "-0.136%"
            ],
            [
             "-0.174%"
            ],
            [
             "-0.091%"
            ],
            [
             "0.917%"
            ],
            [
             "-0.115%"
            ],
            [
             "-0.105%"
            ],
            [
             "-0.081%"
            ],
            [
             "-0.096%"
            ],
            [
             "-0.091%"
            ],
            [
             "-0.137%"
            ],
            [
             "-0.132%"
            ],
            [
             "-0.155%"
            ],
            [
             "-0.12%"
            ],
            [
             "-0.12%"
            ],
            [
             "-0.215%"
            ],
            [
             "-0.088%"
            ],
            [
             "-0.114%"
            ],
            [
             "-0.194%"
            ],
            [
             "-0.122%"
            ],
            [
             "-0.086%"
            ],
            [
             "-0.26%"
            ],
            [
             "-0.093%"
            ],
            [
             "-0.161%"
            ],
            [
             "-0.216%"
            ],
            [
             "-0.292%"
            ],
            [
             "-0.16%"
            ],
            [
             "-0.06%"
            ],
            [
             "-0.109%"
            ],
            [
             "-0.085%"
            ],
            [
             "-0.125%"
            ],
            [
             "-0.226%"
            ],
            [
             "-0.08%"
            ],
            [
             "-0.152%"
            ],
            [
             "-0.09%"
            ],
            [
             "-0.071%"
            ],
            [
             "-0.108%"
            ],
            [
             "-0.705%"
            ],
            [
             "-0.135%"
            ],
            [
             "-0.077%"
            ],
            [
             "-0.128%"
            ],
            [
             "-0.108%"
            ],
            [
             "-0.272%"
            ],
            [
             "-0.145%"
            ],
            [
             "-0.123%"
            ],
            [
             "-0.148%"
            ],
            [
             "-0.303%"
            ],
            [
             "-0.117%"
            ],
            [
             "-0.093%"
            ],
            [
             "-0.323%"
            ],
            [
             "-0.257%"
            ],
            [
             "-0.116%"
            ],
            [
             "-0.08%"
            ],
            [
             "-0.12%"
            ],
            [
             "-0.206%"
            ],
            [
             "0.301%"
            ],
            [
             "-0.139%"
            ],
            [
             "-0.206%"
            ],
            [
             "-0.095%"
            ],
            [
             "-0.202%"
            ],
            [
             "-0.067%"
            ],
            [
             "-0.126%"
            ],
            [
             "-0.154%"
            ],
            [
             "-0.08%"
            ],
            [
             "-0.124%"
            ],
            [
             "-0.024%"
            ],
            [
             "-0.173%"
            ],
            [
             "nan%"
            ],
            [
             "-0.12%"
            ],
            [
             "-0.09%"
            ],
            [
             "-0.085%"
            ],
            [
             "-0.122%"
            ],
            [
             "-0.119%"
            ],
            [
             "-0.681%"
            ],
            [
             "-0.089%"
            ],
            [
             "-0.101%"
            ],
            [
             "-0.217%"
            ],
            [
             "-0.139%"
            ],
            [
             "-0.111%"
            ],
            [
             "-0.118%"
            ],
            [
             "-0.137%"
            ],
            [
             "-0.191%"
            ],
            [
             "-0.114%"
            ],
            [
             "-0.093%"
            ],
            [
             "nan%"
            ],
            [
             "-0.1%"
            ],
            [
             "-0.121%"
            ],
            [
             "-0.119%"
            ],
            [
             "-0.257%"
            ],
            [
             "-0.177%"
            ],
            [
             "-0.071%"
            ],
            [
             "-0.137%"
            ],
            [
             "nan%"
            ],
            [
             "-0.076%"
            ],
            [
             "-0.108%"
            ],
            [
             "-0.094%"
            ],
            [
             "nan%"
            ],
            [
             "nan%"
            ],
            [
             "-0.328%"
            ],
            [
             "-0.082%"
            ],
            [
             "nan%"
            ],
            [
             "-0.08%"
            ],
            [
             "-0.124%"
            ],
            [
             "-0.193%"
            ],
            [
             "-0.163%"
            ],
            [
             "-0.087%"
            ],
            [
             "-0.083%"
            ],
            [
             "-0.127%"
            ],
            [
             "-0.091%"
            ],
            [
             "-0.074%"
            ],
            [
             "-0.066%"
            ],
            [
             "-0.121%"
            ],
            [
             "-0.128%"
            ],
            [
             "-0.144%"
            ],
            [
             "-0.193%"
            ],
            [
             "-0.116%"
            ],
            [
             "-0.183%"
            ],
            [
             "-0.42%"
            ],
            [
             "-0.13%"
            ],
            [
             "-0.098%"
            ],
            [
             "-0.109%"
            ],
            [
             "-0.096%"
            ],
            [
             "-0.111%"
            ],
            [
             "-0.161%"
            ],
            [
             "-0.141%"
            ],
            [
             "-0.114%"
            ],
            [
             "-0.225%"
            ],
            [
             "-0.212%"
            ],
            [
             "-0.524%"
            ]
           ],
           "geo": "geo",
           "hovertemplate": "<b>%{hovertext}</b><br><br>Year=2016<br>Country=%{location}<br>Relative Change Health (Life Expectancy)=%{customdata[0]}<br>Happiness Score=%{z}<extra></extra>",
           "hovertext": [
            "Afghanistan",
            "Albania",
            "Algeria",
            "Angola",
            "Argentina",
            "Armenia",
            "Australia",
            "Austria",
            "Azerbaijan",
            "Bahrain",
            "Bangladesh",
            "Belarus",
            "Belgium",
            "Belize",
            "Benin",
            "Bhutan",
            "Bolivia",
            "Bosnia and Herzegovina",
            "Botswana",
            "Brazil",
            "Bulgaria",
            "Burkina Faso",
            "Burundi",
            "Cambodia",
            "Cameroon",
            "Canada",
            "Chad",
            "Chile",
            "China",
            "Colombia",
            "Comoros",
            "Congo (Brazzaville)",
            "Congo (Kinshasa)",
            "Costa Rica",
            "Croatia",
            "Cyprus",
            "Czech Republic",
            "Denmark",
            "Dominican Republic",
            "Ecuador",
            "Egypt",
            "El Salvador",
            "Estonia",
            "Ethiopia",
            "Finland",
            "France",
            "Gabon",
            "Georgia",
            "Germany",
            "Ghana",
            "Greece",
            "Guatemala",
            "Guinea",
            "Haiti",
            "Honduras",
            "Hong Kong",
            "Hungary",
            "Iceland",
            "India",
            "Indonesia",
            "Iran",
            "Iraq",
            "Ireland",
            "Israel",
            "Italy",
            "Ivory Coast",
            "Jamaica",
            "Japan",
            "Jordan",
            "Kazakhstan",
            "Kenya",
            "Kosovo",
            "Kuwait",
            "Kyrgyzstan",
            "Laos",
            "Latvia",
            "Lebanon",
            "Liberia",
            "Libya",
            "Lithuania",
            "Luxembourg",
            "Macedonia",
            "Madagascar",
            "Malawi",
            "Malaysia",
            "Mali",
            "Malta",
            "Mauritania",
            "Mauritius",
            "Mexico",
            "Moldova",
            "Mongolia",
            "Montenegro",
            "Morocco",
            "Myanmar",
            "Namibia",
            "Nepal",
            "Netherlands",
            "New Zealand",
            "Nicaragua",
            "Niger",
            "Nigeria",
            "North Cyprus",
            "Norway",
            "Pakistan",
            "Palestinian Territories",
            "Panama",
            "Paraguay",
            "Peru",
            "Philippines",
            "Poland",
            "Portugal",
            "Puerto Rico",
            "Qatar",
            "Romania",
            "Russia",
            "Rwanda",
            "Saudi Arabia",
            "Senegal",
            "Serbia",
            "Sierra Leone",
            "Singapore",
            "Slovakia",
            "Slovenia",
            "Somalia",
            "Somaliland Region",
            "South Africa",
            "South Korea",
            "South Sudan",
            "Spain",
            "Sri Lanka",
            "Sudan",
            "Suriname",
            "Sweden",
            "Switzerland",
            "Syria",
            "Taiwan",
            "Tajikistan",
            "Tanzania",
            "Thailand",
            "Togo",
            "Trinidad and Tobago",
            "Tunisia",
            "Turkey",
            "Turkmenistan",
            "Uganda",
            "Ukraine",
            "United Arab Emirates",
            "United Kingdom",
            "United States",
            "Uruguay",
            "Uzbekistan",
            "Venezuela",
            "Vietnam",
            "Yemen",
            "Zambia",
            "Zimbabwe"
           ],
           "locationmode": "country names",
           "locations": [
            "Afghanistan",
            "Albania",
            "Algeria",
            "Angola",
            "Argentina",
            "Armenia",
            "Australia",
            "Austria",
            "Azerbaijan",
            "Bahrain",
            "Bangladesh",
            "Belarus",
            "Belgium",
            "Belize",
            "Benin",
            "Bhutan",
            "Bolivia",
            "Bosnia and Herzegovina",
            "Botswana",
            "Brazil",
            "Bulgaria",
            "Burkina Faso",
            "Burundi",
            "Cambodia",
            "Cameroon",
            "Canada",
            "Chad",
            "Chile",
            "China",
            "Colombia",
            "Comoros",
            "Congo (Brazzaville)",
            "Congo (Kinshasa)",
            "Costa Rica",
            "Croatia",
            "Cyprus",
            "Czech Republic",
            "Denmark",
            "Dominican Republic",
            "Ecuador",
            "Egypt",
            "El Salvador",
            "Estonia",
            "Ethiopia",
            "Finland",
            "France",
            "Gabon",
            "Georgia",
            "Germany",
            "Ghana",
            "Greece",
            "Guatemala",
            "Guinea",
            "Haiti",
            "Honduras",
            "Hong Kong",
            "Hungary",
            "Iceland",
            "India",
            "Indonesia",
            "Iran",
            "Iraq",
            "Ireland",
            "Israel",
            "Italy",
            "Ivory Coast",
            "Jamaica",
            "Japan",
            "Jordan",
            "Kazakhstan",
            "Kenya",
            "Kosovo",
            "Kuwait",
            "Kyrgyzstan",
            "Laos",
            "Latvia",
            "Lebanon",
            "Liberia",
            "Libya",
            "Lithuania",
            "Luxembourg",
            "Macedonia",
            "Madagascar",
            "Malawi",
            "Malaysia",
            "Mali",
            "Malta",
            "Mauritania",
            "Mauritius",
            "Mexico",
            "Moldova",
            "Mongolia",
            "Montenegro",
            "Morocco",
            "Myanmar",
            "Namibia",
            "Nepal",
            "Netherlands",
            "New Zealand",
            "Nicaragua",
            "Niger",
            "Nigeria",
            "North Cyprus",
            "Norway",
            "Pakistan",
            "Palestinian Territories",
            "Panama",
            "Paraguay",
            "Peru",
            "Philippines",
            "Poland",
            "Portugal",
            "Puerto Rico",
            "Qatar",
            "Romania",
            "Russia",
            "Rwanda",
            "Saudi Arabia",
            "Senegal",
            "Serbia",
            "Sierra Leone",
            "Singapore",
            "Slovakia",
            "Slovenia",
            "Somalia",
            "Somaliland Region",
            "South Africa",
            "South Korea",
            "South Sudan",
            "Spain",
            "Sri Lanka",
            "Sudan",
            "Suriname",
            "Sweden",
            "Switzerland",
            "Syria",
            "Taiwan",
            "Tajikistan",
            "Tanzania",
            "Thailand",
            "Togo",
            "Trinidad and Tobago",
            "Tunisia",
            "Turkey",
            "Turkmenistan",
            "Uganda",
            "Ukraine",
            "United Arab Emirates",
            "United Kingdom",
            "United States",
            "Uruguay",
            "Uzbekistan",
            "Venezuela",
            "Vietnam",
            "Yemen",
            "Zambia",
            "Zimbabwe"
           ],
           "name": "",
           "type": "choropleth",
           "z": [
            3.36,
            4.655,
            6.355,
            3.866,
            6.65,
            4.36,
            7.313,
            7.119,
            5.291,
            6.218,
            4.643,
            5.802,
            6.929,
            5.956,
            3.484,
            5.196,
            5.822,
            5.163,
            3.974,
            6.952,
            4.217,
            3.739,
            2.905,
            3.907,
            4.513,
            7.404,
            3.763,
            6.705,
            5.245,
            6.481,
            3.956,
            4.236,
            4.272,
            7.087,
            5.488,
            5.546,
            6.596,
            7.526,
            5.155,
            5.976,
            4.362,
            6.068,
            5.517,
            4.508,
            7.413,
            6.478,
            4.121,
            4.252,
            6.994,
            4.276,
            5.033,
            6.324,
            3.607,
            4.028,
            4.871,
            5.458,
            5.145,
            7.501,
            4.404,
            5.314,
            4.813,
            4.575,
            6.907,
            7.267,
            5.977,
            3.916,
            5.51,
            5.921,
            5.303,
            5.919,
            4.356,
            5.401,
            6.239,
            5.185,
            4.876,
            5.56,
            5.129,
            3.622,
            5.615,
            5.813,
            6.871,
            5.121,
            3.695,
            4.156,
            6.005,
            4.073,
            6.488,
            4.201,
            5.648,
            6.778,
            5.897,
            4.907,
            5.161,
            5.151,
            4.395,
            4.574,
            4.793,
            7.339,
            7.334,
            5.992,
            3.856,
            4.875,
            5.771,
            7.498,
            5.132,
            4.754,
            6.701,
            5.538,
            5.743,
            5.279,
            5.835,
            5.123,
            7.039,
            6.375,
            5.528,
            5.856,
            3.515,
            6.379,
            4.219,
            5.177,
            4.635,
            6.739,
            6.078,
            5.768,
            5.44,
            5.057,
            4.459,
            5.835,
            3.832,
            6.361,
            4.415,
            4.139,
            6.269,
            7.291,
            7.509,
            3.069,
            6.379,
            4.996,
            3.666,
            6.474,
            3.303,
            6.168,
            5.045,
            5.389,
            5.658,
            3.739,
            4.324,
            6.573,
            6.725,
            7.104,
            6.545,
            5.987,
            6.084,
            5.061,
            3.724,
            4.795,
            4.193
           ]
          }
         ],
         "name": "2016"
        },
        {
         "data": [
          {
           "coloraxis": "coloraxis",
           "customdata": [
            [
             "0.042%"
            ],
            [
             "0.001%"
            ],
            [
             "-0.001%"
            ],
            [
             "-0.001%"
            ],
            [
             "-0.003%"
            ],
            [
             "-0.005%"
            ],
            [
             "-0.009%"
            ],
            [
             "0.012%"
            ],
            [
             "-0.008%"
            ],
            [
             "-0.006%"
            ],
            [
             "0.006%"
            ],
            [
             "0.011%"
            ],
            [
             "-0.002%"
            ],
            [
             "-0.012%"
            ],
            [
             "-0.002%"
            ],
            [
             "-0.003%"
            ],
            [
             "0.008%"
            ],
            [
             "-0.003%"
            ],
            [
             "-0.017%"
            ],
            [
             "0.004%"
            ],
            [
             "0.044%"
            ],
            [
             "0.013%"
            ],
            [
             "-0.037%"
            ],
            [
             "0.011%"
            ],
            [
             "0.047%"
            ],
            [
             "0.008%"
            ],
            [
             "-0.72%"
            ],
            [
             "0.076%"
            ],
            [
             "0.001%"
            ],
            [
             "0.008%"
            ],
            [
             "-0.003%"
            ],
            [
             "0.028%"
            ],
            [
             "0.018%"
            ],
            [
             "-0.003%"
            ],
            [
             "-0.006%"
            ],
            [
             "-0.005%"
            ],
            [
             "-0.012%"
            ],
            [
             "-0.003%"
            ],
            [
             "-0.003%"
            ],
            [
             "-0.001%"
            ],
            [
             "-0.002%"
            ],
            [
             "0.0%"
            ],
            [
             "0.021%"
            ],
            [
             "0.022%"
            ],
            [
             "-0.002%"
            ],
            [
             "0.008%"
            ],
            [
             "0.021%"
            ],
            [
             "0.014%"
            ],
            [
             "-0.02%"
            ],
            [
             "-0.004%"
            ],
            [
             "0.012%"
            ],
            [
             "-0.0%"
            ],
            [
             "0.031%"
            ],
            [
             "0.009%"
            ],
            [
             "-0.002%"
            ],
            [
             "nan%"
            ],
            [
             "0.017%"
            ],
            [
             "-0.039%"
            ],
            [
             "0.01%"
            ],
            [
             "-0.003%"
            ],
            [
             "-0.005%"
            ],
            [
             "-0.019%"
            ],
            [
             "-0.006%"
            ],
            [
             "-0.013%"
            ],
            [
             "0.002%"
            ],
            [
             "0.087%"
            ],
            [
             "0.078%"
            ],
            [
             "-0.002%"
            ],
            [
             "-0.004%"
            ],
            [
             "0.056%"
            ],
            [
             "0.028%"
            ],
            [
             "0.003%"
            ],
            [
             "-0.006%"
            ],
            [
             "-0.002%"
            ],
            [
             "-0.001%"
            ],
            [
             "-0.035%"
            ],
            [
             "-1.0%"
            ],
            [
             "-0.007%"
            ],
            [
             "-0.005%"
            ],
            [
             "-0.028%"
            ],
            [
             "-0.0%"
            ],
            [
             "-0.004%"
            ],
            [
             "0.011%"
            ],
            [
             "0.073%"
            ],
            [
             "-0.008%"
            ],
            [
             "0.036%"
            ],
            [
             "0.023%"
            ],
            [
             "-0.004%"
            ],
            [
             "-0.036%"
            ],
            [
             "-0.002%"
            ],
            [
             "0.127%"
            ],
            [
             "0.006%"
            ],
            [
             "0.051%"
            ],
            [
             "0.005%"
            ],
            [
             "0.168%"
            ],
            [
             "-0.003%"
            ],
            [
             "-0.025%"
            ],
            [
             "0.007%"
            ],
            [
             "-0.002%"
            ],
            [
             "-0.017%"
            ],
            [
             "0.001%"
            ],
            [
             "0.026%"
            ],
            [
             "0.114%"
            ],
            [
             "-0.008%"
            ],
            [
             "0.001%"
            ],
            [
             "-0.003%"
            ],
            [
             "-0.005%"
            ],
            [
             "-0.003%"
            ],
            [
             "-0.006%"
            ],
            [
             "0.0%"
            ],
            [
             "-0.005%"
            ],
            [
             "0.013%"
            ],
            [
             "0.003%"
            ],
            [
             "-0.01%"
            ],
            [
             "0.014%"
            ],
            [
             "-0.072%"
            ],
            [
             "0.024%"
            ],
            [
             "-0.004%"
            ],
            [
             "0.012%"
            ],
            [
             "0.008%"
            ],
            [
             "inf%"
            ],
            [
             "0.002%"
            ],
            [
             "0.013%"
            ],
            [
             "-0.001%"
            ],
            [
             "-0.006%"
            ],
            [
             "0.005%"
            ],
            [
             "0.016%"
            ],
            [
             "0.036%"
            ],
            [
             "0.011%"
            ],
            [
             "0.008%"
            ],
            [
             "-0.022%"
            ],
            [
             "-0.0%"
            ],
            [
             "-0.006%"
            ],
            [
             "-0.205%"
            ],
            [
             "nan%"
            ],
            [
             "-0.004%"
            ],
            [
             "0.021%"
            ],
            [
             "-0.003%"
            ],
            [
             "-0.004%"
            ],
            [
             "-0.012%"
            ],
            [
             "0.029%"
            ],
            [
             "-0.015%"
            ],
            [
             "-0.005%"
            ],
            [
             "0.109%"
            ],
            [
             "-0.018%"
            ],
            [
             "-0.004%"
            ],
            [
             "-0.006%"
            ],
            [
             "-0.006%"
            ],
            [
             "-0.004%"
            ],
            [
             "-0.007%"
            ],
            [
             "-0.003%"
            ],
            [
             "-0.014%"
            ],
            [
             "-0.001%"
            ],
            [
             "0.094%"
            ],
            [
             "0.234%"
            ]
           ],
           "geo": "geo",
           "hovertemplate": "<b>%{hovertext}</b><br><br>Year=2017<br>Country=%{location}<br>Relative Change Health (Life Expectancy)=%{customdata[0]}<br>Happiness Score=%{z}<extra></extra>",
           "hovertext": [
            "Afghanistan",
            "Albania",
            "Algeria",
            "Angola",
            "Argentina",
            "Armenia",
            "Australia",
            "Austria",
            "Azerbaijan",
            "Bahrain",
            "Bangladesh",
            "Belarus",
            "Belgium",
            "Belize",
            "Benin",
            "Bhutan",
            "Bolivia",
            "Bosnia and Herzegovina",
            "Botswana",
            "Brazil",
            "Bulgaria",
            "Burkina Faso",
            "Burundi",
            "Cambodia",
            "Cameroon",
            "Canada",
            "Central African Republic",
            "Chad",
            "Chile",
            "China",
            "Colombia",
            "Congo (Brazzaville)",
            "Congo (Kinshasa)",
            "Costa Rica",
            "Croatia",
            "Cyprus",
            "Czech Republic",
            "Denmark",
            "Dominican Republic",
            "Ecuador",
            "Egypt",
            "El Salvador",
            "Estonia",
            "Ethiopia",
            "Finland",
            "France",
            "Gabon",
            "Georgia",
            "Germany",
            "Ghana",
            "Greece",
            "Guatemala",
            "Guinea",
            "Haiti",
            "Honduras",
            "Hong Kong S.A.R., China",
            "Hungary",
            "Iceland",
            "India",
            "Indonesia",
            "Iran",
            "Iraq",
            "Ireland",
            "Israel",
            "Italy",
            "Ivory Coast",
            "Jamaica",
            "Japan",
            "Jordan",
            "Kazakhstan",
            "Kenya",
            "Kosovo",
            "Kuwait",
            "Kyrgyzstan",
            "Latvia",
            "Lebanon",
            "Lesotho",
            "Liberia",
            "Libya",
            "Lithuania",
            "Luxembourg",
            "Macedonia",
            "Madagascar",
            "Malawi",
            "Malaysia",
            "Mali",
            "Malta",
            "Mauritania",
            "Mauritius",
            "Mexico",
            "Moldova",
            "Mongolia",
            "Montenegro",
            "Morocco",
            "Mozambique",
            "Myanmar",
            "Namibia",
            "Nepal",
            "Netherlands",
            "New Zealand",
            "Nicaragua",
            "Niger",
            "Nigeria",
            "North Cyprus",
            "Norway",
            "Pakistan",
            "Palestinian Territories",
            "Panama",
            "Paraguay",
            "Peru",
            "Philippines",
            "Poland",
            "Portugal",
            "Qatar",
            "Romania",
            "Russia",
            "Rwanda",
            "Saudi Arabia",
            "Senegal",
            "Serbia",
            "Sierra Leone",
            "Singapore",
            "Slovakia",
            "Slovenia",
            "Somalia",
            "South Africa",
            "South Korea",
            "South Sudan",
            "Spain",
            "Sri Lanka",
            "Sudan",
            "Sweden",
            "Switzerland",
            "Syria",
            "Taiwan Province of China",
            "Tajikistan",
            "Tanzania",
            "Thailand",
            "Togo",
            "Trinidad and Tobago",
            "Tunisia",
            "Turkey",
            "Turkmenistan",
            "Uganda",
            "Ukraine",
            "United Arab Emirates",
            "United Kingdom",
            "United States",
            "Uruguay",
            "Uzbekistan",
            "Venezuela",
            "Vietnam",
            "Yemen",
            "Zambia",
            "Zimbabwe"
           ],
           "locationmode": "country names",
           "locations": [
            "Afghanistan",
            "Albania",
            "Algeria",
            "Angola",
            "Argentina",
            "Armenia",
            "Australia",
            "Austria",
            "Azerbaijan",
            "Bahrain",
            "Bangladesh",
            "Belarus",
            "Belgium",
            "Belize",
            "Benin",
            "Bhutan",
            "Bolivia",
            "Bosnia and Herzegovina",
            "Botswana",
            "Brazil",
            "Bulgaria",
            "Burkina Faso",
            "Burundi",
            "Cambodia",
            "Cameroon",
            "Canada",
            "Central African Republic",
            "Chad",
            "Chile",
            "China",
            "Colombia",
            "Congo (Brazzaville)",
            "Congo (Kinshasa)",
            "Costa Rica",
            "Croatia",
            "Cyprus",
            "Czech Republic",
            "Denmark",
            "Dominican Republic",
            "Ecuador",
            "Egypt",
            "El Salvador",
            "Estonia",
            "Ethiopia",
            "Finland",
            "France",
            "Gabon",
            "Georgia",
            "Germany",
            "Ghana",
            "Greece",
            "Guatemala",
            "Guinea",
            "Haiti",
            "Honduras",
            "Hong Kong S.A.R., China",
            "Hungary",
            "Iceland",
            "India",
            "Indonesia",
            "Iran",
            "Iraq",
            "Ireland",
            "Israel",
            "Italy",
            "Ivory Coast",
            "Jamaica",
            "Japan",
            "Jordan",
            "Kazakhstan",
            "Kenya",
            "Kosovo",
            "Kuwait",
            "Kyrgyzstan",
            "Latvia",
            "Lebanon",
            "Lesotho",
            "Liberia",
            "Libya",
            "Lithuania",
            "Luxembourg",
            "Macedonia",
            "Madagascar",
            "Malawi",
            "Malaysia",
            "Mali",
            "Malta",
            "Mauritania",
            "Mauritius",
            "Mexico",
            "Moldova",
            "Mongolia",
            "Montenegro",
            "Morocco",
            "Mozambique",
            "Myanmar",
            "Namibia",
            "Nepal",
            "Netherlands",
            "New Zealand",
            "Nicaragua",
            "Niger",
            "Nigeria",
            "North Cyprus",
            "Norway",
            "Pakistan",
            "Palestinian Territories",
            "Panama",
            "Paraguay",
            "Peru",
            "Philippines",
            "Poland",
            "Portugal",
            "Qatar",
            "Romania",
            "Russia",
            "Rwanda",
            "Saudi Arabia",
            "Senegal",
            "Serbia",
            "Sierra Leone",
            "Singapore",
            "Slovakia",
            "Slovenia",
            "Somalia",
            "South Africa",
            "South Korea",
            "South Sudan",
            "Spain",
            "Sri Lanka",
            "Sudan",
            "Sweden",
            "Switzerland",
            "Syria",
            "Taiwan Province of China",
            "Tajikistan",
            "Tanzania",
            "Thailand",
            "Togo",
            "Trinidad and Tobago",
            "Tunisia",
            "Turkey",
            "Turkmenistan",
            "Uganda",
            "Ukraine",
            "United Arab Emirates",
            "United Kingdom",
            "United States",
            "Uruguay",
            "Uzbekistan",
            "Venezuela",
            "Vietnam",
            "Yemen",
            "Zambia",
            "Zimbabwe"
           ],
           "name": "",
           "type": "choropleth",
           "z": [
            3.79399991035461,
            4.64400005340576,
            5.87200021743774,
            3.79500007629395,
            6.59899997711182,
            4.37599992752075,
            7.28399991989136,
            7.00600004196167,
            5.23400020599365,
            6.08699989318848,
            4.60799980163574,
            5.56899976730347,
            6.89099979400635,
            5.95599985122681,
            3.65700006484985,
            5.01100015640259,
            5.82299995422363,
            5.18200016021729,
            3.76600003242493,
            6.63500022888184,
            4.71400022506714,
            4.03200006484985,
            2.90499997138977,
            4.16800022125244,
            4.69500017166138,
            7.31599998474121,
            2.69300007820129,
            3.93600010871887,
            6.65199995040894,
            5.27299976348877,
            6.35699987411499,
            4.29099988937378,
            4.28000020980835,
            7.0789999961853,
            5.29300022125244,
            5.62099981307983,
            6.60900020599365,
            7.52199983596802,
            5.23000001907349,
            6.00799989700317,
            4.7350001335144,
            6.00299978256226,
            5.61100006103516,
            4.46000003814697,
            7.4689998626709,
            6.44199991226196,
            4.46500015258789,
            4.28599977493286,
            6.95100021362305,
            4.11999988555908,
            5.22700023651123,
            6.4539999961853,
            3.50699996948242,
            3.6029999256134,
            5.18100023269653,
            5.47200012207031,
            5.32399988174438,
            7.50400018692017,
            4.31500005722046,
            5.26200008392334,
            4.69199991226196,
            4.49700021743774,
            6.97700023651123,
            7.21299982070923,
            5.96400022506714,
            4.17999982833862,
            5.31099987030029,
            5.92000007629395,
            5.33599996566772,
            5.81899976730347,
            4.55299997329712,
            5.27899980545044,
            6.10500001907349,
            5.00400018692017,
            5.84999990463257,
            5.22499990463257,
            3.80800008773804,
            3.53299999237061,
            5.52500009536743,
            5.90199995040894,
            6.86299991607666,
            5.17500019073486,
            3.64400005340576,
            3.97000002861023,
            6.08400011062622,
            4.19000005722046,
            6.52699995040894,
            4.29199981689453,
            5.62900018692017,
            6.57800006866455,
            5.83799982070923,
            4.95499992370605,
            5.23699998855591,
            5.2350001335144,
            4.55000019073486,
            4.54500007629395,
            4.57399988174438,
            4.96199989318848,
            7.3769998550415,
            7.31400012969971,
            6.07100009918213,
            4.02799987792969,
            5.07399988174438,
            5.80999994277954,
            7.53700017929077,
            5.26900005340576,
            4.77500009536743,
            6.4520001411438,
            5.49300003051758,
            5.71500015258789,
            5.42999982833862,
            5.97300004959106,
            5.19500017166138,
            6.375,
            5.82499980926514,
            5.96299982070923,
            3.47099995613098,
            6.3439998626709,
            4.53499984741211,
            5.39499998092651,
            4.70900011062622,
            6.57200002670288,
            6.09800004959106,
            5.75799989700317,
            5.15100002288818,
            4.8289999961853,
            5.83799982070923,
            3.59100008010864,
            6.40299987792969,
            4.44000005722046,
            4.13899993896484,
            7.28399991989136,
            7.49399995803833,
            3.46199989318848,
            6.42199993133545,
            5.04099988937378,
            3.34899997711182,
            6.42399978637695,
            3.49499988555908,
            6.16800022125244,
            4.80499982833862,
            5.5,
            5.82200002670288,
            4.08099985122681,
            4.09600019454956,
            6.64799976348877,
            6.71400022506714,
            6.99300003051758,
            6.4539999961853,
            5.97100019454956,
            5.25,
            5.07399988174438,
            3.59299993515015,
            4.51399993896484,
            3.875
           ]
          }
         ],
         "name": "2017"
        },
        {
         "data": [
          {
           "coloraxis": "coloraxis",
           "customdata": [
            [
             "0.411%"
            ],
            [
             "0.08%"
            ],
            [
             "0.112%"
            ],
            [
             "4.394%"
            ],
            [
             "0.07%"
            ],
            [
             "0.045%"
            ],
            [
             "0.078%"
            ],
            [
             "0.093%"
            ],
            [
             "0.115%"
            ],
            [
             "0.069%"
            ],
            [
             "0.086%"
            ],
            [
             "0.098%"
            ],
            [
             "0.093%"
            ],
            [
             "0.053%"
            ],
            [
             "0.143%"
            ],
            [
             "0.063%"
            ],
            [
             "0.073%"
            ],
            [
             "0.075%"
            ],
            [
             "0.22%"
            ],
            [
             "0.095%"
            ],
            [
             "0.005%"
            ],
            [
             "0.177%"
            ],
            [
             "-0.044%"
            ],
            [
             "0.063%"
            ],
            [
             "0.37%"
            ],
            [
             "0.074%"
            ],
            [
             "-0.467%"
            ],
            [
             "0.288%"
            ],
            [
             "-0.014%"
            ],
            [
             "0.078%"
            ],
            [
             "0.067%"
            ],
            [
             "0.183%"
            ],
            [
             "0.066%"
            ],
            [
             "0.076%"
            ],
            [
             "0.051%"
            ],
            [
             "0.076%"
            ],
            [
             "0.132%"
            ],
            [
             "0.095%"
            ],
            [
             "0.068%"
            ],
            [
             "0.073%"
            ],
            [
             "0.063%"
            ],
            [
             "0.072%"
            ],
            [
             "0.06%"
            ],
            [
             "0.106%"
            ],
            [
             "0.08%"
            ],
            [
             "0.075%"
            ],
            [
             "0.133%"
            ],
            [
             "-0.01%"
            ],
            [
             "0.078%"
            ],
            [
             "0.14%"
            ],
            [
             "0.085%"
            ],
            [
             "0.125%"
            ],
            [
             "0.087%"
            ],
            [
             "0.042%"
            ],
            [
             "0.068%"
            ],
            [
             "0.081%"
            ],
            [
             "0.064%"
            ],
            [
             "0.097%"
            ],
            [
             "0.065%"
            ],
            [
             "0.06%"
            ],
            [
             "0.081%"
            ],
            [
             "0.069%"
            ],
            [
             "0.082%"
            ],
            [
             "0.053%"
            ],
            [
             "0.109%"
            ],
            [
             "0.645%"
            ],
            [
             "0.081%"
            ],
            [
             "0.082%"
            ],
            [
             "0.067%"
            ],
            [
             "0.041%"
            ],
            [
             "0.465%"
            ],
            [
             "0.067%"
            ],
            [
             "0.068%"
            ],
            [
             "0.073%"
            ],
            [
             "0.152%"
            ],
            [
             "0.051%"
            ],
            [
             "0.068%"
            ],
            [
             "inf%"
            ],
            [
             "0.161%"
            ],
            [
             "0.063%"
            ],
            [
             "0.138%"
            ],
            [
             "0.06%"
            ],
            [
             "0.071%"
            ],
            [
             "0.071%"
            ],
            [
             "-0.029%"
            ],
            [
             "0.081%"
            ],
            [
             "-0.103%"
            ],
            [
             "0.075%"
            ],
            [
             "0.023%"
            ],
            [
             "0.072%"
            ],
            [
             "0.072%"
            ],
            [
             "0.052%"
            ],
            [
             "0.031%"
            ],
            [
             "0.092%"
            ],
            [
             "0.119%"
            ],
            [
             "0.622%"
            ],
            [
             "0.079%"
            ],
            [
             "0.078%"
            ],
            [
             "0.069%"
            ],
            [
             "0.083%"
            ],
            [
             "0.073%"
            ],
            [
             "0.072%"
            ],
            [
             "-0.177%"
            ],
            [
             "-0.157%"
            ],
            [
             "nan%"
            ],
            [
             "0.081%"
            ],
            [
             "0.055%"
            ],
            [
             "0.064%"
            ],
            [
             "0.075%"
            ],
            [
             "0.062%"
            ],
            [
             "0.07%"
            ],
            [
             "0.096%"
            ],
            [
             "0.117%"
            ],
            [
             "0.111%"
            ],
            [
             "0.053%"
            ],
            [
             "0.06%"
            ],
            [
             "0.094%"
            ],
            [
             "0.225%"
            ],
            [
             "0.073%"
            ],
            [
             "0.058%"
            ],
            [
             "0.053%"
            ],
            [
             "-1.0%"
            ],
            [
             "0.062%"
            ],
            [
             "0.089%"
            ],
            [
             "0.082%"
            ],
            [
             "0.009%"
            ],
            [
             "0.764%"
            ],
            [
             "0.061%"
            ],
            [
             "0.083%"
            ],
            [
             "0.086%"
            ],
            [
             "0.075%"
            ],
            [
             "0.072%"
            ],
            [
             "0.099%"
            ],
            [
             "0.08%"
            ],
            [
             "0.077%"
            ],
            [
             "0.077%"
            ],
            [
             "0.13%"
            ],
            [
             "0.045%"
            ],
            [
             "0.092%"
            ],
            [
             "0.024%"
            ],
            [
             "nan%"
            ],
            [
             "0.125%"
            ],
            [
             "0.076%"
            ],
            [
             "0.181%"
            ],
            [
             "0.089%"
            ],
            [
             "0.057%"
            ],
            [
             "-0.078%"
            ],
            [
             "0.103%"
            ],
            [
             "0.058%"
            ],
            [
             "0.072%"
            ],
            [
             "0.214%"
            ],
            [
             "0.065%"
            ],
            [
             "0.076%"
            ],
            [
             "0.106%"
            ],
            [
             "0.144%"
            ],
            [
             "0.26%"
            ]
           ],
           "geo": "geo",
           "hovertemplate": "<b>%{hovertext}</b><br><br>Year=2018<br>Country=%{location}<br>Relative Change Health (Life Expectancy)=%{customdata[0]}<br>Happiness Score=%{z}<extra></extra>",
           "hovertext": [
            "Afghanistan",
            "Albania",
            "Algeria",
            "Angola",
            "Argentina",
            "Armenia",
            "Australia",
            "Austria",
            "Azerbaijan",
            "Bahrain",
            "Bangladesh",
            "Belarus",
            "Belgium",
            "Belize",
            "Benin",
            "Bhutan",
            "Bolivia",
            "Bosnia and Herzegovina",
            "Botswana",
            "Brazil",
            "Bulgaria",
            "Burkina Faso",
            "Burundi",
            "Cambodia",
            "Cameroon",
            "Canada",
            "Central African Republic",
            "Chad",
            "Chile",
            "China",
            "Colombia",
            "Congo (Brazzaville)",
            "Congo (Kinshasa)",
            "Costa Rica",
            "Croatia",
            "Cyprus",
            "Czech Republic",
            "Denmark",
            "Dominican Republic",
            "Ecuador",
            "Egypt",
            "El Salvador",
            "Estonia",
            "Ethiopia",
            "Finland",
            "France",
            "Gabon",
            "Georgia",
            "Germany",
            "Ghana",
            "Greece",
            "Guatemala",
            "Guinea",
            "Haiti",
            "Honduras",
            "Hong Kong",
            "Hungary",
            "Iceland",
            "India",
            "Indonesia",
            "Iran",
            "Iraq",
            "Ireland",
            "Israel",
            "Italy",
            "Ivory Coast",
            "Jamaica",
            "Japan",
            "Jordan",
            "Kazakhstan",
            "Kenya",
            "Kosovo",
            "Kuwait",
            "Kyrgyzstan",
            "Laos",
            "Latvia",
            "Lebanon",
            "Lesotho",
            "Liberia",
            "Libya",
            "Lithuania",
            "Luxembourg",
            "Macedonia",
            "Madagascar",
            "Malawi",
            "Malaysia",
            "Mali",
            "Malta",
            "Mauritania",
            "Mauritius",
            "Mexico",
            "Moldova",
            "Mongolia",
            "Montenegro",
            "Morocco",
            "Mozambique",
            "Myanmar",
            "Namibia",
            "Nepal",
            "Netherlands",
            "New Zealand",
            "Nicaragua",
            "Niger",
            "Nigeria",
            "Northern Cyprus",
            "Norway",
            "Pakistan",
            "Palestinian Territories",
            "Panama",
            "Paraguay",
            "Peru",
            "Philippines",
            "Poland",
            "Portugal",
            "Qatar",
            "Romania",
            "Russia",
            "Rwanda",
            "Saudi Arabia",
            "Senegal",
            "Serbia",
            "Sierra Leone",
            "Singapore",
            "Slovakia",
            "Slovenia",
            "Somalia",
            "South Africa",
            "South Korea",
            "South Sudan",
            "Spain",
            "Sri Lanka",
            "Sudan",
            "Sweden",
            "Switzerland",
            "Syria",
            "Taiwan",
            "Tajikistan",
            "Tanzania",
            "Thailand",
            "Togo",
            "Trinidad & Tobago",
            "Tunisia",
            "Turkey",
            "Turkmenistan",
            "Uganda",
            "Ukraine",
            "United Arab Emirates",
            "United Kingdom",
            "United States",
            "Uruguay",
            "Uzbekistan",
            "Venezuela",
            "Vietnam",
            "Yemen",
            "Zambia",
            "Zimbabwe"
           ],
           "locationmode": "country names",
           "locations": [
            "Afghanistan",
            "Albania",
            "Algeria",
            "Angola",
            "Argentina",
            "Armenia",
            "Australia",
            "Austria",
            "Azerbaijan",
            "Bahrain",
            "Bangladesh",
            "Belarus",
            "Belgium",
            "Belize",
            "Benin",
            "Bhutan",
            "Bolivia",
            "Bosnia and Herzegovina",
            "Botswana",
            "Brazil",
            "Bulgaria",
            "Burkina Faso",
            "Burundi",
            "Cambodia",
            "Cameroon",
            "Canada",
            "Central African Republic",
            "Chad",
            "Chile",
            "China",
            "Colombia",
            "Congo (Brazzaville)",
            "Congo (Kinshasa)",
            "Costa Rica",
            "Croatia",
            "Cyprus",
            "Czech Republic",
            "Denmark",
            "Dominican Republic",
            "Ecuador",
            "Egypt",
            "El Salvador",
            "Estonia",
            "Ethiopia",
            "Finland",
            "France",
            "Gabon",
            "Georgia",
            "Germany",
            "Ghana",
            "Greece",
            "Guatemala",
            "Guinea",
            "Haiti",
            "Honduras",
            "Hong Kong",
            "Hungary",
            "Iceland",
            "India",
            "Indonesia",
            "Iran",
            "Iraq",
            "Ireland",
            "Israel",
            "Italy",
            "Ivory Coast",
            "Jamaica",
            "Japan",
            "Jordan",
            "Kazakhstan",
            "Kenya",
            "Kosovo",
            "Kuwait",
            "Kyrgyzstan",
            "Laos",
            "Latvia",
            "Lebanon",
            "Lesotho",
            "Liberia",
            "Libya",
            "Lithuania",
            "Luxembourg",
            "Macedonia",
            "Madagascar",
            "Malawi",
            "Malaysia",
            "Mali",
            "Malta",
            "Mauritania",
            "Mauritius",
            "Mexico",
            "Moldova",
            "Mongolia",
            "Montenegro",
            "Morocco",
            "Mozambique",
            "Myanmar",
            "Namibia",
            "Nepal",
            "Netherlands",
            "New Zealand",
            "Nicaragua",
            "Niger",
            "Nigeria",
            "Northern Cyprus",
            "Norway",
            "Pakistan",
            "Palestinian Territories",
            "Panama",
            "Paraguay",
            "Peru",
            "Philippines",
            "Poland",
            "Portugal",
            "Qatar",
            "Romania",
            "Russia",
            "Rwanda",
            "Saudi Arabia",
            "Senegal",
            "Serbia",
            "Sierra Leone",
            "Singapore",
            "Slovakia",
            "Slovenia",
            "Somalia",
            "South Africa",
            "South Korea",
            "South Sudan",
            "Spain",
            "Sri Lanka",
            "Sudan",
            "Sweden",
            "Switzerland",
            "Syria",
            "Taiwan",
            "Tajikistan",
            "Tanzania",
            "Thailand",
            "Togo",
            "Trinidad & Tobago",
            "Tunisia",
            "Turkey",
            "Turkmenistan",
            "Uganda",
            "Ukraine",
            "United Arab Emirates",
            "United Kingdom",
            "United States",
            "Uruguay",
            "Uzbekistan",
            "Venezuela",
            "Vietnam",
            "Yemen",
            "Zambia",
            "Zimbabwe"
           ],
           "name": "",
           "type": "choropleth",
           "z": [
            3.632,
            4.586,
            5.295,
            3.795,
            6.388,
            4.321,
            7.272,
            7.139,
            5.201,
            6.105,
            4.5,
            5.483,
            6.927,
            5.956,
            4.141,
            5.082,
            5.752,
            5.129,
            3.59,
            6.419,
            4.933,
            4.424,
            2.905,
            4.433,
            4.975,
            7.328,
            3.083,
            4.301,
            6.476,
            5.246,
            6.26,
            4.559,
            4.245,
            7.072,
            5.321,
            5.762,
            6.711,
            7.555,
            5.302,
            5.973,
            4.419,
            6.167,
            5.739,
            4.35,
            7.632,
            6.489,
            4.758,
            4.34,
            6.965,
            4.657,
            5.358,
            6.382,
            3.964,
            3.582,
            5.504,
            5.43,
            5.62,
            7.495,
            4.19,
            5.093,
            4.707,
            4.456,
            6.977,
            6.814,
            6,
            4.671,
            5.89,
            5.915,
            5.161,
            5.79,
            4.41,
            5.662,
            6.083,
            5.131,
            4.623,
            5.933,
            5.358,
            3.808,
            3.495,
            5.566,
            5.952,
            6.91,
            5.185,
            3.774,
            3.587,
            6.322,
            4.447,
            6.627,
            4.356,
            5.891,
            6.488,
            5.64,
            5.125,
            5.347,
            5.254,
            4.417,
            4.308,
            4.441,
            4.88,
            7.441,
            7.324,
            6.141,
            4.166,
            5.155,
            5.835,
            7.594,
            5.472,
            4.743,
            6.43,
            5.681,
            5.663,
            5.524,
            6.123,
            5.41,
            6.374,
            5.945,
            5.81,
            3.408,
            6.371,
            4.631,
            5.398,
            4.571,
            6.343,
            6.173,
            5.948,
            4.982,
            4.724,
            5.875,
            3.254,
            6.31,
            4.471,
            4.139,
            7.314,
            7.487,
            3.462,
            6.441,
            5.199,
            3.303,
            6.072,
            3.999,
            6.192,
            4.592,
            5.483,
            5.636,
            4.161,
            4.103,
            6.774,
            7.19,
            6.886,
            6.379,
            6.096,
            4.806,
            5.103,
            3.355,
            4.377,
            3.692
           ]
          }
         ],
         "name": "2018"
        },
        {
         "data": [
          {
           "coloraxis": "coloraxis",
           "customdata": [
            [
             "0.416%"
            ],
            [
             "0.106%"
            ],
            [
             "0.143%"
            ],
            [
             "0.184%"
            ],
            [
             "0.224%"
            ],
            [
             "0.138%"
            ],
            [
             "0.14%"
            ],
            [
             "0.275%"
            ],
            [
             "0.248%"
            ],
            [
             "0.249%"
            ],
            [
             "0.127%"
            ],
            [
             "0.103%"
            ],
            [
             "0.654%"
            ],
            [
             "0.146%"
            ],
            [
             "0.39%"
            ],
            [
             "0.115%"
            ],
            [
             "0.29%"
            ],
            [
             "0.188%"
            ],
            [
             "0.145%"
            ],
            [
             "0.496%"
            ],
            [
             "1.621%"
            ],
            [
             "0.394%"
            ],
            [
             "0.819%"
            ],
            [
             "0.16%"
            ],
            [
             "9.5%"
            ],
            [
             "2.623%"
            ],
            [
             "0.139%"
            ],
            [
             "0.118%"
            ],
            [
             "0.324%"
            ],
            [
             "0.684%"
            ],
            [
             "0.481%"
            ],
            [
             "0.75%"
            ],
            [
             "0.179%"
            ],
            [
             "0.24%"
            ],
            [
             "0.146%"
            ],
            [
             "0.077%"
            ],
            [
             "0.147%"
            ],
            [
             "0.269%"
            ],
            [
             "0.179%"
            ],
            [
             "0.165%"
            ],
            [
             "0.235%"
            ],
            [
             "0.186%"
            ],
            [
             "0.361%"
            ],
            [
             "0.128%"
            ],
            [
             "0.151%"
            ],
            [
             "0.413%"
            ],
            [
             "nan%"
            ],
            [
             "0.17%"
            ],
            [
             "0.146%"
            ],
            [
             "0.442%"
            ],
            [
             "0.137%"
            ],
            [
             "0.227%"
            ],
            [
             "0.777%"
            ],
            [
             "0.554%"
            ],
            [
             "0.331%"
            ],
            [
             "0.089%"
            ],
            [
             "0.131%"
            ],
            [
             "0.123%"
            ],
            [
             "0.212%"
            ],
            [
             "0.264%"
            ],
            [
             "0.136%"
            ],
            [
             "0.071%"
            ],
            [
             "0.14%"
            ],
            [
             "0.165%"
            ],
            [
             "0.098%"
            ],
            [
             "1.9%"
            ],
            [
             "0.199%"
            ],
            [
             "0.101%"
            ],
            [
             "0.264%"
            ],
            [
             "0.155%"
            ],
            [
             "0.28%"
            ],
            [
             "0.311%"
            ],
            [
             "0.197%"
            ],
            [
             "0.217%"
            ],
            [
             "0.249%"
            ],
            [
             "0.21%"
            ],
            [
             "0.038%"
            ],
            [
             "1.127%"
            ],
            [
             "0.659%"
            ],
            [
             "0.217%"
            ],
            [
             "0.142%"
            ],
            [
             "0.129%"
            ],
            [
             "0.381%"
            ],
            [
             "0.618%"
            ],
            [
             "0.238%"
            ],
            [
             "1.026%"
            ],
            [
             "0.13%"
            ],
            [
             "0.675%"
            ],
            [
             "0.167%"
            ],
            [
             "0.131%"
            ],
            [
             "0.192%"
            ],
            [
             "0.16%"
            ],
            [
             "0.195%"
            ],
            [
             "0.169%"
            ],
            [
             "1.254%"
            ],
            [
             "0.294%"
            ],
            [
             "0.307%"
            ],
            [
             "0.256%"
            ],
            [
             "0.138%"
            ],
            [
             "0.171%"
            ],
            [
             "0.193%"
            ],
            [
             "0.656%"
            ],
            [
             "4.104%"
            ],
            [
             "nan%"
            ],
            [
             "0.146%"
            ],
            [
             "0.194%"
            ],
            [
             "0.262%"
            ],
            [
             "0.116%"
            ],
            [
             "0.199%"
            ],
            [
             "0.263%"
            ],
            [
             "0.267%"
            ],
            [
             "0.281%"
            ],
            [
             "0.132%"
            ],
            [
             "0.13%"
            ],
            [
             "0.164%"
            ],
            [
             "0.136%"
            ],
            [
             "0.212%"
            ],
            [
             "0.535%"
            ],
            [
             "0.256%"
            ],
            [
             "0.319%"
            ],
            [
             "0.247%"
            ],
            [
             "inf%"
            ],
            [
             "0.132%"
            ],
            [
             "0.135%"
            ],
            [
             "0.113%"
            ],
            [
             "1.33%"
            ],
            [
             "0.421%"
            ],
            [
             "0.085%"
            ],
            [
             "0.667%"
            ],
            [
             "0.101%"
            ],
            [
             "0.237%"
            ],
            [
             "-1.0%"
            ],
            [
             "0.105%"
            ],
            [
             "0.135%"
            ],
            [
             "-0.184%"
            ],
            [
             "0.067%"
            ],
            [
             "0.201%"
            ],
            [
             "0.31%"
            ],
            [
             "0.171%"
            ],
            [
             "0.621%"
            ],
            [
             "0.264%"
            ],
            [
             "0.181%"
            ],
            [
             "0.178%"
            ],
            [
             "0.271%"
            ],
            [
             "0.869%"
            ],
            [
             "0.213%"
            ],
            [
             "0.231%"
            ],
            [
             "0.122%"
            ],
            [
             "0.067%"
            ],
            [
             "0.156%"
            ],
            [
             "0.25%"
            ],
            [
             "0.225%"
            ],
            [
             "0.212%"
            ],
            [
             "0.35%"
            ],
            [
             "0.444%"
            ],
            [
             "0.746%"
            ]
           ],
           "geo": "geo",
           "hovertemplate": "<b>%{hovertext}</b><br><br>Year=2019<br>Country=%{location}<br>Relative Change Health (Life Expectancy)=%{customdata[0]}<br>Happiness Score=%{z}<extra></extra>",
           "hovertext": [
            "Afghanistan",
            "Albania",
            "Algeria",
            "Argentina",
            "Armenia",
            "Australia",
            "Austria",
            "Azerbaijan",
            "Bahrain",
            "Bangladesh",
            "Belarus",
            "Belgium",
            "Benin",
            "Bhutan",
            "Bolivia",
            "Bosnia and Herzegovina",
            "Botswana",
            "Brazil",
            "Bulgaria",
            "Burkina Faso",
            "Burundi",
            "Cambodia",
            "Cameroon",
            "Canada",
            "Central African Republic",
            "Chad",
            "Chile",
            "China",
            "Colombia",
            "Comoros",
            "Congo (Brazzaville)",
            "Congo (Kinshasa)",
            "Costa Rica",
            "Croatia",
            "Cyprus",
            "Czech Republic",
            "Denmark",
            "Dominican Republic",
            "Ecuador",
            "Egypt",
            "El Salvador",
            "Estonia",
            "Ethiopia",
            "Finland",
            "France",
            "Gabon",
            "Gambia",
            "Georgia",
            "Germany",
            "Ghana",
            "Greece",
            "Guatemala",
            "Guinea",
            "Haiti",
            "Honduras",
            "Hong Kong",
            "Hungary",
            "Iceland",
            "India",
            "Indonesia",
            "Iran",
            "Iraq",
            "Ireland",
            "Israel",
            "Italy",
            "Ivory Coast",
            "Jamaica",
            "Japan",
            "Jordan",
            "Kazakhstan",
            "Kenya",
            "Kosovo",
            "Kuwait",
            "Kyrgyzstan",
            "Laos",
            "Latvia",
            "Lebanon",
            "Lesotho",
            "Liberia",
            "Libya",
            "Lithuania",
            "Luxembourg",
            "Madagascar",
            "Malawi",
            "Malaysia",
            "Mali",
            "Malta",
            "Mauritania",
            "Mauritius",
            "Mexico",
            "Moldova",
            "Mongolia",
            "Montenegro",
            "Morocco",
            "Mozambique",
            "Myanmar",
            "Namibia",
            "Nepal",
            "Netherlands",
            "New Zealand",
            "Nicaragua",
            "Niger",
            "Nigeria",
            "North Macedonia",
            "Northern Cyprus",
            "Norway",
            "Pakistan",
            "Palestinian Territories",
            "Panama",
            "Paraguay",
            "Peru",
            "Philippines",
            "Poland",
            "Portugal",
            "Qatar",
            "Romania",
            "Russia",
            "Rwanda",
            "Saudi Arabia",
            "Senegal",
            "Serbia",
            "Sierra Leone",
            "Singapore",
            "Slovakia",
            "Slovenia",
            "Somalia",
            "South Africa",
            "South Korea",
            "South Sudan",
            "Spain",
            "Sri Lanka",
            "Swaziland",
            "Sweden",
            "Switzerland",
            "Syria",
            "Taiwan",
            "Tajikistan",
            "Tanzania",
            "Thailand",
            "Togo",
            "Trinidad & Tobago",
            "Tunisia",
            "Turkey",
            "Turkmenistan",
            "Uganda",
            "Ukraine",
            "United Arab Emirates",
            "United Kingdom",
            "United States",
            "Uruguay",
            "Uzbekistan",
            "Venezuela",
            "Vietnam",
            "Yemen",
            "Zambia",
            "Zimbabwe"
           ],
           "locationmode": "country names",
           "locations": [
            "Afghanistan",
            "Albania",
            "Algeria",
            "Argentina",
            "Armenia",
            "Australia",
            "Austria",
            "Azerbaijan",
            "Bahrain",
            "Bangladesh",
            "Belarus",
            "Belgium",
            "Benin",
            "Bhutan",
            "Bolivia",
            "Bosnia and Herzegovina",
            "Botswana",
            "Brazil",
            "Bulgaria",
            "Burkina Faso",
            "Burundi",
            "Cambodia",
            "Cameroon",
            "Canada",
            "Central African Republic",
            "Chad",
            "Chile",
            "China",
            "Colombia",
            "Comoros",
            "Congo (Brazzaville)",
            "Congo (Kinshasa)",
            "Costa Rica",
            "Croatia",
            "Cyprus",
            "Czech Republic",
            "Denmark",
            "Dominican Republic",
            "Ecuador",
            "Egypt",
            "El Salvador",
            "Estonia",
            "Ethiopia",
            "Finland",
            "France",
            "Gabon",
            "Gambia",
            "Georgia",
            "Germany",
            "Ghana",
            "Greece",
            "Guatemala",
            "Guinea",
            "Haiti",
            "Honduras",
            "Hong Kong",
            "Hungary",
            "Iceland",
            "India",
            "Indonesia",
            "Iran",
            "Iraq",
            "Ireland",
            "Israel",
            "Italy",
            "Ivory Coast",
            "Jamaica",
            "Japan",
            "Jordan",
            "Kazakhstan",
            "Kenya",
            "Kosovo",
            "Kuwait",
            "Kyrgyzstan",
            "Laos",
            "Latvia",
            "Lebanon",
            "Lesotho",
            "Liberia",
            "Libya",
            "Lithuania",
            "Luxembourg",
            "Madagascar",
            "Malawi",
            "Malaysia",
            "Mali",
            "Malta",
            "Mauritania",
            "Mauritius",
            "Mexico",
            "Moldova",
            "Mongolia",
            "Montenegro",
            "Morocco",
            "Mozambique",
            "Myanmar",
            "Namibia",
            "Nepal",
            "Netherlands",
            "New Zealand",
            "Nicaragua",
            "Niger",
            "Nigeria",
            "North Macedonia",
            "Northern Cyprus",
            "Norway",
            "Pakistan",
            "Palestinian Territories",
            "Panama",
            "Paraguay",
            "Peru",
            "Philippines",
            "Poland",
            "Portugal",
            "Qatar",
            "Romania",
            "Russia",
            "Rwanda",
            "Saudi Arabia",
            "Senegal",
            "Serbia",
            "Sierra Leone",
            "Singapore",
            "Slovakia",
            "Slovenia",
            "Somalia",
            "South Africa",
            "South Korea",
            "South Sudan",
            "Spain",
            "Sri Lanka",
            "Swaziland",
            "Sweden",
            "Switzerland",
            "Syria",
            "Taiwan",
            "Tajikistan",
            "Tanzania",
            "Thailand",
            "Togo",
            "Trinidad & Tobago",
            "Tunisia",
            "Turkey",
            "Turkmenistan",
            "Uganda",
            "Ukraine",
            "United Arab Emirates",
            "United Kingdom",
            "United States",
            "Uruguay",
            "Uzbekistan",
            "Venezuela",
            "Vietnam",
            "Yemen",
            "Zambia",
            "Zimbabwe"
           ],
           "name": "",
           "type": "choropleth",
           "z": [
            3.203,
            4.719,
            5.211,
            6.086,
            4.559,
            7.228,
            7.246,
            5.208,
            6.199,
            4.456,
            5.323,
            6.923,
            4.883,
            5.082,
            5.779,
            5.386,
            3.488,
            6.3,
            5.011,
            4.587,
            3.775,
            4.7,
            5.044,
            7.278,
            3.083,
            4.35,
            6.444,
            5.191,
            6.125,
            3.973,
            4.812,
            4.418,
            7.167,
            5.432,
            6.046,
            6.852,
            7.6,
            5.425,
            6.028,
            4.166,
            6.253,
            5.893,
            4.286,
            7.769,
            6.592,
            4.799,
            4.516,
            4.519,
            6.985,
            4.996,
            5.287,
            6.436,
            4.534,
            3.597,
            5.86,
            5.43,
            5.758,
            7.494,
            4.015,
            5.192,
            4.548,
            4.437,
            7.021,
            7.139,
            6.223,
            4.944,
            5.89,
            5.886,
            4.906,
            5.809,
            4.509,
            6.1,
            6.021,
            5.261,
            4.796,
            5.94,
            5.197,
            3.802,
            3.975,
            5.525,
            6.149,
            7.09,
            3.933,
            3.41,
            5.339,
            4.39,
            6.726,
            4.49,
            5.888,
            6.595,
            5.529,
            5.285,
            5.523,
            5.208,
            4.466,
            4.36,
            4.639,
            4.913,
            7.488,
            7.307,
            6.105,
            4.628,
            5.265,
            5.274,
            5.718,
            7.554,
            5.653,
            4.696,
            6.321,
            5.743,
            5.697,
            5.631,
            6.182,
            5.693,
            6.374,
            6.07,
            5.648,
            3.334,
            6.375,
            4.681,
            5.603,
            4.374,
            6.262,
            6.198,
            6.118,
            4.668,
            4.722,
            5.895,
            2.853,
            6.354,
            4.366,
            4.212,
            7.343,
            7.48,
            3.462,
            6.446,
            5.467,
            3.231,
            6.008,
            4.085,
            6.192,
            4.461,
            5.373,
            5.247,
            4.189,
            4.332,
            6.825,
            7.054,
            6.892,
            6.293,
            6.174,
            4.707,
            5.175,
            3.38,
            4.107,
            3.663
           ]
          }
         ],
         "name": "2019"
        }
       ],
       "layout": {
        "annotations": [
         {
          "font": {
           "size": 10
          },
          "showarrow": false,
          "text": "Door over elk land op de wereldkaart heen te gaan, kun je informatie vinden over het jaar, de relatieve verandering van de Health variabele en de Happiness Score van het desbetreffende land. <br> Op de kleurenbalk is de Happiness Score met verschillende kleuren weergegeven, afhankelijk van hoe hoog de score is. Door op de startknop linksonder te klikken, <br> valt er voor elk jaar de verandering van de Happiness Score te zien, en ook de relatieve verandering van de Health variabele ten opzichte van het vorige jaar. <br> Voor 2015 staat er bij de relatieve verandering van de Health variabele 'nan%', omdat er geen data is voor 2014.",
          "x": 0.5,
          "xref": "paper",
          "y": -0.2,
          "yref": "paper"
         }
        ],
        "coloraxis": {
         "colorbar": {
          "title": {
           "text": "Happiness Score"
          }
         },
         "colorscale": [
          [
           0,
           "#0d0887"
          ],
          [
           0.1111111111111111,
           "#46039f"
          ],
          [
           0.2222222222222222,
           "#7201a8"
          ],
          [
           0.3333333333333333,
           "#9c179e"
          ],
          [
           0.4444444444444444,
           "#bd3786"
          ],
          [
           0.5555555555555556,
           "#d8576b"
          ],
          [
           0.6666666666666666,
           "#ed7953"
          ],
          [
           0.7777777777777778,
           "#fb9f3a"
          ],
          [
           0.8888888888888888,
           "#fdca26"
          ],
          [
           1,
           "#f0f921"
          ]
         ]
        },
        "geo": {
         "center": {},
         "domain": {
          "x": [
           0,
           1
          ],
          "y": [
           0,
           1
          ]
         }
        },
        "legend": {
         "tracegroupgap": 0
        },
        "margin": {
         "t": 60
        },
        "sliders": [
         {
          "active": 0,
          "currentvalue": {
           "prefix": "Year="
          },
          "len": 0.9,
          "pad": {
           "b": 10,
           "t": 60
          },
          "steps": [
           {
            "args": [
             [
              "2015"
             ],
             {
              "frame": {
               "duration": 0,
               "redraw": true
              },
              "fromcurrent": true,
              "mode": "immediate",
              "transition": {
               "duration": 0,
               "easing": "linear"
              }
             }
            ],
            "label": "2015",
            "method": "animate"
           },
           {
            "args": [
             [
              "2016"
             ],
             {
              "frame": {
               "duration": 0,
               "redraw": true
              },
              "fromcurrent": true,
              "mode": "immediate",
              "transition": {
               "duration": 0,
               "easing": "linear"
              }
             }
            ],
            "label": "2016",
            "method": "animate"
           },
           {
            "args": [
             [
              "2017"
             ],
             {
              "frame": {
               "duration": 0,
               "redraw": true
              },
              "fromcurrent": true,
              "mode": "immediate",
              "transition": {
               "duration": 0,
               "easing": "linear"
              }
             }
            ],
            "label": "2017",
            "method": "animate"
           },
           {
            "args": [
             [
              "2018"
             ],
             {
              "frame": {
               "duration": 0,
               "redraw": true
              },
              "fromcurrent": true,
              "mode": "immediate",
              "transition": {
               "duration": 0,
               "easing": "linear"
              }
             }
            ],
            "label": "2018",
            "method": "animate"
           },
           {
            "args": [
             [
              "2019"
             ],
             {
              "frame": {
               "duration": 0,
               "redraw": true
              },
              "fromcurrent": true,
              "mode": "immediate",
              "transition": {
               "duration": 0,
               "easing": "linear"
              }
             }
            ],
            "label": "2019",
            "method": "animate"
           }
          ],
          "x": 0.1,
          "xanchor": "left",
          "y": 0,
          "yanchor": "top"
         }
        ],
        "template": {
         "data": {
          "bar": [
           {
            "error_x": {
             "color": "#2a3f5f"
            },
            "error_y": {
             "color": "#2a3f5f"
            },
            "marker": {
             "line": {
              "color": "#E5ECF6",
              "width": 0.5
             },
             "pattern": {
              "fillmode": "overlay",
              "size": 10,
              "solidity": 0.2
             }
            },
            "type": "bar"
           }
          ],
          "barpolar": [
           {
            "marker": {
             "line": {
              "color": "#E5ECF6",
              "width": 0.5
             },
             "pattern": {
              "fillmode": "overlay",
              "size": 10,
              "solidity": 0.2
             }
            },
            "type": "barpolar"
           }
          ],
          "carpet": [
           {
            "aaxis": {
             "endlinecolor": "#2a3f5f",
             "gridcolor": "white",
             "linecolor": "white",
             "minorgridcolor": "white",
             "startlinecolor": "#2a3f5f"
            },
            "baxis": {
             "endlinecolor": "#2a3f5f",
             "gridcolor": "white",
             "linecolor": "white",
             "minorgridcolor": "white",
             "startlinecolor": "#2a3f5f"
            },
            "type": "carpet"
           }
          ],
          "choropleth": [
           {
            "colorbar": {
             "outlinewidth": 0,
             "ticks": ""
            },
            "type": "choropleth"
           }
          ],
          "contour": [
           {
            "colorbar": {
             "outlinewidth": 0,
             "ticks": ""
            },
            "colorscale": [
             [
              0,
              "#0d0887"
             ],
             [
              0.1111111111111111,
              "#46039f"
             ],
             [
              0.2222222222222222,
              "#7201a8"
             ],
             [
              0.3333333333333333,
              "#9c179e"
             ],
             [
              0.4444444444444444,
              "#bd3786"
             ],
             [
              0.5555555555555556,
              "#d8576b"
             ],
             [
              0.6666666666666666,
              "#ed7953"
             ],
             [
              0.7777777777777778,
              "#fb9f3a"
             ],
             [
              0.8888888888888888,
              "#fdca26"
             ],
             [
              1,
              "#f0f921"
             ]
            ],
            "type": "contour"
           }
          ],
          "contourcarpet": [
           {
            "colorbar": {
             "outlinewidth": 0,
             "ticks": ""
            },
            "type": "contourcarpet"
           }
          ],
          "heatmap": [
           {
            "colorbar": {
             "outlinewidth": 0,
             "ticks": ""
            },
            "colorscale": [
             [
              0,
              "#0d0887"
             ],
             [
              0.1111111111111111,
              "#46039f"
             ],
             [
              0.2222222222222222,
              "#7201a8"
             ],
             [
              0.3333333333333333,
              "#9c179e"
             ],
             [
              0.4444444444444444,
              "#bd3786"
             ],
             [
              0.5555555555555556,
              "#d8576b"
             ],
             [
              0.6666666666666666,
              "#ed7953"
             ],
             [
              0.7777777777777778,
              "#fb9f3a"
             ],
             [
              0.8888888888888888,
              "#fdca26"
             ],
             [
              1,
              "#f0f921"
             ]
            ],
            "type": "heatmap"
           }
          ],
          "heatmapgl": [
           {
            "colorbar": {
             "outlinewidth": 0,
             "ticks": ""
            },
            "colorscale": [
             [
              0,
              "#0d0887"
             ],
             [
              0.1111111111111111,
              "#46039f"
             ],
             [
              0.2222222222222222,
              "#7201a8"
             ],
             [
              0.3333333333333333,
              "#9c179e"
             ],
             [
              0.4444444444444444,
              "#bd3786"
             ],
             [
              0.5555555555555556,
              "#d8576b"
             ],
             [
              0.6666666666666666,
              "#ed7953"
             ],
             [
              0.7777777777777778,
              "#fb9f3a"
             ],
             [
              0.8888888888888888,
              "#fdca26"
             ],
             [
              1,
              "#f0f921"
             ]
            ],
            "type": "heatmapgl"
           }
          ],
          "histogram": [
           {
            "marker": {
             "pattern": {
              "fillmode": "overlay",
              "size": 10,
              "solidity": 0.2
             }
            },
            "type": "histogram"
           }
          ],
          "histogram2d": [
           {
            "colorbar": {
             "outlinewidth": 0,
             "ticks": ""
            },
            "colorscale": [
             [
              0,
              "#0d0887"
             ],
             [
              0.1111111111111111,
              "#46039f"
             ],
             [
              0.2222222222222222,
              "#7201a8"
             ],
             [
              0.3333333333333333,
              "#9c179e"
             ],
             [
              0.4444444444444444,
              "#bd3786"
             ],
             [
              0.5555555555555556,
              "#d8576b"
             ],
             [
              0.6666666666666666,
              "#ed7953"
             ],
             [
              0.7777777777777778,
              "#fb9f3a"
             ],
             [
              0.8888888888888888,
              "#fdca26"
             ],
             [
              1,
              "#f0f921"
             ]
            ],
            "type": "histogram2d"
           }
          ],
          "histogram2dcontour": [
           {
            "colorbar": {
             "outlinewidth": 0,
             "ticks": ""
            },
            "colorscale": [
             [
              0,
              "#0d0887"
             ],
             [
              0.1111111111111111,
              "#46039f"
             ],
             [
              0.2222222222222222,
              "#7201a8"
             ],
             [
              0.3333333333333333,
              "#9c179e"
             ],
             [
              0.4444444444444444,
              "#bd3786"
             ],
             [
              0.5555555555555556,
              "#d8576b"
             ],
             [
              0.6666666666666666,
              "#ed7953"
             ],
             [
              0.7777777777777778,
              "#fb9f3a"
             ],
             [
              0.8888888888888888,
              "#fdca26"
             ],
             [
              1,
              "#f0f921"
             ]
            ],
            "type": "histogram2dcontour"
           }
          ],
          "mesh3d": [
           {
            "colorbar": {
             "outlinewidth": 0,
             "ticks": ""
            },
            "type": "mesh3d"
           }
          ],
          "parcoords": [
           {
            "line": {
             "colorbar": {
              "outlinewidth": 0,
              "ticks": ""
             }
            },
            "type": "parcoords"
           }
          ],
          "pie": [
           {
            "automargin": true,
            "type": "pie"
           }
          ],
          "scatter": [
           {
            "fillpattern": {
             "fillmode": "overlay",
             "size": 10,
             "solidity": 0.2
            },
            "type": "scatter"
           }
          ],
          "scatter3d": [
           {
            "line": {
             "colorbar": {
              "outlinewidth": 0,
              "ticks": ""
             }
            },
            "marker": {
             "colorbar": {
              "outlinewidth": 0,
              "ticks": ""
             }
            },
            "type": "scatter3d"
           }
          ],
          "scattercarpet": [
           {
            "marker": {
             "colorbar": {
              "outlinewidth": 0,
              "ticks": ""
             }
            },
            "type": "scattercarpet"
           }
          ],
          "scattergeo": [
           {
            "marker": {
             "colorbar": {
              "outlinewidth": 0,
              "ticks": ""
             }
            },
            "type": "scattergeo"
           }
          ],
          "scattergl": [
           {
            "marker": {
             "colorbar": {
              "outlinewidth": 0,
              "ticks": ""
             }
            },
            "type": "scattergl"
           }
          ],
          "scattermapbox": [
           {
            "marker": {
             "colorbar": {
              "outlinewidth": 0,
              "ticks": ""
             }
            },
            "type": "scattermapbox"
           }
          ],
          "scatterpolar": [
           {
            "marker": {
             "colorbar": {
              "outlinewidth": 0,
              "ticks": ""
             }
            },
            "type": "scatterpolar"
           }
          ],
          "scatterpolargl": [
           {
            "marker": {
             "colorbar": {
              "outlinewidth": 0,
              "ticks": ""
             }
            },
            "type": "scatterpolargl"
           }
          ],
          "scatterternary": [
           {
            "marker": {
             "colorbar": {
              "outlinewidth": 0,
              "ticks": ""
             }
            },
            "type": "scatterternary"
           }
          ],
          "surface": [
           {
            "colorbar": {
             "outlinewidth": 0,
             "ticks": ""
            },
            "colorscale": [
             [
              0,
              "#0d0887"
             ],
             [
              0.1111111111111111,
              "#46039f"
             ],
             [
              0.2222222222222222,
              "#7201a8"
             ],
             [
              0.3333333333333333,
              "#9c179e"
             ],
             [
              0.4444444444444444,
              "#bd3786"
             ],
             [
              0.5555555555555556,
              "#d8576b"
             ],
             [
              0.6666666666666666,
              "#ed7953"
             ],
             [
              0.7777777777777778,
              "#fb9f3a"
             ],
             [
              0.8888888888888888,
              "#fdca26"
             ],
             [
              1,
              "#f0f921"
             ]
            ],
            "type": "surface"
           }
          ],
          "table": [
           {
            "cells": {
             "fill": {
              "color": "#EBF0F8"
             },
             "line": {
              "color": "white"
             }
            },
            "header": {
             "fill": {
              "color": "#C8D4E3"
             },
             "line": {
              "color": "white"
             }
            },
            "type": "table"
           }
          ]
         },
         "layout": {
          "annotationdefaults": {
           "arrowcolor": "#2a3f5f",
           "arrowhead": 0,
           "arrowwidth": 1
          },
          "autotypenumbers": "strict",
          "coloraxis": {
           "colorbar": {
            "outlinewidth": 0,
            "ticks": ""
           }
          },
          "colorscale": {
           "diverging": [
            [
             0,
             "#8e0152"
            ],
            [
             0.1,
             "#c51b7d"
            ],
            [
             0.2,
             "#de77ae"
            ],
            [
             0.3,
             "#f1b6da"
            ],
            [
             0.4,
             "#fde0ef"
            ],
            [
             0.5,
             "#f7f7f7"
            ],
            [
             0.6,
             "#e6f5d0"
            ],
            [
             0.7,
             "#b8e186"
            ],
            [
             0.8,
             "#7fbc41"
            ],
            [
             0.9,
             "#4d9221"
            ],
            [
             1,
             "#276419"
            ]
           ],
           "sequential": [
            [
             0,
             "#0d0887"
            ],
            [
             0.1111111111111111,
             "#46039f"
            ],
            [
             0.2222222222222222,
             "#7201a8"
            ],
            [
             0.3333333333333333,
             "#9c179e"
            ],
            [
             0.4444444444444444,
             "#bd3786"
            ],
            [
             0.5555555555555556,
             "#d8576b"
            ],
            [
             0.6666666666666666,
             "#ed7953"
            ],
            [
             0.7777777777777778,
             "#fb9f3a"
            ],
            [
             0.8888888888888888,
             "#fdca26"
            ],
            [
             1,
             "#f0f921"
            ]
           ],
           "sequentialminus": [
            [
             0,
             "#0d0887"
            ],
            [
             0.1111111111111111,
             "#46039f"
            ],
            [
             0.2222222222222222,
             "#7201a8"
            ],
            [
             0.3333333333333333,
             "#9c179e"
            ],
            [
             0.4444444444444444,
             "#bd3786"
            ],
            [
             0.5555555555555556,
             "#d8576b"
            ],
            [
             0.6666666666666666,
             "#ed7953"
            ],
            [
             0.7777777777777778,
             "#fb9f3a"
            ],
            [
             0.8888888888888888,
             "#fdca26"
            ],
            [
             1,
             "#f0f921"
            ]
           ]
          },
          "colorway": [
           "#636efa",
           "#EF553B",
           "#00cc96",
           "#ab63fa",
           "#FFA15A",
           "#19d3f3",
           "#FF6692",
           "#B6E880",
           "#FF97FF",
           "#FECB52"
          ],
          "font": {
           "color": "#2a3f5f"
          },
          "geo": {
           "bgcolor": "white",
           "lakecolor": "white",
           "landcolor": "#E5ECF6",
           "showlakes": true,
           "showland": true,
           "subunitcolor": "white"
          },
          "hoverlabel": {
           "align": "left"
          },
          "hovermode": "closest",
          "mapbox": {
           "style": "light"
          },
          "paper_bgcolor": "white",
          "plot_bgcolor": "#E5ECF6",
          "polar": {
           "angularaxis": {
            "gridcolor": "white",
            "linecolor": "white",
            "ticks": ""
           },
           "bgcolor": "#E5ECF6",
           "radialaxis": {
            "gridcolor": "white",
            "linecolor": "white",
            "ticks": ""
           }
          },
          "scene": {
           "xaxis": {
            "backgroundcolor": "#E5ECF6",
            "gridcolor": "white",
            "gridwidth": 2,
            "linecolor": "white",
            "showbackground": true,
            "ticks": "",
            "zerolinecolor": "white"
           },
           "yaxis": {
            "backgroundcolor": "#E5ECF6",
            "gridcolor": "white",
            "gridwidth": 2,
            "linecolor": "white",
            "showbackground": true,
            "ticks": "",
            "zerolinecolor": "white"
           },
           "zaxis": {
            "backgroundcolor": "#E5ECF6",
            "gridcolor": "white",
            "gridwidth": 2,
            "linecolor": "white",
            "showbackground": true,
            "ticks": "",
            "zerolinecolor": "white"
           }
          },
          "shapedefaults": {
           "line": {
            "color": "#2a3f5f"
           }
          },
          "ternary": {
           "aaxis": {
            "gridcolor": "white",
            "linecolor": "white",
            "ticks": ""
           },
           "baxis": {
            "gridcolor": "white",
            "linecolor": "white",
            "ticks": ""
           },
           "bgcolor": "#E5ECF6",
           "caxis": {
            "gridcolor": "white",
            "linecolor": "white",
            "ticks": ""
           }
          },
          "title": {
           "x": 0.05
          },
          "xaxis": {
           "automargin": true,
           "gridcolor": "white",
           "linecolor": "white",
           "ticks": "",
           "title": {
            "standoff": 15
           },
           "zerolinecolor": "white",
           "zerolinewidth": 2
          },
          "yaxis": {
           "automargin": true,
           "gridcolor": "white",
           "linecolor": "white",
           "ticks": "",
           "title": {
            "standoff": 15
           },
           "zerolinecolor": "white",
           "zerolinewidth": 2
          }
         }
        },
        "title": {
         "text": "De invloed van de relatieve verandering van de Health variabele op de Happiness Score"
        },
        "updatemenus": [
         {
          "buttons": [
           {
            "args": [
             null,
             {
              "frame": {
               "duration": 500,
               "redraw": true
              },
              "fromcurrent": true,
              "mode": "immediate",
              "transition": {
               "duration": 500,
               "easing": "linear"
              }
             }
            ],
            "label": "&#9654;",
            "method": "animate"
           },
           {
            "args": [
             [
              null
             ],
             {
              "frame": {
               "duration": 0,
               "redraw": true
              },
              "fromcurrent": true,
              "mode": "immediate",
              "transition": {
               "duration": 0,
               "easing": "linear"
              }
             }
            ],
            "label": "&#9724;",
            "method": "animate"
           }
          ],
          "direction": "left",
          "pad": {
           "r": 10,
           "t": 70
          },
          "showactive": false,
          "type": "buttons",
          "x": 0.1,
          "xanchor": "right",
          "y": 0,
          "yanchor": "top"
         }
        ]
       }
      },
      "text/html": [
       "<div>                            <div id=\"c8528ded-4a38-4461-976a-c80d1d1b68f8\" class=\"plotly-graph-div\" style=\"height:525px; width:100%;\"></div>            <script type=\"text/javascript\">                require([\"plotly\"], function(Plotly) {                    window.PLOTLYENV=window.PLOTLYENV || {};                                    if (document.getElementById(\"c8528ded-4a38-4461-976a-c80d1d1b68f8\")) {                    Plotly.newPlot(                        \"c8528ded-4a38-4461-976a-c80d1d1b68f8\",                        [{\"coloraxis\":\"coloraxis\",\"customdata\":[[\"nan%\"],[\"nan%\"],[\"nan%\"],[\"nan%\"],[\"nan%\"],[\"nan%\"],[\"nan%\"],[\"nan%\"],[\"nan%\"],[\"nan%\"],[\"nan%\"],[\"nan%\"],[\"nan%\"],[\"nan%\"],[\"nan%\"],[\"nan%\"],[\"nan%\"],[\"nan%\"],[\"nan%\"],[\"nan%\"],[\"nan%\"],[\"nan%\"],[\"nan%\"],[\"nan%\"],[\"nan%\"],[\"nan%\"],[\"nan%\"],[\"nan%\"],[\"nan%\"],[\"nan%\"],[\"nan%\"],[\"nan%\"],[\"nan%\"],[\"nan%\"],[\"nan%\"],[\"nan%\"],[\"nan%\"],[\"nan%\"],[\"nan%\"],[\"nan%\"],[\"nan%\"],[\"nan%\"],[\"nan%\"],[\"nan%\"],[\"nan%\"],[\"nan%\"],[\"nan%\"],[\"nan%\"],[\"nan%\"],[\"nan%\"],[\"nan%\"],[\"nan%\"],[\"nan%\"],[\"nan%\"],[\"nan%\"],[\"nan%\"],[\"nan%\"],[\"nan%\"],[\"nan%\"],[\"nan%\"],[\"nan%\"],[\"nan%\"],[\"nan%\"],[\"nan%\"],[\"nan%\"],[\"nan%\"],[\"nan%\"],[\"nan%\"],[\"nan%\"],[\"nan%\"],[\"nan%\"],[\"nan%\"],[\"nan%\"],[\"nan%\"],[\"nan%\"],[\"nan%\"],[\"nan%\"],[\"nan%\"],[\"nan%\"],[\"nan%\"],[\"nan%\"],[\"nan%\"],[\"nan%\"],[\"nan%\"],[\"nan%\"],[\"nan%\"],[\"nan%\"],[\"nan%\"],[\"nan%\"],[\"nan%\"],[\"nan%\"],[\"nan%\"],[\"nan%\"],[\"nan%\"],[\"nan%\"],[\"nan%\"],[\"nan%\"],[\"nan%\"],[\"nan%\"],[\"nan%\"],[\"nan%\"],[\"nan%\"],[\"nan%\"],[\"nan%\"],[\"nan%\"],[\"nan%\"],[\"nan%\"],[\"nan%\"],[\"nan%\"],[\"nan%\"],[\"nan%\"],[\"nan%\"],[\"nan%\"],[\"nan%\"],[\"nan%\"],[\"nan%\"],[\"nan%\"],[\"nan%\"],[\"nan%\"],[\"nan%\"],[\"nan%\"],[\"nan%\"],[\"nan%\"],[\"nan%\"],[\"nan%\"],[\"nan%\"],[\"nan%\"],[\"nan%\"],[\"nan%\"],[\"nan%\"],[\"nan%\"],[\"nan%\"],[\"nan%\"],[\"nan%\"],[\"nan%\"],[\"nan%\"],[\"nan%\"],[\"nan%\"],[\"nan%\"],[\"nan%\"],[\"nan%\"],[\"nan%\"],[\"nan%\"],[\"nan%\"],[\"nan%\"],[\"nan%\"],[\"nan%\"],[\"nan%\"],[\"nan%\"],[\"nan%\"],[\"nan%\"],[\"nan%\"],[\"nan%\"],[\"nan%\"],[\"nan%\"],[\"nan%\"],[\"nan%\"],[\"nan%\"]],\"geo\":\"geo\",\"hovertemplate\":\"\\u003cb\\u003e%{hovertext}\\u003c\\u002fb\\u003e\\u003cbr\\u003e\\u003cbr\\u003eYear=2015\\u003cbr\\u003eCountry=%{location}\\u003cbr\\u003eRelative Change Health (Life Expectancy)=%{customdata[0]}\\u003cbr\\u003eHappiness Score=%{z}\\u003cextra\\u003e\\u003c\\u002fextra\\u003e\",\"hovertext\":[\"Afghanistan\",\"Albania\",\"Algeria\",\"Angola\",\"Argentina\",\"Armenia\",\"Australia\",\"Austria\",\"Azerbaijan\",\"Bahrain\",\"Bangladesh\",\"Belarus\",\"Belgium\",\"Benin\",\"Bhutan\",\"Bolivia\",\"Bosnia and Herzegovina\",\"Botswana\",\"Brazil\",\"Bulgaria\",\"Burkina Faso\",\"Burundi\",\"Cambodia\",\"Cameroon\",\"Canada\",\"Central African Republic\",\"Chad\",\"Chile\",\"China\",\"Colombia\",\"Comoros\",\"Congo (Brazzaville)\",\"Congo (Kinshasa)\",\"Costa Rica\",\"Croatia\",\"Cyprus\",\"Czech Republic\",\"Denmark\",\"Djibouti\",\"Dominican Republic\",\"Ecuador\",\"Egypt\",\"El Salvador\",\"Estonia\",\"Ethiopia\",\"Finland\",\"France\",\"Gabon\",\"Georgia\",\"Germany\",\"Ghana\",\"Greece\",\"Guatemala\",\"Guinea\",\"Haiti\",\"Honduras\",\"Hong Kong\",\"Hungary\",\"Iceland\",\"India\",\"Indonesia\",\"Iran\",\"Iraq\",\"Ireland\",\"Israel\",\"Italy\",\"Ivory Coast\",\"Jamaica\",\"Japan\",\"Jordan\",\"Kazakhstan\",\"Kenya\",\"Kosovo\",\"Kuwait\",\"Kyrgyzstan\",\"Laos\",\"Latvia\",\"Lebanon\",\"Lesotho\",\"Liberia\",\"Libya\",\"Lithuania\",\"Luxembourg\",\"Macedonia\",\"Madagascar\",\"Malawi\",\"Malaysia\",\"Mali\",\"Malta\",\"Mauritania\",\"Mauritius\",\"Mexico\",\"Moldova\",\"Mongolia\",\"Montenegro\",\"Morocco\",\"Mozambique\",\"Myanmar\",\"Nepal\",\"Netherlands\",\"New Zealand\",\"Nicaragua\",\"Niger\",\"Nigeria\",\"North Cyprus\",\"Norway\",\"Oman\",\"Pakistan\",\"Palestinian Territories\",\"Panama\",\"Paraguay\",\"Peru\",\"Philippines\",\"Poland\",\"Portugal\",\"Qatar\",\"Romania\",\"Russia\",\"Rwanda\",\"Saudi Arabia\",\"Senegal\",\"Serbia\",\"Sierra Leone\",\"Singapore\",\"Slovakia\",\"Slovenia\",\"Somaliland region\",\"South Africa\",\"South Korea\",\"Spain\",\"Sri Lanka\",\"Sudan\",\"Suriname\",\"Swaziland\",\"Sweden\",\"Switzerland\",\"Syria\",\"Taiwan\",\"Tajikistan\",\"Tanzania\",\"Thailand\",\"Togo\",\"Trinidad and Tobago\",\"Tunisia\",\"Turkey\",\"Turkmenistan\",\"Uganda\",\"Ukraine\",\"United Arab Emirates\",\"United Kingdom\",\"United States\",\"Uruguay\",\"Uzbekistan\",\"Venezuela\",\"Vietnam\",\"Yemen\",\"Zambia\",\"Zimbabwe\"],\"locationmode\":\"country names\",\"locations\":[\"Afghanistan\",\"Albania\",\"Algeria\",\"Angola\",\"Argentina\",\"Armenia\",\"Australia\",\"Austria\",\"Azerbaijan\",\"Bahrain\",\"Bangladesh\",\"Belarus\",\"Belgium\",\"Benin\",\"Bhutan\",\"Bolivia\",\"Bosnia and Herzegovina\",\"Botswana\",\"Brazil\",\"Bulgaria\",\"Burkina Faso\",\"Burundi\",\"Cambodia\",\"Cameroon\",\"Canada\",\"Central African Republic\",\"Chad\",\"Chile\",\"China\",\"Colombia\",\"Comoros\",\"Congo (Brazzaville)\",\"Congo (Kinshasa)\",\"Costa Rica\",\"Croatia\",\"Cyprus\",\"Czech Republic\",\"Denmark\",\"Djibouti\",\"Dominican Republic\",\"Ecuador\",\"Egypt\",\"El Salvador\",\"Estonia\",\"Ethiopia\",\"Finland\",\"France\",\"Gabon\",\"Georgia\",\"Germany\",\"Ghana\",\"Greece\",\"Guatemala\",\"Guinea\",\"Haiti\",\"Honduras\",\"Hong Kong\",\"Hungary\",\"Iceland\",\"India\",\"Indonesia\",\"Iran\",\"Iraq\",\"Ireland\",\"Israel\",\"Italy\",\"Ivory Coast\",\"Jamaica\",\"Japan\",\"Jordan\",\"Kazakhstan\",\"Kenya\",\"Kosovo\",\"Kuwait\",\"Kyrgyzstan\",\"Laos\",\"Latvia\",\"Lebanon\",\"Lesotho\",\"Liberia\",\"Libya\",\"Lithuania\",\"Luxembourg\",\"Macedonia\",\"Madagascar\",\"Malawi\",\"Malaysia\",\"Mali\",\"Malta\",\"Mauritania\",\"Mauritius\",\"Mexico\",\"Moldova\",\"Mongolia\",\"Montenegro\",\"Morocco\",\"Mozambique\",\"Myanmar\",\"Nepal\",\"Netherlands\",\"New Zealand\",\"Nicaragua\",\"Niger\",\"Nigeria\",\"North Cyprus\",\"Norway\",\"Oman\",\"Pakistan\",\"Palestinian Territories\",\"Panama\",\"Paraguay\",\"Peru\",\"Philippines\",\"Poland\",\"Portugal\",\"Qatar\",\"Romania\",\"Russia\",\"Rwanda\",\"Saudi Arabia\",\"Senegal\",\"Serbia\",\"Sierra Leone\",\"Singapore\",\"Slovakia\",\"Slovenia\",\"Somaliland region\",\"South Africa\",\"South Korea\",\"Spain\",\"Sri Lanka\",\"Sudan\",\"Suriname\",\"Swaziland\",\"Sweden\",\"Switzerland\",\"Syria\",\"Taiwan\",\"Tajikistan\",\"Tanzania\",\"Thailand\",\"Togo\",\"Trinidad and Tobago\",\"Tunisia\",\"Turkey\",\"Turkmenistan\",\"Uganda\",\"Ukraine\",\"United Arab Emirates\",\"United Kingdom\",\"United States\",\"Uruguay\",\"Uzbekistan\",\"Venezuela\",\"Vietnam\",\"Yemen\",\"Zambia\",\"Zimbabwe\"],\"name\":\"\",\"z\":[3.575,4.959,5.605,4.033,6.574,4.35,7.284,7.2,5.212,5.96,4.694,5.813,6.937,3.34,5.253,5.89,4.949,4.332,6.983,4.218,3.587,2.905,3.819,4.252,7.427,3.678,3.667,6.67,5.14,6.477,3.956,3.989,4.517,7.226,5.759,5.689,6.505,7.527,4.369,4.885,5.975,4.194,6.13,5.429,4.512,7.406,6.575,3.896,4.297,6.75,4.633,4.857,6.123,3.656,4.518,4.788,5.474,4.8,7.561,4.565,5.399,4.686,4.677,6.94,7.278,5.948,3.655,5.709,5.987,5.192,5.855,4.419,5.589,6.295,5.286,4.876,5.098,4.839,4.898,4.571,5.754,5.833,6.946,5.007,3.681,4.292,5.77,3.995,6.302,4.436,5.477,7.187,5.889,4.874,5.192,5.013,4.971,4.307,4.514,7.378,7.286,5.828,3.845,5.268,5.695,7.522,6.853,5.194,4.715,6.786,5.878,5.824,5.073,5.791,5.102,6.611,5.124,5.716,3.465,6.411,3.904,5.123,4.507,6.798,5.995,5.848,5.057,4.642,5.984,6.329,4.271,4.55,6.269,4.867,7.364,7.587,3.006,6.298,4.786,3.781,6.455,2.839,6.168,4.739,5.332,5.548,3.931,4.681,6.901,6.867,7.119,6.485,6.003,6.81,5.36,4.077,5.129,4.61],\"type\":\"choropleth\"}],                        {\"template\":{\"data\":{\"histogram2dcontour\":[{\"type\":\"histogram2dcontour\",\"colorbar\":{\"outlinewidth\":0,\"ticks\":\"\"},\"colorscale\":[[0.0,\"#0d0887\"],[0.1111111111111111,\"#46039f\"],[0.2222222222222222,\"#7201a8\"],[0.3333333333333333,\"#9c179e\"],[0.4444444444444444,\"#bd3786\"],[0.5555555555555556,\"#d8576b\"],[0.6666666666666666,\"#ed7953\"],[0.7777777777777778,\"#fb9f3a\"],[0.8888888888888888,\"#fdca26\"],[1.0,\"#f0f921\"]]}],\"choropleth\":[{\"type\":\"choropleth\",\"colorbar\":{\"outlinewidth\":0,\"ticks\":\"\"}}],\"histogram2d\":[{\"type\":\"histogram2d\",\"colorbar\":{\"outlinewidth\":0,\"ticks\":\"\"},\"colorscale\":[[0.0,\"#0d0887\"],[0.1111111111111111,\"#46039f\"],[0.2222222222222222,\"#7201a8\"],[0.3333333333333333,\"#9c179e\"],[0.4444444444444444,\"#bd3786\"],[0.5555555555555556,\"#d8576b\"],[0.6666666666666666,\"#ed7953\"],[0.7777777777777778,\"#fb9f3a\"],[0.8888888888888888,\"#fdca26\"],[1.0,\"#f0f921\"]]}],\"heatmap\":[{\"type\":\"heatmap\",\"colorbar\":{\"outlinewidth\":0,\"ticks\":\"\"},\"colorscale\":[[0.0,\"#0d0887\"],[0.1111111111111111,\"#46039f\"],[0.2222222222222222,\"#7201a8\"],[0.3333333333333333,\"#9c179e\"],[0.4444444444444444,\"#bd3786\"],[0.5555555555555556,\"#d8576b\"],[0.6666666666666666,\"#ed7953\"],[0.7777777777777778,\"#fb9f3a\"],[0.8888888888888888,\"#fdca26\"],[1.0,\"#f0f921\"]]}],\"heatmapgl\":[{\"type\":\"heatmapgl\",\"colorbar\":{\"outlinewidth\":0,\"ticks\":\"\"},\"colorscale\":[[0.0,\"#0d0887\"],[0.1111111111111111,\"#46039f\"],[0.2222222222222222,\"#7201a8\"],[0.3333333333333333,\"#9c179e\"],[0.4444444444444444,\"#bd3786\"],[0.5555555555555556,\"#d8576b\"],[0.6666666666666666,\"#ed7953\"],[0.7777777777777778,\"#fb9f3a\"],[0.8888888888888888,\"#fdca26\"],[1.0,\"#f0f921\"]]}],\"contourcarpet\":[{\"type\":\"contourcarpet\",\"colorbar\":{\"outlinewidth\":0,\"ticks\":\"\"}}],\"contour\":[{\"type\":\"contour\",\"colorbar\":{\"outlinewidth\":0,\"ticks\":\"\"},\"colorscale\":[[0.0,\"#0d0887\"],[0.1111111111111111,\"#46039f\"],[0.2222222222222222,\"#7201a8\"],[0.3333333333333333,\"#9c179e\"],[0.4444444444444444,\"#bd3786\"],[0.5555555555555556,\"#d8576b\"],[0.6666666666666666,\"#ed7953\"],[0.7777777777777778,\"#fb9f3a\"],[0.8888888888888888,\"#fdca26\"],[1.0,\"#f0f921\"]]}],\"surface\":[{\"type\":\"surface\",\"colorbar\":{\"outlinewidth\":0,\"ticks\":\"\"},\"colorscale\":[[0.0,\"#0d0887\"],[0.1111111111111111,\"#46039f\"],[0.2222222222222222,\"#7201a8\"],[0.3333333333333333,\"#9c179e\"],[0.4444444444444444,\"#bd3786\"],[0.5555555555555556,\"#d8576b\"],[0.6666666666666666,\"#ed7953\"],[0.7777777777777778,\"#fb9f3a\"],[0.8888888888888888,\"#fdca26\"],[1.0,\"#f0f921\"]]}],\"mesh3d\":[{\"type\":\"mesh3d\",\"colorbar\":{\"outlinewidth\":0,\"ticks\":\"\"}}],\"scatter\":[{\"fillpattern\":{\"fillmode\":\"overlay\",\"size\":10,\"solidity\":0.2},\"type\":\"scatter\"}],\"parcoords\":[{\"type\":\"parcoords\",\"line\":{\"colorbar\":{\"outlinewidth\":0,\"ticks\":\"\"}}}],\"scatterpolargl\":[{\"type\":\"scatterpolargl\",\"marker\":{\"colorbar\":{\"outlinewidth\":0,\"ticks\":\"\"}}}],\"bar\":[{\"error_x\":{\"color\":\"#2a3f5f\"},\"error_y\":{\"color\":\"#2a3f5f\"},\"marker\":{\"line\":{\"color\":\"#E5ECF6\",\"width\":0.5},\"pattern\":{\"fillmode\":\"overlay\",\"size\":10,\"solidity\":0.2}},\"type\":\"bar\"}],\"scattergeo\":[{\"type\":\"scattergeo\",\"marker\":{\"colorbar\":{\"outlinewidth\":0,\"ticks\":\"\"}}}],\"scatterpolar\":[{\"type\":\"scatterpolar\",\"marker\":{\"colorbar\":{\"outlinewidth\":0,\"ticks\":\"\"}}}],\"histogram\":[{\"marker\":{\"pattern\":{\"fillmode\":\"overlay\",\"size\":10,\"solidity\":0.2}},\"type\":\"histogram\"}],\"scattergl\":[{\"type\":\"scattergl\",\"marker\":{\"colorbar\":{\"outlinewidth\":0,\"ticks\":\"\"}}}],\"scatter3d\":[{\"type\":\"scatter3d\",\"line\":{\"colorbar\":{\"outlinewidth\":0,\"ticks\":\"\"}},\"marker\":{\"colorbar\":{\"outlinewidth\":0,\"ticks\":\"\"}}}],\"scattermapbox\":[{\"type\":\"scattermapbox\",\"marker\":{\"colorbar\":{\"outlinewidth\":0,\"ticks\":\"\"}}}],\"scatterternary\":[{\"type\":\"scatterternary\",\"marker\":{\"colorbar\":{\"outlinewidth\":0,\"ticks\":\"\"}}}],\"scattercarpet\":[{\"type\":\"scattercarpet\",\"marker\":{\"colorbar\":{\"outlinewidth\":0,\"ticks\":\"\"}}}],\"carpet\":[{\"aaxis\":{\"endlinecolor\":\"#2a3f5f\",\"gridcolor\":\"white\",\"linecolor\":\"white\",\"minorgridcolor\":\"white\",\"startlinecolor\":\"#2a3f5f\"},\"baxis\":{\"endlinecolor\":\"#2a3f5f\",\"gridcolor\":\"white\",\"linecolor\":\"white\",\"minorgridcolor\":\"white\",\"startlinecolor\":\"#2a3f5f\"},\"type\":\"carpet\"}],\"table\":[{\"cells\":{\"fill\":{\"color\":\"#EBF0F8\"},\"line\":{\"color\":\"white\"}},\"header\":{\"fill\":{\"color\":\"#C8D4E3\"},\"line\":{\"color\":\"white\"}},\"type\":\"table\"}],\"barpolar\":[{\"marker\":{\"line\":{\"color\":\"#E5ECF6\",\"width\":0.5},\"pattern\":{\"fillmode\":\"overlay\",\"size\":10,\"solidity\":0.2}},\"type\":\"barpolar\"}],\"pie\":[{\"automargin\":true,\"type\":\"pie\"}]},\"layout\":{\"autotypenumbers\":\"strict\",\"colorway\":[\"#636efa\",\"#EF553B\",\"#00cc96\",\"#ab63fa\",\"#FFA15A\",\"#19d3f3\",\"#FF6692\",\"#B6E880\",\"#FF97FF\",\"#FECB52\"],\"font\":{\"color\":\"#2a3f5f\"},\"hovermode\":\"closest\",\"hoverlabel\":{\"align\":\"left\"},\"paper_bgcolor\":\"white\",\"plot_bgcolor\":\"#E5ECF6\",\"polar\":{\"bgcolor\":\"#E5ECF6\",\"angularaxis\":{\"gridcolor\":\"white\",\"linecolor\":\"white\",\"ticks\":\"\"},\"radialaxis\":{\"gridcolor\":\"white\",\"linecolor\":\"white\",\"ticks\":\"\"}},\"ternary\":{\"bgcolor\":\"#E5ECF6\",\"aaxis\":{\"gridcolor\":\"white\",\"linecolor\":\"white\",\"ticks\":\"\"},\"baxis\":{\"gridcolor\":\"white\",\"linecolor\":\"white\",\"ticks\":\"\"},\"caxis\":{\"gridcolor\":\"white\",\"linecolor\":\"white\",\"ticks\":\"\"}},\"coloraxis\":{\"colorbar\":{\"outlinewidth\":0,\"ticks\":\"\"}},\"colorscale\":{\"sequential\":[[0.0,\"#0d0887\"],[0.1111111111111111,\"#46039f\"],[0.2222222222222222,\"#7201a8\"],[0.3333333333333333,\"#9c179e\"],[0.4444444444444444,\"#bd3786\"],[0.5555555555555556,\"#d8576b\"],[0.6666666666666666,\"#ed7953\"],[0.7777777777777778,\"#fb9f3a\"],[0.8888888888888888,\"#fdca26\"],[1.0,\"#f0f921\"]],\"sequentialminus\":[[0.0,\"#0d0887\"],[0.1111111111111111,\"#46039f\"],[0.2222222222222222,\"#7201a8\"],[0.3333333333333333,\"#9c179e\"],[0.4444444444444444,\"#bd3786\"],[0.5555555555555556,\"#d8576b\"],[0.6666666666666666,\"#ed7953\"],[0.7777777777777778,\"#fb9f3a\"],[0.8888888888888888,\"#fdca26\"],[1.0,\"#f0f921\"]],\"diverging\":[[0,\"#8e0152\"],[0.1,\"#c51b7d\"],[0.2,\"#de77ae\"],[0.3,\"#f1b6da\"],[0.4,\"#fde0ef\"],[0.5,\"#f7f7f7\"],[0.6,\"#e6f5d0\"],[0.7,\"#b8e186\"],[0.8,\"#7fbc41\"],[0.9,\"#4d9221\"],[1,\"#276419\"]]},\"xaxis\":{\"gridcolor\":\"white\",\"linecolor\":\"white\",\"ticks\":\"\",\"title\":{\"standoff\":15},\"zerolinecolor\":\"white\",\"automargin\":true,\"zerolinewidth\":2},\"yaxis\":{\"gridcolor\":\"white\",\"linecolor\":\"white\",\"ticks\":\"\",\"title\":{\"standoff\":15},\"zerolinecolor\":\"white\",\"automargin\":true,\"zerolinewidth\":2},\"scene\":{\"xaxis\":{\"backgroundcolor\":\"#E5ECF6\",\"gridcolor\":\"white\",\"linecolor\":\"white\",\"showbackground\":true,\"ticks\":\"\",\"zerolinecolor\":\"white\",\"gridwidth\":2},\"yaxis\":{\"backgroundcolor\":\"#E5ECF6\",\"gridcolor\":\"white\",\"linecolor\":\"white\",\"showbackground\":true,\"ticks\":\"\",\"zerolinecolor\":\"white\",\"gridwidth\":2},\"zaxis\":{\"backgroundcolor\":\"#E5ECF6\",\"gridcolor\":\"white\",\"linecolor\":\"white\",\"showbackground\":true,\"ticks\":\"\",\"zerolinecolor\":\"white\",\"gridwidth\":2}},\"shapedefaults\":{\"line\":{\"color\":\"#2a3f5f\"}},\"annotationdefaults\":{\"arrowcolor\":\"#2a3f5f\",\"arrowhead\":0,\"arrowwidth\":1},\"geo\":{\"bgcolor\":\"white\",\"landcolor\":\"#E5ECF6\",\"subunitcolor\":\"white\",\"showland\":true,\"showlakes\":true,\"lakecolor\":\"white\"},\"title\":{\"x\":0.05},\"mapbox\":{\"style\":\"light\"}}},\"geo\":{\"domain\":{\"x\":[0.0,1.0],\"y\":[0.0,1.0]},\"center\":{}},\"coloraxis\":{\"colorbar\":{\"title\":{\"text\":\"Happiness Score\"}},\"colorscale\":[[0.0,\"#0d0887\"],[0.1111111111111111,\"#46039f\"],[0.2222222222222222,\"#7201a8\"],[0.3333333333333333,\"#9c179e\"],[0.4444444444444444,\"#bd3786\"],[0.5555555555555556,\"#d8576b\"],[0.6666666666666666,\"#ed7953\"],[0.7777777777777778,\"#fb9f3a\"],[0.8888888888888888,\"#fdca26\"],[1.0,\"#f0f921\"]]},\"legend\":{\"tracegroupgap\":0},\"margin\":{\"t\":60},\"updatemenus\":[{\"buttons\":[{\"args\":[null,{\"frame\":{\"duration\":500,\"redraw\":true},\"mode\":\"immediate\",\"fromcurrent\":true,\"transition\":{\"duration\":500,\"easing\":\"linear\"}}],\"label\":\"&#9654;\",\"method\":\"animate\"},{\"args\":[[null],{\"frame\":{\"duration\":0,\"redraw\":true},\"mode\":\"immediate\",\"fromcurrent\":true,\"transition\":{\"duration\":0,\"easing\":\"linear\"}}],\"label\":\"&#9724;\",\"method\":\"animate\"}],\"direction\":\"left\",\"pad\":{\"r\":10,\"t\":70},\"showactive\":false,\"type\":\"buttons\",\"x\":0.1,\"xanchor\":\"right\",\"y\":0,\"yanchor\":\"top\"}],\"sliders\":[{\"active\":0,\"currentvalue\":{\"prefix\":\"Year=\"},\"len\":0.9,\"pad\":{\"b\":10,\"t\":60},\"steps\":[{\"args\":[[\"2015\"],{\"frame\":{\"duration\":0,\"redraw\":true},\"mode\":\"immediate\",\"fromcurrent\":true,\"transition\":{\"duration\":0,\"easing\":\"linear\"}}],\"label\":\"2015\",\"method\":\"animate\"},{\"args\":[[\"2016\"],{\"frame\":{\"duration\":0,\"redraw\":true},\"mode\":\"immediate\",\"fromcurrent\":true,\"transition\":{\"duration\":0,\"easing\":\"linear\"}}],\"label\":\"2016\",\"method\":\"animate\"},{\"args\":[[\"2017\"],{\"frame\":{\"duration\":0,\"redraw\":true},\"mode\":\"immediate\",\"fromcurrent\":true,\"transition\":{\"duration\":0,\"easing\":\"linear\"}}],\"label\":\"2017\",\"method\":\"animate\"},{\"args\":[[\"2018\"],{\"frame\":{\"duration\":0,\"redraw\":true},\"mode\":\"immediate\",\"fromcurrent\":true,\"transition\":{\"duration\":0,\"easing\":\"linear\"}}],\"label\":\"2018\",\"method\":\"animate\"},{\"args\":[[\"2019\"],{\"frame\":{\"duration\":0,\"redraw\":true},\"mode\":\"immediate\",\"fromcurrent\":true,\"transition\":{\"duration\":0,\"easing\":\"linear\"}}],\"label\":\"2019\",\"method\":\"animate\"}],\"x\":0.1,\"xanchor\":\"left\",\"y\":0,\"yanchor\":\"top\"}],\"title\":{\"text\":\"De invloed van de relatieve verandering van de Health variabele op de Happiness Score\"},\"annotations\":[{\"font\":{\"size\":10},\"showarrow\":false,\"text\":\"Door over elk land op de wereldkaart heen te gaan, kun je informatie vinden over het jaar, de relatieve verandering van de Health variabele en de Happiness Score van het desbetreffende land. \\u003cbr\\u003e Op de kleurenbalk is de Happiness Score met verschillende kleuren weergegeven, afhankelijk van hoe hoog de score is. Door op de startknop linksonder te klikken, \\u003cbr\\u003e valt er voor elk jaar de verandering van de Happiness Score te zien, en ook de relatieve verandering van de Health variabele ten opzichte van het vorige jaar. \\u003cbr\\u003e Voor 2015 staat er bij de relatieve verandering van de Health variabele 'nan%', omdat er geen data is voor 2014.\",\"x\":0.5,\"xref\":\"paper\",\"y\":-0.2,\"yref\":\"paper\"}]},                        {\"responsive\": true}                    ).then(function(){\n",
       "                            Plotly.addFrames('c8528ded-4a38-4461-976a-c80d1d1b68f8', [{\"data\":[{\"coloraxis\":\"coloraxis\",\"customdata\":[[\"nan%\"],[\"nan%\"],[\"nan%\"],[\"nan%\"],[\"nan%\"],[\"nan%\"],[\"nan%\"],[\"nan%\"],[\"nan%\"],[\"nan%\"],[\"nan%\"],[\"nan%\"],[\"nan%\"],[\"nan%\"],[\"nan%\"],[\"nan%\"],[\"nan%\"],[\"nan%\"],[\"nan%\"],[\"nan%\"],[\"nan%\"],[\"nan%\"],[\"nan%\"],[\"nan%\"],[\"nan%\"],[\"nan%\"],[\"nan%\"],[\"nan%\"],[\"nan%\"],[\"nan%\"],[\"nan%\"],[\"nan%\"],[\"nan%\"],[\"nan%\"],[\"nan%\"],[\"nan%\"],[\"nan%\"],[\"nan%\"],[\"nan%\"],[\"nan%\"],[\"nan%\"],[\"nan%\"],[\"nan%\"],[\"nan%\"],[\"nan%\"],[\"nan%\"],[\"nan%\"],[\"nan%\"],[\"nan%\"],[\"nan%\"],[\"nan%\"],[\"nan%\"],[\"nan%\"],[\"nan%\"],[\"nan%\"],[\"nan%\"],[\"nan%\"],[\"nan%\"],[\"nan%\"],[\"nan%\"],[\"nan%\"],[\"nan%\"],[\"nan%\"],[\"nan%\"],[\"nan%\"],[\"nan%\"],[\"nan%\"],[\"nan%\"],[\"nan%\"],[\"nan%\"],[\"nan%\"],[\"nan%\"],[\"nan%\"],[\"nan%\"],[\"nan%\"],[\"nan%\"],[\"nan%\"],[\"nan%\"],[\"nan%\"],[\"nan%\"],[\"nan%\"],[\"nan%\"],[\"nan%\"],[\"nan%\"],[\"nan%\"],[\"nan%\"],[\"nan%\"],[\"nan%\"],[\"nan%\"],[\"nan%\"],[\"nan%\"],[\"nan%\"],[\"nan%\"],[\"nan%\"],[\"nan%\"],[\"nan%\"],[\"nan%\"],[\"nan%\"],[\"nan%\"],[\"nan%\"],[\"nan%\"],[\"nan%\"],[\"nan%\"],[\"nan%\"],[\"nan%\"],[\"nan%\"],[\"nan%\"],[\"nan%\"],[\"nan%\"],[\"nan%\"],[\"nan%\"],[\"nan%\"],[\"nan%\"],[\"nan%\"],[\"nan%\"],[\"nan%\"],[\"nan%\"],[\"nan%\"],[\"nan%\"],[\"nan%\"],[\"nan%\"],[\"nan%\"],[\"nan%\"],[\"nan%\"],[\"nan%\"],[\"nan%\"],[\"nan%\"],[\"nan%\"],[\"nan%\"],[\"nan%\"],[\"nan%\"],[\"nan%\"],[\"nan%\"],[\"nan%\"],[\"nan%\"],[\"nan%\"],[\"nan%\"],[\"nan%\"],[\"nan%\"],[\"nan%\"],[\"nan%\"],[\"nan%\"],[\"nan%\"],[\"nan%\"],[\"nan%\"],[\"nan%\"],[\"nan%\"],[\"nan%\"],[\"nan%\"],[\"nan%\"],[\"nan%\"],[\"nan%\"],[\"nan%\"],[\"nan%\"],[\"nan%\"],[\"nan%\"],[\"nan%\"],[\"nan%\"]],\"geo\":\"geo\",\"hovertemplate\":\"\\u003cb\\u003e%{hovertext}\\u003c\\u002fb\\u003e\\u003cbr\\u003e\\u003cbr\\u003eYear=2015\\u003cbr\\u003eCountry=%{location}\\u003cbr\\u003eRelative Change Health (Life Expectancy)=%{customdata[0]}\\u003cbr\\u003eHappiness Score=%{z}\\u003cextra\\u003e\\u003c\\u002fextra\\u003e\",\"hovertext\":[\"Afghanistan\",\"Albania\",\"Algeria\",\"Angola\",\"Argentina\",\"Armenia\",\"Australia\",\"Austria\",\"Azerbaijan\",\"Bahrain\",\"Bangladesh\",\"Belarus\",\"Belgium\",\"Benin\",\"Bhutan\",\"Bolivia\",\"Bosnia and Herzegovina\",\"Botswana\",\"Brazil\",\"Bulgaria\",\"Burkina Faso\",\"Burundi\",\"Cambodia\",\"Cameroon\",\"Canada\",\"Central African Republic\",\"Chad\",\"Chile\",\"China\",\"Colombia\",\"Comoros\",\"Congo (Brazzaville)\",\"Congo (Kinshasa)\",\"Costa Rica\",\"Croatia\",\"Cyprus\",\"Czech Republic\",\"Denmark\",\"Djibouti\",\"Dominican Republic\",\"Ecuador\",\"Egypt\",\"El Salvador\",\"Estonia\",\"Ethiopia\",\"Finland\",\"France\",\"Gabon\",\"Georgia\",\"Germany\",\"Ghana\",\"Greece\",\"Guatemala\",\"Guinea\",\"Haiti\",\"Honduras\",\"Hong Kong\",\"Hungary\",\"Iceland\",\"India\",\"Indonesia\",\"Iran\",\"Iraq\",\"Ireland\",\"Israel\",\"Italy\",\"Ivory Coast\",\"Jamaica\",\"Japan\",\"Jordan\",\"Kazakhstan\",\"Kenya\",\"Kosovo\",\"Kuwait\",\"Kyrgyzstan\",\"Laos\",\"Latvia\",\"Lebanon\",\"Lesotho\",\"Liberia\",\"Libya\",\"Lithuania\",\"Luxembourg\",\"Macedonia\",\"Madagascar\",\"Malawi\",\"Malaysia\",\"Mali\",\"Malta\",\"Mauritania\",\"Mauritius\",\"Mexico\",\"Moldova\",\"Mongolia\",\"Montenegro\",\"Morocco\",\"Mozambique\",\"Myanmar\",\"Nepal\",\"Netherlands\",\"New Zealand\",\"Nicaragua\",\"Niger\",\"Nigeria\",\"North Cyprus\",\"Norway\",\"Oman\",\"Pakistan\",\"Palestinian Territories\",\"Panama\",\"Paraguay\",\"Peru\",\"Philippines\",\"Poland\",\"Portugal\",\"Qatar\",\"Romania\",\"Russia\",\"Rwanda\",\"Saudi Arabia\",\"Senegal\",\"Serbia\",\"Sierra Leone\",\"Singapore\",\"Slovakia\",\"Slovenia\",\"Somaliland region\",\"South Africa\",\"South Korea\",\"Spain\",\"Sri Lanka\",\"Sudan\",\"Suriname\",\"Swaziland\",\"Sweden\",\"Switzerland\",\"Syria\",\"Taiwan\",\"Tajikistan\",\"Tanzania\",\"Thailand\",\"Togo\",\"Trinidad and Tobago\",\"Tunisia\",\"Turkey\",\"Turkmenistan\",\"Uganda\",\"Ukraine\",\"United Arab Emirates\",\"United Kingdom\",\"United States\",\"Uruguay\",\"Uzbekistan\",\"Venezuela\",\"Vietnam\",\"Yemen\",\"Zambia\",\"Zimbabwe\"],\"locationmode\":\"country names\",\"locations\":[\"Afghanistan\",\"Albania\",\"Algeria\",\"Angola\",\"Argentina\",\"Armenia\",\"Australia\",\"Austria\",\"Azerbaijan\",\"Bahrain\",\"Bangladesh\",\"Belarus\",\"Belgium\",\"Benin\",\"Bhutan\",\"Bolivia\",\"Bosnia and Herzegovina\",\"Botswana\",\"Brazil\",\"Bulgaria\",\"Burkina Faso\",\"Burundi\",\"Cambodia\",\"Cameroon\",\"Canada\",\"Central African Republic\",\"Chad\",\"Chile\",\"China\",\"Colombia\",\"Comoros\",\"Congo (Brazzaville)\",\"Congo (Kinshasa)\",\"Costa Rica\",\"Croatia\",\"Cyprus\",\"Czech Republic\",\"Denmark\",\"Djibouti\",\"Dominican Republic\",\"Ecuador\",\"Egypt\",\"El Salvador\",\"Estonia\",\"Ethiopia\",\"Finland\",\"France\",\"Gabon\",\"Georgia\",\"Germany\",\"Ghana\",\"Greece\",\"Guatemala\",\"Guinea\",\"Haiti\",\"Honduras\",\"Hong Kong\",\"Hungary\",\"Iceland\",\"India\",\"Indonesia\",\"Iran\",\"Iraq\",\"Ireland\",\"Israel\",\"Italy\",\"Ivory Coast\",\"Jamaica\",\"Japan\",\"Jordan\",\"Kazakhstan\",\"Kenya\",\"Kosovo\",\"Kuwait\",\"Kyrgyzstan\",\"Laos\",\"Latvia\",\"Lebanon\",\"Lesotho\",\"Liberia\",\"Libya\",\"Lithuania\",\"Luxembourg\",\"Macedonia\",\"Madagascar\",\"Malawi\",\"Malaysia\",\"Mali\",\"Malta\",\"Mauritania\",\"Mauritius\",\"Mexico\",\"Moldova\",\"Mongolia\",\"Montenegro\",\"Morocco\",\"Mozambique\",\"Myanmar\",\"Nepal\",\"Netherlands\",\"New Zealand\",\"Nicaragua\",\"Niger\",\"Nigeria\",\"North Cyprus\",\"Norway\",\"Oman\",\"Pakistan\",\"Palestinian Territories\",\"Panama\",\"Paraguay\",\"Peru\",\"Philippines\",\"Poland\",\"Portugal\",\"Qatar\",\"Romania\",\"Russia\",\"Rwanda\",\"Saudi Arabia\",\"Senegal\",\"Serbia\",\"Sierra Leone\",\"Singapore\",\"Slovakia\",\"Slovenia\",\"Somaliland region\",\"South Africa\",\"South Korea\",\"Spain\",\"Sri Lanka\",\"Sudan\",\"Suriname\",\"Swaziland\",\"Sweden\",\"Switzerland\",\"Syria\",\"Taiwan\",\"Tajikistan\",\"Tanzania\",\"Thailand\",\"Togo\",\"Trinidad and Tobago\",\"Tunisia\",\"Turkey\",\"Turkmenistan\",\"Uganda\",\"Ukraine\",\"United Arab Emirates\",\"United Kingdom\",\"United States\",\"Uruguay\",\"Uzbekistan\",\"Venezuela\",\"Vietnam\",\"Yemen\",\"Zambia\",\"Zimbabwe\"],\"name\":\"\",\"z\":[3.575,4.959,5.605,4.033,6.574,4.35,7.284,7.2,5.212,5.96,4.694,5.813,6.937,3.34,5.253,5.89,4.949,4.332,6.983,4.218,3.587,2.905,3.819,4.252,7.427,3.678,3.667,6.67,5.14,6.477,3.956,3.989,4.517,7.226,5.759,5.689,6.505,7.527,4.369,4.885,5.975,4.194,6.13,5.429,4.512,7.406,6.575,3.896,4.297,6.75,4.633,4.857,6.123,3.656,4.518,4.788,5.474,4.8,7.561,4.565,5.399,4.686,4.677,6.94,7.278,5.948,3.655,5.709,5.987,5.192,5.855,4.419,5.589,6.295,5.286,4.876,5.098,4.839,4.898,4.571,5.754,5.833,6.946,5.007,3.681,4.292,5.77,3.995,6.302,4.436,5.477,7.187,5.889,4.874,5.192,5.013,4.971,4.307,4.514,7.378,7.286,5.828,3.845,5.268,5.695,7.522,6.853,5.194,4.715,6.786,5.878,5.824,5.073,5.791,5.102,6.611,5.124,5.716,3.465,6.411,3.904,5.123,4.507,6.798,5.995,5.848,5.057,4.642,5.984,6.329,4.271,4.55,6.269,4.867,7.364,7.587,3.006,6.298,4.786,3.781,6.455,2.839,6.168,4.739,5.332,5.548,3.931,4.681,6.901,6.867,7.119,6.485,6.003,6.81,5.36,4.077,5.129,4.61],\"type\":\"choropleth\"}],\"name\":\"2015\"},{\"data\":[{\"coloraxis\":\"coloraxis\",\"customdata\":[[\"-0.428%\"],[\"-0.102%\"],[\"0.001%\"],[\"-0.701%\"],[\"-0.114%\"],[\"-0.122%\"],[\"-0.086%\"],[\"-0.095%\"],[\"-0.149%\"],[\"-0.121%\"],[\"-0.119%\"],[\"-0.143%\"],[\"-0.086%\"],[\"nan%\"],[\"-0.341%\"],[\"-0.133%\"],[\"-0.129%\"],[\"-0.105%\"],[\"6.276%\"],[\"-0.119%\"],[\"-0.115%\"],[\"-0.215%\"],[\"-0.297%\"],[\"-0.305%\"],[\"-0.457%\"],[\"-0.086%\"],[\"-0.745%\"],[\"-0.046%\"],[\"-0.099%\"],[\"-0.136%\"],[\"-0.174%\"],[\"-0.091%\"],[\"0.917%\"],[\"-0.115%\"],[\"-0.105%\"],[\"-0.081%\"],[\"-0.096%\"],[\"-0.091%\"],[\"-0.137%\"],[\"-0.132%\"],[\"-0.155%\"],[\"-0.12%\"],[\"-0.12%\"],[\"-0.215%\"],[\"-0.088%\"],[\"-0.114%\"],[\"-0.194%\"],[\"-0.122%\"],[\"-0.086%\"],[\"-0.26%\"],[\"-0.093%\"],[\"-0.161%\"],[\"-0.216%\"],[\"-0.292%\"],[\"-0.16%\"],[\"-0.06%\"],[\"-0.109%\"],[\"-0.085%\"],[\"-0.125%\"],[\"-0.226%\"],[\"-0.08%\"],[\"-0.152%\"],[\"-0.09%\"],[\"-0.071%\"],[\"-0.108%\"],[\"-0.705%\"],[\"-0.135%\"],[\"-0.077%\"],[\"-0.128%\"],[\"-0.108%\"],[\"-0.272%\"],[\"-0.145%\"],[\"-0.123%\"],[\"-0.148%\"],[\"-0.303%\"],[\"-0.117%\"],[\"-0.093%\"],[\"-0.323%\"],[\"-0.257%\"],[\"-0.116%\"],[\"-0.08%\"],[\"-0.12%\"],[\"-0.206%\"],[\"0.301%\"],[\"-0.139%\"],[\"-0.206%\"],[\"-0.095%\"],[\"-0.202%\"],[\"-0.067%\"],[\"-0.126%\"],[\"-0.154%\"],[\"-0.08%\"],[\"-0.124%\"],[\"-0.024%\"],[\"-0.173%\"],[\"nan%\"],[\"-0.12%\"],[\"-0.09%\"],[\"-0.085%\"],[\"-0.122%\"],[\"-0.119%\"],[\"-0.681%\"],[\"-0.089%\"],[\"-0.101%\"],[\"-0.217%\"],[\"-0.139%\"],[\"-0.111%\"],[\"-0.118%\"],[\"-0.137%\"],[\"-0.191%\"],[\"-0.114%\"],[\"-0.093%\"],[\"nan%\"],[\"-0.1%\"],[\"-0.121%\"],[\"-0.119%\"],[\"-0.257%\"],[\"-0.177%\"],[\"-0.071%\"],[\"-0.137%\"],[\"nan%\"],[\"-0.076%\"],[\"-0.108%\"],[\"-0.094%\"],[\"nan%\"],[\"nan%\"],[\"-0.328%\"],[\"-0.082%\"],[\"nan%\"],[\"-0.08%\"],[\"-0.124%\"],[\"-0.193%\"],[\"-0.163%\"],[\"-0.087%\"],[\"-0.083%\"],[\"-0.127%\"],[\"-0.091%\"],[\"-0.074%\"],[\"-0.066%\"],[\"-0.121%\"],[\"-0.128%\"],[\"-0.144%\"],[\"-0.193%\"],[\"-0.116%\"],[\"-0.183%\"],[\"-0.42%\"],[\"-0.13%\"],[\"-0.098%\"],[\"-0.109%\"],[\"-0.096%\"],[\"-0.111%\"],[\"-0.161%\"],[\"-0.141%\"],[\"-0.114%\"],[\"-0.225%\"],[\"-0.212%\"],[\"-0.524%\"]],\"geo\":\"geo\",\"hovertemplate\":\"\\u003cb\\u003e%{hovertext}\\u003c\\u002fb\\u003e\\u003cbr\\u003e\\u003cbr\\u003eYear=2016\\u003cbr\\u003eCountry=%{location}\\u003cbr\\u003eRelative Change Health (Life Expectancy)=%{customdata[0]}\\u003cbr\\u003eHappiness Score=%{z}\\u003cextra\\u003e\\u003c\\u002fextra\\u003e\",\"hovertext\":[\"Afghanistan\",\"Albania\",\"Algeria\",\"Angola\",\"Argentina\",\"Armenia\",\"Australia\",\"Austria\",\"Azerbaijan\",\"Bahrain\",\"Bangladesh\",\"Belarus\",\"Belgium\",\"Belize\",\"Benin\",\"Bhutan\",\"Bolivia\",\"Bosnia and Herzegovina\",\"Botswana\",\"Brazil\",\"Bulgaria\",\"Burkina Faso\",\"Burundi\",\"Cambodia\",\"Cameroon\",\"Canada\",\"Chad\",\"Chile\",\"China\",\"Colombia\",\"Comoros\",\"Congo (Brazzaville)\",\"Congo (Kinshasa)\",\"Costa Rica\",\"Croatia\",\"Cyprus\",\"Czech Republic\",\"Denmark\",\"Dominican Republic\",\"Ecuador\",\"Egypt\",\"El Salvador\",\"Estonia\",\"Ethiopia\",\"Finland\",\"France\",\"Gabon\",\"Georgia\",\"Germany\",\"Ghana\",\"Greece\",\"Guatemala\",\"Guinea\",\"Haiti\",\"Honduras\",\"Hong Kong\",\"Hungary\",\"Iceland\",\"India\",\"Indonesia\",\"Iran\",\"Iraq\",\"Ireland\",\"Israel\",\"Italy\",\"Ivory Coast\",\"Jamaica\",\"Japan\",\"Jordan\",\"Kazakhstan\",\"Kenya\",\"Kosovo\",\"Kuwait\",\"Kyrgyzstan\",\"Laos\",\"Latvia\",\"Lebanon\",\"Liberia\",\"Libya\",\"Lithuania\",\"Luxembourg\",\"Macedonia\",\"Madagascar\",\"Malawi\",\"Malaysia\",\"Mali\",\"Malta\",\"Mauritania\",\"Mauritius\",\"Mexico\",\"Moldova\",\"Mongolia\",\"Montenegro\",\"Morocco\",\"Myanmar\",\"Namibia\",\"Nepal\",\"Netherlands\",\"New Zealand\",\"Nicaragua\",\"Niger\",\"Nigeria\",\"North Cyprus\",\"Norway\",\"Pakistan\",\"Palestinian Territories\",\"Panama\",\"Paraguay\",\"Peru\",\"Philippines\",\"Poland\",\"Portugal\",\"Puerto Rico\",\"Qatar\",\"Romania\",\"Russia\",\"Rwanda\",\"Saudi Arabia\",\"Senegal\",\"Serbia\",\"Sierra Leone\",\"Singapore\",\"Slovakia\",\"Slovenia\",\"Somalia\",\"Somaliland Region\",\"South Africa\",\"South Korea\",\"South Sudan\",\"Spain\",\"Sri Lanka\",\"Sudan\",\"Suriname\",\"Sweden\",\"Switzerland\",\"Syria\",\"Taiwan\",\"Tajikistan\",\"Tanzania\",\"Thailand\",\"Togo\",\"Trinidad and Tobago\",\"Tunisia\",\"Turkey\",\"Turkmenistan\",\"Uganda\",\"Ukraine\",\"United Arab Emirates\",\"United Kingdom\",\"United States\",\"Uruguay\",\"Uzbekistan\",\"Venezuela\",\"Vietnam\",\"Yemen\",\"Zambia\",\"Zimbabwe\"],\"locationmode\":\"country names\",\"locations\":[\"Afghanistan\",\"Albania\",\"Algeria\",\"Angola\",\"Argentina\",\"Armenia\",\"Australia\",\"Austria\",\"Azerbaijan\",\"Bahrain\",\"Bangladesh\",\"Belarus\",\"Belgium\",\"Belize\",\"Benin\",\"Bhutan\",\"Bolivia\",\"Bosnia and Herzegovina\",\"Botswana\",\"Brazil\",\"Bulgaria\",\"Burkina Faso\",\"Burundi\",\"Cambodia\",\"Cameroon\",\"Canada\",\"Chad\",\"Chile\",\"China\",\"Colombia\",\"Comoros\",\"Congo (Brazzaville)\",\"Congo (Kinshasa)\",\"Costa Rica\",\"Croatia\",\"Cyprus\",\"Czech Republic\",\"Denmark\",\"Dominican Republic\",\"Ecuador\",\"Egypt\",\"El Salvador\",\"Estonia\",\"Ethiopia\",\"Finland\",\"France\",\"Gabon\",\"Georgia\",\"Germany\",\"Ghana\",\"Greece\",\"Guatemala\",\"Guinea\",\"Haiti\",\"Honduras\",\"Hong Kong\",\"Hungary\",\"Iceland\",\"India\",\"Indonesia\",\"Iran\",\"Iraq\",\"Ireland\",\"Israel\",\"Italy\",\"Ivory Coast\",\"Jamaica\",\"Japan\",\"Jordan\",\"Kazakhstan\",\"Kenya\",\"Kosovo\",\"Kuwait\",\"Kyrgyzstan\",\"Laos\",\"Latvia\",\"Lebanon\",\"Liberia\",\"Libya\",\"Lithuania\",\"Luxembourg\",\"Macedonia\",\"Madagascar\",\"Malawi\",\"Malaysia\",\"Mali\",\"Malta\",\"Mauritania\",\"Mauritius\",\"Mexico\",\"Moldova\",\"Mongolia\",\"Montenegro\",\"Morocco\",\"Myanmar\",\"Namibia\",\"Nepal\",\"Netherlands\",\"New Zealand\",\"Nicaragua\",\"Niger\",\"Nigeria\",\"North Cyprus\",\"Norway\",\"Pakistan\",\"Palestinian Territories\",\"Panama\",\"Paraguay\",\"Peru\",\"Philippines\",\"Poland\",\"Portugal\",\"Puerto Rico\",\"Qatar\",\"Romania\",\"Russia\",\"Rwanda\",\"Saudi Arabia\",\"Senegal\",\"Serbia\",\"Sierra Leone\",\"Singapore\",\"Slovakia\",\"Slovenia\",\"Somalia\",\"Somaliland Region\",\"South Africa\",\"South Korea\",\"South Sudan\",\"Spain\",\"Sri Lanka\",\"Sudan\",\"Suriname\",\"Sweden\",\"Switzerland\",\"Syria\",\"Taiwan\",\"Tajikistan\",\"Tanzania\",\"Thailand\",\"Togo\",\"Trinidad and Tobago\",\"Tunisia\",\"Turkey\",\"Turkmenistan\",\"Uganda\",\"Ukraine\",\"United Arab Emirates\",\"United Kingdom\",\"United States\",\"Uruguay\",\"Uzbekistan\",\"Venezuela\",\"Vietnam\",\"Yemen\",\"Zambia\",\"Zimbabwe\"],\"name\":\"\",\"z\":[3.36,4.655,6.355,3.866,6.65,4.36,7.313,7.119,5.291,6.218,4.643,5.802,6.929,5.956,3.484,5.196,5.822,5.163,3.974,6.952,4.217,3.739,2.905,3.907,4.513,7.404,3.763,6.705,5.245,6.481,3.956,4.236,4.272,7.087,5.488,5.546,6.596,7.526,5.155,5.976,4.362,6.068,5.517,4.508,7.413,6.478,4.121,4.252,6.994,4.276,5.033,6.324,3.607,4.028,4.871,5.458,5.145,7.501,4.404,5.314,4.813,4.575,6.907,7.267,5.977,3.916,5.51,5.921,5.303,5.919,4.356,5.401,6.239,5.185,4.876,5.56,5.129,3.622,5.615,5.813,6.871,5.121,3.695,4.156,6.005,4.073,6.488,4.201,5.648,6.778,5.897,4.907,5.161,5.151,4.395,4.574,4.793,7.339,7.334,5.992,3.856,4.875,5.771,7.498,5.132,4.754,6.701,5.538,5.743,5.279,5.835,5.123,7.039,6.375,5.528,5.856,3.515,6.379,4.219,5.177,4.635,6.739,6.078,5.768,5.44,5.057,4.459,5.835,3.832,6.361,4.415,4.139,6.269,7.291,7.509,3.069,6.379,4.996,3.666,6.474,3.303,6.168,5.045,5.389,5.658,3.739,4.324,6.573,6.725,7.104,6.545,5.987,6.084,5.061,3.724,4.795,4.193],\"type\":\"choropleth\"}],\"name\":\"2016\"},{\"data\":[{\"coloraxis\":\"coloraxis\",\"customdata\":[[\"0.042%\"],[\"0.001%\"],[\"-0.001%\"],[\"-0.001%\"],[\"-0.003%\"],[\"-0.005%\"],[\"-0.009%\"],[\"0.012%\"],[\"-0.008%\"],[\"-0.006%\"],[\"0.006%\"],[\"0.011%\"],[\"-0.002%\"],[\"-0.012%\"],[\"-0.002%\"],[\"-0.003%\"],[\"0.008%\"],[\"-0.003%\"],[\"-0.017%\"],[\"0.004%\"],[\"0.044%\"],[\"0.013%\"],[\"-0.037%\"],[\"0.011%\"],[\"0.047%\"],[\"0.008%\"],[\"-0.72%\"],[\"0.076%\"],[\"0.001%\"],[\"0.008%\"],[\"-0.003%\"],[\"0.028%\"],[\"0.018%\"],[\"-0.003%\"],[\"-0.006%\"],[\"-0.005%\"],[\"-0.012%\"],[\"-0.003%\"],[\"-0.003%\"],[\"-0.001%\"],[\"-0.002%\"],[\"0.0%\"],[\"0.021%\"],[\"0.022%\"],[\"-0.002%\"],[\"0.008%\"],[\"0.021%\"],[\"0.014%\"],[\"-0.02%\"],[\"-0.004%\"],[\"0.012%\"],[\"-0.0%\"],[\"0.031%\"],[\"0.009%\"],[\"-0.002%\"],[\"nan%\"],[\"0.017%\"],[\"-0.039%\"],[\"0.01%\"],[\"-0.003%\"],[\"-0.005%\"],[\"-0.019%\"],[\"-0.006%\"],[\"-0.013%\"],[\"0.002%\"],[\"0.087%\"],[\"0.078%\"],[\"-0.002%\"],[\"-0.004%\"],[\"0.056%\"],[\"0.028%\"],[\"0.003%\"],[\"-0.006%\"],[\"-0.002%\"],[\"-0.001%\"],[\"-0.035%\"],[\"-1.0%\"],[\"-0.007%\"],[\"-0.005%\"],[\"-0.028%\"],[\"-0.0%\"],[\"-0.004%\"],[\"0.011%\"],[\"0.073%\"],[\"-0.008%\"],[\"0.036%\"],[\"0.023%\"],[\"-0.004%\"],[\"-0.036%\"],[\"-0.002%\"],[\"0.127%\"],[\"0.006%\"],[\"0.051%\"],[\"0.005%\"],[\"0.168%\"],[\"-0.003%\"],[\"-0.025%\"],[\"0.007%\"],[\"-0.002%\"],[\"-0.017%\"],[\"0.001%\"],[\"0.026%\"],[\"0.114%\"],[\"-0.008%\"],[\"0.001%\"],[\"-0.003%\"],[\"-0.005%\"],[\"-0.003%\"],[\"-0.006%\"],[\"0.0%\"],[\"-0.005%\"],[\"0.013%\"],[\"0.003%\"],[\"-0.01%\"],[\"0.014%\"],[\"-0.072%\"],[\"0.024%\"],[\"-0.004%\"],[\"0.012%\"],[\"0.008%\"],[\"inf%\"],[\"0.002%\"],[\"0.013%\"],[\"-0.001%\"],[\"-0.006%\"],[\"0.005%\"],[\"0.016%\"],[\"0.036%\"],[\"0.011%\"],[\"0.008%\"],[\"-0.022%\"],[\"-0.0%\"],[\"-0.006%\"],[\"-0.205%\"],[\"nan%\"],[\"-0.004%\"],[\"0.021%\"],[\"-0.003%\"],[\"-0.004%\"],[\"-0.012%\"],[\"0.029%\"],[\"-0.015%\"],[\"-0.005%\"],[\"0.109%\"],[\"-0.018%\"],[\"-0.004%\"],[\"-0.006%\"],[\"-0.006%\"],[\"-0.004%\"],[\"-0.007%\"],[\"-0.003%\"],[\"-0.014%\"],[\"-0.001%\"],[\"0.094%\"],[\"0.234%\"]],\"geo\":\"geo\",\"hovertemplate\":\"\\u003cb\\u003e%{hovertext}\\u003c\\u002fb\\u003e\\u003cbr\\u003e\\u003cbr\\u003eYear=2017\\u003cbr\\u003eCountry=%{location}\\u003cbr\\u003eRelative Change Health (Life Expectancy)=%{customdata[0]}\\u003cbr\\u003eHappiness Score=%{z}\\u003cextra\\u003e\\u003c\\u002fextra\\u003e\",\"hovertext\":[\"Afghanistan\",\"Albania\",\"Algeria\",\"Angola\",\"Argentina\",\"Armenia\",\"Australia\",\"Austria\",\"Azerbaijan\",\"Bahrain\",\"Bangladesh\",\"Belarus\",\"Belgium\",\"Belize\",\"Benin\",\"Bhutan\",\"Bolivia\",\"Bosnia and Herzegovina\",\"Botswana\",\"Brazil\",\"Bulgaria\",\"Burkina Faso\",\"Burundi\",\"Cambodia\",\"Cameroon\",\"Canada\",\"Central African Republic\",\"Chad\",\"Chile\",\"China\",\"Colombia\",\"Congo (Brazzaville)\",\"Congo (Kinshasa)\",\"Costa Rica\",\"Croatia\",\"Cyprus\",\"Czech Republic\",\"Denmark\",\"Dominican Republic\",\"Ecuador\",\"Egypt\",\"El Salvador\",\"Estonia\",\"Ethiopia\",\"Finland\",\"France\",\"Gabon\",\"Georgia\",\"Germany\",\"Ghana\",\"Greece\",\"Guatemala\",\"Guinea\",\"Haiti\",\"Honduras\",\"Hong Kong S.A.R., China\",\"Hungary\",\"Iceland\",\"India\",\"Indonesia\",\"Iran\",\"Iraq\",\"Ireland\",\"Israel\",\"Italy\",\"Ivory Coast\",\"Jamaica\",\"Japan\",\"Jordan\",\"Kazakhstan\",\"Kenya\",\"Kosovo\",\"Kuwait\",\"Kyrgyzstan\",\"Latvia\",\"Lebanon\",\"Lesotho\",\"Liberia\",\"Libya\",\"Lithuania\",\"Luxembourg\",\"Macedonia\",\"Madagascar\",\"Malawi\",\"Malaysia\",\"Mali\",\"Malta\",\"Mauritania\",\"Mauritius\",\"Mexico\",\"Moldova\",\"Mongolia\",\"Montenegro\",\"Morocco\",\"Mozambique\",\"Myanmar\",\"Namibia\",\"Nepal\",\"Netherlands\",\"New Zealand\",\"Nicaragua\",\"Niger\",\"Nigeria\",\"North Cyprus\",\"Norway\",\"Pakistan\",\"Palestinian Territories\",\"Panama\",\"Paraguay\",\"Peru\",\"Philippines\",\"Poland\",\"Portugal\",\"Qatar\",\"Romania\",\"Russia\",\"Rwanda\",\"Saudi Arabia\",\"Senegal\",\"Serbia\",\"Sierra Leone\",\"Singapore\",\"Slovakia\",\"Slovenia\",\"Somalia\",\"South Africa\",\"South Korea\",\"South Sudan\",\"Spain\",\"Sri Lanka\",\"Sudan\",\"Sweden\",\"Switzerland\",\"Syria\",\"Taiwan Province of China\",\"Tajikistan\",\"Tanzania\",\"Thailand\",\"Togo\",\"Trinidad and Tobago\",\"Tunisia\",\"Turkey\",\"Turkmenistan\",\"Uganda\",\"Ukraine\",\"United Arab Emirates\",\"United Kingdom\",\"United States\",\"Uruguay\",\"Uzbekistan\",\"Venezuela\",\"Vietnam\",\"Yemen\",\"Zambia\",\"Zimbabwe\"],\"locationmode\":\"country names\",\"locations\":[\"Afghanistan\",\"Albania\",\"Algeria\",\"Angola\",\"Argentina\",\"Armenia\",\"Australia\",\"Austria\",\"Azerbaijan\",\"Bahrain\",\"Bangladesh\",\"Belarus\",\"Belgium\",\"Belize\",\"Benin\",\"Bhutan\",\"Bolivia\",\"Bosnia and Herzegovina\",\"Botswana\",\"Brazil\",\"Bulgaria\",\"Burkina Faso\",\"Burundi\",\"Cambodia\",\"Cameroon\",\"Canada\",\"Central African Republic\",\"Chad\",\"Chile\",\"China\",\"Colombia\",\"Congo (Brazzaville)\",\"Congo (Kinshasa)\",\"Costa Rica\",\"Croatia\",\"Cyprus\",\"Czech Republic\",\"Denmark\",\"Dominican Republic\",\"Ecuador\",\"Egypt\",\"El Salvador\",\"Estonia\",\"Ethiopia\",\"Finland\",\"France\",\"Gabon\",\"Georgia\",\"Germany\",\"Ghana\",\"Greece\",\"Guatemala\",\"Guinea\",\"Haiti\",\"Honduras\",\"Hong Kong S.A.R., China\",\"Hungary\",\"Iceland\",\"India\",\"Indonesia\",\"Iran\",\"Iraq\",\"Ireland\",\"Israel\",\"Italy\",\"Ivory Coast\",\"Jamaica\",\"Japan\",\"Jordan\",\"Kazakhstan\",\"Kenya\",\"Kosovo\",\"Kuwait\",\"Kyrgyzstan\",\"Latvia\",\"Lebanon\",\"Lesotho\",\"Liberia\",\"Libya\",\"Lithuania\",\"Luxembourg\",\"Macedonia\",\"Madagascar\",\"Malawi\",\"Malaysia\",\"Mali\",\"Malta\",\"Mauritania\",\"Mauritius\",\"Mexico\",\"Moldova\",\"Mongolia\",\"Montenegro\",\"Morocco\",\"Mozambique\",\"Myanmar\",\"Namibia\",\"Nepal\",\"Netherlands\",\"New Zealand\",\"Nicaragua\",\"Niger\",\"Nigeria\",\"North Cyprus\",\"Norway\",\"Pakistan\",\"Palestinian Territories\",\"Panama\",\"Paraguay\",\"Peru\",\"Philippines\",\"Poland\",\"Portugal\",\"Qatar\",\"Romania\",\"Russia\",\"Rwanda\",\"Saudi Arabia\",\"Senegal\",\"Serbia\",\"Sierra Leone\",\"Singapore\",\"Slovakia\",\"Slovenia\",\"Somalia\",\"South Africa\",\"South Korea\",\"South Sudan\",\"Spain\",\"Sri Lanka\",\"Sudan\",\"Sweden\",\"Switzerland\",\"Syria\",\"Taiwan Province of China\",\"Tajikistan\",\"Tanzania\",\"Thailand\",\"Togo\",\"Trinidad and Tobago\",\"Tunisia\",\"Turkey\",\"Turkmenistan\",\"Uganda\",\"Ukraine\",\"United Arab Emirates\",\"United Kingdom\",\"United States\",\"Uruguay\",\"Uzbekistan\",\"Venezuela\",\"Vietnam\",\"Yemen\",\"Zambia\",\"Zimbabwe\"],\"name\":\"\",\"z\":[3.79399991035461,4.64400005340576,5.87200021743774,3.79500007629395,6.59899997711182,4.37599992752075,7.28399991989136,7.00600004196167,5.23400020599365,6.08699989318848,4.60799980163574,5.56899976730347,6.89099979400635,5.95599985122681,3.65700006484985,5.01100015640259,5.82299995422363,5.18200016021729,3.76600003242493,6.63500022888184,4.71400022506714,4.03200006484985,2.90499997138977,4.16800022125244,4.69500017166138,7.31599998474121,2.69300007820129,3.93600010871887,6.65199995040894,5.27299976348877,6.35699987411499,4.29099988937378,4.28000020980835,7.0789999961853,5.29300022125244,5.62099981307983,6.60900020599365,7.52199983596802,5.23000001907349,6.00799989700317,4.7350001335144,6.00299978256226,5.61100006103516,4.46000003814697,7.4689998626709,6.44199991226196,4.46500015258789,4.28599977493286,6.95100021362305,4.11999988555908,5.22700023651123,6.4539999961853,3.50699996948242,3.6029999256134,5.18100023269653,5.47200012207031,5.32399988174438,7.50400018692017,4.31500005722046,5.26200008392334,4.69199991226196,4.49700021743774,6.97700023651123,7.21299982070923,5.96400022506714,4.17999982833862,5.31099987030029,5.92000007629395,5.33599996566772,5.81899976730347,4.55299997329712,5.27899980545044,6.10500001907349,5.00400018692017,5.84999990463257,5.22499990463257,3.80800008773804,3.53299999237061,5.52500009536743,5.90199995040894,6.86299991607666,5.17500019073486,3.64400005340576,3.97000002861023,6.08400011062622,4.19000005722046,6.52699995040894,4.29199981689453,5.62900018692017,6.57800006866455,5.83799982070923,4.95499992370605,5.23699998855591,5.2350001335144,4.55000019073486,4.54500007629395,4.57399988174438,4.96199989318848,7.3769998550415,7.31400012969971,6.07100009918213,4.02799987792969,5.07399988174438,5.80999994277954,7.53700017929077,5.26900005340576,4.77500009536743,6.4520001411438,5.49300003051758,5.71500015258789,5.42999982833862,5.97300004959106,5.19500017166138,6.375,5.82499980926514,5.96299982070923,3.47099995613098,6.3439998626709,4.53499984741211,5.39499998092651,4.70900011062622,6.57200002670288,6.09800004959106,5.75799989700317,5.15100002288818,4.8289999961853,5.83799982070923,3.59100008010864,6.40299987792969,4.44000005722046,4.13899993896484,7.28399991989136,7.49399995803833,3.46199989318848,6.42199993133545,5.04099988937378,3.34899997711182,6.42399978637695,3.49499988555908,6.16800022125244,4.80499982833862,5.5,5.82200002670288,4.08099985122681,4.09600019454956,6.64799976348877,6.71400022506714,6.99300003051758,6.4539999961853,5.97100019454956,5.25,5.07399988174438,3.59299993515015,4.51399993896484,3.875],\"type\":\"choropleth\"}],\"name\":\"2017\"},{\"data\":[{\"coloraxis\":\"coloraxis\",\"customdata\":[[\"0.411%\"],[\"0.08%\"],[\"0.112%\"],[\"4.394%\"],[\"0.07%\"],[\"0.045%\"],[\"0.078%\"],[\"0.093%\"],[\"0.115%\"],[\"0.069%\"],[\"0.086%\"],[\"0.098%\"],[\"0.093%\"],[\"0.053%\"],[\"0.143%\"],[\"0.063%\"],[\"0.073%\"],[\"0.075%\"],[\"0.22%\"],[\"0.095%\"],[\"0.005%\"],[\"0.177%\"],[\"-0.044%\"],[\"0.063%\"],[\"0.37%\"],[\"0.074%\"],[\"-0.467%\"],[\"0.288%\"],[\"-0.014%\"],[\"0.078%\"],[\"0.067%\"],[\"0.183%\"],[\"0.066%\"],[\"0.076%\"],[\"0.051%\"],[\"0.076%\"],[\"0.132%\"],[\"0.095%\"],[\"0.068%\"],[\"0.073%\"],[\"0.063%\"],[\"0.072%\"],[\"0.06%\"],[\"0.106%\"],[\"0.08%\"],[\"0.075%\"],[\"0.133%\"],[\"-0.01%\"],[\"0.078%\"],[\"0.14%\"],[\"0.085%\"],[\"0.125%\"],[\"0.087%\"],[\"0.042%\"],[\"0.068%\"],[\"0.081%\"],[\"0.064%\"],[\"0.097%\"],[\"0.065%\"],[\"0.06%\"],[\"0.081%\"],[\"0.069%\"],[\"0.082%\"],[\"0.053%\"],[\"0.109%\"],[\"0.645%\"],[\"0.081%\"],[\"0.082%\"],[\"0.067%\"],[\"0.041%\"],[\"0.465%\"],[\"0.067%\"],[\"0.068%\"],[\"0.073%\"],[\"0.152%\"],[\"0.051%\"],[\"0.068%\"],[\"inf%\"],[\"0.161%\"],[\"0.063%\"],[\"0.138%\"],[\"0.06%\"],[\"0.071%\"],[\"0.071%\"],[\"-0.029%\"],[\"0.081%\"],[\"-0.103%\"],[\"0.075%\"],[\"0.023%\"],[\"0.072%\"],[\"0.072%\"],[\"0.052%\"],[\"0.031%\"],[\"0.092%\"],[\"0.119%\"],[\"0.622%\"],[\"0.079%\"],[\"0.078%\"],[\"0.069%\"],[\"0.083%\"],[\"0.073%\"],[\"0.072%\"],[\"-0.177%\"],[\"-0.157%\"],[\"nan%\"],[\"0.081%\"],[\"0.055%\"],[\"0.064%\"],[\"0.075%\"],[\"0.062%\"],[\"0.07%\"],[\"0.096%\"],[\"0.117%\"],[\"0.111%\"],[\"0.053%\"],[\"0.06%\"],[\"0.094%\"],[\"0.225%\"],[\"0.073%\"],[\"0.058%\"],[\"0.053%\"],[\"-1.0%\"],[\"0.062%\"],[\"0.089%\"],[\"0.082%\"],[\"0.009%\"],[\"0.764%\"],[\"0.061%\"],[\"0.083%\"],[\"0.086%\"],[\"0.075%\"],[\"0.072%\"],[\"0.099%\"],[\"0.08%\"],[\"0.077%\"],[\"0.077%\"],[\"0.13%\"],[\"0.045%\"],[\"0.092%\"],[\"0.024%\"],[\"nan%\"],[\"0.125%\"],[\"0.076%\"],[\"0.181%\"],[\"0.089%\"],[\"0.057%\"],[\"-0.078%\"],[\"0.103%\"],[\"0.058%\"],[\"0.072%\"],[\"0.214%\"],[\"0.065%\"],[\"0.076%\"],[\"0.106%\"],[\"0.144%\"],[\"0.26%\"]],\"geo\":\"geo\",\"hovertemplate\":\"\\u003cb\\u003e%{hovertext}\\u003c\\u002fb\\u003e\\u003cbr\\u003e\\u003cbr\\u003eYear=2018\\u003cbr\\u003eCountry=%{location}\\u003cbr\\u003eRelative Change Health (Life Expectancy)=%{customdata[0]}\\u003cbr\\u003eHappiness Score=%{z}\\u003cextra\\u003e\\u003c\\u002fextra\\u003e\",\"hovertext\":[\"Afghanistan\",\"Albania\",\"Algeria\",\"Angola\",\"Argentina\",\"Armenia\",\"Australia\",\"Austria\",\"Azerbaijan\",\"Bahrain\",\"Bangladesh\",\"Belarus\",\"Belgium\",\"Belize\",\"Benin\",\"Bhutan\",\"Bolivia\",\"Bosnia and Herzegovina\",\"Botswana\",\"Brazil\",\"Bulgaria\",\"Burkina Faso\",\"Burundi\",\"Cambodia\",\"Cameroon\",\"Canada\",\"Central African Republic\",\"Chad\",\"Chile\",\"China\",\"Colombia\",\"Congo (Brazzaville)\",\"Congo (Kinshasa)\",\"Costa Rica\",\"Croatia\",\"Cyprus\",\"Czech Republic\",\"Denmark\",\"Dominican Republic\",\"Ecuador\",\"Egypt\",\"El Salvador\",\"Estonia\",\"Ethiopia\",\"Finland\",\"France\",\"Gabon\",\"Georgia\",\"Germany\",\"Ghana\",\"Greece\",\"Guatemala\",\"Guinea\",\"Haiti\",\"Honduras\",\"Hong Kong\",\"Hungary\",\"Iceland\",\"India\",\"Indonesia\",\"Iran\",\"Iraq\",\"Ireland\",\"Israel\",\"Italy\",\"Ivory Coast\",\"Jamaica\",\"Japan\",\"Jordan\",\"Kazakhstan\",\"Kenya\",\"Kosovo\",\"Kuwait\",\"Kyrgyzstan\",\"Laos\",\"Latvia\",\"Lebanon\",\"Lesotho\",\"Liberia\",\"Libya\",\"Lithuania\",\"Luxembourg\",\"Macedonia\",\"Madagascar\",\"Malawi\",\"Malaysia\",\"Mali\",\"Malta\",\"Mauritania\",\"Mauritius\",\"Mexico\",\"Moldova\",\"Mongolia\",\"Montenegro\",\"Morocco\",\"Mozambique\",\"Myanmar\",\"Namibia\",\"Nepal\",\"Netherlands\",\"New Zealand\",\"Nicaragua\",\"Niger\",\"Nigeria\",\"Northern Cyprus\",\"Norway\",\"Pakistan\",\"Palestinian Territories\",\"Panama\",\"Paraguay\",\"Peru\",\"Philippines\",\"Poland\",\"Portugal\",\"Qatar\",\"Romania\",\"Russia\",\"Rwanda\",\"Saudi Arabia\",\"Senegal\",\"Serbia\",\"Sierra Leone\",\"Singapore\",\"Slovakia\",\"Slovenia\",\"Somalia\",\"South Africa\",\"South Korea\",\"South Sudan\",\"Spain\",\"Sri Lanka\",\"Sudan\",\"Sweden\",\"Switzerland\",\"Syria\",\"Taiwan\",\"Tajikistan\",\"Tanzania\",\"Thailand\",\"Togo\",\"Trinidad & Tobago\",\"Tunisia\",\"Turkey\",\"Turkmenistan\",\"Uganda\",\"Ukraine\",\"United Arab Emirates\",\"United Kingdom\",\"United States\",\"Uruguay\",\"Uzbekistan\",\"Venezuela\",\"Vietnam\",\"Yemen\",\"Zambia\",\"Zimbabwe\"],\"locationmode\":\"country names\",\"locations\":[\"Afghanistan\",\"Albania\",\"Algeria\",\"Angola\",\"Argentina\",\"Armenia\",\"Australia\",\"Austria\",\"Azerbaijan\",\"Bahrain\",\"Bangladesh\",\"Belarus\",\"Belgium\",\"Belize\",\"Benin\",\"Bhutan\",\"Bolivia\",\"Bosnia and Herzegovina\",\"Botswana\",\"Brazil\",\"Bulgaria\",\"Burkina Faso\",\"Burundi\",\"Cambodia\",\"Cameroon\",\"Canada\",\"Central African Republic\",\"Chad\",\"Chile\",\"China\",\"Colombia\",\"Congo (Brazzaville)\",\"Congo (Kinshasa)\",\"Costa Rica\",\"Croatia\",\"Cyprus\",\"Czech Republic\",\"Denmark\",\"Dominican Republic\",\"Ecuador\",\"Egypt\",\"El Salvador\",\"Estonia\",\"Ethiopia\",\"Finland\",\"France\",\"Gabon\",\"Georgia\",\"Germany\",\"Ghana\",\"Greece\",\"Guatemala\",\"Guinea\",\"Haiti\",\"Honduras\",\"Hong Kong\",\"Hungary\",\"Iceland\",\"India\",\"Indonesia\",\"Iran\",\"Iraq\",\"Ireland\",\"Israel\",\"Italy\",\"Ivory Coast\",\"Jamaica\",\"Japan\",\"Jordan\",\"Kazakhstan\",\"Kenya\",\"Kosovo\",\"Kuwait\",\"Kyrgyzstan\",\"Laos\",\"Latvia\",\"Lebanon\",\"Lesotho\",\"Liberia\",\"Libya\",\"Lithuania\",\"Luxembourg\",\"Macedonia\",\"Madagascar\",\"Malawi\",\"Malaysia\",\"Mali\",\"Malta\",\"Mauritania\",\"Mauritius\",\"Mexico\",\"Moldova\",\"Mongolia\",\"Montenegro\",\"Morocco\",\"Mozambique\",\"Myanmar\",\"Namibia\",\"Nepal\",\"Netherlands\",\"New Zealand\",\"Nicaragua\",\"Niger\",\"Nigeria\",\"Northern Cyprus\",\"Norway\",\"Pakistan\",\"Palestinian Territories\",\"Panama\",\"Paraguay\",\"Peru\",\"Philippines\",\"Poland\",\"Portugal\",\"Qatar\",\"Romania\",\"Russia\",\"Rwanda\",\"Saudi Arabia\",\"Senegal\",\"Serbia\",\"Sierra Leone\",\"Singapore\",\"Slovakia\",\"Slovenia\",\"Somalia\",\"South Africa\",\"South Korea\",\"South Sudan\",\"Spain\",\"Sri Lanka\",\"Sudan\",\"Sweden\",\"Switzerland\",\"Syria\",\"Taiwan\",\"Tajikistan\",\"Tanzania\",\"Thailand\",\"Togo\",\"Trinidad & Tobago\",\"Tunisia\",\"Turkey\",\"Turkmenistan\",\"Uganda\",\"Ukraine\",\"United Arab Emirates\",\"United Kingdom\",\"United States\",\"Uruguay\",\"Uzbekistan\",\"Venezuela\",\"Vietnam\",\"Yemen\",\"Zambia\",\"Zimbabwe\"],\"name\":\"\",\"z\":[3.632,4.586,5.295,3.795,6.388,4.321,7.272,7.139,5.201,6.105,4.5,5.483,6.927,5.956,4.141,5.082,5.752,5.129,3.59,6.419,4.933,4.424,2.905,4.433,4.975,7.328,3.083,4.301,6.476,5.246,6.26,4.559,4.245,7.072,5.321,5.762,6.711,7.555,5.302,5.973,4.419,6.167,5.739,4.35,7.632,6.489,4.758,4.34,6.965,4.657,5.358,6.382,3.964,3.582,5.504,5.43,5.62,7.495,4.19,5.093,4.707,4.456,6.977,6.814,6.0,4.671,5.89,5.915,5.161,5.79,4.41,5.662,6.083,5.131,4.623,5.933,5.358,3.808,3.495,5.566,5.952,6.91,5.185,3.774,3.587,6.322,4.447,6.627,4.356,5.891,6.488,5.64,5.125,5.347,5.254,4.417,4.308,4.441,4.88,7.441,7.324,6.141,4.166,5.155,5.835,7.594,5.472,4.743,6.43,5.681,5.663,5.524,6.123,5.41,6.374,5.945,5.81,3.408,6.371,4.631,5.398,4.571,6.343,6.173,5.948,4.982,4.724,5.875,3.254,6.31,4.471,4.139,7.314,7.487,3.462,6.441,5.199,3.303,6.072,3.999,6.192,4.592,5.483,5.636,4.161,4.103,6.774,7.19,6.886,6.379,6.096,4.806,5.103,3.355,4.377,3.692],\"type\":\"choropleth\"}],\"name\":\"2018\"},{\"data\":[{\"coloraxis\":\"coloraxis\",\"customdata\":[[\"0.416%\"],[\"0.106%\"],[\"0.143%\"],[\"0.184%\"],[\"0.224%\"],[\"0.138%\"],[\"0.14%\"],[\"0.275%\"],[\"0.248%\"],[\"0.249%\"],[\"0.127%\"],[\"0.103%\"],[\"0.654%\"],[\"0.146%\"],[\"0.39%\"],[\"0.115%\"],[\"0.29%\"],[\"0.188%\"],[\"0.145%\"],[\"0.496%\"],[\"1.621%\"],[\"0.394%\"],[\"0.819%\"],[\"0.16%\"],[\"9.5%\"],[\"2.623%\"],[\"0.139%\"],[\"0.118%\"],[\"0.324%\"],[\"0.684%\"],[\"0.481%\"],[\"0.75%\"],[\"0.179%\"],[\"0.24%\"],[\"0.146%\"],[\"0.077%\"],[\"0.147%\"],[\"0.269%\"],[\"0.179%\"],[\"0.165%\"],[\"0.235%\"],[\"0.186%\"],[\"0.361%\"],[\"0.128%\"],[\"0.151%\"],[\"0.413%\"],[\"nan%\"],[\"0.17%\"],[\"0.146%\"],[\"0.442%\"],[\"0.137%\"],[\"0.227%\"],[\"0.777%\"],[\"0.554%\"],[\"0.331%\"],[\"0.089%\"],[\"0.131%\"],[\"0.123%\"],[\"0.212%\"],[\"0.264%\"],[\"0.136%\"],[\"0.071%\"],[\"0.14%\"],[\"0.165%\"],[\"0.098%\"],[\"1.9%\"],[\"0.199%\"],[\"0.101%\"],[\"0.264%\"],[\"0.155%\"],[\"0.28%\"],[\"0.311%\"],[\"0.197%\"],[\"0.217%\"],[\"0.249%\"],[\"0.21%\"],[\"0.038%\"],[\"1.127%\"],[\"0.659%\"],[\"0.217%\"],[\"0.142%\"],[\"0.129%\"],[\"0.381%\"],[\"0.618%\"],[\"0.238%\"],[\"1.026%\"],[\"0.13%\"],[\"0.675%\"],[\"0.167%\"],[\"0.131%\"],[\"0.192%\"],[\"0.16%\"],[\"0.195%\"],[\"0.169%\"],[\"1.254%\"],[\"0.294%\"],[\"0.307%\"],[\"0.256%\"],[\"0.138%\"],[\"0.171%\"],[\"0.193%\"],[\"0.656%\"],[\"4.104%\"],[\"nan%\"],[\"0.146%\"],[\"0.194%\"],[\"0.262%\"],[\"0.116%\"],[\"0.199%\"],[\"0.263%\"],[\"0.267%\"],[\"0.281%\"],[\"0.132%\"],[\"0.13%\"],[\"0.164%\"],[\"0.136%\"],[\"0.212%\"],[\"0.535%\"],[\"0.256%\"],[\"0.319%\"],[\"0.247%\"],[\"inf%\"],[\"0.132%\"],[\"0.135%\"],[\"0.113%\"],[\"1.33%\"],[\"0.421%\"],[\"0.085%\"],[\"0.667%\"],[\"0.101%\"],[\"0.237%\"],[\"-1.0%\"],[\"0.105%\"],[\"0.135%\"],[\"-0.184%\"],[\"0.067%\"],[\"0.201%\"],[\"0.31%\"],[\"0.171%\"],[\"0.621%\"],[\"0.264%\"],[\"0.181%\"],[\"0.178%\"],[\"0.271%\"],[\"0.869%\"],[\"0.213%\"],[\"0.231%\"],[\"0.122%\"],[\"0.067%\"],[\"0.156%\"],[\"0.25%\"],[\"0.225%\"],[\"0.212%\"],[\"0.35%\"],[\"0.444%\"],[\"0.746%\"]],\"geo\":\"geo\",\"hovertemplate\":\"\\u003cb\\u003e%{hovertext}\\u003c\\u002fb\\u003e\\u003cbr\\u003e\\u003cbr\\u003eYear=2019\\u003cbr\\u003eCountry=%{location}\\u003cbr\\u003eRelative Change Health (Life Expectancy)=%{customdata[0]}\\u003cbr\\u003eHappiness Score=%{z}\\u003cextra\\u003e\\u003c\\u002fextra\\u003e\",\"hovertext\":[\"Afghanistan\",\"Albania\",\"Algeria\",\"Argentina\",\"Armenia\",\"Australia\",\"Austria\",\"Azerbaijan\",\"Bahrain\",\"Bangladesh\",\"Belarus\",\"Belgium\",\"Benin\",\"Bhutan\",\"Bolivia\",\"Bosnia and Herzegovina\",\"Botswana\",\"Brazil\",\"Bulgaria\",\"Burkina Faso\",\"Burundi\",\"Cambodia\",\"Cameroon\",\"Canada\",\"Central African Republic\",\"Chad\",\"Chile\",\"China\",\"Colombia\",\"Comoros\",\"Congo (Brazzaville)\",\"Congo (Kinshasa)\",\"Costa Rica\",\"Croatia\",\"Cyprus\",\"Czech Republic\",\"Denmark\",\"Dominican Republic\",\"Ecuador\",\"Egypt\",\"El Salvador\",\"Estonia\",\"Ethiopia\",\"Finland\",\"France\",\"Gabon\",\"Gambia\",\"Georgia\",\"Germany\",\"Ghana\",\"Greece\",\"Guatemala\",\"Guinea\",\"Haiti\",\"Honduras\",\"Hong Kong\",\"Hungary\",\"Iceland\",\"India\",\"Indonesia\",\"Iran\",\"Iraq\",\"Ireland\",\"Israel\",\"Italy\",\"Ivory Coast\",\"Jamaica\",\"Japan\",\"Jordan\",\"Kazakhstan\",\"Kenya\",\"Kosovo\",\"Kuwait\",\"Kyrgyzstan\",\"Laos\",\"Latvia\",\"Lebanon\",\"Lesotho\",\"Liberia\",\"Libya\",\"Lithuania\",\"Luxembourg\",\"Madagascar\",\"Malawi\",\"Malaysia\",\"Mali\",\"Malta\",\"Mauritania\",\"Mauritius\",\"Mexico\",\"Moldova\",\"Mongolia\",\"Montenegro\",\"Morocco\",\"Mozambique\",\"Myanmar\",\"Namibia\",\"Nepal\",\"Netherlands\",\"New Zealand\",\"Nicaragua\",\"Niger\",\"Nigeria\",\"North Macedonia\",\"Northern Cyprus\",\"Norway\",\"Pakistan\",\"Palestinian Territories\",\"Panama\",\"Paraguay\",\"Peru\",\"Philippines\",\"Poland\",\"Portugal\",\"Qatar\",\"Romania\",\"Russia\",\"Rwanda\",\"Saudi Arabia\",\"Senegal\",\"Serbia\",\"Sierra Leone\",\"Singapore\",\"Slovakia\",\"Slovenia\",\"Somalia\",\"South Africa\",\"South Korea\",\"South Sudan\",\"Spain\",\"Sri Lanka\",\"Swaziland\",\"Sweden\",\"Switzerland\",\"Syria\",\"Taiwan\",\"Tajikistan\",\"Tanzania\",\"Thailand\",\"Togo\",\"Trinidad & Tobago\",\"Tunisia\",\"Turkey\",\"Turkmenistan\",\"Uganda\",\"Ukraine\",\"United Arab Emirates\",\"United Kingdom\",\"United States\",\"Uruguay\",\"Uzbekistan\",\"Venezuela\",\"Vietnam\",\"Yemen\",\"Zambia\",\"Zimbabwe\"],\"locationmode\":\"country names\",\"locations\":[\"Afghanistan\",\"Albania\",\"Algeria\",\"Argentina\",\"Armenia\",\"Australia\",\"Austria\",\"Azerbaijan\",\"Bahrain\",\"Bangladesh\",\"Belarus\",\"Belgium\",\"Benin\",\"Bhutan\",\"Bolivia\",\"Bosnia and Herzegovina\",\"Botswana\",\"Brazil\",\"Bulgaria\",\"Burkina Faso\",\"Burundi\",\"Cambodia\",\"Cameroon\",\"Canada\",\"Central African Republic\",\"Chad\",\"Chile\",\"China\",\"Colombia\",\"Comoros\",\"Congo (Brazzaville)\",\"Congo (Kinshasa)\",\"Costa Rica\",\"Croatia\",\"Cyprus\",\"Czech Republic\",\"Denmark\",\"Dominican Republic\",\"Ecuador\",\"Egypt\",\"El Salvador\",\"Estonia\",\"Ethiopia\",\"Finland\",\"France\",\"Gabon\",\"Gambia\",\"Georgia\",\"Germany\",\"Ghana\",\"Greece\",\"Guatemala\",\"Guinea\",\"Haiti\",\"Honduras\",\"Hong Kong\",\"Hungary\",\"Iceland\",\"India\",\"Indonesia\",\"Iran\",\"Iraq\",\"Ireland\",\"Israel\",\"Italy\",\"Ivory Coast\",\"Jamaica\",\"Japan\",\"Jordan\",\"Kazakhstan\",\"Kenya\",\"Kosovo\",\"Kuwait\",\"Kyrgyzstan\",\"Laos\",\"Latvia\",\"Lebanon\",\"Lesotho\",\"Liberia\",\"Libya\",\"Lithuania\",\"Luxembourg\",\"Madagascar\",\"Malawi\",\"Malaysia\",\"Mali\",\"Malta\",\"Mauritania\",\"Mauritius\",\"Mexico\",\"Moldova\",\"Mongolia\",\"Montenegro\",\"Morocco\",\"Mozambique\",\"Myanmar\",\"Namibia\",\"Nepal\",\"Netherlands\",\"New Zealand\",\"Nicaragua\",\"Niger\",\"Nigeria\",\"North Macedonia\",\"Northern Cyprus\",\"Norway\",\"Pakistan\",\"Palestinian Territories\",\"Panama\",\"Paraguay\",\"Peru\",\"Philippines\",\"Poland\",\"Portugal\",\"Qatar\",\"Romania\",\"Russia\",\"Rwanda\",\"Saudi Arabia\",\"Senegal\",\"Serbia\",\"Sierra Leone\",\"Singapore\",\"Slovakia\",\"Slovenia\",\"Somalia\",\"South Africa\",\"South Korea\",\"South Sudan\",\"Spain\",\"Sri Lanka\",\"Swaziland\",\"Sweden\",\"Switzerland\",\"Syria\",\"Taiwan\",\"Tajikistan\",\"Tanzania\",\"Thailand\",\"Togo\",\"Trinidad & Tobago\",\"Tunisia\",\"Turkey\",\"Turkmenistan\",\"Uganda\",\"Ukraine\",\"United Arab Emirates\",\"United Kingdom\",\"United States\",\"Uruguay\",\"Uzbekistan\",\"Venezuela\",\"Vietnam\",\"Yemen\",\"Zambia\",\"Zimbabwe\"],\"name\":\"\",\"z\":[3.203,4.719,5.211,6.086,4.559,7.228,7.246,5.208,6.199,4.456,5.323,6.923,4.883,5.082,5.779,5.386,3.488,6.3,5.011,4.587,3.775,4.7,5.044,7.278,3.083,4.35,6.444,5.191,6.125,3.973,4.812,4.418,7.167,5.432,6.046,6.852,7.6,5.425,6.028,4.166,6.253,5.893,4.286,7.769,6.592,4.799,4.516,4.519,6.985,4.996,5.287,6.436,4.534,3.597,5.86,5.43,5.758,7.494,4.015,5.192,4.548,4.437,7.021,7.139,6.223,4.944,5.89,5.886,4.906,5.809,4.509,6.1,6.021,5.261,4.796,5.94,5.197,3.802,3.975,5.525,6.149,7.09,3.933,3.41,5.339,4.39,6.726,4.49,5.888,6.595,5.529,5.285,5.523,5.208,4.466,4.36,4.639,4.913,7.488,7.307,6.105,4.628,5.265,5.274,5.718,7.554,5.653,4.696,6.321,5.743,5.697,5.631,6.182,5.693,6.374,6.07,5.648,3.334,6.375,4.681,5.603,4.374,6.262,6.198,6.118,4.668,4.722,5.895,2.853,6.354,4.366,4.212,7.343,7.48,3.462,6.446,5.467,3.231,6.008,4.085,6.192,4.461,5.373,5.247,4.189,4.332,6.825,7.054,6.892,6.293,6.174,4.707,5.175,3.38,4.107,3.663],\"type\":\"choropleth\"}],\"name\":\"2019\"}]);\n",
       "                        }).then(function(){\n",
       "                            \n",
       "var gd = document.getElementById('c8528ded-4a38-4461-976a-c80d1d1b68f8');\n",
       "var x = new MutationObserver(function (mutations, observer) {{\n",
       "        var display = window.getComputedStyle(gd).display;\n",
       "        if (!display || display === 'none') {{\n",
       "            console.log([gd, 'removed!']);\n",
       "            Plotly.purge(gd);\n",
       "            observer.disconnect();\n",
       "        }}\n",
       "}});\n",
       "\n",
       "// Listen for the removal of the full notebook cells\n",
       "var notebookContainer = gd.closest('#notebook-container');\n",
       "if (notebookContainer) {{\n",
       "    x.observe(notebookContainer, {childList: true});\n",
       "}}\n",
       "\n",
       "// Listen for the clearing of the current output cell\n",
       "var outputEl = gd.closest('.output');\n",
       "if (outputEl) {{\n",
       "    x.observe(outputEl, {childList: true});\n",
       "}}\n",
       "\n",
       "                        })                };                });            </script>        </div>"
      ]
     },
     "metadata": {},
     "output_type": "display_data"
    }
   ],
   "source": [
    "rel_change = df.groupby('Country')['Health (Life Expectancy)'].pct_change()\n",
    "\n",
    "fig = px.choropleth(\n",
    "    df,\n",
    "    locations='Country',\n",
    "    locationmode='country names',\n",
    "    color='Happiness Score',\n",
    "    hover_name='Country',\n",
    "    hover_data=[round(rel_change,3).astype(str)+'%'],\n",
    "    animation_frame='Year',\n",
    "    labels={'hover_data_0':'Relative Change '+rel_change.name}\n",
    ")\n",
    "\n",
    "fig.update_layout(\n",
    "    title=\"De invloed van de relatieve verandering van de Health variabele op de Happiness Score\",\n",
    "    annotations=[dict(\n",
    "        x=0.5,\n",
    "        y=-0.2,\n",
    "        showarrow=False,\n",
    "        text=\"Door over elk land op de wereldkaart heen te gaan, kun je informatie vinden over het jaar, de relatieve verandering van de Health variabele en de Happiness Score van het desbetreffende land. <br> Op de kleurenbalk is de Happiness Score met verschillende kleuren weergegeven, afhankelijk van hoe hoog de score is. Door op de startknop linksonder te klikken, <br> valt er voor elk jaar de verandering van de Happiness Score te zien, en ook de relatieve verandering van de Health variabele ten opzichte van het vorige jaar. <br> Voor 2015 staat er bij de relatieve verandering van de Health variabele 'nan%', omdat er geen data is voor 2014.\",\n",
    "        xref=\"paper\",\n",
    "        yref=\"paper\",\n",
    "        font=dict(size=10)\n",
    "        )\n",
    "    ]\n",
    ")\n",
    "\n",
    "fig.show()"
   ]
  },
  {
   "cell_type": "markdown",
   "id": "23a04310",
   "metadata": {},
   "source": [
    "### Relatieve verandering Trust\n",
    "\n",
    "In de onderstaande figuur zijn er twee pie plots. De eerste pie plot laat de wereldwijde score van de Trust variabele per jaar zien, hieruit kan afgelezen worden wat de relatieve verandering van de Trust variabele per jaar is. In de tweede pie plot wordt de wereldwijde Happiness Score per jaar laten zien, hieruit kan afgelezen worden wat de relatieve verandering van de Happiness Score per jaar is. Als de twee pie plots met elkaar vergeleken worden, dan valt er een interessant patroon te zien, als de score van de Trust variabele afneemt, dan neemt de Happiness Score ook af. Dus er is een verband tussen de Trust variabele en de Happiness Score."
   ]
  },
  {
   "cell_type": "code",
   "execution_count": 4,
   "id": "5be5948e",
   "metadata": {
    "tags": [
     "hide-input"
    ]
   },
   "outputs": [
    {
     "data": {
      "application/vnd.plotly.v1+json": {
       "config": {
        "plotlyServerURL": "https://plot.ly"
       },
       "data": [
        {
         "domain": {
          "x": [
           0,
           0.45
          ],
          "y": [
           0,
           1
          ]
         },
         "hole": 0.4,
         "hoverinfo": "label+percent+name",
         "labels": [
          2015,
          2016,
          2017,
          2018,
          2019,
          2015,
          2016,
          2017,
          2018,
          2019,
          2015,
          2016,
          2017,
          2018,
          2019,
          2015,
          2016,
          2017,
          2018,
          2015,
          2016,
          2017,
          2018,
          2019,
          2015,
          2016,
          2017,
          2018,
          2019,
          2015,
          2016,
          2017,
          2018,
          2019,
          2015,
          2016,
          2017,
          2018,
          2019,
          2015,
          2016,
          2017,
          2018,
          2019,
          2015,
          2016,
          2017,
          2018,
          2019,
          2015,
          2016,
          2017,
          2018,
          2019,
          2015,
          2016,
          2017,
          2018,
          2019,
          2015,
          2016,
          2017,
          2018,
          2019,
          2016,
          2017,
          2018,
          2015,
          2016,
          2017,
          2018,
          2019,
          2015,
          2016,
          2017,
          2018,
          2019,
          2015,
          2016,
          2017,
          2018,
          2019,
          2015,
          2016,
          2017,
          2018,
          2019,
          2015,
          2016,
          2017,
          2018,
          2019,
          2015,
          2016,
          2017,
          2018,
          2019,
          2015,
          2016,
          2017,
          2018,
          2019,
          2015,
          2016,
          2017,
          2018,
          2019,
          2015,
          2016,
          2017,
          2018,
          2019,
          2015,
          2016,
          2017,
          2018,
          2019,
          2015,
          2016,
          2017,
          2018,
          2019,
          2015,
          2016,
          2017,
          2018,
          2019,
          2015,
          2017,
          2018,
          2019,
          2015,
          2016,
          2017,
          2018,
          2019,
          2015,
          2016,
          2017,
          2018,
          2019,
          2015,
          2016,
          2017,
          2018,
          2019,
          2015,
          2016,
          2017,
          2018,
          2019,
          2015,
          2016,
          2019,
          2015,
          2016,
          2017,
          2018,
          2019,
          2015,
          2016,
          2017,
          2018,
          2019,
          2015,
          2016,
          2017,
          2018,
          2019,
          2015,
          2016,
          2017,
          2018,
          2019,
          2015,
          2016,
          2017,
          2018,
          2019,
          2015,
          2016,
          2017,
          2018,
          2019,
          2015,
          2016,
          2017,
          2018,
          2019,
          2015,
          2015,
          2016,
          2017,
          2018,
          2019,
          2015,
          2016,
          2017,
          2018,
          2019,
          2015,
          2016,
          2017,
          2018,
          2019,
          2015,
          2016,
          2017,
          2018,
          2019,
          2015,
          2016,
          2017,
          2018,
          2019,
          2015,
          2016,
          2017,
          2018,
          2019,
          2015,
          2016,
          2017,
          2018,
          2019,
          2015,
          2016,
          2017,
          2018,
          2019,
          2015,
          2016,
          2017,
          2018,
          2019,
          2019,
          2015,
          2016,
          2017,
          2018,
          2019,
          2015,
          2016,
          2017,
          2018,
          2019,
          2015,
          2016,
          2017,
          2018,
          2019,
          2015,
          2016,
          2017,
          2018,
          2019,
          2015,
          2016,
          2017,
          2018,
          2019,
          2015,
          2016,
          2017,
          2018,
          2019,
          2015,
          2016,
          2017,
          2018,
          2019,
          2015,
          2016,
          2017,
          2018,
          2019,
          2015,
          2016,
          2018,
          2019,
          2017,
          2015,
          2016,
          2017,
          2018,
          2019,
          2015,
          2016,
          2017,
          2018,
          2019,
          2015,
          2016,
          2017,
          2018,
          2019,
          2015,
          2016,
          2017,
          2018,
          2019,
          2015,
          2016,
          2017,
          2018,
          2019,
          2015,
          2016,
          2017,
          2018,
          2019,
          2015,
          2016,
          2017,
          2018,
          2019,
          2015,
          2016,
          2017,
          2018,
          2019,
          2015,
          2016,
          2017,
          2018,
          2019,
          2015,
          2016,
          2017,
          2018,
          2019,
          2015,
          2016,
          2017,
          2018,
          2019,
          2015,
          2016,
          2017,
          2018,
          2019,
          2015,
          2016,
          2017,
          2018,
          2019,
          2015,
          2016,
          2017,
          2018,
          2019,
          2015,
          2016,
          2017,
          2018,
          2019,
          2015,
          2016,
          2017,
          2018,
          2019,
          2015,
          2016,
          2017,
          2018,
          2019,
          2015,
          2016,
          2017,
          2018,
          2019,
          2015,
          2016,
          2018,
          2019,
          2015,
          2016,
          2017,
          2018,
          2019,
          2015,
          2016,
          2017,
          2018,
          2019,
          2015,
          2017,
          2018,
          2019,
          2015,
          2016,
          2017,
          2018,
          2019,
          2015,
          2016,
          2017,
          2018,
          2019,
          2015,
          2016,
          2017,
          2018,
          2019,
          2015,
          2016,
          2017,
          2018,
          2019,
          2015,
          2016,
          2017,
          2018,
          2015,
          2016,
          2017,
          2018,
          2019,
          2015,
          2016,
          2017,
          2018,
          2019,
          2015,
          2016,
          2017,
          2018,
          2019,
          2015,
          2016,
          2017,
          2018,
          2019,
          2015,
          2016,
          2017,
          2018,
          2019,
          2015,
          2016,
          2017,
          2018,
          2019,
          2015,
          2016,
          2017,
          2018,
          2019,
          2015,
          2016,
          2017,
          2018,
          2019,
          2015,
          2016,
          2017,
          2018,
          2019,
          2015,
          2016,
          2017,
          2018,
          2019,
          2015,
          2016,
          2017,
          2018,
          2019,
          2015,
          2016,
          2017,
          2018,
          2019,
          2015,
          2017,
          2018,
          2019,
          2015,
          2016,
          2017,
          2018,
          2019,
          2016,
          2017,
          2018,
          2019,
          2015,
          2016,
          2017,
          2018,
          2019,
          2015,
          2016,
          2017,
          2018,
          2019,
          2015,
          2016,
          2017,
          2018,
          2019,
          2015,
          2016,
          2017,
          2018,
          2019,
          2015,
          2016,
          2017,
          2018,
          2019,
          2015,
          2016,
          2017,
          2018,
          2019,
          2015,
          2016,
          2017,
          2019,
          2018,
          2019,
          2015,
          2016,
          2017,
          2018,
          2019,
          2015,
          2015,
          2016,
          2017,
          2018,
          2019,
          2015,
          2016,
          2017,
          2018,
          2019,
          2015,
          2016,
          2017,
          2018,
          2019,
          2015,
          2016,
          2017,
          2018,
          2019,
          2015,
          2016,
          2017,
          2018,
          2019,
          2015,
          2016,
          2017,
          2018,
          2019,
          2015,
          2016,
          2017,
          2018,
          2019,
          2015,
          2016,
          2017,
          2018,
          2019,
          2016,
          2015,
          2016,
          2017,
          2018,
          2019,
          2015,
          2016,
          2017,
          2018,
          2019,
          2015,
          2016,
          2017,
          2018,
          2019,
          2015,
          2016,
          2017,
          2018,
          2019,
          2015,
          2016,
          2017,
          2018,
          2019,
          2015,
          2016,
          2017,
          2018,
          2019,
          2015,
          2016,
          2017,
          2018,
          2019,
          2015,
          2016,
          2017,
          2018,
          2019,
          2015,
          2016,
          2017,
          2018,
          2019,
          2015,
          2016,
          2017,
          2018,
          2019,
          2015,
          2016,
          2017,
          2018,
          2019,
          2016,
          2017,
          2018,
          2019,
          2016,
          2015,
          2015,
          2016,
          2017,
          2018,
          2019,
          2015,
          2016,
          2017,
          2018,
          2019,
          2016,
          2017,
          2018,
          2019,
          2015,
          2016,
          2017,
          2018,
          2019,
          2015,
          2016,
          2017,
          2018,
          2019,
          2015,
          2016,
          2017,
          2018,
          2015,
          2016,
          2015,
          2019,
          2015,
          2016,
          2017,
          2018,
          2019,
          2015,
          2016,
          2017,
          2018,
          2019,
          2015,
          2016,
          2017,
          2018,
          2019,
          2015,
          2016,
          2018,
          2019,
          2017,
          2015,
          2016,
          2017,
          2018,
          2019,
          2015,
          2016,
          2017,
          2018,
          2019,
          2015,
          2016,
          2017,
          2018,
          2019,
          2015,
          2016,
          2017,
          2018,
          2019,
          2018,
          2019,
          2015,
          2016,
          2017,
          2015,
          2016,
          2017,
          2018,
          2019,
          2015,
          2016,
          2017,
          2018,
          2019,
          2015,
          2016,
          2017,
          2018,
          2019,
          2015,
          2016,
          2017,
          2018,
          2019,
          2015,
          2016,
          2017,
          2018,
          2019,
          2015,
          2016,
          2017,
          2018,
          2019,
          2015,
          2016,
          2017,
          2018,
          2019,
          2015,
          2016,
          2017,
          2018,
          2019,
          2015,
          2016,
          2017,
          2018,
          2019,
          2015,
          2016,
          2017,
          2018,
          2019,
          2015,
          2016,
          2017,
          2018,
          2019,
          2015,
          2016,
          2017,
          2018,
          2019,
          2015,
          2016,
          2017,
          2018,
          2019,
          2015,
          2016,
          2017,
          2018,
          2019,
          2015,
          2016,
          2017,
          2018,
          2019
         ],
         "legendgroup": "1",
         "legendgrouptitle": {
          "text": "Jaren voor Trust plot"
         },
         "marker": {
          "colors": [
           "#fbfcb8",
           "#fecb52",
           "pink",
           "purple",
           "darkblue"
          ],
          "line": {
           "color": "black",
           "width": 2
          }
         },
         "name": "Trust (Government Corruption)",
         "type": "pie",
         "values": [
          0.09719,
          0.07112,
          0.0611578300595284,
          0.036,
          0.025,
          0.06413,
          0.05301,
          0.0398642159998417,
          0.032,
          0.027,
          0.17383,
          0.16157,
          0.146096110343933,
          0.135,
          0.114,
          0.07122,
          0.08434,
          0.0697203353047371,
          0.061,
          0.08484,
          0.07296,
          0.059739887714386,
          0.054,
          0.05,
          0.039,
          0.03616,
          0.0266744215041399,
          0.028,
          0.064,
          0.35637,
          0.32331,
          0.301183730363846,
          0.302,
          0.29,
          0.18676,
          0.21348,
          0.221060365438461,
          0.224,
          0.226,
          0.16065,
          0.17914,
          0.180987507104874,
          0.176,
          0.182,
          0.306,
          0.25772,
          0.257042169570923,
          0.123,
          0.11,
          0.12569,
          0.12583,
          0.123717859387398,
          0.144,
          0.143,
          0.1909,
          0.17457,
          0.156313821673393,
          0.154,
          0.142,
          0.2254,
          0.26248,
          0.251343131065369,
          0.24,
          0.21,
          0.10771,
          0.0965810716152191,
          0.089,
          0.0801,
          0.06681,
          0.0609290152788162,
          0.067,
          0.082,
          0.15445,
          0.1616,
          0.173380389809608,
          0.171,
          0.167,
          0.088,
          0.07746,
          0.0604777261614799,
          0.054,
          0.064,
          0.00227,
          0,
          0,
          0,
          0.006,
          0.12474,
          0.10769,
          0.0985831990838051,
          0.092,
          0.1,
          0.17521,
          0.14166,
          0.111092761158943,
          0.088,
          0.086,
          0.00872,
          0.00615,
          0.0110515309497714,
          0.009,
          0.004,
          0.12832,
          0.12533,
          0.120328105986118,
          0.128,
          0.113,
          0.10062,
          0.09419,
          0.0841479450464249,
          0.076,
          0.18,
          0.07247,
          0.08092,
          0.0681059509515762,
          0.065,
          0.062,
          0.05786,
          0.06126,
          0.0513066314160824,
          0.043,
          0.037,
          0.32957,
          0.31329,
          0.287371516227722,
          0.291,
          0.308,
          0.08289,
          0.0565650761127472,
          0.038,
          0.035,
          0.05269,
          0.04952,
          0.0535818822681904,
          0.06,
          0.078,
          0.12869,
          0.11451,
          0.0822879821062088,
          0.061,
          0.056,
          0.02781,
          0.02745,
          0.0227942746132612,
          0.103,
          0.1,
          0.0512,
          0.05399,
          0.0466687418520451,
          0.039,
          0.034,
          0.199,
          0.18437,
          0.078,
          0.11686,
          0.09753,
          0.0796181336045265,
          0.077,
          0.093,
          0.07625,
          0.06075,
          0.0602413564920425,
          0.052,
          0.053,
          0.10583,
          0.10547,
          0.100106589496136,
          0.101,
          0.093,
          0.0243,
          0.04002,
          0.0431031100451946,
          0.039,
          0.022,
          0.06146,
          0.05228,
          0.0412379764020443,
          0.035,
          0.041,
          0.02652,
          0.03986,
          0.0368729270994663,
          0.034,
          0.036,
          0.48357,
          0.44453,
          0.40077006816864,
          0.408,
          0.41,
          0.28105,
          0.14234,
          0.12372,
          0.113945253193378,
          0.106,
          0.101,
          0.1809,
          0.18037,
          0.140134647488594,
          0.12,
          0.087,
          0.06324,
          0.10393,
          0.114381365478039,
          0.107,
          0.067,
          0.11776,
          0.10613,
          0.0899809598922729,
          0.082,
          0.074,
          0.15184,
          0.18519,
          0.183248922228813,
          0.174,
          0.161,
          0.15048,
          0.1717,
          0.165455713868141,
          0.146,
          0.1,
          0.41372,
          0.41004,
          0.38261154294014,
          0.393,
          0.393,
          0.20646,
          0.17808,
          0.172502428293228,
          0.176,
          0.183,
          0.11091,
          0.09314,
          0.0760467872023582,
          0.052,
          0.055,
          0.167,
          0.38331,
          0.3188,
          0.251666635274887,
          0.215,
          0.164,
          0.21843,
          0.28551,
          0.276731938123703,
          0.28,
          0.265,
          0.04355,
          0.0326,
          0.0253363698720932,
          0.029,
          0.04,
          0.01397,
          0.04127,
          0.04328977689147,
          0.044,
          0.034,
          0.09472,
          0.08701,
          0.0772232785820961,
          0.071,
          0.078,
          0.12139,
          0.1192,
          0.110937617719173,
          0.094,
          0.086,
          0.17175,
          0.14476,
          0.0998721495270729,
          0.104,
          0.11,
          0.06825,
          0.06906,
          0.0733454525470734,
          0.074,
          0.078,
          0.37124,
          0.31647,
          0.291,
          0.287,
          0.293933749198914,
          0.02758,
          0.04472,
          0.0366369374096394,
          0.022,
          0.02,
          0.14145,
          0.14975,
          0.153526559472084,
          0.138,
          0.118,
          0.08492,
          0.08722,
          0.0922268852591515,
          0.093,
          0.085,
          0,
          0.00322,
          0.0153171354904771,
          0.018,
          0.028,
          0.05863,
          0.0557,
          0.048761073499918,
          0.129,
          0.125,
          0.13788,
          0.13636,
          0.107215754687786,
          0.095,
          0.089,
          0.28703,
          0.29754,
          0.29838815331459,
          0.306,
          0.31,
          0.07785,
          0.08728,
          0.0852421000599861,
          0.272,
          0.082,
          0.02901,
          0.02556,
          0.0280280914157629,
          0.028,
          0.03,
          0.17922,
          0.1553,
          0.130061775445938,
          0.103,
          0.09,
          0.02299,
          0.04294,
          0.0552677810192108,
          0.031,
          0.028,
          0.1806,
          0.18985,
          0.163760736584663,
          0.15,
          0.14,
          0.14293,
          0.13297,
          0.11980327218771,
          0.134,
          0.13,
          0.08454,
          0.11132,
          0.119282886385918,
          0.121,
          0.096,
          0.05839,
          0.06686,
          0.0646413192152977,
          0.055,
          0.053,
          0.04741,
          0.06547,
          0.0574716180562973,
          0.023,
          0.006,
          0.25609,
          0.23669,
          0.215159550309181,
          0.106,
          0.097,
          0.04232,
          0.04762,
          0.0394391790032387,
          0.035,
          0.023,
          0.24249,
          0.22423,
          0.174,
          0.164,
          0.06332,
          0.0889,
          0.0738427266478539,
          0.066,
          0.064,
          0.04582,
          0.03061,
          0.037513829767704,
          0.136,
          0.027,
          0.12504,
          0.119094640016556,
          0.112,
          0.093,
          0.06232,
          0.04852,
          0.0389482490718365,
          0.03,
          0.033,
          0.11023,
          0.10339,
          0.0926102101802826,
          0.148,
          0.152,
          0.01031,
          0.0182,
          0.0118656428530812,
          0.006,
          0.042,
          0.37798,
          0.35329,
          0.31883442401886,
          0.321,
          0.316,
          0.05327,
          0.07047,
          0.0602777935564518,
          0.052,
          0.08124,
          0.07506,
          0.0672319754958153,
          0.049,
          0.041,
          0.06977,
          0.07564,
          0.0727116540074348,
          0.08,
          0.089,
          0.10501,
          0.09081,
          0.0656007081270218,
          0.059,
          0.024,
          0.12352,
          0.13647,
          0.104970246553421,
          0.056,
          0.052,
          0.13586,
          0.17554,
          0.153066068887711,
          0.142,
          0.151,
          0.17461,
          0.17955,
          0.136957004666328,
          0.093,
          0.088,
          0.07521,
          0.05203,
          0.0421815551817417,
          0.05,
          0.06,
          0.21312,
          0.18355,
          0.132774114608765,
          0.095,
          0.073,
          0.01615,
          0.01903,
          0.0100912861526012,
          0,
          0,
          0.02666,
          0.03285,
          0.0329022891819477,
          0.032,
          0.038,
          0.14296,
          0.12721,
          0.0881741940975189,
          0.081,
          0.08,
          0.08546,
          0.08404,
          0.0877631828188896,
          0.074,
          0.076,
          0.15603,
          0.179436385631561,
          0.158,
          0.138,
          0.19034,
          0.20243,
          0.188816204667091,
          0.178,
          0.172,
          0.10398,
          0.0931469723582268,
          0.064,
          0.056,
          0.05907,
          0.07008,
          0.0729755461215973,
          0.078,
          0.089,
          0.31814,
          0.29927,
          0.282661825418472,
          0.295,
          0.298,
          0.42922,
          0.41904,
          0.382816702127457,
          0.389,
          0.38,
          0.19317,
          0.16292,
          0.130687981843948,
          0.128,
          0.127,
          0.15639,
          0.17176,
          0.138572946190834,
          0.099,
          0.102,
          0.0403,
          0.0305,
          0.0261215660721064,
          0.032,
          0.041,
          0.1428,
          0.16578,
          0.155353352427483,
          0.034,
          0.154,
          0.162,
          0.36503,
          0.35776,
          0.315963834524155,
          0.34,
          0.341,
          0.32524,
          0.10464,
          0.1388,
          0.124348066747189,
          0.113,
          0.098,
          0.12905,
          0.10613,
          0.0892826020717621,
          0.076,
          0.066,
          0.0927,
          0.08423,
          0.070983923971653,
          0.063,
          0.054,
          0.08242,
          0.07396,
          0.091065913438797,
          0.074,
          0.08,
          0.05989,
          0.05292,
          0.0470490865409374,
          0.034,
          0.027,
          0.12279,
          0.11757,
          0.0993318930268288,
          0.105,
          0.107,
          0.04212,
          0.055,
          0.0593078061938286,
          0.064,
          0.05,
          0.01078,
          0.01521,
          0.0158694516867399,
          0.017,
          0.025,
          0.12275,
          0.52208,
          0.48049,
          0.439299255609512,
          0.171,
          0.167,
          0.00649,
          0.00679,
          0.00438790069893,
          0.001,
          0.005,
          0.03005,
          0.03586,
          0.0329628810286522,
          0.025,
          0.031,
          0.55191,
          0.50521,
          0.455220013856888,
          0.444,
          0.411,
          0.32524,
          0.30008,
          0.27343225479126,
          0.127,
          0.132,
          0.10713,
          0.11681,
          0.115460447967052,
          0.082,
          0.072,
          0.02617,
          0.04339,
          0.0409037806093693,
          0.043,
          0.039,
          0.08786,
          0.08196,
          0.0710951760411263,
          0.053,
          0.045,
          0.4921,
          0.46987,
          0.46430778503418,
          0.457,
          0.453,
          0.03431,
          0.02947,
          0.0242108516395092,
          0.014,
          0.014,
          0.03787,
          0.03635,
          0.0451289787888527,
          0.051,
          0.057,
          0.3118,
          0.282410323619843,
          0.282,
          0.27,
          0.36794,
          0.39928,
          0.08884,
          0.08415,
          0.0725094974040985,
          0.056,
          0.055,
          0.07857,
          0.07716,
          0.0632826685905457,
          0.051,
          0.056,
          0.13015,
          0.116793513298035,
          0.106,
          0.091,
          0.06398,
          0.06137,
          0.0709140971302986,
          0.074,
          0.079,
          0.09179,
          0.07964,
          0.0736539661884308,
          0.05,
          0.047,
          0.1466,
          0.10039,
          0.089847519993782,
          0.082,
          0.13633,
          0.12692,
          0.0306,
          0.135,
          0.43844,
          0.40867,
          0.384398728609085,
          0.383,
          0.373,
          0.41978,
          0.41203,
          0.367007285356522,
          0.357,
          0.343,
          0.18906,
          0.17233,
          0.151347130537033,
          0.144,
          0.141,
          0.08129,
          0.0663,
          0.078,
          0.097,
          0.0638292357325554,
          0.15072,
          0.13509,
          0.146377146244049,
          0.034,
          0.144,
          0.05747,
          0.05099,
          0.0660351067781448,
          0.097,
          0.147,
          0.03187,
          0.02833,
          0.0316127352416515,
          0.029,
          0.028,
          0.10731,
          0.11587,
          0.0956650152802467,
          0.101,
          0.085,
          0.019,
          0.016,
          0.0114,
          0.01241,
          0.0089648161083459,
          0.06358,
          0.0817,
          0.0867231488227844,
          0.063,
          0.055,
          0.15746,
          0.12348,
          0.0996715798974037,
          0.109,
          0.106,
          0.30844,
          0.28467,
          0.259270340204239,
          0.037,
          0.028,
          0.07267,
          0.06442,
          0.057069718837738,
          0.061,
          0.06,
          0.02961,
          0.01829,
          0.0230294708162546,
          0.011,
          0.01,
          0.38583,
          0.35561,
          0.324489563703537,
          null,
          0.182,
          0.32067,
          0.27399,
          0.265428066253662,
          0.082,
          0.278,
          0.1589,
          0.14868,
          0.135638788342476,
          0.133,
          0.128,
          0.24558,
          0.21394,
          0.178061872720718,
          0.155,
          0.15,
          0.30826,
          0.28333,
          0.246528223156929,
          0.259,
          0.24,
          0.11069,
          0.08304,
          0.0644911229610443,
          0.052,
          0.047,
          0.10441,
          0.11556,
          0.0876332372426987,
          0.079,
          0.073,
          0.07854,
          0.05892,
          0.0567674227058887,
          0.064,
          0.077,
          0.12468,
          0.11479,
          0.0782135501503944,
          0.082,
          0.087,
          0.08079,
          0.08582,
          0.0953753814101219,
          0.099,
          0.089
         ]
        },
        {
         "domain": {
          "x": [
           0.55,
           1
          ],
          "y": [
           0,
           1
          ]
         },
         "hole": 0.4,
         "hoverinfo": "label+percent+name",
         "labels": [
          2015,
          2016,
          2017,
          2018,
          2019,
          2015,
          2016,
          2017,
          2018,
          2019,
          2015,
          2016,
          2017,
          2018,
          2019,
          2015,
          2016,
          2017,
          2018,
          2015,
          2016,
          2017,
          2018,
          2019,
          2015,
          2016,
          2017,
          2018,
          2019,
          2015,
          2016,
          2017,
          2018,
          2019,
          2015,
          2016,
          2017,
          2018,
          2019,
          2015,
          2016,
          2017,
          2018,
          2019,
          2015,
          2016,
          2017,
          2018,
          2019,
          2015,
          2016,
          2017,
          2018,
          2019,
          2015,
          2016,
          2017,
          2018,
          2019,
          2015,
          2016,
          2017,
          2018,
          2019,
          2016,
          2017,
          2018,
          2015,
          2016,
          2017,
          2018,
          2019,
          2015,
          2016,
          2017,
          2018,
          2019,
          2015,
          2016,
          2017,
          2018,
          2019,
          2015,
          2016,
          2017,
          2018,
          2019,
          2015,
          2016,
          2017,
          2018,
          2019,
          2015,
          2016,
          2017,
          2018,
          2019,
          2015,
          2016,
          2017,
          2018,
          2019,
          2015,
          2016,
          2017,
          2018,
          2019,
          2015,
          2016,
          2017,
          2018,
          2019,
          2015,
          2016,
          2017,
          2018,
          2019,
          2015,
          2016,
          2017,
          2018,
          2019,
          2015,
          2016,
          2017,
          2018,
          2019,
          2015,
          2017,
          2018,
          2019,
          2015,
          2016,
          2017,
          2018,
          2019,
          2015,
          2016,
          2017,
          2018,
          2019,
          2015,
          2016,
          2017,
          2018,
          2019,
          2015,
          2016,
          2017,
          2018,
          2019,
          2015,
          2016,
          2019,
          2015,
          2016,
          2017,
          2018,
          2019,
          2015,
          2016,
          2017,
          2018,
          2019,
          2015,
          2016,
          2017,
          2018,
          2019,
          2015,
          2016,
          2017,
          2018,
          2019,
          2015,
          2016,
          2017,
          2018,
          2019,
          2015,
          2016,
          2017,
          2018,
          2019,
          2015,
          2016,
          2017,
          2018,
          2019,
          2015,
          2015,
          2016,
          2017,
          2018,
          2019,
          2015,
          2016,
          2017,
          2018,
          2019,
          2015,
          2016,
          2017,
          2018,
          2019,
          2015,
          2016,
          2017,
          2018,
          2019,
          2015,
          2016,
          2017,
          2018,
          2019,
          2015,
          2016,
          2017,
          2018,
          2019,
          2015,
          2016,
          2017,
          2018,
          2019,
          2015,
          2016,
          2017,
          2018,
          2019,
          2015,
          2016,
          2017,
          2018,
          2019,
          2019,
          2015,
          2016,
          2017,
          2018,
          2019,
          2015,
          2016,
          2017,
          2018,
          2019,
          2015,
          2016,
          2017,
          2018,
          2019,
          2015,
          2016,
          2017,
          2018,
          2019,
          2015,
          2016,
          2017,
          2018,
          2019,
          2015,
          2016,
          2017,
          2018,
          2019,
          2015,
          2016,
          2017,
          2018,
          2019,
          2015,
          2016,
          2017,
          2018,
          2019,
          2015,
          2016,
          2018,
          2019,
          2017,
          2015,
          2016,
          2017,
          2018,
          2019,
          2015,
          2016,
          2017,
          2018,
          2019,
          2015,
          2016,
          2017,
          2018,
          2019,
          2015,
          2016,
          2017,
          2018,
          2019,
          2015,
          2016,
          2017,
          2018,
          2019,
          2015,
          2016,
          2017,
          2018,
          2019,
          2015,
          2016,
          2017,
          2018,
          2019,
          2015,
          2016,
          2017,
          2018,
          2019,
          2015,
          2016,
          2017,
          2018,
          2019,
          2015,
          2016,
          2017,
          2018,
          2019,
          2015,
          2016,
          2017,
          2018,
          2019,
          2015,
          2016,
          2017,
          2018,
          2019,
          2015,
          2016,
          2017,
          2018,
          2019,
          2015,
          2016,
          2017,
          2018,
          2019,
          2015,
          2016,
          2017,
          2018,
          2019,
          2015,
          2016,
          2017,
          2018,
          2019,
          2015,
          2016,
          2017,
          2018,
          2019,
          2015,
          2016,
          2017,
          2018,
          2019,
          2015,
          2016,
          2018,
          2019,
          2015,
          2016,
          2017,
          2018,
          2019,
          2015,
          2016,
          2017,
          2018,
          2019,
          2015,
          2017,
          2018,
          2019,
          2015,
          2016,
          2017,
          2018,
          2019,
          2015,
          2016,
          2017,
          2018,
          2019,
          2015,
          2016,
          2017,
          2018,
          2019,
          2015,
          2016,
          2017,
          2018,
          2019,
          2015,
          2016,
          2017,
          2018,
          2015,
          2016,
          2017,
          2018,
          2019,
          2015,
          2016,
          2017,
          2018,
          2019,
          2015,
          2016,
          2017,
          2018,
          2019,
          2015,
          2016,
          2017,
          2018,
          2019,
          2015,
          2016,
          2017,
          2018,
          2019,
          2015,
          2016,
          2017,
          2018,
          2019,
          2015,
          2016,
          2017,
          2018,
          2019,
          2015,
          2016,
          2017,
          2018,
          2019,
          2015,
          2016,
          2017,
          2018,
          2019,
          2015,
          2016,
          2017,
          2018,
          2019,
          2015,
          2016,
          2017,
          2018,
          2019,
          2015,
          2016,
          2017,
          2018,
          2019,
          2015,
          2017,
          2018,
          2019,
          2015,
          2016,
          2017,
          2018,
          2019,
          2016,
          2017,
          2018,
          2019,
          2015,
          2016,
          2017,
          2018,
          2019,
          2015,
          2016,
          2017,
          2018,
          2019,
          2015,
          2016,
          2017,
          2018,
          2019,
          2015,
          2016,
          2017,
          2018,
          2019,
          2015,
          2016,
          2017,
          2018,
          2019,
          2015,
          2016,
          2017,
          2018,
          2019,
          2015,
          2016,
          2017,
          2019,
          2018,
          2019,
          2015,
          2016,
          2017,
          2018,
          2019,
          2015,
          2015,
          2016,
          2017,
          2018,
          2019,
          2015,
          2016,
          2017,
          2018,
          2019,
          2015,
          2016,
          2017,
          2018,
          2019,
          2015,
          2016,
          2017,
          2018,
          2019,
          2015,
          2016,
          2017,
          2018,
          2019,
          2015,
          2016,
          2017,
          2018,
          2019,
          2015,
          2016,
          2017,
          2018,
          2019,
          2015,
          2016,
          2017,
          2018,
          2019,
          2016,
          2015,
          2016,
          2017,
          2018,
          2019,
          2015,
          2016,
          2017,
          2018,
          2019,
          2015,
          2016,
          2017,
          2018,
          2019,
          2015,
          2016,
          2017,
          2018,
          2019,
          2015,
          2016,
          2017,
          2018,
          2019,
          2015,
          2016,
          2017,
          2018,
          2019,
          2015,
          2016,
          2017,
          2018,
          2019,
          2015,
          2016,
          2017,
          2018,
          2019,
          2015,
          2016,
          2017,
          2018,
          2019,
          2015,
          2016,
          2017,
          2018,
          2019,
          2015,
          2016,
          2017,
          2018,
          2019,
          2016,
          2017,
          2018,
          2019,
          2016,
          2015,
          2015,
          2016,
          2017,
          2018,
          2019,
          2015,
          2016,
          2017,
          2018,
          2019,
          2016,
          2017,
          2018,
          2019,
          2015,
          2016,
          2017,
          2018,
          2019,
          2015,
          2016,
          2017,
          2018,
          2019,
          2015,
          2016,
          2017,
          2018,
          2015,
          2016,
          2015,
          2019,
          2015,
          2016,
          2017,
          2018,
          2019,
          2015,
          2016,
          2017,
          2018,
          2019,
          2015,
          2016,
          2017,
          2018,
          2019,
          2015,
          2016,
          2018,
          2019,
          2017,
          2015,
          2016,
          2017,
          2018,
          2019,
          2015,
          2016,
          2017,
          2018,
          2019,
          2015,
          2016,
          2017,
          2018,
          2019,
          2015,
          2016,
          2017,
          2018,
          2019,
          2018,
          2019,
          2015,
          2016,
          2017,
          2015,
          2016,
          2017,
          2018,
          2019,
          2015,
          2016,
          2017,
          2018,
          2019,
          2015,
          2016,
          2017,
          2018,
          2019,
          2015,
          2016,
          2017,
          2018,
          2019,
          2015,
          2016,
          2017,
          2018,
          2019,
          2015,
          2016,
          2017,
          2018,
          2019,
          2015,
          2016,
          2017,
          2018,
          2019,
          2015,
          2016,
          2017,
          2018,
          2019,
          2015,
          2016,
          2017,
          2018,
          2019,
          2015,
          2016,
          2017,
          2018,
          2019,
          2015,
          2016,
          2017,
          2018,
          2019,
          2015,
          2016,
          2017,
          2018,
          2019,
          2015,
          2016,
          2017,
          2018,
          2019,
          2015,
          2016,
          2017,
          2018,
          2019,
          2015,
          2016,
          2017,
          2018,
          2019
         ],
         "legendgroup": "2",
         "legendgrouptitle": {
          "text": "Jaren voor Happiness Score plot"
         },
         "marker": {
          "colors": [
           "#fbfcb8",
           "#fecb52",
           "darkblue",
           "purple",
           "#fecb52",
           "#fbfcb8",
           "#fecb52",
           "darkblue",
           "purple",
           "#fecb52",
           "#fbfcb8",
           "#fecb52",
           "darkblue",
           "purple",
           "#fecb52",
           "#fbfcb8",
           "#fecb52",
           "darkblue",
           "purple",
           "#fbfcb8",
           "#fecb52",
           "darkblue",
           "purple",
           "#fecb52",
           "#fbfcb8",
           "#fecb52",
           "darkblue",
           "purple",
           "#fecb52",
           "#fbfcb8",
           "#fecb52",
           "darkblue",
           "purple",
           "#fecb52",
           "#fbfcb8",
           "#fecb52",
           "darkblue",
           "purple",
           "#fecb52",
           "#fbfcb8",
           "#fecb52",
           "darkblue",
           "purple",
           "#fecb52",
           "#fbfcb8",
           "#fecb52",
           "darkblue",
           "purple",
           "#fecb52",
           "#fbfcb8",
           "#fecb52",
           "darkblue",
           "purple",
           "#fecb52",
           "#fbfcb8",
           "#fecb52",
           "darkblue",
           "purple",
           "#fecb52",
           "#fbfcb8",
           "#fecb52",
           "darkblue",
           "purple",
           "#fecb52",
           "#fecb52",
           "darkblue",
           "purple",
           "#fbfcb8",
           "#fecb52",
           "darkblue",
           "purple",
           "#fecb52",
           "#fbfcb8",
           "#fecb52",
           "darkblue",
           "purple",
           "#fecb52",
           "#fbfcb8",
           "#fecb52",
           "darkblue",
           "purple",
           "#fecb52",
           "#fbfcb8",
           "#fecb52",
           "darkblue",
           "purple",
           "#fecb52",
           "#fbfcb8",
           "#fecb52",
           "darkblue",
           "purple",
           "#fecb52",
           "#fbfcb8",
           "#fecb52",
           "darkblue",
           "purple",
           "#fecb52",
           "#fbfcb8",
           "#fecb52",
           "darkblue",
           "purple",
           "#fecb52",
           "#fbfcb8",
           "#fecb52",
           "darkblue",
           "purple",
           "#fecb52",
           "#fbfcb8",
           "#fecb52",
           "darkblue",
           "purple",
           "#fecb52",
           "#fbfcb8",
           "#fecb52",
           "darkblue",
           "purple",
           "#fecb52",
           "#fbfcb8",
           "#fecb52",
           "darkblue",
           "purple",
           "#fecb52",
           "#fbfcb8",
           "#fecb52",
           "darkblue",
           "purple",
           "#fecb52",
           "#fbfcb8",
           "darkblue",
           "purple",
           "#fecb52",
           "#fbfcb8",
           "#fecb52",
           "darkblue",
           "purple",
           "#fecb52",
           "#fbfcb8",
           "#fecb52",
           "darkblue",
           "purple",
           "#fecb52",
           "#fbfcb8",
           "#fecb52",
           "darkblue",
           "purple",
           "#fecb52",
           "#fbfcb8",
           "#fecb52",
           "darkblue",
           "purple",
           "#fecb52",
           "#fbfcb8",
           "#fecb52",
           "#fecb52",
           "#fbfcb8",
           "#fecb52",
           "darkblue",
           "purple",
           "#fecb52",
           "#fbfcb8",
           "#fecb52",
           "darkblue",
           "purple",
           "#fecb52",
           "#fbfcb8",
           "#fecb52",
           "darkblue",
           "purple",
           "#fecb52",
           "#fbfcb8",
           "#fecb52",
           "darkblue",
           "purple",
           "#fecb52",
           "#fbfcb8",
           "#fecb52",
           "darkblue",
           "purple",
           "#fecb52",
           "#fbfcb8",
           "#fecb52",
           "darkblue",
           "purple",
           "#fecb52",
           "#fbfcb8",
           "#fecb52",
           "darkblue",
           "purple",
           "#fecb52",
           "#fbfcb8",
           "#fbfcb8",
           "#fecb52",
           "darkblue",
           "purple",
           "#fecb52",
           "#fbfcb8",
           "#fecb52",
           "darkblue",
           "purple",
           "#fecb52",
           "#fbfcb8",
           "#fecb52",
           "darkblue",
           "purple",
           "#fecb52",
           "#fbfcb8",
           "#fecb52",
           "darkblue",
           "purple",
           "#fecb52",
           "#fbfcb8",
           "#fecb52",
           "darkblue",
           "purple",
           "#fecb52",
           "#fbfcb8",
           "#fecb52",
           "darkblue",
           "purple",
           "#fecb52",
           "#fbfcb8",
           "#fecb52",
           "darkblue",
           "purple",
           "#fecb52",
           "#fbfcb8",
           "#fecb52",
           "darkblue",
           "purple",
           "#fecb52",
           "#fbfcb8",
           "#fecb52",
           "darkblue",
           "purple",
           "#fecb52",
           "#fecb52",
           "#fbfcb8",
           "#fecb52",
           "darkblue",
           "purple",
           "#fecb52",
           "#fbfcb8",
           "#fecb52",
           "darkblue",
           "purple",
           "#fecb52",
           "#fbfcb8",
           "#fecb52",
           "darkblue",
           "purple",
           "#fecb52",
           "#fbfcb8",
           "#fecb52",
           "darkblue",
           "purple",
           "#fecb52",
           "#fbfcb8",
           "#fecb52",
           "darkblue",
           "purple",
           "#fecb52",
           "#fbfcb8",
           "#fecb52",
           "darkblue",
           "purple",
           "#fecb52",
           "#fbfcb8",
           "#fecb52",
           "darkblue",
           "purple",
           "#fecb52",
           "#fbfcb8",
           "#fecb52",
           "darkblue",
           "purple",
           "#fecb52",
           "#fbfcb8",
           "#fecb52",
           "purple",
           "#fecb52",
           "darkblue",
           "#fbfcb8",
           "#fecb52",
           "darkblue",
           "purple",
           "#fecb52",
           "#fbfcb8",
           "#fecb52",
           "darkblue",
           "purple",
           "#fecb52",
           "#fbfcb8",
           "#fecb52",
           "darkblue",
           "purple",
           "#fecb52",
           "#fbfcb8",
           "#fecb52",
           "darkblue",
           "purple",
           "#fecb52",
           "#fbfcb8",
           "#fecb52",
           "darkblue",
           "purple",
           "#fecb52",
           "#fbfcb8",
           "#fecb52",
           "darkblue",
           "purple",
           "#fecb52",
           "#fbfcb8",
           "#fecb52",
           "darkblue",
           "purple",
           "#fecb52",
           "#fbfcb8",
           "#fecb52",
           "darkblue",
           "purple",
           "#fecb52",
           "#fbfcb8",
           "#fecb52",
           "darkblue",
           "purple",
           "#fecb52",
           "#fbfcb8",
           "#fecb52",
           "darkblue",
           "purple",
           "#fecb52",
           "#fbfcb8",
           "#fecb52",
           "darkblue",
           "purple",
           "#fecb52",
           "#fbfcb8",
           "#fecb52",
           "darkblue",
           "purple",
           "#fecb52",
           "#fbfcb8",
           "#fecb52",
           "darkblue",
           "purple",
           "#fecb52",
           "#fbfcb8",
           "#fecb52",
           "darkblue",
           "purple",
           "#fecb52",
           "#fbfcb8",
           "#fecb52",
           "darkblue",
           "purple",
           "#fecb52",
           "#fbfcb8",
           "#fecb52",
           "darkblue",
           "purple",
           "#fecb52",
           "#fbfcb8",
           "#fecb52",
           "darkblue",
           "purple",
           "#fecb52",
           "#fbfcb8",
           "#fecb52",
           "darkblue",
           "purple",
           "#fecb52",
           "#fbfcb8",
           "#fecb52",
           "purple",
           "#fecb52",
           "#fbfcb8",
           "#fecb52",
           "darkblue",
           "purple",
           "#fecb52",
           "#fbfcb8",
           "#fecb52",
           "darkblue",
           "purple",
           "#fecb52",
           "#fbfcb8",
           "darkblue",
           "purple",
           "#fecb52",
           "#fbfcb8",
           "#fecb52",
           "darkblue",
           "purple",
           "#fecb52",
           "#fbfcb8",
           "#fecb52",
           "darkblue",
           "purple",
           "#fecb52",
           "#fbfcb8",
           "#fecb52",
           "darkblue",
           "purple",
           "#fecb52",
           "#fbfcb8",
           "#fecb52",
           "darkblue",
           "purple",
           "#fecb52",
           "#fbfcb8",
           "#fecb52",
           "darkblue",
           "purple",
           "#fbfcb8",
           "#fecb52",
           "darkblue",
           "purple",
           "#fecb52",
           "#fbfcb8",
           "#fecb52",
           "darkblue",
           "purple",
           "#fecb52",
           "#fbfcb8",
           "#fecb52",
           "darkblue",
           "purple",
           "#fecb52",
           "#fbfcb8",
           "#fecb52",
           "darkblue",
           "purple",
           "#fecb52",
           "#fbfcb8",
           "#fecb52",
           "darkblue",
           "purple",
           "#fecb52",
           "#fbfcb8",
           "#fecb52",
           "darkblue",
           "purple",
           "#fecb52",
           "#fbfcb8",
           "#fecb52",
           "darkblue",
           "purple",
           "#fecb52",
           "#fbfcb8",
           "#fecb52",
           "darkblue",
           "purple",
           "#fecb52",
           "#fbfcb8",
           "#fecb52",
           "darkblue",
           "purple",
           "#fecb52",
           "#fbfcb8",
           "#fecb52",
           "darkblue",
           "purple",
           "#fecb52",
           "#fbfcb8",
           "#fecb52",
           "darkblue",
           "purple",
           "#fecb52",
           "#fbfcb8",
           "#fecb52",
           "darkblue",
           "purple",
           "#fecb52",
           "#fbfcb8",
           "darkblue",
           "purple",
           "#fecb52",
           "#fbfcb8",
           "#fecb52",
           "darkblue",
           "purple",
           "#fecb52",
           "#fecb52",
           "darkblue",
           "purple",
           "#fecb52",
           "#fbfcb8",
           "#fecb52",
           "darkblue",
           "purple",
           "#fecb52",
           "#fbfcb8",
           "#fecb52",
           "darkblue",
           "purple",
           "#fecb52",
           "#fbfcb8",
           "#fecb52",
           "darkblue",
           "purple",
           "#fecb52",
           "#fbfcb8",
           "#fecb52",
           "darkblue",
           "purple",
           "#fecb52",
           "#fbfcb8",
           "#fecb52",
           "darkblue",
           "purple",
           "#fecb52",
           "#fbfcb8",
           "#fecb52",
           "darkblue",
           "purple",
           "#fecb52",
           "#fbfcb8",
           "#fecb52",
           "darkblue",
           "#fecb52",
           "purple",
           "#fecb52",
           "#fbfcb8",
           "#fecb52",
           "darkblue",
           "purple",
           "#fecb52",
           "#fbfcb8",
           "#fbfcb8",
           "#fecb52",
           "darkblue",
           "purple",
           "#fecb52",
           "#fbfcb8",
           "#fecb52",
           "darkblue",
           "purple",
           "#fecb52",
           "#fbfcb8",
           "#fecb52",
           "darkblue",
           "purple",
           "#fecb52",
           "#fbfcb8",
           "#fecb52",
           "darkblue",
           "purple",
           "#fecb52",
           "#fbfcb8",
           "#fecb52",
           "darkblue",
           "purple",
           "#fecb52",
           "#fbfcb8",
           "#fecb52",
           "darkblue",
           "purple",
           "#fecb52",
           "#fbfcb8",
           "#fecb52",
           "darkblue",
           "purple",
           "#fecb52",
           "#fbfcb8",
           "#fecb52",
           "darkblue",
           "purple",
           "#fecb52",
           "#fecb52",
           "#fbfcb8",
           "#fecb52",
           "darkblue",
           "purple",
           "#fecb52",
           "#fbfcb8",
           "#fecb52",
           "darkblue",
           "purple",
           "#fecb52",
           "#fbfcb8",
           "#fecb52",
           "darkblue",
           "purple",
           "#fecb52",
           "#fbfcb8",
           "#fecb52",
           "darkblue",
           "purple",
           "#fecb52",
           "#fbfcb8",
           "#fecb52",
           "darkblue",
           "purple",
           "#fecb52",
           "#fbfcb8",
           "#fecb52",
           "darkblue",
           "purple",
           "#fecb52",
           "#fbfcb8",
           "#fecb52",
           "darkblue",
           "purple",
           "#fecb52",
           "#fbfcb8",
           "#fecb52",
           "darkblue",
           "purple",
           "#fecb52",
           "#fbfcb8",
           "#fecb52",
           "darkblue",
           "purple",
           "#fecb52",
           "#fbfcb8",
           "#fecb52",
           "darkblue",
           "purple",
           "#fecb52",
           "#fbfcb8",
           "#fecb52",
           "darkblue",
           "purple",
           "#fecb52",
           "#fecb52",
           "darkblue",
           "purple",
           "#fecb52",
           "#fecb52",
           "#fbfcb8",
           "#fbfcb8",
           "#fecb52",
           "darkblue",
           "purple",
           "#fecb52",
           "#fbfcb8",
           "#fecb52",
           "darkblue",
           "purple",
           "#fecb52",
           "#fecb52",
           "darkblue",
           "purple",
           "#fecb52",
           "#fbfcb8",
           "#fecb52",
           "darkblue",
           "purple",
           "#fecb52",
           "#fbfcb8",
           "#fecb52",
           "darkblue",
           "purple",
           "#fecb52",
           "#fbfcb8",
           "#fecb52",
           "darkblue",
           "purple",
           "#fbfcb8",
           "#fecb52",
           "#fbfcb8",
           "#fecb52",
           "#fbfcb8",
           "#fecb52",
           "darkblue",
           "purple",
           "#fecb52",
           "#fbfcb8",
           "#fecb52",
           "darkblue",
           "purple",
           "#fecb52",
           "#fbfcb8",
           "#fecb52",
           "darkblue",
           "purple",
           "#fecb52",
           "#fbfcb8",
           "#fecb52",
           "purple",
           "#fecb52",
           "darkblue",
           "#fbfcb8",
           "#fecb52",
           "darkblue",
           "purple",
           "#fecb52",
           "#fbfcb8",
           "#fecb52",
           "darkblue",
           "purple",
           "#fecb52",
           "#fbfcb8",
           "#fecb52",
           "darkblue",
           "purple",
           "#fecb52",
           "#fbfcb8",
           "#fecb52",
           "darkblue",
           "purple",
           "#fecb52",
           "purple",
           "#fecb52",
           "#fbfcb8",
           "#fecb52",
           "darkblue",
           "#fbfcb8",
           "#fecb52",
           "darkblue",
           "purple",
           "#fecb52",
           "#fbfcb8",
           "#fecb52",
           "darkblue",
           "purple",
           "#fecb52",
           "#fbfcb8",
           "#fecb52",
           "darkblue",
           "purple",
           "#fecb52",
           "#fbfcb8",
           "#fecb52",
           "darkblue",
           "purple",
           "#fecb52",
           "#fbfcb8",
           "#fecb52",
           "darkblue",
           "purple",
           "#fecb52",
           "#fbfcb8",
           "#fecb52",
           "darkblue",
           "purple",
           "#fecb52",
           "#fbfcb8",
           "#fecb52",
           "darkblue",
           "purple",
           "#fecb52",
           "#fbfcb8",
           "#fecb52",
           "darkblue",
           "purple",
           "#fecb52",
           "#fbfcb8",
           "#fecb52",
           "darkblue",
           "purple",
           "#fecb52",
           "#fbfcb8",
           "#fecb52",
           "darkblue",
           "purple",
           "#fecb52",
           "#fbfcb8",
           "#fecb52",
           "darkblue",
           "purple",
           "#fecb52",
           "#fbfcb8",
           "#fecb52",
           "darkblue",
           "purple",
           "#fecb52",
           "#fbfcb8",
           "#fecb52",
           "darkblue",
           "purple",
           "#fecb52",
           "#fbfcb8",
           "#fecb52",
           "darkblue",
           "purple",
           "#fecb52",
           "#fbfcb8",
           "#fecb52",
           "darkblue",
           "purple",
           "#fecb52"
          ],
          "line": {
           "color": "black",
           "width": 2
          }
         },
         "name": "Happiness Score",
         "sort": false,
         "type": "pie",
         "values": [
          3.575,
          3.36,
          3.79399991035461,
          3.632,
          3.203,
          4.959,
          4.655,
          4.64400005340576,
          4.586,
          4.719,
          5.605,
          6.355,
          5.87200021743774,
          5.295,
          5.211,
          4.033,
          3.866,
          3.79500007629395,
          3.795,
          6.574,
          6.65,
          6.59899997711182,
          6.388,
          6.086,
          4.35,
          4.36,
          4.37599992752075,
          4.321,
          4.559,
          7.284,
          7.313,
          7.28399991989136,
          7.272,
          7.228,
          7.2,
          7.119,
          7.00600004196167,
          7.139,
          7.246,
          5.212,
          5.291,
          5.23400020599365,
          5.201,
          5.208,
          5.96,
          6.218,
          6.08699989318848,
          6.105,
          6.199,
          4.694,
          4.643,
          4.60799980163574,
          4.5,
          4.456,
          5.813,
          5.802,
          5.56899976730347,
          5.483,
          5.323,
          6.937,
          6.929,
          6.89099979400635,
          6.927,
          6.923,
          5.956,
          5.95599985122681,
          5.956,
          3.34,
          3.484,
          3.65700006484985,
          4.141,
          4.883,
          5.253,
          5.196,
          5.01100015640259,
          5.082,
          5.082,
          5.89,
          5.822,
          5.82299995422363,
          5.752,
          5.779,
          4.949,
          5.163,
          5.18200016021729,
          5.129,
          5.386,
          4.332,
          3.974,
          3.76600003242493,
          3.59,
          3.488,
          6.983,
          6.952,
          6.63500022888184,
          6.419,
          6.3,
          4.218,
          4.217,
          4.71400022506714,
          4.933,
          5.011,
          3.587,
          3.739,
          4.03200006484985,
          4.424,
          4.587,
          2.905,
          2.905,
          2.90499997138977,
          2.905,
          3.775,
          3.819,
          3.907,
          4.16800022125244,
          4.433,
          4.7,
          4.252,
          4.513,
          4.69500017166138,
          4.975,
          5.044,
          7.427,
          7.404,
          7.31599998474121,
          7.328,
          7.278,
          3.678,
          2.69300007820129,
          3.083,
          3.083,
          3.667,
          3.763,
          3.93600010871887,
          4.301,
          4.35,
          6.67,
          6.705,
          6.65199995040894,
          6.476,
          6.444,
          5.14,
          5.245,
          5.27299976348877,
          5.246,
          5.191,
          6.477,
          6.481,
          6.35699987411499,
          6.26,
          6.125,
          3.956,
          3.956,
          3.973,
          3.989,
          4.236,
          4.29099988937378,
          4.559,
          4.812,
          4.517,
          4.272,
          4.28000020980835,
          4.245,
          4.418,
          7.226,
          7.087,
          7.0789999961853,
          7.072,
          7.167,
          5.759,
          5.488,
          5.29300022125244,
          5.321,
          5.432,
          5.689,
          5.546,
          5.62099981307983,
          5.762,
          6.046,
          6.505,
          6.596,
          6.60900020599365,
          6.711,
          6.852,
          7.527,
          7.526,
          7.52199983596802,
          7.555,
          7.6,
          4.369,
          4.885,
          5.155,
          5.23000001907349,
          5.302,
          5.425,
          5.975,
          5.976,
          6.00799989700317,
          5.973,
          6.028,
          4.194,
          4.362,
          4.7350001335144,
          4.419,
          4.166,
          6.13,
          6.068,
          6.00299978256226,
          6.167,
          6.253,
          5.429,
          5.517,
          5.61100006103516,
          5.739,
          5.893,
          4.512,
          4.508,
          4.46000003814697,
          4.35,
          4.286,
          7.406,
          7.413,
          7.4689998626709,
          7.632,
          7.769,
          6.575,
          6.478,
          6.44199991226196,
          6.489,
          6.592,
          3.896,
          4.121,
          4.46500015258789,
          4.758,
          4.799,
          4.516,
          4.297,
          4.252,
          4.28599977493286,
          4.34,
          4.519,
          6.75,
          6.994,
          6.95100021362305,
          6.965,
          6.985,
          4.633,
          4.276,
          4.11999988555908,
          4.657,
          4.996,
          4.857,
          5.033,
          5.22700023651123,
          5.358,
          5.287,
          6.123,
          6.324,
          6.4539999961853,
          6.382,
          6.436,
          3.656,
          3.607,
          3.50699996948242,
          3.964,
          4.534,
          4.518,
          4.028,
          3.6029999256134,
          3.582,
          3.597,
          4.788,
          4.871,
          5.18100023269653,
          5.504,
          5.86,
          5.474,
          5.458,
          5.43,
          5.43,
          5.47200012207031,
          4.8,
          5.145,
          5.32399988174438,
          5.62,
          5.758,
          7.561,
          7.501,
          7.50400018692017,
          7.495,
          7.494,
          4.565,
          4.404,
          4.31500005722046,
          4.19,
          4.015,
          5.399,
          5.314,
          5.26200008392334,
          5.093,
          5.192,
          4.686,
          4.813,
          4.69199991226196,
          4.707,
          4.548,
          4.677,
          4.575,
          4.49700021743774,
          4.456,
          4.437,
          6.94,
          6.907,
          6.97700023651123,
          6.977,
          7.021,
          7.278,
          7.267,
          7.21299982070923,
          6.814,
          7.139,
          5.948,
          5.977,
          5.96400022506714,
          6,
          6.223,
          3.655,
          3.916,
          4.17999982833862,
          4.671,
          4.944,
          5.709,
          5.51,
          5.31099987030029,
          5.89,
          5.89,
          5.987,
          5.921,
          5.92000007629395,
          5.915,
          5.886,
          5.192,
          5.303,
          5.33599996566772,
          5.161,
          4.906,
          5.855,
          5.919,
          5.81899976730347,
          5.79,
          5.809,
          4.419,
          4.356,
          4.55299997329712,
          4.41,
          4.509,
          5.589,
          5.401,
          5.27899980545044,
          5.662,
          6.1,
          6.295,
          6.239,
          6.10500001907349,
          6.083,
          6.021,
          5.286,
          5.185,
          5.00400018692017,
          5.131,
          5.261,
          4.876,
          4.876,
          4.623,
          4.796,
          5.098,
          5.56,
          5.84999990463257,
          5.933,
          5.94,
          4.839,
          5.129,
          5.22499990463257,
          5.358,
          5.197,
          4.898,
          3.80800008773804,
          3.808,
          3.802,
          4.571,
          3.622,
          3.53299999237061,
          3.495,
          3.975,
          5.754,
          5.615,
          5.52500009536743,
          5.566,
          5.525,
          5.833,
          5.813,
          5.90199995040894,
          5.952,
          6.149,
          6.946,
          6.871,
          6.86299991607666,
          6.91,
          7.09,
          5.007,
          5.121,
          5.17500019073486,
          5.185,
          3.681,
          3.695,
          3.64400005340576,
          3.774,
          3.933,
          4.292,
          4.156,
          3.97000002861023,
          3.587,
          3.41,
          5.77,
          6.005,
          6.08400011062622,
          6.322,
          5.339,
          3.995,
          4.073,
          4.19000005722046,
          4.447,
          4.39,
          6.302,
          6.488,
          6.52699995040894,
          6.627,
          6.726,
          4.436,
          4.201,
          4.29199981689453,
          4.356,
          4.49,
          5.477,
          5.648,
          5.62900018692017,
          5.891,
          5.888,
          7.187,
          6.778,
          6.57800006866455,
          6.488,
          6.595,
          5.889,
          5.897,
          5.83799982070923,
          5.64,
          5.529,
          4.874,
          4.907,
          4.95499992370605,
          5.125,
          5.285,
          5.192,
          5.161,
          5.23699998855591,
          5.347,
          5.523,
          5.013,
          5.151,
          5.2350001335144,
          5.254,
          5.208,
          4.971,
          4.55000019073486,
          4.417,
          4.466,
          4.307,
          4.395,
          4.54500007629395,
          4.308,
          4.36,
          4.574,
          4.57399988174438,
          4.441,
          4.639,
          4.514,
          4.793,
          4.96199989318848,
          4.88,
          4.913,
          7.378,
          7.339,
          7.3769998550415,
          7.441,
          7.488,
          7.286,
          7.334,
          7.31400012969971,
          7.324,
          7.307,
          5.828,
          5.992,
          6.07100009918213,
          6.141,
          6.105,
          3.845,
          3.856,
          4.02799987792969,
          4.166,
          4.628,
          5.268,
          4.875,
          5.07399988174438,
          5.155,
          5.265,
          5.695,
          5.771,
          5.80999994277954,
          5.274,
          5.835,
          5.718,
          7.522,
          7.498,
          7.53700017929077,
          7.594,
          7.554,
          6.853,
          5.194,
          5.132,
          5.26900005340576,
          5.472,
          5.653,
          4.715,
          4.754,
          4.77500009536743,
          4.743,
          4.696,
          6.786,
          6.701,
          6.4520001411438,
          6.43,
          6.321,
          5.878,
          5.538,
          5.49300003051758,
          5.681,
          5.743,
          5.824,
          5.743,
          5.71500015258789,
          5.663,
          5.697,
          5.073,
          5.279,
          5.42999982833862,
          5.524,
          5.631,
          5.791,
          5.835,
          5.97300004959106,
          6.123,
          6.182,
          5.102,
          5.123,
          5.19500017166138,
          5.41,
          5.693,
          7.039,
          6.611,
          6.375,
          6.375,
          6.374,
          6.374,
          5.124,
          5.528,
          5.82499980926514,
          5.945,
          6.07,
          5.716,
          5.856,
          5.96299982070923,
          5.81,
          5.648,
          3.465,
          3.515,
          3.47099995613098,
          3.408,
          3.334,
          6.411,
          6.379,
          6.3439998626709,
          6.371,
          6.375,
          3.904,
          4.219,
          4.53499984741211,
          4.631,
          4.681,
          5.123,
          5.177,
          5.39499998092651,
          5.398,
          5.603,
          4.507,
          4.635,
          4.70900011062622,
          4.571,
          4.374,
          6.798,
          6.739,
          6.57200002670288,
          6.343,
          6.262,
          5.995,
          6.078,
          6.09800004959106,
          6.173,
          6.198,
          5.848,
          5.768,
          5.75799989700317,
          5.948,
          6.118,
          5.44,
          5.15100002288818,
          4.982,
          4.668,
          5.057,
          5.057,
          4.642,
          4.459,
          4.8289999961853,
          4.724,
          4.722,
          5.984,
          5.835,
          5.83799982070923,
          5.875,
          5.895,
          3.832,
          3.59100008010864,
          3.254,
          2.853,
          6.329,
          6.361,
          6.40299987792969,
          6.31,
          6.354,
          4.271,
          4.415,
          4.44000005722046,
          4.471,
          4.366,
          4.55,
          4.139,
          4.13899993896484,
          4.139,
          6.269,
          6.269,
          4.867,
          4.212,
          7.364,
          7.291,
          7.28399991989136,
          7.314,
          7.343,
          7.587,
          7.509,
          7.49399995803833,
          7.487,
          7.48,
          3.006,
          3.069,
          3.46199989318848,
          3.462,
          3.462,
          6.298,
          6.379,
          6.441,
          6.446,
          6.42199993133545,
          4.786,
          4.996,
          5.04099988937378,
          5.199,
          5.467,
          3.781,
          3.666,
          3.34899997711182,
          3.303,
          3.231,
          6.455,
          6.474,
          6.42399978637695,
          6.072,
          6.008,
          2.839,
          3.303,
          3.49499988555908,
          3.999,
          4.085,
          6.192,
          6.192,
          6.168,
          6.168,
          6.16800022125244,
          4.739,
          5.045,
          4.80499982833862,
          4.592,
          4.461,
          5.332,
          5.389,
          5.5,
          5.483,
          5.373,
          5.548,
          5.658,
          5.82200002670288,
          5.636,
          5.247,
          3.931,
          3.739,
          4.08099985122681,
          4.161,
          4.189,
          4.681,
          4.324,
          4.09600019454956,
          4.103,
          4.332,
          6.901,
          6.573,
          6.64799976348877,
          6.774,
          6.825,
          6.867,
          6.725,
          6.71400022506714,
          7.19,
          7.054,
          7.119,
          7.104,
          6.99300003051758,
          6.886,
          6.892,
          6.485,
          6.545,
          6.4539999961853,
          6.379,
          6.293,
          6.003,
          5.987,
          5.97100019454956,
          6.096,
          6.174,
          6.81,
          6.084,
          5.25,
          4.806,
          4.707,
          5.36,
          5.061,
          5.07399988174438,
          5.103,
          5.175,
          4.077,
          3.724,
          3.59299993515015,
          3.355,
          3.38,
          5.129,
          4.795,
          4.51399993896484,
          4.377,
          4.107,
          4.61,
          4.193,
          3.875,
          3.692,
          3.663
         ]
        }
       ],
       "layout": {
        "annotations": [
         {
          "font": {
           "size": 20
          },
          "showarrow": false,
          "text": "Trust",
          "x": 0.185,
          "y": 0.5
         },
         {
          "font": {
           "size": 20
          },
          "showarrow": false,
          "text": "Happiness",
          "x": 0.85,
          "y": 0.5
         },
         {
          "font": {
           "size": 10
          },
          "showarrow": false,
          "text": "In de linker pie plot is er voor de jaren in de periode 2015-2019 de score van de Trust variabele van elk land bij elkaar opgeteld. Hiermee kan er een wereldwijde beeld geschetst worden <br> hoe betrouwbaar de regering is en hoe dit per jaar verandert. In de rechter pie plot is er voor de jaren in de periode 2015-2019 de Happiness Score van elk land bij elkaar opgeteld.<br> Hiermee kan er een wereldwijde beeld geschetst worden hoe blij mensen zijn en hoe dit per jaar verandert. Hoe donkerder de kleur is, hoe lager de score is. Door de linker pie plot met <br> de rechter pie plot te vergelijken, kan er bekeken worden of er een verband is tussen de relatieve verandering van de Trust variabele met de relatieve verandering van de Happiness Score.",
          "x": 0.56,
          "xref": "paper",
          "y": -0.24,
          "yref": "paper"
         }
        ],
        "template": {
         "data": {
          "bar": [
           {
            "error_x": {
             "color": "#2a3f5f"
            },
            "error_y": {
             "color": "#2a3f5f"
            },
            "marker": {
             "line": {
              "color": "#E5ECF6",
              "width": 0.5
             },
             "pattern": {
              "fillmode": "overlay",
              "size": 10,
              "solidity": 0.2
             }
            },
            "type": "bar"
           }
          ],
          "barpolar": [
           {
            "marker": {
             "line": {
              "color": "#E5ECF6",
              "width": 0.5
             },
             "pattern": {
              "fillmode": "overlay",
              "size": 10,
              "solidity": 0.2
             }
            },
            "type": "barpolar"
           }
          ],
          "carpet": [
           {
            "aaxis": {
             "endlinecolor": "#2a3f5f",
             "gridcolor": "white",
             "linecolor": "white",
             "minorgridcolor": "white",
             "startlinecolor": "#2a3f5f"
            },
            "baxis": {
             "endlinecolor": "#2a3f5f",
             "gridcolor": "white",
             "linecolor": "white",
             "minorgridcolor": "white",
             "startlinecolor": "#2a3f5f"
            },
            "type": "carpet"
           }
          ],
          "choropleth": [
           {
            "colorbar": {
             "outlinewidth": 0,
             "ticks": ""
            },
            "type": "choropleth"
           }
          ],
          "contour": [
           {
            "colorbar": {
             "outlinewidth": 0,
             "ticks": ""
            },
            "colorscale": [
             [
              0,
              "#0d0887"
             ],
             [
              0.1111111111111111,
              "#46039f"
             ],
             [
              0.2222222222222222,
              "#7201a8"
             ],
             [
              0.3333333333333333,
              "#9c179e"
             ],
             [
              0.4444444444444444,
              "#bd3786"
             ],
             [
              0.5555555555555556,
              "#d8576b"
             ],
             [
              0.6666666666666666,
              "#ed7953"
             ],
             [
              0.7777777777777778,
              "#fb9f3a"
             ],
             [
              0.8888888888888888,
              "#fdca26"
             ],
             [
              1,
              "#f0f921"
             ]
            ],
            "type": "contour"
           }
          ],
          "contourcarpet": [
           {
            "colorbar": {
             "outlinewidth": 0,
             "ticks": ""
            },
            "type": "contourcarpet"
           }
          ],
          "heatmap": [
           {
            "colorbar": {
             "outlinewidth": 0,
             "ticks": ""
            },
            "colorscale": [
             [
              0,
              "#0d0887"
             ],
             [
              0.1111111111111111,
              "#46039f"
             ],
             [
              0.2222222222222222,
              "#7201a8"
             ],
             [
              0.3333333333333333,
              "#9c179e"
             ],
             [
              0.4444444444444444,
              "#bd3786"
             ],
             [
              0.5555555555555556,
              "#d8576b"
             ],
             [
              0.6666666666666666,
              "#ed7953"
             ],
             [
              0.7777777777777778,
              "#fb9f3a"
             ],
             [
              0.8888888888888888,
              "#fdca26"
             ],
             [
              1,
              "#f0f921"
             ]
            ],
            "type": "heatmap"
           }
          ],
          "heatmapgl": [
           {
            "colorbar": {
             "outlinewidth": 0,
             "ticks": ""
            },
            "colorscale": [
             [
              0,
              "#0d0887"
             ],
             [
              0.1111111111111111,
              "#46039f"
             ],
             [
              0.2222222222222222,
              "#7201a8"
             ],
             [
              0.3333333333333333,
              "#9c179e"
             ],
             [
              0.4444444444444444,
              "#bd3786"
             ],
             [
              0.5555555555555556,
              "#d8576b"
             ],
             [
              0.6666666666666666,
              "#ed7953"
             ],
             [
              0.7777777777777778,
              "#fb9f3a"
             ],
             [
              0.8888888888888888,
              "#fdca26"
             ],
             [
              1,
              "#f0f921"
             ]
            ],
            "type": "heatmapgl"
           }
          ],
          "histogram": [
           {
            "marker": {
             "pattern": {
              "fillmode": "overlay",
              "size": 10,
              "solidity": 0.2
             }
            },
            "type": "histogram"
           }
          ],
          "histogram2d": [
           {
            "colorbar": {
             "outlinewidth": 0,
             "ticks": ""
            },
            "colorscale": [
             [
              0,
              "#0d0887"
             ],
             [
              0.1111111111111111,
              "#46039f"
             ],
             [
              0.2222222222222222,
              "#7201a8"
             ],
             [
              0.3333333333333333,
              "#9c179e"
             ],
             [
              0.4444444444444444,
              "#bd3786"
             ],
             [
              0.5555555555555556,
              "#d8576b"
             ],
             [
              0.6666666666666666,
              "#ed7953"
             ],
             [
              0.7777777777777778,
              "#fb9f3a"
             ],
             [
              0.8888888888888888,
              "#fdca26"
             ],
             [
              1,
              "#f0f921"
             ]
            ],
            "type": "histogram2d"
           }
          ],
          "histogram2dcontour": [
           {
            "colorbar": {
             "outlinewidth": 0,
             "ticks": ""
            },
            "colorscale": [
             [
              0,
              "#0d0887"
             ],
             [
              0.1111111111111111,
              "#46039f"
             ],
             [
              0.2222222222222222,
              "#7201a8"
             ],
             [
              0.3333333333333333,
              "#9c179e"
             ],
             [
              0.4444444444444444,
              "#bd3786"
             ],
             [
              0.5555555555555556,
              "#d8576b"
             ],
             [
              0.6666666666666666,
              "#ed7953"
             ],
             [
              0.7777777777777778,
              "#fb9f3a"
             ],
             [
              0.8888888888888888,
              "#fdca26"
             ],
             [
              1,
              "#f0f921"
             ]
            ],
            "type": "histogram2dcontour"
           }
          ],
          "mesh3d": [
           {
            "colorbar": {
             "outlinewidth": 0,
             "ticks": ""
            },
            "type": "mesh3d"
           }
          ],
          "parcoords": [
           {
            "line": {
             "colorbar": {
              "outlinewidth": 0,
              "ticks": ""
             }
            },
            "type": "parcoords"
           }
          ],
          "pie": [
           {
            "automargin": true,
            "type": "pie"
           }
          ],
          "scatter": [
           {
            "fillpattern": {
             "fillmode": "overlay",
             "size": 10,
             "solidity": 0.2
            },
            "type": "scatter"
           }
          ],
          "scatter3d": [
           {
            "line": {
             "colorbar": {
              "outlinewidth": 0,
              "ticks": ""
             }
            },
            "marker": {
             "colorbar": {
              "outlinewidth": 0,
              "ticks": ""
             }
            },
            "type": "scatter3d"
           }
          ],
          "scattercarpet": [
           {
            "marker": {
             "colorbar": {
              "outlinewidth": 0,
              "ticks": ""
             }
            },
            "type": "scattercarpet"
           }
          ],
          "scattergeo": [
           {
            "marker": {
             "colorbar": {
              "outlinewidth": 0,
              "ticks": ""
             }
            },
            "type": "scattergeo"
           }
          ],
          "scattergl": [
           {
            "marker": {
             "colorbar": {
              "outlinewidth": 0,
              "ticks": ""
             }
            },
            "type": "scattergl"
           }
          ],
          "scattermapbox": [
           {
            "marker": {
             "colorbar": {
              "outlinewidth": 0,
              "ticks": ""
             }
            },
            "type": "scattermapbox"
           }
          ],
          "scatterpolar": [
           {
            "marker": {
             "colorbar": {
              "outlinewidth": 0,
              "ticks": ""
             }
            },
            "type": "scatterpolar"
           }
          ],
          "scatterpolargl": [
           {
            "marker": {
             "colorbar": {
              "outlinewidth": 0,
              "ticks": ""
             }
            },
            "type": "scatterpolargl"
           }
          ],
          "scatterternary": [
           {
            "marker": {
             "colorbar": {
              "outlinewidth": 0,
              "ticks": ""
             }
            },
            "type": "scatterternary"
           }
          ],
          "surface": [
           {
            "colorbar": {
             "outlinewidth": 0,
             "ticks": ""
            },
            "colorscale": [
             [
              0,
              "#0d0887"
             ],
             [
              0.1111111111111111,
              "#46039f"
             ],
             [
              0.2222222222222222,
              "#7201a8"
             ],
             [
              0.3333333333333333,
              "#9c179e"
             ],
             [
              0.4444444444444444,
              "#bd3786"
             ],
             [
              0.5555555555555556,
              "#d8576b"
             ],
             [
              0.6666666666666666,
              "#ed7953"
             ],
             [
              0.7777777777777778,
              "#fb9f3a"
             ],
             [
              0.8888888888888888,
              "#fdca26"
             ],
             [
              1,
              "#f0f921"
             ]
            ],
            "type": "surface"
           }
          ],
          "table": [
           {
            "cells": {
             "fill": {
              "color": "#EBF0F8"
             },
             "line": {
              "color": "white"
             }
            },
            "header": {
             "fill": {
              "color": "#C8D4E3"
             },
             "line": {
              "color": "white"
             }
            },
            "type": "table"
           }
          ]
         },
         "layout": {
          "annotationdefaults": {
           "arrowcolor": "#2a3f5f",
           "arrowhead": 0,
           "arrowwidth": 1
          },
          "autotypenumbers": "strict",
          "coloraxis": {
           "colorbar": {
            "outlinewidth": 0,
            "ticks": ""
           }
          },
          "colorscale": {
           "diverging": [
            [
             0,
             "#8e0152"
            ],
            [
             0.1,
             "#c51b7d"
            ],
            [
             0.2,
             "#de77ae"
            ],
            [
             0.3,
             "#f1b6da"
            ],
            [
             0.4,
             "#fde0ef"
            ],
            [
             0.5,
             "#f7f7f7"
            ],
            [
             0.6,
             "#e6f5d0"
            ],
            [
             0.7,
             "#b8e186"
            ],
            [
             0.8,
             "#7fbc41"
            ],
            [
             0.9,
             "#4d9221"
            ],
            [
             1,
             "#276419"
            ]
           ],
           "sequential": [
            [
             0,
             "#0d0887"
            ],
            [
             0.1111111111111111,
             "#46039f"
            ],
            [
             0.2222222222222222,
             "#7201a8"
            ],
            [
             0.3333333333333333,
             "#9c179e"
            ],
            [
             0.4444444444444444,
             "#bd3786"
            ],
            [
             0.5555555555555556,
             "#d8576b"
            ],
            [
             0.6666666666666666,
             "#ed7953"
            ],
            [
             0.7777777777777778,
             "#fb9f3a"
            ],
            [
             0.8888888888888888,
             "#fdca26"
            ],
            [
             1,
             "#f0f921"
            ]
           ],
           "sequentialminus": [
            [
             0,
             "#0d0887"
            ],
            [
             0.1111111111111111,
             "#46039f"
            ],
            [
             0.2222222222222222,
             "#7201a8"
            ],
            [
             0.3333333333333333,
             "#9c179e"
            ],
            [
             0.4444444444444444,
             "#bd3786"
            ],
            [
             0.5555555555555556,
             "#d8576b"
            ],
            [
             0.6666666666666666,
             "#ed7953"
            ],
            [
             0.7777777777777778,
             "#fb9f3a"
            ],
            [
             0.8888888888888888,
             "#fdca26"
            ],
            [
             1,
             "#f0f921"
            ]
           ]
          },
          "colorway": [
           "#636efa",
           "#EF553B",
           "#00cc96",
           "#ab63fa",
           "#FFA15A",
           "#19d3f3",
           "#FF6692",
           "#B6E880",
           "#FF97FF",
           "#FECB52"
          ],
          "font": {
           "color": "#2a3f5f"
          },
          "geo": {
           "bgcolor": "white",
           "lakecolor": "white",
           "landcolor": "#E5ECF6",
           "showlakes": true,
           "showland": true,
           "subunitcolor": "white"
          },
          "hoverlabel": {
           "align": "left"
          },
          "hovermode": "closest",
          "mapbox": {
           "style": "light"
          },
          "paper_bgcolor": "white",
          "plot_bgcolor": "#E5ECF6",
          "polar": {
           "angularaxis": {
            "gridcolor": "white",
            "linecolor": "white",
            "ticks": ""
           },
           "bgcolor": "#E5ECF6",
           "radialaxis": {
            "gridcolor": "white",
            "linecolor": "white",
            "ticks": ""
           }
          },
          "scene": {
           "xaxis": {
            "backgroundcolor": "#E5ECF6",
            "gridcolor": "white",
            "gridwidth": 2,
            "linecolor": "white",
            "showbackground": true,
            "ticks": "",
            "zerolinecolor": "white"
           },
           "yaxis": {
            "backgroundcolor": "#E5ECF6",
            "gridcolor": "white",
            "gridwidth": 2,
            "linecolor": "white",
            "showbackground": true,
            "ticks": "",
            "zerolinecolor": "white"
           },
           "zaxis": {
            "backgroundcolor": "#E5ECF6",
            "gridcolor": "white",
            "gridwidth": 2,
            "linecolor": "white",
            "showbackground": true,
            "ticks": "",
            "zerolinecolor": "white"
           }
          },
          "shapedefaults": {
           "line": {
            "color": "#2a3f5f"
           }
          },
          "ternary": {
           "aaxis": {
            "gridcolor": "white",
            "linecolor": "white",
            "ticks": ""
           },
           "baxis": {
            "gridcolor": "white",
            "linecolor": "white",
            "ticks": ""
           },
           "bgcolor": "#E5ECF6",
           "caxis": {
            "gridcolor": "white",
            "linecolor": "white",
            "ticks": ""
           }
          },
          "title": {
           "x": 0.05
          },
          "xaxis": {
           "automargin": true,
           "gridcolor": "white",
           "linecolor": "white",
           "ticks": "",
           "title": {
            "standoff": 15
           },
           "zerolinecolor": "white",
           "zerolinewidth": 2
          },
          "yaxis": {
           "automargin": true,
           "gridcolor": "white",
           "linecolor": "white",
           "ticks": "",
           "title": {
            "standoff": 15
           },
           "zerolinecolor": "white",
           "zerolinewidth": 2
          }
         }
        },
        "title": {
         "text": "De wereldwijde score van de Trust variabele per jaar VS De wereldwijde score van de Happiness Score per jaar"
        }
       }
      },
      "text/html": [
       "<div>                            <div id=\"fe591a33-75e9-4571-a020-0e0d2776ec7e\" class=\"plotly-graph-div\" style=\"height:525px; width:100%;\"></div>            <script type=\"text/javascript\">                require([\"plotly\"], function(Plotly) {                    window.PLOTLYENV=window.PLOTLYENV || {};                                    if (document.getElementById(\"fe591a33-75e9-4571-a020-0e0d2776ec7e\")) {                    Plotly.newPlot(                        \"fe591a33-75e9-4571-a020-0e0d2776ec7e\",                        [{\"labels\":[2015,2016,2017,2018,2019,2015,2016,2017,2018,2019,2015,2016,2017,2018,2019,2015,2016,2017,2018,2015,2016,2017,2018,2019,2015,2016,2017,2018,2019,2015,2016,2017,2018,2019,2015,2016,2017,2018,2019,2015,2016,2017,2018,2019,2015,2016,2017,2018,2019,2015,2016,2017,2018,2019,2015,2016,2017,2018,2019,2015,2016,2017,2018,2019,2016,2017,2018,2015,2016,2017,2018,2019,2015,2016,2017,2018,2019,2015,2016,2017,2018,2019,2015,2016,2017,2018,2019,2015,2016,2017,2018,2019,2015,2016,2017,2018,2019,2015,2016,2017,2018,2019,2015,2016,2017,2018,2019,2015,2016,2017,2018,2019,2015,2016,2017,2018,2019,2015,2016,2017,2018,2019,2015,2016,2017,2018,2019,2015,2017,2018,2019,2015,2016,2017,2018,2019,2015,2016,2017,2018,2019,2015,2016,2017,2018,2019,2015,2016,2017,2018,2019,2015,2016,2019,2015,2016,2017,2018,2019,2015,2016,2017,2018,2019,2015,2016,2017,2018,2019,2015,2016,2017,2018,2019,2015,2016,2017,2018,2019,2015,2016,2017,2018,2019,2015,2016,2017,2018,2019,2015,2015,2016,2017,2018,2019,2015,2016,2017,2018,2019,2015,2016,2017,2018,2019,2015,2016,2017,2018,2019,2015,2016,2017,2018,2019,2015,2016,2017,2018,2019,2015,2016,2017,2018,2019,2015,2016,2017,2018,2019,2015,2016,2017,2018,2019,2019,2015,2016,2017,2018,2019,2015,2016,2017,2018,2019,2015,2016,2017,2018,2019,2015,2016,2017,2018,2019,2015,2016,2017,2018,2019,2015,2016,2017,2018,2019,2015,2016,2017,2018,2019,2015,2016,2017,2018,2019,2015,2016,2018,2019,2017,2015,2016,2017,2018,2019,2015,2016,2017,2018,2019,2015,2016,2017,2018,2019,2015,2016,2017,2018,2019,2015,2016,2017,2018,2019,2015,2016,2017,2018,2019,2015,2016,2017,2018,2019,2015,2016,2017,2018,2019,2015,2016,2017,2018,2019,2015,2016,2017,2018,2019,2015,2016,2017,2018,2019,2015,2016,2017,2018,2019,2015,2016,2017,2018,2019,2015,2016,2017,2018,2019,2015,2016,2017,2018,2019,2015,2016,2017,2018,2019,2015,2016,2017,2018,2019,2015,2016,2017,2018,2019,2015,2016,2018,2019,2015,2016,2017,2018,2019,2015,2016,2017,2018,2019,2015,2017,2018,2019,2015,2016,2017,2018,2019,2015,2016,2017,2018,2019,2015,2016,2017,2018,2019,2015,2016,2017,2018,2019,2015,2016,2017,2018,2015,2016,2017,2018,2019,2015,2016,2017,2018,2019,2015,2016,2017,2018,2019,2015,2016,2017,2018,2019,2015,2016,2017,2018,2019,2015,2016,2017,2018,2019,2015,2016,2017,2018,2019,2015,2016,2017,2018,2019,2015,2016,2017,2018,2019,2015,2016,2017,2018,2019,2015,2016,2017,2018,2019,2015,2016,2017,2018,2019,2015,2017,2018,2019,2015,2016,2017,2018,2019,2016,2017,2018,2019,2015,2016,2017,2018,2019,2015,2016,2017,2018,2019,2015,2016,2017,2018,2019,2015,2016,2017,2018,2019,2015,2016,2017,2018,2019,2015,2016,2017,2018,2019,2015,2016,2017,2019,2018,2019,2015,2016,2017,2018,2019,2015,2015,2016,2017,2018,2019,2015,2016,2017,2018,2019,2015,2016,2017,2018,2019,2015,2016,2017,2018,2019,2015,2016,2017,2018,2019,2015,2016,2017,2018,2019,2015,2016,2017,2018,2019,2015,2016,2017,2018,2019,2016,2015,2016,2017,2018,2019,2015,2016,2017,2018,2019,2015,2016,2017,2018,2019,2015,2016,2017,2018,2019,2015,2016,2017,2018,2019,2015,2016,2017,2018,2019,2015,2016,2017,2018,2019,2015,2016,2017,2018,2019,2015,2016,2017,2018,2019,2015,2016,2017,2018,2019,2015,2016,2017,2018,2019,2016,2017,2018,2019,2016,2015,2015,2016,2017,2018,2019,2015,2016,2017,2018,2019,2016,2017,2018,2019,2015,2016,2017,2018,2019,2015,2016,2017,2018,2019,2015,2016,2017,2018,2015,2016,2015,2019,2015,2016,2017,2018,2019,2015,2016,2017,2018,2019,2015,2016,2017,2018,2019,2015,2016,2018,2019,2017,2015,2016,2017,2018,2019,2015,2016,2017,2018,2019,2015,2016,2017,2018,2019,2015,2016,2017,2018,2019,2018,2019,2015,2016,2017,2015,2016,2017,2018,2019,2015,2016,2017,2018,2019,2015,2016,2017,2018,2019,2015,2016,2017,2018,2019,2015,2016,2017,2018,2019,2015,2016,2017,2018,2019,2015,2016,2017,2018,2019,2015,2016,2017,2018,2019,2015,2016,2017,2018,2019,2015,2016,2017,2018,2019,2015,2016,2017,2018,2019,2015,2016,2017,2018,2019,2015,2016,2017,2018,2019,2015,2016,2017,2018,2019,2015,2016,2017,2018,2019],\"legendgroup\":\"1\",\"legendgrouptitle\":{\"text\":\"Jaren voor Trust plot\"},\"marker\":{\"colors\":[\"#fbfcb8\",\"#fecb52\",\"pink\",\"purple\",\"darkblue\"],\"line\":{\"color\":\"black\",\"width\":2}},\"name\":\"Trust (Government Corruption)\",\"values\":[0.09719,0.07112,0.0611578300595284,0.036,0.025,0.06413,0.05301,0.0398642159998417,0.032,0.027,0.17383,0.16157,0.146096110343933,0.135,0.114,0.07122,0.08434,0.0697203353047371,0.061,0.08484,0.07296,0.059739887714386,0.054,0.05,0.039,0.03616,0.0266744215041399,0.028,0.064,0.35637,0.32331,0.301183730363846,0.302,0.29,0.18676,0.21348,0.221060365438461,0.224,0.226,0.16065,0.17914,0.180987507104874,0.176,0.182,0.306,0.25772,0.257042169570923,0.123,0.11,0.12569,0.12583,0.123717859387398,0.144,0.143,0.1909,0.17457,0.156313821673393,0.154,0.142,0.2254,0.26248,0.251343131065369,0.24,0.21,0.10771,0.0965810716152191,0.089,0.0801,0.06681,0.0609290152788162,0.067,0.082,0.15445,0.1616,0.173380389809608,0.171,0.167,0.088,0.07746,0.0604777261614799,0.054,0.064,0.00227,0.0,0.0,0.0,0.006,0.12474,0.10769,0.0985831990838051,0.092,0.1,0.17521,0.14166,0.111092761158943,0.088,0.086,0.00872,0.00615,0.0110515309497714,0.009,0.004,0.12832,0.12533,0.120328105986118,0.128,0.113,0.10062,0.09419,0.0841479450464249,0.076,0.18,0.07247,0.08092,0.0681059509515762,0.065,0.062,0.05786,0.06126,0.0513066314160824,0.043,0.037,0.32957,0.31329,0.287371516227722,0.291,0.308,0.08289,0.0565650761127472,0.038,0.035,0.05269,0.04952,0.0535818822681904,0.06,0.078,0.12869,0.11451,0.0822879821062088,0.061,0.056,0.02781,0.02745,0.0227942746132612,0.103,0.1,0.0512,0.05399,0.0466687418520451,0.039,0.034,0.199,0.18437,0.078,0.11686,0.09753,0.0796181336045265,0.077,0.093,0.07625,0.06075,0.0602413564920425,0.052,0.053,0.10583,0.10547,0.100106589496136,0.101,0.093,0.0243,0.04002,0.0431031100451946,0.039,0.022,0.06146,0.05228,0.0412379764020443,0.035,0.041,0.02652,0.03986,0.0368729270994663,0.034,0.036,0.48357,0.44453,0.40077006816864,0.408,0.41,0.28105,0.14234,0.12372,0.113945253193378,0.106,0.101,0.1809,0.18037,0.140134647488594,0.12,0.087,0.06324,0.10393,0.114381365478039,0.107,0.067,0.11776,0.10613,0.0899809598922729,0.082,0.074,0.15184,0.18519,0.183248922228813,0.174,0.161,0.15048,0.1717,0.165455713868141,0.146,0.1,0.41372,0.41004,0.38261154294014,0.393,0.393,0.20646,0.17808,0.172502428293228,0.176,0.183,0.11091,0.09314,0.0760467872023582,0.052,0.055,0.167,0.38331,0.3188,0.251666635274887,0.215,0.164,0.21843,0.28551,0.276731938123703,0.28,0.265,0.04355,0.0326,0.0253363698720932,0.029,0.04,0.01397,0.04127,0.04328977689147,0.044,0.034,0.09472,0.08701,0.0772232785820961,0.071,0.078,0.12139,0.1192,0.110937617719173,0.094,0.086,0.17175,0.14476,0.0998721495270729,0.104,0.11,0.06825,0.06906,0.0733454525470734,0.074,0.078,0.37124,0.31647,0.291,0.287,0.293933749198914,0.02758,0.04472,0.0366369374096394,0.022,0.02,0.14145,0.14975,0.153526559472084,0.138,0.118,0.08492,0.08722,0.0922268852591515,0.093,0.085,0.0,0.00322,0.0153171354904771,0.018,0.028,0.05863,0.0557,0.048761073499918,0.129,0.125,0.13788,0.13636,0.107215754687786,0.095,0.089,0.28703,0.29754,0.29838815331459,0.306,0.31,0.07785,0.08728,0.0852421000599861,0.272,0.082,0.02901,0.02556,0.0280280914157629,0.028,0.03,0.17922,0.1553,0.130061775445938,0.103,0.09,0.02299,0.04294,0.0552677810192108,0.031,0.028,0.1806,0.18985,0.163760736584663,0.15,0.14,0.14293,0.13297,0.11980327218771,0.134,0.13,0.08454,0.11132,0.119282886385918,0.121,0.096,0.05839,0.06686,0.0646413192152977,0.055,0.053,0.04741,0.06547,0.0574716180562973,0.023,0.006,0.25609,0.23669,0.215159550309181,0.106,0.097,0.04232,0.04762,0.0394391790032387,0.035,0.023,0.24249,0.22423,0.174,0.164,0.06332,0.0889,0.0738427266478539,0.066,0.064,0.04582,0.03061,0.037513829767704,0.136,0.027,0.12504,0.119094640016556,0.112,0.093,0.06232,0.04852,0.0389482490718365,0.03,0.033,0.11023,0.10339,0.0926102101802826,0.148,0.152,0.01031,0.0182,0.0118656428530812,0.006,0.042,0.37798,0.35329,0.31883442401886,0.321,0.316,0.05327,0.07047,0.0602777935564518,0.052,0.08124,0.07506,0.0672319754958153,0.049,0.041,0.06977,0.07564,0.0727116540074348,0.08,0.089,0.10501,0.09081,0.0656007081270218,0.059,0.024,0.12352,0.13647,0.104970246553421,0.056,0.052,0.13586,0.17554,0.153066068887711,0.142,0.151,0.17461,0.17955,0.136957004666328,0.093,0.088,0.07521,0.05203,0.0421815551817417,0.05,0.06,0.21312,0.18355,0.132774114608765,0.095,0.073,0.01615,0.01903,0.0100912861526012,0.0,0.0,0.02666,0.03285,0.0329022891819477,0.032,0.038,0.14296,0.12721,0.0881741940975189,0.081,0.08,0.08546,0.08404,0.0877631828188896,0.074,0.076,0.15603,0.179436385631561,0.158,0.138,0.19034,0.20243,0.188816204667091,0.178,0.172,0.10398,0.0931469723582268,0.064,0.056,0.05907,0.07008,0.0729755461215973,0.078,0.089,0.31814,0.29927,0.282661825418472,0.295,0.298,0.42922,0.41904,0.382816702127457,0.389,0.38,0.19317,0.16292,0.130687981843948,0.128,0.127,0.15639,0.17176,0.138572946190834,0.099,0.102,0.0403,0.0305,0.0261215660721064,0.032,0.041,0.1428,0.16578,0.155353352427483,0.034,0.154,0.162,0.36503,0.35776,0.315963834524155,0.34,0.341,0.32524,0.10464,0.1388,0.124348066747189,0.113,0.098,0.12905,0.10613,0.0892826020717621,0.076,0.066,0.0927,0.08423,0.070983923971653,0.063,0.054,0.08242,0.07396,0.091065913438797,0.074,0.08,0.05989,0.05292,0.0470490865409374,0.034,0.027,0.12279,0.11757,0.0993318930268288,0.105,0.107,0.04212,0.055,0.0593078061938286,0.064,0.05,0.01078,0.01521,0.0158694516867399,0.017,0.025,0.12275,0.52208,0.48049,0.439299255609512,0.171,0.167,0.00649,0.00679,0.00438790069893,0.001,0.005,0.03005,0.03586,0.0329628810286522,0.025,0.031,0.55191,0.50521,0.455220013856888,0.444,0.411,0.32524,0.30008,0.27343225479126,0.127,0.132,0.10713,0.11681,0.115460447967052,0.082,0.072,0.02617,0.04339,0.0409037806093693,0.043,0.039,0.08786,0.08196,0.0710951760411263,0.053,0.045,0.4921,0.46987,0.46430778503418,0.457,0.453,0.03431,0.02947,0.0242108516395092,0.014,0.014,0.03787,0.03635,0.0451289787888527,0.051,0.057,0.3118,0.282410323619843,0.282,0.27,0.36794,0.39928,0.08884,0.08415,0.0725094974040985,0.056,0.055,0.07857,0.07716,0.0632826685905457,0.051,0.056,0.13015,0.116793513298035,0.106,0.091,0.06398,0.06137,0.0709140971302986,0.074,0.079,0.09179,0.07964,0.0736539661884308,0.05,0.047,0.1466,0.10039,0.089847519993782,0.082,0.13633,0.12692,0.0306,0.135,0.43844,0.40867,0.384398728609085,0.383,0.373,0.41978,0.41203,0.367007285356522,0.357,0.343,0.18906,0.17233,0.151347130537033,0.144,0.141,0.08129,0.0663,0.078,0.097,0.0638292357325554,0.15072,0.13509,0.146377146244049,0.034,0.144,0.05747,0.05099,0.0660351067781448,0.097,0.147,0.03187,0.02833,0.0316127352416515,0.029,0.028,0.10731,0.11587,0.0956650152802467,0.101,0.085,0.019,0.016,0.0114,0.01241,0.0089648161083459,0.06358,0.0817,0.0867231488227844,0.063,0.055,0.15746,0.12348,0.0996715798974037,0.109,0.106,0.30844,0.28467,0.259270340204239,0.037,0.028,0.07267,0.06442,0.057069718837738,0.061,0.06,0.02961,0.01829,0.0230294708162546,0.011,0.01,0.38583,0.35561,0.324489563703537,null,0.182,0.32067,0.27399,0.265428066253662,0.082,0.278,0.1589,0.14868,0.135638788342476,0.133,0.128,0.24558,0.21394,0.178061872720718,0.155,0.15,0.30826,0.28333,0.246528223156929,0.259,0.24,0.11069,0.08304,0.0644911229610443,0.052,0.047,0.10441,0.11556,0.0876332372426987,0.079,0.073,0.07854,0.05892,0.0567674227058887,0.064,0.077,0.12468,0.11479,0.0782135501503944,0.082,0.087,0.08079,0.08582,0.0953753814101219,0.099,0.089],\"type\":\"pie\",\"domain\":{\"x\":[0.0,0.45],\"y\":[0.0,1.0]},\"hole\":0.4,\"hoverinfo\":\"label+percent+name\"},{\"labels\":[2015,2016,2017,2018,2019,2015,2016,2017,2018,2019,2015,2016,2017,2018,2019,2015,2016,2017,2018,2015,2016,2017,2018,2019,2015,2016,2017,2018,2019,2015,2016,2017,2018,2019,2015,2016,2017,2018,2019,2015,2016,2017,2018,2019,2015,2016,2017,2018,2019,2015,2016,2017,2018,2019,2015,2016,2017,2018,2019,2015,2016,2017,2018,2019,2016,2017,2018,2015,2016,2017,2018,2019,2015,2016,2017,2018,2019,2015,2016,2017,2018,2019,2015,2016,2017,2018,2019,2015,2016,2017,2018,2019,2015,2016,2017,2018,2019,2015,2016,2017,2018,2019,2015,2016,2017,2018,2019,2015,2016,2017,2018,2019,2015,2016,2017,2018,2019,2015,2016,2017,2018,2019,2015,2016,2017,2018,2019,2015,2017,2018,2019,2015,2016,2017,2018,2019,2015,2016,2017,2018,2019,2015,2016,2017,2018,2019,2015,2016,2017,2018,2019,2015,2016,2019,2015,2016,2017,2018,2019,2015,2016,2017,2018,2019,2015,2016,2017,2018,2019,2015,2016,2017,2018,2019,2015,2016,2017,2018,2019,2015,2016,2017,2018,2019,2015,2016,2017,2018,2019,2015,2015,2016,2017,2018,2019,2015,2016,2017,2018,2019,2015,2016,2017,2018,2019,2015,2016,2017,2018,2019,2015,2016,2017,2018,2019,2015,2016,2017,2018,2019,2015,2016,2017,2018,2019,2015,2016,2017,2018,2019,2015,2016,2017,2018,2019,2019,2015,2016,2017,2018,2019,2015,2016,2017,2018,2019,2015,2016,2017,2018,2019,2015,2016,2017,2018,2019,2015,2016,2017,2018,2019,2015,2016,2017,2018,2019,2015,2016,2017,2018,2019,2015,2016,2017,2018,2019,2015,2016,2018,2019,2017,2015,2016,2017,2018,2019,2015,2016,2017,2018,2019,2015,2016,2017,2018,2019,2015,2016,2017,2018,2019,2015,2016,2017,2018,2019,2015,2016,2017,2018,2019,2015,2016,2017,2018,2019,2015,2016,2017,2018,2019,2015,2016,2017,2018,2019,2015,2016,2017,2018,2019,2015,2016,2017,2018,2019,2015,2016,2017,2018,2019,2015,2016,2017,2018,2019,2015,2016,2017,2018,2019,2015,2016,2017,2018,2019,2015,2016,2017,2018,2019,2015,2016,2017,2018,2019,2015,2016,2017,2018,2019,2015,2016,2018,2019,2015,2016,2017,2018,2019,2015,2016,2017,2018,2019,2015,2017,2018,2019,2015,2016,2017,2018,2019,2015,2016,2017,2018,2019,2015,2016,2017,2018,2019,2015,2016,2017,2018,2019,2015,2016,2017,2018,2015,2016,2017,2018,2019,2015,2016,2017,2018,2019,2015,2016,2017,2018,2019,2015,2016,2017,2018,2019,2015,2016,2017,2018,2019,2015,2016,2017,2018,2019,2015,2016,2017,2018,2019,2015,2016,2017,2018,2019,2015,2016,2017,2018,2019,2015,2016,2017,2018,2019,2015,2016,2017,2018,2019,2015,2016,2017,2018,2019,2015,2017,2018,2019,2015,2016,2017,2018,2019,2016,2017,2018,2019,2015,2016,2017,2018,2019,2015,2016,2017,2018,2019,2015,2016,2017,2018,2019,2015,2016,2017,2018,2019,2015,2016,2017,2018,2019,2015,2016,2017,2018,2019,2015,2016,2017,2019,2018,2019,2015,2016,2017,2018,2019,2015,2015,2016,2017,2018,2019,2015,2016,2017,2018,2019,2015,2016,2017,2018,2019,2015,2016,2017,2018,2019,2015,2016,2017,2018,2019,2015,2016,2017,2018,2019,2015,2016,2017,2018,2019,2015,2016,2017,2018,2019,2016,2015,2016,2017,2018,2019,2015,2016,2017,2018,2019,2015,2016,2017,2018,2019,2015,2016,2017,2018,2019,2015,2016,2017,2018,2019,2015,2016,2017,2018,2019,2015,2016,2017,2018,2019,2015,2016,2017,2018,2019,2015,2016,2017,2018,2019,2015,2016,2017,2018,2019,2015,2016,2017,2018,2019,2016,2017,2018,2019,2016,2015,2015,2016,2017,2018,2019,2015,2016,2017,2018,2019,2016,2017,2018,2019,2015,2016,2017,2018,2019,2015,2016,2017,2018,2019,2015,2016,2017,2018,2015,2016,2015,2019,2015,2016,2017,2018,2019,2015,2016,2017,2018,2019,2015,2016,2017,2018,2019,2015,2016,2018,2019,2017,2015,2016,2017,2018,2019,2015,2016,2017,2018,2019,2015,2016,2017,2018,2019,2015,2016,2017,2018,2019,2018,2019,2015,2016,2017,2015,2016,2017,2018,2019,2015,2016,2017,2018,2019,2015,2016,2017,2018,2019,2015,2016,2017,2018,2019,2015,2016,2017,2018,2019,2015,2016,2017,2018,2019,2015,2016,2017,2018,2019,2015,2016,2017,2018,2019,2015,2016,2017,2018,2019,2015,2016,2017,2018,2019,2015,2016,2017,2018,2019,2015,2016,2017,2018,2019,2015,2016,2017,2018,2019,2015,2016,2017,2018,2019,2015,2016,2017,2018,2019],\"legendgroup\":\"2\",\"legendgrouptitle\":{\"text\":\"Jaren voor Happiness Score plot\"},\"marker\":{\"colors\":[\"#fbfcb8\",\"#fecb52\",\"darkblue\",\"purple\",\"#fecb52\",\"#fbfcb8\",\"#fecb52\",\"darkblue\",\"purple\",\"#fecb52\",\"#fbfcb8\",\"#fecb52\",\"darkblue\",\"purple\",\"#fecb52\",\"#fbfcb8\",\"#fecb52\",\"darkblue\",\"purple\",\"#fbfcb8\",\"#fecb52\",\"darkblue\",\"purple\",\"#fecb52\",\"#fbfcb8\",\"#fecb52\",\"darkblue\",\"purple\",\"#fecb52\",\"#fbfcb8\",\"#fecb52\",\"darkblue\",\"purple\",\"#fecb52\",\"#fbfcb8\",\"#fecb52\",\"darkblue\",\"purple\",\"#fecb52\",\"#fbfcb8\",\"#fecb52\",\"darkblue\",\"purple\",\"#fecb52\",\"#fbfcb8\",\"#fecb52\",\"darkblue\",\"purple\",\"#fecb52\",\"#fbfcb8\",\"#fecb52\",\"darkblue\",\"purple\",\"#fecb52\",\"#fbfcb8\",\"#fecb52\",\"darkblue\",\"purple\",\"#fecb52\",\"#fbfcb8\",\"#fecb52\",\"darkblue\",\"purple\",\"#fecb52\",\"#fecb52\",\"darkblue\",\"purple\",\"#fbfcb8\",\"#fecb52\",\"darkblue\",\"purple\",\"#fecb52\",\"#fbfcb8\",\"#fecb52\",\"darkblue\",\"purple\",\"#fecb52\",\"#fbfcb8\",\"#fecb52\",\"darkblue\",\"purple\",\"#fecb52\",\"#fbfcb8\",\"#fecb52\",\"darkblue\",\"purple\",\"#fecb52\",\"#fbfcb8\",\"#fecb52\",\"darkblue\",\"purple\",\"#fecb52\",\"#fbfcb8\",\"#fecb52\",\"darkblue\",\"purple\",\"#fecb52\",\"#fbfcb8\",\"#fecb52\",\"darkblue\",\"purple\",\"#fecb52\",\"#fbfcb8\",\"#fecb52\",\"darkblue\",\"purple\",\"#fecb52\",\"#fbfcb8\",\"#fecb52\",\"darkblue\",\"purple\",\"#fecb52\",\"#fbfcb8\",\"#fecb52\",\"darkblue\",\"purple\",\"#fecb52\",\"#fbfcb8\",\"#fecb52\",\"darkblue\",\"purple\",\"#fecb52\",\"#fbfcb8\",\"#fecb52\",\"darkblue\",\"purple\",\"#fecb52\",\"#fbfcb8\",\"darkblue\",\"purple\",\"#fecb52\",\"#fbfcb8\",\"#fecb52\",\"darkblue\",\"purple\",\"#fecb52\",\"#fbfcb8\",\"#fecb52\",\"darkblue\",\"purple\",\"#fecb52\",\"#fbfcb8\",\"#fecb52\",\"darkblue\",\"purple\",\"#fecb52\",\"#fbfcb8\",\"#fecb52\",\"darkblue\",\"purple\",\"#fecb52\",\"#fbfcb8\",\"#fecb52\",\"#fecb52\",\"#fbfcb8\",\"#fecb52\",\"darkblue\",\"purple\",\"#fecb52\",\"#fbfcb8\",\"#fecb52\",\"darkblue\",\"purple\",\"#fecb52\",\"#fbfcb8\",\"#fecb52\",\"darkblue\",\"purple\",\"#fecb52\",\"#fbfcb8\",\"#fecb52\",\"darkblue\",\"purple\",\"#fecb52\",\"#fbfcb8\",\"#fecb52\",\"darkblue\",\"purple\",\"#fecb52\",\"#fbfcb8\",\"#fecb52\",\"darkblue\",\"purple\",\"#fecb52\",\"#fbfcb8\",\"#fecb52\",\"darkblue\",\"purple\",\"#fecb52\",\"#fbfcb8\",\"#fbfcb8\",\"#fecb52\",\"darkblue\",\"purple\",\"#fecb52\",\"#fbfcb8\",\"#fecb52\",\"darkblue\",\"purple\",\"#fecb52\",\"#fbfcb8\",\"#fecb52\",\"darkblue\",\"purple\",\"#fecb52\",\"#fbfcb8\",\"#fecb52\",\"darkblue\",\"purple\",\"#fecb52\",\"#fbfcb8\",\"#fecb52\",\"darkblue\",\"purple\",\"#fecb52\",\"#fbfcb8\",\"#fecb52\",\"darkblue\",\"purple\",\"#fecb52\",\"#fbfcb8\",\"#fecb52\",\"darkblue\",\"purple\",\"#fecb52\",\"#fbfcb8\",\"#fecb52\",\"darkblue\",\"purple\",\"#fecb52\",\"#fbfcb8\",\"#fecb52\",\"darkblue\",\"purple\",\"#fecb52\",\"#fecb52\",\"#fbfcb8\",\"#fecb52\",\"darkblue\",\"purple\",\"#fecb52\",\"#fbfcb8\",\"#fecb52\",\"darkblue\",\"purple\",\"#fecb52\",\"#fbfcb8\",\"#fecb52\",\"darkblue\",\"purple\",\"#fecb52\",\"#fbfcb8\",\"#fecb52\",\"darkblue\",\"purple\",\"#fecb52\",\"#fbfcb8\",\"#fecb52\",\"darkblue\",\"purple\",\"#fecb52\",\"#fbfcb8\",\"#fecb52\",\"darkblue\",\"purple\",\"#fecb52\",\"#fbfcb8\",\"#fecb52\",\"darkblue\",\"purple\",\"#fecb52\",\"#fbfcb8\",\"#fecb52\",\"darkblue\",\"purple\",\"#fecb52\",\"#fbfcb8\",\"#fecb52\",\"purple\",\"#fecb52\",\"darkblue\",\"#fbfcb8\",\"#fecb52\",\"darkblue\",\"purple\",\"#fecb52\",\"#fbfcb8\",\"#fecb52\",\"darkblue\",\"purple\",\"#fecb52\",\"#fbfcb8\",\"#fecb52\",\"darkblue\",\"purple\",\"#fecb52\",\"#fbfcb8\",\"#fecb52\",\"darkblue\",\"purple\",\"#fecb52\",\"#fbfcb8\",\"#fecb52\",\"darkblue\",\"purple\",\"#fecb52\",\"#fbfcb8\",\"#fecb52\",\"darkblue\",\"purple\",\"#fecb52\",\"#fbfcb8\",\"#fecb52\",\"darkblue\",\"purple\",\"#fecb52\",\"#fbfcb8\",\"#fecb52\",\"darkblue\",\"purple\",\"#fecb52\",\"#fbfcb8\",\"#fecb52\",\"darkblue\",\"purple\",\"#fecb52\",\"#fbfcb8\",\"#fecb52\",\"darkblue\",\"purple\",\"#fecb52\",\"#fbfcb8\",\"#fecb52\",\"darkblue\",\"purple\",\"#fecb52\",\"#fbfcb8\",\"#fecb52\",\"darkblue\",\"purple\",\"#fecb52\",\"#fbfcb8\",\"#fecb52\",\"darkblue\",\"purple\",\"#fecb52\",\"#fbfcb8\",\"#fecb52\",\"darkblue\",\"purple\",\"#fecb52\",\"#fbfcb8\",\"#fecb52\",\"darkblue\",\"purple\",\"#fecb52\",\"#fbfcb8\",\"#fecb52\",\"darkblue\",\"purple\",\"#fecb52\",\"#fbfcb8\",\"#fecb52\",\"darkblue\",\"purple\",\"#fecb52\",\"#fbfcb8\",\"#fecb52\",\"darkblue\",\"purple\",\"#fecb52\",\"#fbfcb8\",\"#fecb52\",\"purple\",\"#fecb52\",\"#fbfcb8\",\"#fecb52\",\"darkblue\",\"purple\",\"#fecb52\",\"#fbfcb8\",\"#fecb52\",\"darkblue\",\"purple\",\"#fecb52\",\"#fbfcb8\",\"darkblue\",\"purple\",\"#fecb52\",\"#fbfcb8\",\"#fecb52\",\"darkblue\",\"purple\",\"#fecb52\",\"#fbfcb8\",\"#fecb52\",\"darkblue\",\"purple\",\"#fecb52\",\"#fbfcb8\",\"#fecb52\",\"darkblue\",\"purple\",\"#fecb52\",\"#fbfcb8\",\"#fecb52\",\"darkblue\",\"purple\",\"#fecb52\",\"#fbfcb8\",\"#fecb52\",\"darkblue\",\"purple\",\"#fbfcb8\",\"#fecb52\",\"darkblue\",\"purple\",\"#fecb52\",\"#fbfcb8\",\"#fecb52\",\"darkblue\",\"purple\",\"#fecb52\",\"#fbfcb8\",\"#fecb52\",\"darkblue\",\"purple\",\"#fecb52\",\"#fbfcb8\",\"#fecb52\",\"darkblue\",\"purple\",\"#fecb52\",\"#fbfcb8\",\"#fecb52\",\"darkblue\",\"purple\",\"#fecb52\",\"#fbfcb8\",\"#fecb52\",\"darkblue\",\"purple\",\"#fecb52\",\"#fbfcb8\",\"#fecb52\",\"darkblue\",\"purple\",\"#fecb52\",\"#fbfcb8\",\"#fecb52\",\"darkblue\",\"purple\",\"#fecb52\",\"#fbfcb8\",\"#fecb52\",\"darkblue\",\"purple\",\"#fecb52\",\"#fbfcb8\",\"#fecb52\",\"darkblue\",\"purple\",\"#fecb52\",\"#fbfcb8\",\"#fecb52\",\"darkblue\",\"purple\",\"#fecb52\",\"#fbfcb8\",\"#fecb52\",\"darkblue\",\"purple\",\"#fecb52\",\"#fbfcb8\",\"darkblue\",\"purple\",\"#fecb52\",\"#fbfcb8\",\"#fecb52\",\"darkblue\",\"purple\",\"#fecb52\",\"#fecb52\",\"darkblue\",\"purple\",\"#fecb52\",\"#fbfcb8\",\"#fecb52\",\"darkblue\",\"purple\",\"#fecb52\",\"#fbfcb8\",\"#fecb52\",\"darkblue\",\"purple\",\"#fecb52\",\"#fbfcb8\",\"#fecb52\",\"darkblue\",\"purple\",\"#fecb52\",\"#fbfcb8\",\"#fecb52\",\"darkblue\",\"purple\",\"#fecb52\",\"#fbfcb8\",\"#fecb52\",\"darkblue\",\"purple\",\"#fecb52\",\"#fbfcb8\",\"#fecb52\",\"darkblue\",\"purple\",\"#fecb52\",\"#fbfcb8\",\"#fecb52\",\"darkblue\",\"#fecb52\",\"purple\",\"#fecb52\",\"#fbfcb8\",\"#fecb52\",\"darkblue\",\"purple\",\"#fecb52\",\"#fbfcb8\",\"#fbfcb8\",\"#fecb52\",\"darkblue\",\"purple\",\"#fecb52\",\"#fbfcb8\",\"#fecb52\",\"darkblue\",\"purple\",\"#fecb52\",\"#fbfcb8\",\"#fecb52\",\"darkblue\",\"purple\",\"#fecb52\",\"#fbfcb8\",\"#fecb52\",\"darkblue\",\"purple\",\"#fecb52\",\"#fbfcb8\",\"#fecb52\",\"darkblue\",\"purple\",\"#fecb52\",\"#fbfcb8\",\"#fecb52\",\"darkblue\",\"purple\",\"#fecb52\",\"#fbfcb8\",\"#fecb52\",\"darkblue\",\"purple\",\"#fecb52\",\"#fbfcb8\",\"#fecb52\",\"darkblue\",\"purple\",\"#fecb52\",\"#fecb52\",\"#fbfcb8\",\"#fecb52\",\"darkblue\",\"purple\",\"#fecb52\",\"#fbfcb8\",\"#fecb52\",\"darkblue\",\"purple\",\"#fecb52\",\"#fbfcb8\",\"#fecb52\",\"darkblue\",\"purple\",\"#fecb52\",\"#fbfcb8\",\"#fecb52\",\"darkblue\",\"purple\",\"#fecb52\",\"#fbfcb8\",\"#fecb52\",\"darkblue\",\"purple\",\"#fecb52\",\"#fbfcb8\",\"#fecb52\",\"darkblue\",\"purple\",\"#fecb52\",\"#fbfcb8\",\"#fecb52\",\"darkblue\",\"purple\",\"#fecb52\",\"#fbfcb8\",\"#fecb52\",\"darkblue\",\"purple\",\"#fecb52\",\"#fbfcb8\",\"#fecb52\",\"darkblue\",\"purple\",\"#fecb52\",\"#fbfcb8\",\"#fecb52\",\"darkblue\",\"purple\",\"#fecb52\",\"#fbfcb8\",\"#fecb52\",\"darkblue\",\"purple\",\"#fecb52\",\"#fecb52\",\"darkblue\",\"purple\",\"#fecb52\",\"#fecb52\",\"#fbfcb8\",\"#fbfcb8\",\"#fecb52\",\"darkblue\",\"purple\",\"#fecb52\",\"#fbfcb8\",\"#fecb52\",\"darkblue\",\"purple\",\"#fecb52\",\"#fecb52\",\"darkblue\",\"purple\",\"#fecb52\",\"#fbfcb8\",\"#fecb52\",\"darkblue\",\"purple\",\"#fecb52\",\"#fbfcb8\",\"#fecb52\",\"darkblue\",\"purple\",\"#fecb52\",\"#fbfcb8\",\"#fecb52\",\"darkblue\",\"purple\",\"#fbfcb8\",\"#fecb52\",\"#fbfcb8\",\"#fecb52\",\"#fbfcb8\",\"#fecb52\",\"darkblue\",\"purple\",\"#fecb52\",\"#fbfcb8\",\"#fecb52\",\"darkblue\",\"purple\",\"#fecb52\",\"#fbfcb8\",\"#fecb52\",\"darkblue\",\"purple\",\"#fecb52\",\"#fbfcb8\",\"#fecb52\",\"purple\",\"#fecb52\",\"darkblue\",\"#fbfcb8\",\"#fecb52\",\"darkblue\",\"purple\",\"#fecb52\",\"#fbfcb8\",\"#fecb52\",\"darkblue\",\"purple\",\"#fecb52\",\"#fbfcb8\",\"#fecb52\",\"darkblue\",\"purple\",\"#fecb52\",\"#fbfcb8\",\"#fecb52\",\"darkblue\",\"purple\",\"#fecb52\",\"purple\",\"#fecb52\",\"#fbfcb8\",\"#fecb52\",\"darkblue\",\"#fbfcb8\",\"#fecb52\",\"darkblue\",\"purple\",\"#fecb52\",\"#fbfcb8\",\"#fecb52\",\"darkblue\",\"purple\",\"#fecb52\",\"#fbfcb8\",\"#fecb52\",\"darkblue\",\"purple\",\"#fecb52\",\"#fbfcb8\",\"#fecb52\",\"darkblue\",\"purple\",\"#fecb52\",\"#fbfcb8\",\"#fecb52\",\"darkblue\",\"purple\",\"#fecb52\",\"#fbfcb8\",\"#fecb52\",\"darkblue\",\"purple\",\"#fecb52\",\"#fbfcb8\",\"#fecb52\",\"darkblue\",\"purple\",\"#fecb52\",\"#fbfcb8\",\"#fecb52\",\"darkblue\",\"purple\",\"#fecb52\",\"#fbfcb8\",\"#fecb52\",\"darkblue\",\"purple\",\"#fecb52\",\"#fbfcb8\",\"#fecb52\",\"darkblue\",\"purple\",\"#fecb52\",\"#fbfcb8\",\"#fecb52\",\"darkblue\",\"purple\",\"#fecb52\",\"#fbfcb8\",\"#fecb52\",\"darkblue\",\"purple\",\"#fecb52\",\"#fbfcb8\",\"#fecb52\",\"darkblue\",\"purple\",\"#fecb52\",\"#fbfcb8\",\"#fecb52\",\"darkblue\",\"purple\",\"#fecb52\",\"#fbfcb8\",\"#fecb52\",\"darkblue\",\"purple\",\"#fecb52\"],\"line\":{\"color\":\"black\",\"width\":2}},\"name\":\"Happiness Score\",\"sort\":false,\"values\":[3.575,3.36,3.79399991035461,3.632,3.203,4.959,4.655,4.64400005340576,4.586,4.719,5.605,6.355,5.87200021743774,5.295,5.211,4.033,3.866,3.79500007629395,3.795,6.574,6.65,6.59899997711182,6.388,6.086,4.35,4.36,4.37599992752075,4.321,4.559,7.284,7.313,7.28399991989136,7.272,7.228,7.2,7.119,7.00600004196167,7.139,7.246,5.212,5.291,5.23400020599365,5.201,5.208,5.96,6.218,6.08699989318848,6.105,6.199,4.694,4.643,4.60799980163574,4.5,4.456,5.813,5.802,5.56899976730347,5.483,5.323,6.937,6.929,6.89099979400635,6.927,6.923,5.956,5.95599985122681,5.956,3.34,3.484,3.65700006484985,4.141,4.883,5.253,5.196,5.01100015640259,5.082,5.082,5.89,5.822,5.82299995422363,5.752,5.779,4.949,5.163,5.18200016021729,5.129,5.386,4.332,3.974,3.76600003242493,3.59,3.488,6.983,6.952,6.63500022888184,6.419,6.3,4.218,4.217,4.71400022506714,4.933,5.011,3.587,3.739,4.03200006484985,4.424,4.587,2.905,2.905,2.90499997138977,2.905,3.775,3.819,3.907,4.16800022125244,4.433,4.7,4.252,4.513,4.69500017166138,4.975,5.044,7.427,7.404,7.31599998474121,7.328,7.278,3.678,2.69300007820129,3.083,3.083,3.667,3.763,3.93600010871887,4.301,4.35,6.67,6.705,6.65199995040894,6.476,6.444,5.14,5.245,5.27299976348877,5.246,5.191,6.477,6.481,6.35699987411499,6.26,6.125,3.956,3.956,3.973,3.989,4.236,4.29099988937378,4.559,4.812,4.517,4.272,4.28000020980835,4.245,4.418,7.226,7.087,7.0789999961853,7.072,7.167,5.759,5.488,5.29300022125244,5.321,5.432,5.689,5.546,5.62099981307983,5.762,6.046,6.505,6.596,6.60900020599365,6.711,6.852,7.527,7.526,7.52199983596802,7.555,7.6,4.369,4.885,5.155,5.23000001907349,5.302,5.425,5.975,5.976,6.00799989700317,5.973,6.028,4.194,4.362,4.7350001335144,4.419,4.166,6.13,6.068,6.00299978256226,6.167,6.253,5.429,5.517,5.61100006103516,5.739,5.893,4.512,4.508,4.46000003814697,4.35,4.286,7.406,7.413,7.4689998626709,7.632,7.769,6.575,6.478,6.44199991226196,6.489,6.592,3.896,4.121,4.46500015258789,4.758,4.799,4.516,4.297,4.252,4.28599977493286,4.34,4.519,6.75,6.994,6.95100021362305,6.965,6.985,4.633,4.276,4.11999988555908,4.657,4.996,4.857,5.033,5.22700023651123,5.358,5.287,6.123,6.324,6.4539999961853,6.382,6.436,3.656,3.607,3.50699996948242,3.964,4.534,4.518,4.028,3.6029999256134,3.582,3.597,4.788,4.871,5.18100023269653,5.504,5.86,5.474,5.458,5.43,5.43,5.47200012207031,4.8,5.145,5.32399988174438,5.62,5.758,7.561,7.501,7.50400018692017,7.495,7.494,4.565,4.404,4.31500005722046,4.19,4.015,5.399,5.314,5.26200008392334,5.093,5.192,4.686,4.813,4.69199991226196,4.707,4.548,4.677,4.575,4.49700021743774,4.456,4.437,6.94,6.907,6.97700023651123,6.977,7.021,7.278,7.267,7.21299982070923,6.814,7.139,5.948,5.977,5.96400022506714,6.0,6.223,3.655,3.916,4.17999982833862,4.671,4.944,5.709,5.51,5.31099987030029,5.89,5.89,5.987,5.921,5.92000007629395,5.915,5.886,5.192,5.303,5.33599996566772,5.161,4.906,5.855,5.919,5.81899976730347,5.79,5.809,4.419,4.356,4.55299997329712,4.41,4.509,5.589,5.401,5.27899980545044,5.662,6.1,6.295,6.239,6.10500001907349,6.083,6.021,5.286,5.185,5.00400018692017,5.131,5.261,4.876,4.876,4.623,4.796,5.098,5.56,5.84999990463257,5.933,5.94,4.839,5.129,5.22499990463257,5.358,5.197,4.898,3.80800008773804,3.808,3.802,4.571,3.622,3.53299999237061,3.495,3.975,5.754,5.615,5.52500009536743,5.566,5.525,5.833,5.813,5.90199995040894,5.952,6.149,6.946,6.871,6.86299991607666,6.91,7.09,5.007,5.121,5.17500019073486,5.185,3.681,3.695,3.64400005340576,3.774,3.933,4.292,4.156,3.97000002861023,3.587,3.41,5.77,6.005,6.08400011062622,6.322,5.339,3.995,4.073,4.19000005722046,4.447,4.39,6.302,6.488,6.52699995040894,6.627,6.726,4.436,4.201,4.29199981689453,4.356,4.49,5.477,5.648,5.62900018692017,5.891,5.888,7.187,6.778,6.57800006866455,6.488,6.595,5.889,5.897,5.83799982070923,5.64,5.529,4.874,4.907,4.95499992370605,5.125,5.285,5.192,5.161,5.23699998855591,5.347,5.523,5.013,5.151,5.2350001335144,5.254,5.208,4.971,4.55000019073486,4.417,4.466,4.307,4.395,4.54500007629395,4.308,4.36,4.574,4.57399988174438,4.441,4.639,4.514,4.793,4.96199989318848,4.88,4.913,7.378,7.339,7.3769998550415,7.441,7.488,7.286,7.334,7.31400012969971,7.324,7.307,5.828,5.992,6.07100009918213,6.141,6.105,3.845,3.856,4.02799987792969,4.166,4.628,5.268,4.875,5.07399988174438,5.155,5.265,5.695,5.771,5.80999994277954,5.274,5.835,5.718,7.522,7.498,7.53700017929077,7.594,7.554,6.853,5.194,5.132,5.26900005340576,5.472,5.653,4.715,4.754,4.77500009536743,4.743,4.696,6.786,6.701,6.4520001411438,6.43,6.321,5.878,5.538,5.49300003051758,5.681,5.743,5.824,5.743,5.71500015258789,5.663,5.697,5.073,5.279,5.42999982833862,5.524,5.631,5.791,5.835,5.97300004959106,6.123,6.182,5.102,5.123,5.19500017166138,5.41,5.693,7.039,6.611,6.375,6.375,6.374,6.374,5.124,5.528,5.82499980926514,5.945,6.07,5.716,5.856,5.96299982070923,5.81,5.648,3.465,3.515,3.47099995613098,3.408,3.334,6.411,6.379,6.3439998626709,6.371,6.375,3.904,4.219,4.53499984741211,4.631,4.681,5.123,5.177,5.39499998092651,5.398,5.603,4.507,4.635,4.70900011062622,4.571,4.374,6.798,6.739,6.57200002670288,6.343,6.262,5.995,6.078,6.09800004959106,6.173,6.198,5.848,5.768,5.75799989700317,5.948,6.118,5.44,5.15100002288818,4.982,4.668,5.057,5.057,4.642,4.459,4.8289999961853,4.724,4.722,5.984,5.835,5.83799982070923,5.875,5.895,3.832,3.59100008010864,3.254,2.853,6.329,6.361,6.40299987792969,6.31,6.354,4.271,4.415,4.44000005722046,4.471,4.366,4.55,4.139,4.13899993896484,4.139,6.269,6.269,4.867,4.212,7.364,7.291,7.28399991989136,7.314,7.343,7.587,7.509,7.49399995803833,7.487,7.48,3.006,3.069,3.46199989318848,3.462,3.462,6.298,6.379,6.441,6.446,6.42199993133545,4.786,4.996,5.04099988937378,5.199,5.467,3.781,3.666,3.34899997711182,3.303,3.231,6.455,6.474,6.42399978637695,6.072,6.008,2.839,3.303,3.49499988555908,3.999,4.085,6.192,6.192,6.168,6.168,6.16800022125244,4.739,5.045,4.80499982833862,4.592,4.461,5.332,5.389,5.5,5.483,5.373,5.548,5.658,5.82200002670288,5.636,5.247,3.931,3.739,4.08099985122681,4.161,4.189,4.681,4.324,4.09600019454956,4.103,4.332,6.901,6.573,6.64799976348877,6.774,6.825,6.867,6.725,6.71400022506714,7.19,7.054,7.119,7.104,6.99300003051758,6.886,6.892,6.485,6.545,6.4539999961853,6.379,6.293,6.003,5.987,5.97100019454956,6.096,6.174,6.81,6.084,5.25,4.806,4.707,5.36,5.061,5.07399988174438,5.103,5.175,4.077,3.724,3.59299993515015,3.355,3.38,5.129,4.795,4.51399993896484,4.377,4.107,4.61,4.193,3.875,3.692,3.663],\"type\":\"pie\",\"domain\":{\"x\":[0.55,1.0],\"y\":[0.0,1.0]},\"hole\":0.4,\"hoverinfo\":\"label+percent+name\"}],                        {\"template\":{\"data\":{\"histogram2dcontour\":[{\"type\":\"histogram2dcontour\",\"colorbar\":{\"outlinewidth\":0,\"ticks\":\"\"},\"colorscale\":[[0.0,\"#0d0887\"],[0.1111111111111111,\"#46039f\"],[0.2222222222222222,\"#7201a8\"],[0.3333333333333333,\"#9c179e\"],[0.4444444444444444,\"#bd3786\"],[0.5555555555555556,\"#d8576b\"],[0.6666666666666666,\"#ed7953\"],[0.7777777777777778,\"#fb9f3a\"],[0.8888888888888888,\"#fdca26\"],[1.0,\"#f0f921\"]]}],\"choropleth\":[{\"type\":\"choropleth\",\"colorbar\":{\"outlinewidth\":0,\"ticks\":\"\"}}],\"histogram2d\":[{\"type\":\"histogram2d\",\"colorbar\":{\"outlinewidth\":0,\"ticks\":\"\"},\"colorscale\":[[0.0,\"#0d0887\"],[0.1111111111111111,\"#46039f\"],[0.2222222222222222,\"#7201a8\"],[0.3333333333333333,\"#9c179e\"],[0.4444444444444444,\"#bd3786\"],[0.5555555555555556,\"#d8576b\"],[0.6666666666666666,\"#ed7953\"],[0.7777777777777778,\"#fb9f3a\"],[0.8888888888888888,\"#fdca26\"],[1.0,\"#f0f921\"]]}],\"heatmap\":[{\"type\":\"heatmap\",\"colorbar\":{\"outlinewidth\":0,\"ticks\":\"\"},\"colorscale\":[[0.0,\"#0d0887\"],[0.1111111111111111,\"#46039f\"],[0.2222222222222222,\"#7201a8\"],[0.3333333333333333,\"#9c179e\"],[0.4444444444444444,\"#bd3786\"],[0.5555555555555556,\"#d8576b\"],[0.6666666666666666,\"#ed7953\"],[0.7777777777777778,\"#fb9f3a\"],[0.8888888888888888,\"#fdca26\"],[1.0,\"#f0f921\"]]}],\"heatmapgl\":[{\"type\":\"heatmapgl\",\"colorbar\":{\"outlinewidth\":0,\"ticks\":\"\"},\"colorscale\":[[0.0,\"#0d0887\"],[0.1111111111111111,\"#46039f\"],[0.2222222222222222,\"#7201a8\"],[0.3333333333333333,\"#9c179e\"],[0.4444444444444444,\"#bd3786\"],[0.5555555555555556,\"#d8576b\"],[0.6666666666666666,\"#ed7953\"],[0.7777777777777778,\"#fb9f3a\"],[0.8888888888888888,\"#fdca26\"],[1.0,\"#f0f921\"]]}],\"contourcarpet\":[{\"type\":\"contourcarpet\",\"colorbar\":{\"outlinewidth\":0,\"ticks\":\"\"}}],\"contour\":[{\"type\":\"contour\",\"colorbar\":{\"outlinewidth\":0,\"ticks\":\"\"},\"colorscale\":[[0.0,\"#0d0887\"],[0.1111111111111111,\"#46039f\"],[0.2222222222222222,\"#7201a8\"],[0.3333333333333333,\"#9c179e\"],[0.4444444444444444,\"#bd3786\"],[0.5555555555555556,\"#d8576b\"],[0.6666666666666666,\"#ed7953\"],[0.7777777777777778,\"#fb9f3a\"],[0.8888888888888888,\"#fdca26\"],[1.0,\"#f0f921\"]]}],\"surface\":[{\"type\":\"surface\",\"colorbar\":{\"outlinewidth\":0,\"ticks\":\"\"},\"colorscale\":[[0.0,\"#0d0887\"],[0.1111111111111111,\"#46039f\"],[0.2222222222222222,\"#7201a8\"],[0.3333333333333333,\"#9c179e\"],[0.4444444444444444,\"#bd3786\"],[0.5555555555555556,\"#d8576b\"],[0.6666666666666666,\"#ed7953\"],[0.7777777777777778,\"#fb9f3a\"],[0.8888888888888888,\"#fdca26\"],[1.0,\"#f0f921\"]]}],\"mesh3d\":[{\"type\":\"mesh3d\",\"colorbar\":{\"outlinewidth\":0,\"ticks\":\"\"}}],\"scatter\":[{\"fillpattern\":{\"fillmode\":\"overlay\",\"size\":10,\"solidity\":0.2},\"type\":\"scatter\"}],\"parcoords\":[{\"type\":\"parcoords\",\"line\":{\"colorbar\":{\"outlinewidth\":0,\"ticks\":\"\"}}}],\"scatterpolargl\":[{\"type\":\"scatterpolargl\",\"marker\":{\"colorbar\":{\"outlinewidth\":0,\"ticks\":\"\"}}}],\"bar\":[{\"error_x\":{\"color\":\"#2a3f5f\"},\"error_y\":{\"color\":\"#2a3f5f\"},\"marker\":{\"line\":{\"color\":\"#E5ECF6\",\"width\":0.5},\"pattern\":{\"fillmode\":\"overlay\",\"size\":10,\"solidity\":0.2}},\"type\":\"bar\"}],\"scattergeo\":[{\"type\":\"scattergeo\",\"marker\":{\"colorbar\":{\"outlinewidth\":0,\"ticks\":\"\"}}}],\"scatterpolar\":[{\"type\":\"scatterpolar\",\"marker\":{\"colorbar\":{\"outlinewidth\":0,\"ticks\":\"\"}}}],\"histogram\":[{\"marker\":{\"pattern\":{\"fillmode\":\"overlay\",\"size\":10,\"solidity\":0.2}},\"type\":\"histogram\"}],\"scattergl\":[{\"type\":\"scattergl\",\"marker\":{\"colorbar\":{\"outlinewidth\":0,\"ticks\":\"\"}}}],\"scatter3d\":[{\"type\":\"scatter3d\",\"line\":{\"colorbar\":{\"outlinewidth\":0,\"ticks\":\"\"}},\"marker\":{\"colorbar\":{\"outlinewidth\":0,\"ticks\":\"\"}}}],\"scattermapbox\":[{\"type\":\"scattermapbox\",\"marker\":{\"colorbar\":{\"outlinewidth\":0,\"ticks\":\"\"}}}],\"scatterternary\":[{\"type\":\"scatterternary\",\"marker\":{\"colorbar\":{\"outlinewidth\":0,\"ticks\":\"\"}}}],\"scattercarpet\":[{\"type\":\"scattercarpet\",\"marker\":{\"colorbar\":{\"outlinewidth\":0,\"ticks\":\"\"}}}],\"carpet\":[{\"aaxis\":{\"endlinecolor\":\"#2a3f5f\",\"gridcolor\":\"white\",\"linecolor\":\"white\",\"minorgridcolor\":\"white\",\"startlinecolor\":\"#2a3f5f\"},\"baxis\":{\"endlinecolor\":\"#2a3f5f\",\"gridcolor\":\"white\",\"linecolor\":\"white\",\"minorgridcolor\":\"white\",\"startlinecolor\":\"#2a3f5f\"},\"type\":\"carpet\"}],\"table\":[{\"cells\":{\"fill\":{\"color\":\"#EBF0F8\"},\"line\":{\"color\":\"white\"}},\"header\":{\"fill\":{\"color\":\"#C8D4E3\"},\"line\":{\"color\":\"white\"}},\"type\":\"table\"}],\"barpolar\":[{\"marker\":{\"line\":{\"color\":\"#E5ECF6\",\"width\":0.5},\"pattern\":{\"fillmode\":\"overlay\",\"size\":10,\"solidity\":0.2}},\"type\":\"barpolar\"}],\"pie\":[{\"automargin\":true,\"type\":\"pie\"}]},\"layout\":{\"autotypenumbers\":\"strict\",\"colorway\":[\"#636efa\",\"#EF553B\",\"#00cc96\",\"#ab63fa\",\"#FFA15A\",\"#19d3f3\",\"#FF6692\",\"#B6E880\",\"#FF97FF\",\"#FECB52\"],\"font\":{\"color\":\"#2a3f5f\"},\"hovermode\":\"closest\",\"hoverlabel\":{\"align\":\"left\"},\"paper_bgcolor\":\"white\",\"plot_bgcolor\":\"#E5ECF6\",\"polar\":{\"bgcolor\":\"#E5ECF6\",\"angularaxis\":{\"gridcolor\":\"white\",\"linecolor\":\"white\",\"ticks\":\"\"},\"radialaxis\":{\"gridcolor\":\"white\",\"linecolor\":\"white\",\"ticks\":\"\"}},\"ternary\":{\"bgcolor\":\"#E5ECF6\",\"aaxis\":{\"gridcolor\":\"white\",\"linecolor\":\"white\",\"ticks\":\"\"},\"baxis\":{\"gridcolor\":\"white\",\"linecolor\":\"white\",\"ticks\":\"\"},\"caxis\":{\"gridcolor\":\"white\",\"linecolor\":\"white\",\"ticks\":\"\"}},\"coloraxis\":{\"colorbar\":{\"outlinewidth\":0,\"ticks\":\"\"}},\"colorscale\":{\"sequential\":[[0.0,\"#0d0887\"],[0.1111111111111111,\"#46039f\"],[0.2222222222222222,\"#7201a8\"],[0.3333333333333333,\"#9c179e\"],[0.4444444444444444,\"#bd3786\"],[0.5555555555555556,\"#d8576b\"],[0.6666666666666666,\"#ed7953\"],[0.7777777777777778,\"#fb9f3a\"],[0.8888888888888888,\"#fdca26\"],[1.0,\"#f0f921\"]],\"sequentialminus\":[[0.0,\"#0d0887\"],[0.1111111111111111,\"#46039f\"],[0.2222222222222222,\"#7201a8\"],[0.3333333333333333,\"#9c179e\"],[0.4444444444444444,\"#bd3786\"],[0.5555555555555556,\"#d8576b\"],[0.6666666666666666,\"#ed7953\"],[0.7777777777777778,\"#fb9f3a\"],[0.8888888888888888,\"#fdca26\"],[1.0,\"#f0f921\"]],\"diverging\":[[0,\"#8e0152\"],[0.1,\"#c51b7d\"],[0.2,\"#de77ae\"],[0.3,\"#f1b6da\"],[0.4,\"#fde0ef\"],[0.5,\"#f7f7f7\"],[0.6,\"#e6f5d0\"],[0.7,\"#b8e186\"],[0.8,\"#7fbc41\"],[0.9,\"#4d9221\"],[1,\"#276419\"]]},\"xaxis\":{\"gridcolor\":\"white\",\"linecolor\":\"white\",\"ticks\":\"\",\"title\":{\"standoff\":15},\"zerolinecolor\":\"white\",\"automargin\":true,\"zerolinewidth\":2},\"yaxis\":{\"gridcolor\":\"white\",\"linecolor\":\"white\",\"ticks\":\"\",\"title\":{\"standoff\":15},\"zerolinecolor\":\"white\",\"automargin\":true,\"zerolinewidth\":2},\"scene\":{\"xaxis\":{\"backgroundcolor\":\"#E5ECF6\",\"gridcolor\":\"white\",\"linecolor\":\"white\",\"showbackground\":true,\"ticks\":\"\",\"zerolinecolor\":\"white\",\"gridwidth\":2},\"yaxis\":{\"backgroundcolor\":\"#E5ECF6\",\"gridcolor\":\"white\",\"linecolor\":\"white\",\"showbackground\":true,\"ticks\":\"\",\"zerolinecolor\":\"white\",\"gridwidth\":2},\"zaxis\":{\"backgroundcolor\":\"#E5ECF6\",\"gridcolor\":\"white\",\"linecolor\":\"white\",\"showbackground\":true,\"ticks\":\"\",\"zerolinecolor\":\"white\",\"gridwidth\":2}},\"shapedefaults\":{\"line\":{\"color\":\"#2a3f5f\"}},\"annotationdefaults\":{\"arrowcolor\":\"#2a3f5f\",\"arrowhead\":0,\"arrowwidth\":1},\"geo\":{\"bgcolor\":\"white\",\"landcolor\":\"#E5ECF6\",\"subunitcolor\":\"white\",\"showland\":true,\"showlakes\":true,\"lakecolor\":\"white\"},\"title\":{\"x\":0.05},\"mapbox\":{\"style\":\"light\"}}},\"title\":{\"text\":\"De wereldwijde score van de Trust variabele per jaar VS De wereldwijde score van de Happiness Score per jaar\"},\"annotations\":[{\"showarrow\":false,\"text\":\"Trust\",\"x\":0.185,\"y\":0.5,\"font\":{\"size\":20}},{\"showarrow\":false,\"text\":\"Happiness\",\"x\":0.85,\"y\":0.5,\"font\":{\"size\":20}},{\"font\":{\"size\":10},\"showarrow\":false,\"text\":\"In de linker pie plot is er voor de jaren in de periode 2015-2019 de score van de Trust variabele van elk land bij elkaar opgeteld. Hiermee kan er een wereldwijde beeld geschetst worden \\u003cbr\\u003e hoe betrouwbaar de regering is en hoe dit per jaar verandert. In de rechter pie plot is er voor de jaren in de periode 2015-2019 de Happiness Score van elk land bij elkaar opgeteld.\\u003cbr\\u003e Hiermee kan er een wereldwijde beeld geschetst worden hoe blij mensen zijn en hoe dit per jaar verandert. Hoe donkerder de kleur is, hoe lager de score is. Door de linker pie plot met \\u003cbr\\u003e de rechter pie plot te vergelijken, kan er bekeken worden of er een verband is tussen de relatieve verandering van de Trust variabele met de relatieve verandering van de Happiness Score.\",\"x\":0.56,\"xref\":\"paper\",\"y\":-0.24,\"yref\":\"paper\"}]},                        {\"responsive\": true}                    ).then(function(){\n",
       "                            \n",
       "var gd = document.getElementById('fe591a33-75e9-4571-a020-0e0d2776ec7e');\n",
       "var x = new MutationObserver(function (mutations, observer) {{\n",
       "        var display = window.getComputedStyle(gd).display;\n",
       "        if (!display || display === 'none') {{\n",
       "            console.log([gd, 'removed!']);\n",
       "            Plotly.purge(gd);\n",
       "            observer.disconnect();\n",
       "        }}\n",
       "}});\n",
       "\n",
       "// Listen for the removal of the full notebook cells\n",
       "var notebookContainer = gd.closest('#notebook-container');\n",
       "if (notebookContainer) {{\n",
       "    x.observe(notebookContainer, {childList: true});\n",
       "}}\n",
       "\n",
       "// Listen for the clearing of the current output cell\n",
       "var outputEl = gd.closest('.output');\n",
       "if (outputEl) {{\n",
       "    x.observe(outputEl, {childList: true});\n",
       "}}\n",
       "\n",
       "                        })                };                });            </script>        </div>"
      ]
     },
     "metadata": {},
     "output_type": "display_data"
    }
   ],
   "source": [
    "fig = make_subplots(rows=1, cols=2, specs=[[{'type':'domain'}, {'type':'domain'}]])\n",
    "\n",
    "fig.add_trace(go.Pie(\n",
    "    labels=df['Year'],\n",
    "    values=df['Trust (Government Corruption)'],\n",
    "    marker_colors=['#fbfcb8','#fecb52','pink','purple','darkblue'],\n",
    "    name='Trust (Government Corruption)',\n",
    "    legendgroup = '1',\n",
    "    legendgrouptitle_text = 'Jaren voor Trust plot'\n",
    "),1,1)\n",
    "\n",
    "colors={2015:'#fbfcb8',2016:'#fecb52',2017:'darkblue',2018:'purple',2019:'#fecb52'}\n",
    "\n",
    "fig.add_trace(go.Pie(\n",
    "    labels=df['Year'],\n",
    "    values=df['Happiness Score'],\n",
    "    marker_colors=[colors[year] for year in df['Year']],\n",
    "    sort=False,\n",
    "    name='Happiness Score',\n",
    "    legendgroup = '2',\n",
    "    legendgrouptitle_text = 'Jaren voor Happiness Score plot'\n",
    "),1,2)\n",
    "\n",
    "fig.update_traces(hole=0.4, hoverinfo=\"label+percent+name\")\n",
    "\n",
    "fig.update_layout(\n",
    "    title='De wereldwijde score van de Trust variabele per jaar VS De wereldwijde score van de Happiness Score per jaar',\n",
    "    annotations=[dict(text='Trust', x=0.185, y=0.5, font_size=20, showarrow=False),\n",
    "                dict(text='Happiness', x=0.85, y=0.5, font_size=20, showarrow=False),\n",
    "                dict(x=0.56,y=-0.24,showarrow=False,text=\"In de linker pie plot is er voor de jaren in de periode 2015-2019 de score van de Trust variabele van elk land bij elkaar opgeteld. Hiermee kan er een wereldwijde beeld geschetst worden <br> hoe betrouwbaar de regering is en hoe dit per jaar verandert. In de rechter pie plot is er voor de jaren in de periode 2015-2019 de Happiness Score van elk land bij elkaar opgeteld.<br> Hiermee kan er een wereldwijde beeld geschetst worden hoe blij mensen zijn en hoe dit per jaar verandert. Hoe donkerder de kleur is, hoe lager de score is. Door de linker pie plot met <br> de rechter pie plot te vergelijken, kan er bekeken worden of er een verband is tussen de relatieve verandering van de Trust variabele met de relatieve verandering van de Happiness Score.\",xref=\"paper\",yref=\"paper\",font=dict(size=10))]\n",
    ")\n",
    "\n",
    "fig.update_traces(\n",
    "    marker = dict(line=dict(color = 'black', width = 2))\n",
    ")\n",
    "\n",
    "fig.show()"
   ]
  }
 ],
 "metadata": {
  "celltoolbar": "Edit Metadata",
  "kernelspec": {
   "display_name": "Python 3 (ipykernel)",
   "language": "python",
   "name": "python3"
  },
  "language_info": {
   "codemirror_mode": {
    "name": "ipython",
    "version": 3
   },
   "file_extension": ".py",
   "mimetype": "text/x-python",
   "name": "python",
   "nbconvert_exporter": "python",
   "pygments_lexer": "ipython3",
   "version": "3.10.6"
  }
 },
 "nbformat": 4,
 "nbformat_minor": 5
}
